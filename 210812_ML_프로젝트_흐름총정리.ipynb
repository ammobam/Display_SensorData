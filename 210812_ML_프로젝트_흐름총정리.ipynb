{
  "nbformat": 4,
  "nbformat_minor": 0,
  "metadata": {
    "colab": {
      "name": "210812 ML_프로젝트 흐름총정리.ipynb",
      "provenance": [],
      "collapsed_sections": [],
      "authorship_tag": "ABX9TyOfNSp8OCq6MoejWqwgwLB8",
      "include_colab_link": true
    },
    "kernelspec": {
      "name": "python3",
      "display_name": "Python 3"
    },
    "language_info": {
      "name": "python"
    },
    "accelerator": "GPU"
  },
  "cells": [
    {
      "cell_type": "markdown",
      "metadata": {
        "id": "view-in-github",
        "colab_type": "text"
      },
      "source": [
        "<a href=\"https://colab.research.google.com/github/ammobam/Display_SensorData/blob/main/210812_ML_%ED%94%84%EB%A1%9C%EC%A0%9D%ED%8A%B8_%ED%9D%90%EB%A6%84%EC%B4%9D%EC%A0%95%EB%A6%AC.ipynb\" target=\"_parent\"><img src=\"https://colab.research.google.com/assets/colab-badge.svg\" alt=\"Open In Colab\"/></a>"
      ]
    },
    {
      "cell_type": "code",
      "metadata": {
        "colab": {
          "base_uri": "https://localhost:8080/"
        },
        "id": "5OoaDdWpr9aV",
        "outputId": "87bc6c4b-a0a2-4ba1-9efa-6b59a2162dda"
      },
      "source": [
        "from google.colab import drive\n",
        "drive.mount('/content/drive')"
      ],
      "execution_count": 1,
      "outputs": [
        {
          "output_type": "stream",
          "text": [
            "Mounted at /content/drive\n"
          ],
          "name": "stdout"
        }
      ]
    },
    {
      "cell_type": "markdown",
      "metadata": {
        "id": "gCOtFFGOsFBV"
      },
      "source": [
        "# 머신러닝을 이용한 중요 피처 찾기\n",
        "- 데이터 : 디스플레이 공정별 센서 측정값. (.csv)\n",
        "\n",
        "## 할 것\n",
        "- csv 파일을 넣으면 머신러닝까지 자동으로 수행되도록 함"
      ]
    },
    {
      "cell_type": "markdown",
      "metadata": {
        "id": "pF5ijLuKVRU4"
      },
      "source": [
        "## 패키지 임포트"
      ]
    },
    {
      "cell_type": "code",
      "metadata": {
        "id": "RIMRmTYTtbYv"
      },
      "source": [
        "import pandas as pd\n",
        "import numpy as np\n",
        "import matplotlib.pyplot as plt\n",
        "import seaborn as sns\n",
        "import warnings\n",
        "warnings.filterwarnings(action='ignore')\n",
        "#help(pd.read_csv)"
      ],
      "execution_count": 2,
      "outputs": []
    },
    {
      "cell_type": "markdown",
      "metadata": {
        "id": "FO-eaPBKswdE"
      },
      "source": [
        "## 데이터 불러오기\n",
        "- 데이터 불러오기\n",
        "- 원본데이터 보존을 위해 copy 데이터 만들어서 사용하기\n",
        "- (선택) 생산라인 L, R 구분"
      ]
    },
    {
      "cell_type": "code",
      "metadata": {
        "id": "Lk8Qj6icr09h"
      },
      "source": [
        "# 데이터 불러오기\n",
        "# 첫번째 열을 인덱스로 사용함\n",
        "fact_data = pd.read_csv('/content/drive/MyDrive/나무플래닛/1. 데이터_디스플레이/factory_glass_2016.zip', encoding='cp949', index_col=0)\n",
        "    # encoding : 파일이 안 열리면 인코딩 옵션을 확인하자. utf-8, cp949등으로 설정해봄.\n",
        "    # index_col : 인덱스로 사용할 columns의 인덱스를 설정"
      ],
      "execution_count": 28,
      "outputs": []
    },
    {
      "cell_type": "code",
      "metadata": {
        "colab": {
          "base_uri": "https://localhost:8080/",
          "height": 420
        },
        "id": "tg4JBGvt7205",
        "outputId": "8881d2fa-594b-4da0-8f88-3d566d6a9c89"
      },
      "source": [
        "# 데이터 확인\n",
        "fact_data.info()\n",
        "fact_data.head()\n",
        "    # 840 컬럼 x 8145개 행이 있음\n",
        "    # 데이터 타입은 float과 int형으로 모두 숫자 데이터. 연산 가능함."
      ],
      "execution_count": 29,
      "outputs": [
        {
          "output_type": "stream",
          "text": [
            "<class 'pandas.core.frame.DataFrame'>\n",
            "Index: 8145 entries, 2016-01-01 07 to 2016-12-31 23\n",
            "Columns: 840 entries, LIFT.OUT.ROL.MTR.M1.SPD.1WSI40101 to R.Vac\n",
            "dtypes: float64(834), int64(6)\n",
            "memory usage: 52.3+ MB\n"
          ],
          "name": "stdout"
        },
        {
          "output_type": "execute_result",
          "data": {
            "text/html": [
              "<div>\n",
              "<style scoped>\n",
              "    .dataframe tbody tr th:only-of-type {\n",
              "        vertical-align: middle;\n",
              "    }\n",
              "\n",
              "    .dataframe tbody tr th {\n",
              "        vertical-align: top;\n",
              "    }\n",
              "\n",
              "    .dataframe thead th {\n",
              "        text-align: right;\n",
              "    }\n",
              "</style>\n",
              "<table border=\"1\" class=\"dataframe\">\n",
              "  <thead>\n",
              "    <tr style=\"text-align: right;\">\n",
              "      <th></th>\n",
              "      <th>LIFT.OUT.ROL.MTR.M1.SPD.1WSI40101</th>\n",
              "      <th>LIFT.OUT.ROL.MTR.M2.SPD.1WSI40102</th>\n",
              "      <th>LIFT.OUT.ROL.MTR.M3.SPD.1WSI40103</th>\n",
              "      <th>LEHR.DRV.MTR..M4.1.SPD.1WSI40104</th>\n",
              "      <th>LEHR.DRV.MTR..M4.2.SPD.1WSI40105</th>\n",
              "      <th>LEHR.DRV.MTR..M5.1.SPD.1WSI40106</th>\n",
              "      <th>LEHR.DRV.MTR..M5.2.SPD.1WSI40107</th>\n",
              "      <th>LEHR.DRV.MTR..M6.1.SPD.1WSI40108</th>\n",
              "      <th>LEHR.DRV.MTR..M6.2.SPD.1WSI40109</th>\n",
              "      <th>LEHR.DRV.MTR..M7.1.SPD.1WSI40110</th>\n",
              "      <th>LEHR.DRV.MTR..M7.2.SPD.1WSI40111</th>\n",
              "      <th>LEHR.DRV.MTR..M8.1.SPD.1WSI40112</th>\n",
              "      <th>LEHR.DRV.MTR..M8.2.SPD.1WSI40113</th>\n",
              "      <th>LEHR.DRV.MTR..M9.1.SPD.1WSI40114</th>\n",
              "      <th>LEHR.DRV.MTR..M9.2.SPD.1WSI40115</th>\n",
              "      <th>DRIVE.MOTOR.M10.1.SPEED.1WSI40116</th>\n",
              "      <th>LEHR.DRV.MTR..M10.2.SPD.1WSI40117</th>\n",
              "      <th>LEHR.DRV.MTR..M11.1.SPD.1WSI40118</th>\n",
              "      <th>DRIVE.MOTOR.M11.2.SPEED.1WSI40119</th>\n",
              "      <th>LEHR.DRV.MTR..M12.1.SPD.1WSI40120</th>\n",
              "      <th>LEHR.DRV.MTR..M12.2.SPD.1WSI40121</th>\n",
              "      <th>LEHR.DRV.MTR..M13.1.SPD.1WSI40122</th>\n",
              "      <th>LEHR.DRV.MTR..M13.2.SPD.1WSI40123</th>\n",
              "      <th>LEHR.DRV.MTR..M14.1.SPD.1WSI40124</th>\n",
              "      <th>LEHR.DRV.MTR..M14.2.SPD.1WSI40125</th>\n",
              "      <th>LEHR.DRV.MTR..M15.1.SPD.1WSI40126</th>\n",
              "      <th>LEHR.DRV.MTR..M15.2.SPD.1WSI40127</th>\n",
              "      <th>LEHR.DRV.MTR..M16.1.SPD.1WSI40128</th>\n",
              "      <th>DRIVE.MOTOR.M16.2.SPEED.1WSI40129</th>\n",
              "      <th>LEHR.DRV.MTR..M17.1.SPD.1WSI40130</th>\n",
              "      <th>LEHR.DRV.MTR..M17.2.SPD.1WSI40131</th>\n",
              "      <th>LEHR.DRV.MTR..M18.1.SPD.1WSI40132</th>\n",
              "      <th>LEHR.DRV.MTR..M18.2.SPD.1WSI40133</th>\n",
              "      <th>DRIVE.MOTOR.M19.1.SPEED.1WSI40134</th>\n",
              "      <th>LEHR.DRV.MTR..M19.2.SPD.1WSI40135</th>\n",
              "      <th>X1WOS45101_PV</th>\n",
              "      <th>X1WOS45102_PV</th>\n",
              "      <th>X1WOS45103_PV</th>\n",
              "      <th>X1WOS45104_PV</th>\n",
              "      <th>X1WOS45105_PV</th>\n",
              "      <th>...</th>\n",
              "      <th>S_C1_C2_L_L</th>\n",
              "      <th>S_C1_C2_L_R</th>\n",
              "      <th>S_C2_C3_U_L</th>\n",
              "      <th>S_C2_C3_U_R</th>\n",
              "      <th>S_C2_C3_L_L</th>\n",
              "      <th>S_C2_C3_L_R</th>\n",
              "      <th>S_C3_C4_U_L</th>\n",
              "      <th>S_C3_C4_U_R</th>\n",
              "      <th>S_C3_C4_L_L</th>\n",
              "      <th>S_C3_C4_L_R</th>\n",
              "      <th>S_AB1_AB11_L</th>\n",
              "      <th>S_AB1_AB11_R</th>\n",
              "      <th>S_AB11_AB7_L</th>\n",
              "      <th>S_AB11_AB7_R</th>\n",
              "      <th>S_AB7_C4_L</th>\n",
              "      <th>S_AB7_C4_R</th>\n",
              "      <th>S_C4_RET_L</th>\n",
              "      <th>S_C4_RET_R</th>\n",
              "      <th>S_RET_F_L</th>\n",
              "      <th>S_RET_F_R</th>\n",
              "      <th>STD_U_L</th>\n",
              "      <th>STD_U_R</th>\n",
              "      <th>STD_L_L</th>\n",
              "      <th>STD_L_R</th>\n",
              "      <th>STD_GLS_L</th>\n",
              "      <th>STD_GLS_R</th>\n",
              "      <th>투입.LEFT.</th>\n",
              "      <th>투입.RIGHT.</th>\n",
              "      <th>ROLLDOWN.폐기.LEFT.</th>\n",
              "      <th>진공패드.폐기.LEFT.</th>\n",
              "      <th>ROLLDOWN.폐기.RIGHT.</th>\n",
              "      <th>진공패드.폐기.RIGHT.</th>\n",
              "      <th>폐기율...</th>\n",
              "      <th>ROLLDOWN.진공패드.폐기율..LEFT.</th>\n",
              "      <th>ROLLDOWN.진공패드.폐기율..RIGHT.</th>\n",
              "      <th>ROLLDOWN.진공패드.폐기율..전체.</th>\n",
              "      <th>L.RD</th>\n",
              "      <th>L.Vac</th>\n",
              "      <th>R.RD</th>\n",
              "      <th>R.Vac</th>\n",
              "    </tr>\n",
              "    <tr>\n",
              "      <th>dat...date.name.</th>\n",
              "      <th></th>\n",
              "      <th></th>\n",
              "      <th></th>\n",
              "      <th></th>\n",
              "      <th></th>\n",
              "      <th></th>\n",
              "      <th></th>\n",
              "      <th></th>\n",
              "      <th></th>\n",
              "      <th></th>\n",
              "      <th></th>\n",
              "      <th></th>\n",
              "      <th></th>\n",
              "      <th></th>\n",
              "      <th></th>\n",
              "      <th></th>\n",
              "      <th></th>\n",
              "      <th></th>\n",
              "      <th></th>\n",
              "      <th></th>\n",
              "      <th></th>\n",
              "      <th></th>\n",
              "      <th></th>\n",
              "      <th></th>\n",
              "      <th></th>\n",
              "      <th></th>\n",
              "      <th></th>\n",
              "      <th></th>\n",
              "      <th></th>\n",
              "      <th></th>\n",
              "      <th></th>\n",
              "      <th></th>\n",
              "      <th></th>\n",
              "      <th></th>\n",
              "      <th></th>\n",
              "      <th></th>\n",
              "      <th></th>\n",
              "      <th></th>\n",
              "      <th></th>\n",
              "      <th></th>\n",
              "      <th></th>\n",
              "      <th></th>\n",
              "      <th></th>\n",
              "      <th></th>\n",
              "      <th></th>\n",
              "      <th></th>\n",
              "      <th></th>\n",
              "      <th></th>\n",
              "      <th></th>\n",
              "      <th></th>\n",
              "      <th></th>\n",
              "      <th></th>\n",
              "      <th></th>\n",
              "      <th></th>\n",
              "      <th></th>\n",
              "      <th></th>\n",
              "      <th></th>\n",
              "      <th></th>\n",
              "      <th></th>\n",
              "      <th></th>\n",
              "      <th></th>\n",
              "      <th></th>\n",
              "      <th></th>\n",
              "      <th></th>\n",
              "      <th></th>\n",
              "      <th></th>\n",
              "      <th></th>\n",
              "      <th></th>\n",
              "      <th></th>\n",
              "      <th></th>\n",
              "      <th></th>\n",
              "      <th></th>\n",
              "      <th></th>\n",
              "      <th></th>\n",
              "      <th></th>\n",
              "      <th></th>\n",
              "      <th></th>\n",
              "      <th></th>\n",
              "      <th></th>\n",
              "      <th></th>\n",
              "      <th></th>\n",
              "    </tr>\n",
              "  </thead>\n",
              "  <tbody>\n",
              "    <tr>\n",
              "      <th>2016-01-01 07</th>\n",
              "      <td>-1.772682</td>\n",
              "      <td>-1.713219</td>\n",
              "      <td>-1.734851</td>\n",
              "      <td>-1.590051</td>\n",
              "      <td>-1.636293</td>\n",
              "      <td>-1.575213</td>\n",
              "      <td>-1.636293</td>\n",
              "      <td>-1.548119</td>\n",
              "      <td>-1.824581</td>\n",
              "      <td>-1.548119</td>\n",
              "      <td>-1.8189</td>\n",
              "      <td>-1.548119</td>\n",
              "      <td>-1.779407</td>\n",
              "      <td>-1.548119</td>\n",
              "      <td>-1.779407</td>\n",
              "      <td>-1.548119</td>\n",
              "      <td>-1.806012</td>\n",
              "      <td>-1.548119</td>\n",
              "      <td>-1.775051</td>\n",
              "      <td>-1.548119</td>\n",
              "      <td>-1.776634</td>\n",
              "      <td>-1.548119</td>\n",
              "      <td>-1.766604</td>\n",
              "      <td>-1.548119</td>\n",
              "      <td>-1.775051</td>\n",
              "      <td>-1.638207</td>\n",
              "      <td>-1.728206</td>\n",
              "      <td>-1.674911</td>\n",
              "      <td>-1.641818</td>\n",
              "      <td>-1.662151</td>\n",
              "      <td>-1.636293</td>\n",
              "      <td>-1.622314</td>\n",
              "      <td>-1.653428</td>\n",
              "      <td>-1.548119</td>\n",
              "      <td>-1.807954</td>\n",
              "      <td>-1.73</td>\n",
              "      <td>-1.315444</td>\n",
              "      <td>-1.620631</td>\n",
              "      <td>-1.517655</td>\n",
              "      <td>-1.804912</td>\n",
              "      <td>...</td>\n",
              "      <td>-0.195736</td>\n",
              "      <td>0.706941</td>\n",
              "      <td>1.477203</td>\n",
              "      <td>0.410847</td>\n",
              "      <td>0.491620</td>\n",
              "      <td>0.942180</td>\n",
              "      <td>2.776941</td>\n",
              "      <td>2.492437</td>\n",
              "      <td>2.060406</td>\n",
              "      <td>2.612283</td>\n",
              "      <td>1.726404</td>\n",
              "      <td>1.461145</td>\n",
              "      <td>-1.192642</td>\n",
              "      <td>-1.134471</td>\n",
              "      <td>2.599429</td>\n",
              "      <td>2.690433</td>\n",
              "      <td>-0.365598</td>\n",
              "      <td>-0.659319</td>\n",
              "      <td>-1.963403</td>\n",
              "      <td>-1.621407</td>\n",
              "      <td>0.523950</td>\n",
              "      <td>1.951349</td>\n",
              "      <td>2.248106</td>\n",
              "      <td>2.767676</td>\n",
              "      <td>3.012706</td>\n",
              "      <td>3.069007</td>\n",
              "      <td>80</td>\n",
              "      <td>74</td>\n",
              "      <td>2</td>\n",
              "      <td>5</td>\n",
              "      <td>8</td>\n",
              "      <td>3</td>\n",
              "      <td>11.69</td>\n",
              "      <td>8.75</td>\n",
              "      <td>14.86</td>\n",
              "      <td>11.69</td>\n",
              "      <td>0.025</td>\n",
              "      <td>0.063</td>\n",
              "      <td>0.108</td>\n",
              "      <td>0.041</td>\n",
              "    </tr>\n",
              "    <tr>\n",
              "      <th>2016-01-01 08</th>\n",
              "      <td>-1.772682</td>\n",
              "      <td>-1.713219</td>\n",
              "      <td>-1.734851</td>\n",
              "      <td>-1.590051</td>\n",
              "      <td>-1.636293</td>\n",
              "      <td>-1.575213</td>\n",
              "      <td>-1.636293</td>\n",
              "      <td>-1.548119</td>\n",
              "      <td>-1.824581</td>\n",
              "      <td>-1.548119</td>\n",
              "      <td>-1.8189</td>\n",
              "      <td>-1.548119</td>\n",
              "      <td>-1.779407</td>\n",
              "      <td>-1.548119</td>\n",
              "      <td>-1.779407</td>\n",
              "      <td>-1.548119</td>\n",
              "      <td>-1.806012</td>\n",
              "      <td>-1.548119</td>\n",
              "      <td>-1.775051</td>\n",
              "      <td>-1.548119</td>\n",
              "      <td>-1.776634</td>\n",
              "      <td>-1.548119</td>\n",
              "      <td>-1.766604</td>\n",
              "      <td>-1.548119</td>\n",
              "      <td>-1.775051</td>\n",
              "      <td>-1.638207</td>\n",
              "      <td>-1.728206</td>\n",
              "      <td>-1.674911</td>\n",
              "      <td>-1.641818</td>\n",
              "      <td>-1.662151</td>\n",
              "      <td>-1.636293</td>\n",
              "      <td>-1.622314</td>\n",
              "      <td>-1.653428</td>\n",
              "      <td>-1.548119</td>\n",
              "      <td>-1.807954</td>\n",
              "      <td>-1.73</td>\n",
              "      <td>-1.315444</td>\n",
              "      <td>-1.620631</td>\n",
              "      <td>-1.517655</td>\n",
              "      <td>-1.804912</td>\n",
              "      <td>...</td>\n",
              "      <td>-0.500742</td>\n",
              "      <td>0.822657</td>\n",
              "      <td>1.495204</td>\n",
              "      <td>0.397591</td>\n",
              "      <td>0.587871</td>\n",
              "      <td>0.938186</td>\n",
              "      <td>2.888919</td>\n",
              "      <td>2.573187</td>\n",
              "      <td>2.161149</td>\n",
              "      <td>2.664726</td>\n",
              "      <td>1.682081</td>\n",
              "      <td>1.414518</td>\n",
              "      <td>-1.109125</td>\n",
              "      <td>-1.042269</td>\n",
              "      <td>2.588703</td>\n",
              "      <td>2.654307</td>\n",
              "      <td>-0.348979</td>\n",
              "      <td>-0.560103</td>\n",
              "      <td>-1.978936</td>\n",
              "      <td>-1.810022</td>\n",
              "      <td>0.566521</td>\n",
              "      <td>2.010125</td>\n",
              "      <td>2.364418</td>\n",
              "      <td>2.842630</td>\n",
              "      <td>3.022998</td>\n",
              "      <td>3.069274</td>\n",
              "      <td>92</td>\n",
              "      <td>75</td>\n",
              "      <td>0</td>\n",
              "      <td>2</td>\n",
              "      <td>10</td>\n",
              "      <td>0</td>\n",
              "      <td>7.19</td>\n",
              "      <td>2.17</td>\n",
              "      <td>13.33</td>\n",
              "      <td>7.19</td>\n",
              "      <td>0.000</td>\n",
              "      <td>0.022</td>\n",
              "      <td>0.133</td>\n",
              "      <td>0.000</td>\n",
              "    </tr>\n",
              "    <tr>\n",
              "      <th>2016-01-01 09</th>\n",
              "      <td>-1.772682</td>\n",
              "      <td>-1.713219</td>\n",
              "      <td>-1.734851</td>\n",
              "      <td>-1.590051</td>\n",
              "      <td>-1.636293</td>\n",
              "      <td>-1.575213</td>\n",
              "      <td>-1.636293</td>\n",
              "      <td>-1.548119</td>\n",
              "      <td>-1.824581</td>\n",
              "      <td>-1.548119</td>\n",
              "      <td>-1.8189</td>\n",
              "      <td>-1.548119</td>\n",
              "      <td>-1.779407</td>\n",
              "      <td>-1.548119</td>\n",
              "      <td>-1.779407</td>\n",
              "      <td>-1.548119</td>\n",
              "      <td>-1.806012</td>\n",
              "      <td>-1.548119</td>\n",
              "      <td>-1.775051</td>\n",
              "      <td>-1.548119</td>\n",
              "      <td>-1.776634</td>\n",
              "      <td>-1.548119</td>\n",
              "      <td>-1.766604</td>\n",
              "      <td>-1.548119</td>\n",
              "      <td>-1.775051</td>\n",
              "      <td>-1.638207</td>\n",
              "      <td>-1.728206</td>\n",
              "      <td>-1.674911</td>\n",
              "      <td>-1.641818</td>\n",
              "      <td>-1.662151</td>\n",
              "      <td>-1.636293</td>\n",
              "      <td>-1.622314</td>\n",
              "      <td>-1.653428</td>\n",
              "      <td>-1.548119</td>\n",
              "      <td>-1.807954</td>\n",
              "      <td>-1.73</td>\n",
              "      <td>-1.315444</td>\n",
              "      <td>-1.620631</td>\n",
              "      <td>-1.517655</td>\n",
              "      <td>-1.804912</td>\n",
              "      <td>...</td>\n",
              "      <td>-0.164556</td>\n",
              "      <td>0.962210</td>\n",
              "      <td>1.552127</td>\n",
              "      <td>0.460702</td>\n",
              "      <td>0.397216</td>\n",
              "      <td>0.843443</td>\n",
              "      <td>2.868644</td>\n",
              "      <td>2.486441</td>\n",
              "      <td>2.183298</td>\n",
              "      <td>2.638130</td>\n",
              "      <td>1.632955</td>\n",
              "      <td>1.359022</td>\n",
              "      <td>-0.986580</td>\n",
              "      <td>-0.928583</td>\n",
              "      <td>2.550175</td>\n",
              "      <td>2.606185</td>\n",
              "      <td>-0.456071</td>\n",
              "      <td>-0.644073</td>\n",
              "      <td>-1.878611</td>\n",
              "      <td>-1.742395</td>\n",
              "      <td>0.545936</td>\n",
              "      <td>2.002820</td>\n",
              "      <td>2.397034</td>\n",
              "      <td>2.817728</td>\n",
              "      <td>2.936967</td>\n",
              "      <td>2.969952</td>\n",
              "      <td>64</td>\n",
              "      <td>66</td>\n",
              "      <td>1</td>\n",
              "      <td>4</td>\n",
              "      <td>0</td>\n",
              "      <td>0</td>\n",
              "      <td>3.85</td>\n",
              "      <td>7.81</td>\n",
              "      <td>0.00</td>\n",
              "      <td>3.85</td>\n",
              "      <td>0.016</td>\n",
              "      <td>0.063</td>\n",
              "      <td>0.000</td>\n",
              "      <td>0.000</td>\n",
              "    </tr>\n",
              "    <tr>\n",
              "      <th>2016-01-01 10</th>\n",
              "      <td>-1.772682</td>\n",
              "      <td>-1.713219</td>\n",
              "      <td>-1.734851</td>\n",
              "      <td>-1.590051</td>\n",
              "      <td>-1.636293</td>\n",
              "      <td>-1.575213</td>\n",
              "      <td>-1.636293</td>\n",
              "      <td>-1.548119</td>\n",
              "      <td>-1.824581</td>\n",
              "      <td>-1.548119</td>\n",
              "      <td>-1.8189</td>\n",
              "      <td>-1.548119</td>\n",
              "      <td>-1.779407</td>\n",
              "      <td>-1.548119</td>\n",
              "      <td>-1.779407</td>\n",
              "      <td>-1.548119</td>\n",
              "      <td>-1.806012</td>\n",
              "      <td>-1.548119</td>\n",
              "      <td>-1.775051</td>\n",
              "      <td>-1.548119</td>\n",
              "      <td>-1.776634</td>\n",
              "      <td>-1.548119</td>\n",
              "      <td>-1.766604</td>\n",
              "      <td>-1.548119</td>\n",
              "      <td>-1.775051</td>\n",
              "      <td>-1.638207</td>\n",
              "      <td>-1.728206</td>\n",
              "      <td>-1.674911</td>\n",
              "      <td>-1.641818</td>\n",
              "      <td>-1.662151</td>\n",
              "      <td>-1.636293</td>\n",
              "      <td>-1.622314</td>\n",
              "      <td>-1.653428</td>\n",
              "      <td>-1.548119</td>\n",
              "      <td>-1.807954</td>\n",
              "      <td>-1.73</td>\n",
              "      <td>-1.315444</td>\n",
              "      <td>-1.620631</td>\n",
              "      <td>-1.517655</td>\n",
              "      <td>-1.804912</td>\n",
              "      <td>...</td>\n",
              "      <td>-0.824056</td>\n",
              "      <td>0.686628</td>\n",
              "      <td>1.586571</td>\n",
              "      <td>0.411229</td>\n",
              "      <td>0.878934</td>\n",
              "      <td>1.019915</td>\n",
              "      <td>2.834358</td>\n",
              "      <td>2.354249</td>\n",
              "      <td>2.199586</td>\n",
              "      <td>2.623425</td>\n",
              "      <td>1.563766</td>\n",
              "      <td>1.253063</td>\n",
              "      <td>-0.885353</td>\n",
              "      <td>-0.860442</td>\n",
              "      <td>2.518261</td>\n",
              "      <td>2.551495</td>\n",
              "      <td>-0.463717</td>\n",
              "      <td>-0.585540</td>\n",
              "      <td>-1.863727</td>\n",
              "      <td>-1.845004</td>\n",
              "      <td>0.549254</td>\n",
              "      <td>2.047995</td>\n",
              "      <td>2.399854</td>\n",
              "      <td>2.810619</td>\n",
              "      <td>2.876398</td>\n",
              "      <td>2.914596</td>\n",
              "      <td>68</td>\n",
              "      <td>73</td>\n",
              "      <td>0</td>\n",
              "      <td>7</td>\n",
              "      <td>0</td>\n",
              "      <td>0</td>\n",
              "      <td>4.96</td>\n",
              "      <td>10.29</td>\n",
              "      <td>0.00</td>\n",
              "      <td>4.96</td>\n",
              "      <td>0.000</td>\n",
              "      <td>0.103</td>\n",
              "      <td>0.000</td>\n",
              "      <td>0.000</td>\n",
              "    </tr>\n",
              "    <tr>\n",
              "      <th>2016-01-01 11</th>\n",
              "      <td>-1.772682</td>\n",
              "      <td>-1.713219</td>\n",
              "      <td>-1.734851</td>\n",
              "      <td>-1.590051</td>\n",
              "      <td>-1.636293</td>\n",
              "      <td>-1.575213</td>\n",
              "      <td>-1.636293</td>\n",
              "      <td>-1.548119</td>\n",
              "      <td>-1.824581</td>\n",
              "      <td>-1.548119</td>\n",
              "      <td>-1.8189</td>\n",
              "      <td>-1.548119</td>\n",
              "      <td>-1.779407</td>\n",
              "      <td>-1.548119</td>\n",
              "      <td>-1.779407</td>\n",
              "      <td>-1.548119</td>\n",
              "      <td>-1.806012</td>\n",
              "      <td>-1.548119</td>\n",
              "      <td>-1.775051</td>\n",
              "      <td>-1.548119</td>\n",
              "      <td>-1.776634</td>\n",
              "      <td>-1.548119</td>\n",
              "      <td>-1.766604</td>\n",
              "      <td>-1.548119</td>\n",
              "      <td>-1.775051</td>\n",
              "      <td>-1.638207</td>\n",
              "      <td>-1.728206</td>\n",
              "      <td>-1.674911</td>\n",
              "      <td>-1.641818</td>\n",
              "      <td>-1.662151</td>\n",
              "      <td>-1.636293</td>\n",
              "      <td>-1.622314</td>\n",
              "      <td>-1.653428</td>\n",
              "      <td>-1.548119</td>\n",
              "      <td>-1.807954</td>\n",
              "      <td>-1.73</td>\n",
              "      <td>-1.315444</td>\n",
              "      <td>-1.620631</td>\n",
              "      <td>-1.517655</td>\n",
              "      <td>-1.804912</td>\n",
              "      <td>...</td>\n",
              "      <td>-0.504655</td>\n",
              "      <td>0.954654</td>\n",
              "      <td>1.540081</td>\n",
              "      <td>0.393697</td>\n",
              "      <td>0.795806</td>\n",
              "      <td>0.917465</td>\n",
              "      <td>2.852398</td>\n",
              "      <td>2.365165</td>\n",
              "      <td>2.159633</td>\n",
              "      <td>2.582810</td>\n",
              "      <td>1.476850</td>\n",
              "      <td>1.144747</td>\n",
              "      <td>-0.852229</td>\n",
              "      <td>-0.821249</td>\n",
              "      <td>2.521009</td>\n",
              "      <td>2.541783</td>\n",
              "      <td>-0.421995</td>\n",
              "      <td>-0.580300</td>\n",
              "      <td>-1.903504</td>\n",
              "      <td>-1.781370</td>\n",
              "      <td>0.610913</td>\n",
              "      <td>2.101178</td>\n",
              "      <td>2.379341</td>\n",
              "      <td>2.797094</td>\n",
              "      <td>2.858177</td>\n",
              "      <td>2.873929</td>\n",
              "      <td>36</td>\n",
              "      <td>35</td>\n",
              "      <td>0</td>\n",
              "      <td>0</td>\n",
              "      <td>0</td>\n",
              "      <td>0</td>\n",
              "      <td>0.00</td>\n",
              "      <td>0.00</td>\n",
              "      <td>0.00</td>\n",
              "      <td>0.00</td>\n",
              "      <td>0.000</td>\n",
              "      <td>0.000</td>\n",
              "      <td>0.000</td>\n",
              "      <td>0.000</td>\n",
              "    </tr>\n",
              "  </tbody>\n",
              "</table>\n",
              "<p>5 rows × 840 columns</p>\n",
              "</div>"
            ],
            "text/plain": [
              "                  LIFT.OUT.ROL.MTR.M1.SPD.1WSI40101  ...  R.Vac\n",
              "dat...date.name.                                     ...       \n",
              "2016-01-01 07                             -1.772682  ...  0.041\n",
              "2016-01-01 08                             -1.772682  ...  0.000\n",
              "2016-01-01 09                             -1.772682  ...  0.000\n",
              "2016-01-01 10                             -1.772682  ...  0.000\n",
              "2016-01-01 11                             -1.772682  ...  0.000\n",
              "\n",
              "[5 rows x 840 columns]"
            ]
          },
          "metadata": {
            "tags": []
          },
          "execution_count": 29
        }
      ]
    },
    {
      "cell_type": "markdown",
      "metadata": {
        "id": "HTnGYnCNLCde"
      },
      "source": [
        "### ** 데이터 복사에 관하여\n",
        "- 복사를 하는 이유\n",
        "    - 데이터를 복사하여 작업하면 원본 데이터의 유실을 예방할 수 있음.\n",
        "    - 같은 데이터를 새로운 객체에 두 번 할당하는 경우에 비해 memory를 아낄 수 있음\n",
        "- 복사의 종류\n",
        "    -  a = 10, b = a로 복사하면 참조만 복사. 같은 데이터\n",
        "    - [mutable문제 발생] 어느 한 쪽을 수정하면 다른 쪽도 변경됨\n",
        "    - 얕은 복사(.copy())\n",
        "        - 겉 객체를 복사하여 다른 객체 할당함\n",
        "        - 원소가 다시 리스트 등의 객체인 경우, 그 원소객체의 참조만 복사되어 mutable 문제가 발생함\n",
        "    - 깊은 복사(.deepcopy())\n",
        "        - 겉 객체, 원소 객체가 2중인 경우 그 객체까지 복사 (예시 : 리스트 안에 다시 리스트)\n",
        "        - mutable한 문제가 해결됨\n",
        "- 더 알아보기 : 2중 배열 만들어서 copy, deepcopy 비교하기\n",
        "    - 참고링크 : https://maeng-test-blog.tistory.com/98"
      ]
    },
    {
      "cell_type": "code",
      "metadata": {
        "id": "WtO4vzCYNbqd"
      },
      "source": [
        "# 원본데이터의 보존을 위해 얕은 복사를 수행함\n",
        "# fact_data 데이터는 숫자형으로 얕은 복사만 수행해도 됨\n",
        "fact_data_copy = fact_data.copy()"
      ],
      "execution_count": 30,
      "outputs": []
    },
    {
      "cell_type": "markdown",
      "metadata": {
        "id": "dfgdkOz9syW9"
      },
      "source": [
        "## 데이터 전처리\n",
        "- 결측치 처리\n",
        "- 분산 0인 피처 제거\n",
        "- 상관관계 높은 피처 제거\n",
        "- VIF > 30 이상의 피처 제거"
      ]
    },
    {
      "cell_type": "markdown",
      "metadata": {
        "id": "p26tE_THsNRO"
      },
      "source": [
        "### 컬럼 제외하기"
      ]
    },
    {
      "cell_type": "markdown",
      "metadata": {
        "id": "Myvoo8akXH_f"
      },
      "source": [
        "#### 레이블 컬럼 제외하기"
      ]
    },
    {
      "cell_type": "code",
      "metadata": {
        "colab": {
          "base_uri": "https://localhost:8080/"
        },
        "id": "7FizlEG_WZhA",
        "outputId": "2e1bb06b-a133-447b-e70b-fae5bc5b0dda"
      },
      "source": [
        "# 레이블 컬럼 제외하기\n",
        "col_label = ['L.RD', 'L.Vac', 'R.RD', 'R.Vac']\n",
        "col_use = []\n",
        "for col in fact_data.columns:\n",
        "    if col not in col_label:\n",
        "       col_use.append(col)\n",
        "print(len(col_use)) # 146개\n",
        "\n",
        "# 데이터프레임 만들기\n",
        "fact_data = fact_data[col_use]"
      ],
      "execution_count": 31,
      "outputs": [
        {
          "output_type": "stream",
          "text": [
            "836\n"
          ],
          "name": "stdout"
        }
      ]
    },
    {
      "cell_type": "code",
      "metadata": {
        "colab": {
          "base_uri": "https://localhost:8080/"
        },
        "id": "h8hn6ZcDXd6P",
        "outputId": "71388ebe-d7bd-403b-82f3-9f230b8acaec"
      },
      "source": [
        "# 레이블 컬럼에 혹시 결측치 있었나 확인\n",
        "fact_data_copy[col_label].isnull().sum()\n",
        "# 없음"
      ],
      "execution_count": 32,
      "outputs": [
        {
          "output_type": "execute_result",
          "data": {
            "text/plain": [
              "L.RD     0\n",
              "L.Vac    0\n",
              "R.RD     0\n",
              "R.Vac    0\n",
              "dtype: int64"
            ]
          },
          "metadata": {
            "tags": []
          },
          "execution_count": 32
        }
      ]
    },
    {
      "cell_type": "markdown",
      "metadata": {
        "id": "A0EYwCEEWWI_"
      },
      "source": [
        "#### 아무리봐도 피처는 아닌 것 같은 컬럼 제거하기"
      ]
    },
    {
      "cell_type": "code",
      "metadata": {
        "colab": {
          "base_uri": "https://localhost:8080/"
        },
        "id": "YnjeUV_OW9mH",
        "outputId": "ec48e12e-1111-478d-a119-c260bfd21228"
      },
      "source": [
        "# 아무리봐도 피처는 아닌 것 같은 컬럼 제거하기\n",
        "col_susang = ['투입.LEFT.', 'ROLLDOWN.폐기.LEFT.', '진공패드.폐기.LEFT.','ROLLDOWN.진공패드.폐기율..LEFT.', '폐기율...']\n",
        "col_use = []\n",
        "for col in fact_data.columns:\n",
        "    if col not in col_susang:\n",
        "       col_use.append(col)\n",
        "print(len(col_use)) # 146개\n",
        "\n",
        "# 데이터프레임 만들기\n",
        "fact_data = fact_data[col_use]"
      ],
      "execution_count": 33,
      "outputs": [
        {
          "output_type": "stream",
          "text": [
            "832\n"
          ],
          "name": "stdout"
        }
      ]
    },
    {
      "cell_type": "markdown",
      "metadata": {
        "id": "UwpuU3uKrXQ7"
      },
      "source": [
        "#### Right 컬럼 제외하기"
      ]
    },
    {
      "cell_type": "code",
      "metadata": {
        "colab": {
          "base_uri": "https://localhost:8080/"
        },
        "id": "d8q51VXCr4sZ",
        "outputId": "02a268ee-b1ef-4966-e966-1dbcc43b3365"
      },
      "source": [
        "# Right 공정에 해당하는 컬럼\n",
        "col_right = [   'DB.N2.SCREEN.FLOW.RIGHT.1FI49012_PV',\n",
        "                 'DB.N2.SCREEN.FLOW.RIGHT.1FI49012_PV.1',\n",
        "                 'Right.edge',\n",
        "                 'TMP.TIN..BAY.1.RIGHT.1TI30202.PV',\n",
        "                 'TMP.TIN..BAY.5.RIGHT.1TI30206.PV',\n",
        "                 'TMP.TIN..BAY.7.RIGHT.1TI30208.PV',\n",
        "                 'TMP.TIN..BAY.10.RIGHT.1TI30210.PV',\n",
        "                 'TMP.GLASS..RIGHT.EXIT.1TIC30111.PV',\n",
        "                 'X.10.BAY.RIGHT.PRESSURE.1CLBAY10RIGHT_CPV',\n",
        "                 'X.1.BAY.RIGHT.PRESSURE.1CLBAY1RIGHT_CPV',\n",
        "                 'X.7.BAY.RIGHT.PRESSURE.1CLBAY7RIGHT_CPV',\n",
        "                 'RET.AMBIANT.RIGHT.TMP.1TI42603.PV',\n",
        "                 'BATH.AMBIENT.3.BAY.RIGHT.1TI31002_PV',\n",
        "                 'EXIT.LIP.PLATE.RIGHT.1TI30605.PV',\n",
        "                 'E.L.DB.RIGHT.N2.FLOW.1FI33502.PV',\n",
        "                 'DROSS.BOX.N2.BTM.HT1.R.1JI39006.PV',\n",
        "                 'DROSS.BOX.N2.BTM.HT..R..1JI39010.PV',\n",
        "                 'DROSSBOX.N2.SCN.R.1JI39012_PV',\n",
        "                 'HOOD.N2.HEATER.R..1JI39008.PV',\n",
        "                 'DDP.RIGHT.N2.H2.9..1FI33421.PV',\n",
        "                 'SPOUT.RIGHT.UPSTREAM.1FI33516.PV',\n",
        "                 'SPOUT.RIGHT.BOS.UPSTREAM.1FI33517.PV',\n",
        "                 'SPOUT.RIGHT.BOTTOM.1FI33518.PV',\n",
        "                 'SPOUT.RIGHT.TOP.1FI33519.PV',\n",
        "                 'LOR.1.R.Axis',\n",
        "                 'LOR.1.R.Hori',\n",
        "                 'LOR.2.R.Axis',\n",
        "                 'LOR.2.R.Hori',\n",
        "                 'LOR.3.R.Axis',\n",
        "                 'LOR.3.R.Hori',\n",
        "                 'r_tin_bay_1_5',\n",
        "                 'r_tin_bay_5_7',\n",
        "                 'r_tin_bay_7_10',\n",
        "                 'r_top_n.1_mean',\n",
        "                 'r_top_n.2_mean',\n",
        "                 'r_n.2_glass',\n",
        "                 'D_AB1_R_UL',\n",
        "                 'D_AB2_R_UL',\n",
        "                 'D_AB3_R_UL',\n",
        "                 'D_AB4_R_UL',\n",
        "                 'D_AB5_R_UL',\n",
        "                 'D_AB6_R_UL',\n",
        "                 'D_AB7_R_UL',\n",
        "                 'D_AB8_R_UL',\n",
        "                 'D_AB9_R_UL',\n",
        "                 'D_AB10_R_UL',\n",
        "                 'D_AB11_R_UL',\n",
        "                 'D_C1_R_UL',\n",
        "                 'D_C2_R_UL',\n",
        "                 'D_C3_R_UL',\n",
        "                 'D_C4_R_UL',\n",
        "                 'S_AB1_AB2_U_R',\n",
        "                 'S_AB1_AB2_L_R',\n",
        "                 'S_AB2_AB3_U_R',\n",
        "                 'S_AB2_AB3_L_R',\n",
        "                 'S_AB3_AB4_U_R',\n",
        "                 'S_AB3_AB4_L_R',\n",
        "                 'S_AB4_AB5_U_R',\n",
        "                 'S_AB4_AB5_L_R',\n",
        "                 'S_AB5_AB6_U_R',\n",
        "                 'S_AB5_AB6_L_R',\n",
        "                 'S_AB6_AB7_U_R',\n",
        "                 'S_AB6_AB7_L_R',\n",
        "                 'S_AB7_AB8_U_R',\n",
        "                 'S_AB7_AB8_L_R',\n",
        "                 'S_AB8_AB9_U_R',\n",
        "                 'S_AB8_AB9_L_R',\n",
        "                 'S_AB9_AB10_U_R',\n",
        "                 'S_AB9_AB10_L_R',\n",
        "                 'S_AB10_AB11_U_R',\n",
        "                 'S_AB10_AB11_L_R',\n",
        "                 'S_AB11_C1_U_R',\n",
        "                 'S_AB11_C1_L_R',\n",
        "                 'S_AB1_AB11_R',\n",
        "                 'S_AB11_AB7_R',\n",
        "                 'S_AB7_C4_R',\n",
        "                 'S_C1_C2_U_R',\n",
        "                 'S_C1_C2_L_R',\n",
        "                 'S_C2_C3_U_R',\n",
        "                 'S_C2_C3_L_R',\n",
        "                 'S_C3_C4_U_R',\n",
        "                 'S_C3_C4_L_R',\n",
        "                 'S_C4_RET_R',\n",
        "                 'S_RET_F_R',\n",
        "                 'STD_U_R',\n",
        "                 'STD_L_R',\n",
        "                 'STD_GLS_R',\n",
        "                 '투입.RIGHT.',\n",
        "                 'ROLLDOWN.폐기.RIGHT.',\n",
        "                 'ROLLDOWN.진공패드.폐기율..RIGHT.',\n",
        "                 '진공패드.폐기.RIGHT.']\n",
        "# 개수 확인\n",
        "len(col_right) # 91개"
      ],
      "execution_count": 34,
      "outputs": [
        {
          "output_type": "execute_result",
          "data": {
            "text/plain": [
              "91"
            ]
          },
          "metadata": {
            "tags": []
          },
          "execution_count": 34
        }
      ]
    },
    {
      "cell_type": "code",
      "metadata": {
        "colab": {
          "base_uri": "https://localhost:8080/"
        },
        "id": "SIwNUeWhrXRG",
        "outputId": "0b269021-a5e7-4178-fa70-eaa25c12fc0d"
      },
      "source": [
        "# Right 컬럼 제외하기\n",
        "col_use = []\n",
        "for col in fact_data.columns:\n",
        "    if col not in col_right:\n",
        "       col_use.append(col)\n",
        "print(len(col_use)) # 146개\n",
        "\n",
        "# 데이터프레임 만들기\n",
        "fact_data = fact_data[col_use]"
      ],
      "execution_count": 35,
      "outputs": [
        {
          "output_type": "stream",
          "text": [
            "741\n"
          ],
          "name": "stdout"
        }
      ]
    },
    {
      "cell_type": "markdown",
      "metadata": {
        "id": "clfLbcOeQk1b"
      },
      "source": [
        "### 결측치 처리"
      ]
    },
    {
      "cell_type": "code",
      "metadata": {
        "colab": {
          "base_uri": "https://localhost:8080/"
        },
        "id": "ZRMcWlufsy9O",
        "outputId": "bc005a56-fc60-4a81-be76-fd24c4f8dd9e"
      },
      "source": [
        "# 결측치 찾기\n",
        "nan_data = fact_data.isnull().sum().sort_values(ascending=False)\n",
        "print(nan_data)\n",
        "## isnull() : 결측치를 찾아 True/False 리턴함.\n",
        "    # boolean 데이터타입은 숫자로 변환하면 True -> 1, False -> 0\n",
        "    # 여기서는 결측치가 있는 데이터는 1의 값을 갖게 됨\n",
        "## sum() : 컬럼별로 값을 모두 더함\n",
        "## sort_values() : 값을 크기별로 정렬함\n",
        "    # ascending=False 옵션을 주면 내림차순으로 정렬함"
      ],
      "execution_count": 36,
      "outputs": [
        {
          "output_type": "stream",
          "text": [
            "ROOF.HEATING.Zone52.1JIC31152.PV        8145\n",
            "ROOF.HEATING.Zone78.1JIC31178.PV        8145\n",
            "ROOF.HEATING.Zone76.1JIC31176.PV        8145\n",
            "LEHR.DRV.MTR..M19.2.CUR.1WII40135.PV    8145\n",
            "DCS_Offset_RPM_M13.1WOS45113_PV         8145\n",
            "                                        ... \n",
            "ROOF.HEATING.Zone10.1JIC31110.PV           0\n",
            "ROOF.HEATING.Zone.9.1JIC31109.PV.1         0\n",
            "ROOF.HEATING.Zone.8.1JIC31108.PV.1         0\n",
            "ROOF.HEATING.Zone.7.1JIC31107.PV.1         0\n",
            "LIFT.OUT.ROL.MTR.M1.SPD.1WSI40101          0\n",
            "Length: 741, dtype: int64\n"
          ],
          "name": "stdout"
        }
      ]
    },
    {
      "cell_type": "code",
      "metadata": {
        "colab": {
          "base_uri": "https://localhost:8080/"
        },
        "id": "XFsvINL23Llx",
        "outputId": "4e718c8f-3f48-4287-a17f-59d6c6dbbb28"
      },
      "source": [
        "# 이때 결측치 개수 컬럼은 시리즈 타입이므로 슬라이싱 됨. nan 개수 상위 20개 정도 살펴보자.\n",
        "print(type(nan_data))\n",
        "\n",
        "# 조회 결과, 7개 컬럼은 전체 8145개의 행이 모두 결측치임. 데이터가 없으므로 삭제.\n",
        "print(nan_data[:20])"
      ],
      "execution_count": 37,
      "outputs": [
        {
          "output_type": "stream",
          "text": [
            "<class 'pandas.core.series.Series'>\n",
            "ROOF.HEATING.Zone52.1JIC31152.PV        8145\n",
            "ROOF.HEATING.Zone78.1JIC31178.PV        8145\n",
            "ROOF.HEATING.Zone76.1JIC31176.PV        8145\n",
            "LEHR.DRV.MTR..M19.2.CUR.1WII40135.PV    8145\n",
            "DCS_Offset_RPM_M13.1WOS45113_PV         8145\n",
            "DCS_Offset_RPM_M14.1WOS45114_PV         8145\n",
            "UPPER.RET..Z218.TMP.1TIC42601.PV        8145\n",
            "LIFT.OUT.ROL.MTR.M1.SPD.1WSI40101.1        1\n",
            "LOWER.C3..Z193TMP.1TIC42454.PV             1\n",
            "DB.HEAT.BTM.LEFT.2.TMP.1TI40316.PV         1\n",
            "DB.HEAT.TOP.3.2.TMP.1TI40310.PV            1\n",
            "DB.HEAT.TOP.2.2.TMP.1TI40309.PV            1\n",
            "DB.HEAT.TOP.1.2.TMP.1TI40308.PV            1\n",
            "DB.HEAT.TOP.7.1.TMP.1TI40307.PV            1\n",
            "DB.HEAT.TOP.6.1.TMP.1TI40306.PV            1\n",
            "LOWER.C4..Z207.TMP.1TIC42554.PV            1\n",
            "LEHR.DRV.MTR..M4.1.SPD.1WSI40104.1         1\n",
            "LIFT.OUT.ROL.MTR.M2.SPD.1WSI40102.1        1\n",
            "LIFT.OUT.ROL.MTR.M3.SPD.1WSI40103.1        1\n",
            "DROSS.BOX.N2.BTM.HT..L..1JI39009.PV        1\n",
            "dtype: int64\n"
          ],
          "name": "stdout"
        }
      ]
    },
    {
      "cell_type": "code",
      "metadata": {
        "colab": {
          "base_uri": "https://localhost:8080/"
        },
        "id": "r5uwwSPm5Taa",
        "outputId": "ce39195b-cb5b-46ca-b85e-b2b99596f31d"
      },
      "source": [
        "# 전체 행이 결측치인 컬럼을 찾고 삭제하기\n",
        "\n",
        "# 1. 전체 행이 결측치인 컬럼을 찾기\n",
        "print(nan_data[nan_data.values == fact_data.shape[0]].index.tolist())\n",
        "    # nan_data에서 다음 조건에 해당하는 컬럼을 찾음\n",
        "        # nan_data.values : nan_data를 데이터 배열로 만들어줌\n",
        "        # fact_data.shape -> (행 개수, 열 개수)\n",
        "            # fact_data.shape[0]는 fact_data 행의 개수임\n",
        "    # .index : 그때의 컬럼이름(여기선 인덱스)을 추출함\n",
        "    # .tolist() : 데이터를 리스트 타입으로 변환함\n",
        "\n",
        "# 2. 해당 컬럼삭제하기\n",
        "fact_data.drop(nan_data[nan_data.values == fact_data.shape[0]].index.tolist(), axis=1, inplace=True)\n",
        "    # inplace=True : drop 수행한 결과를 fact_data에 반영할지 여부 설정\n",
        "\n",
        "# 3. 확인 - 컬럼 수가 줄어들었나 확인 (840개 -> 833개)\n",
        "fact_data.info()"
      ],
      "execution_count": 38,
      "outputs": [
        {
          "output_type": "stream",
          "text": [
            "['ROOF.HEATING.Zone52.1JIC31152.PV', 'ROOF.HEATING.Zone78.1JIC31178.PV', 'ROOF.HEATING.Zone76.1JIC31176.PV', 'LEHR.DRV.MTR..M19.2.CUR.1WII40135.PV', 'DCS_Offset_RPM_M13.1WOS45113_PV', 'DCS_Offset_RPM_M14.1WOS45114_PV', 'UPPER.RET..Z218.TMP.1TIC42601.PV']\n",
            "<class 'pandas.core.frame.DataFrame'>\n",
            "Index: 8145 entries, 2016-01-01 07 to 2016-12-31 23\n",
            "Columns: 734 entries, LIFT.OUT.ROL.MTR.M1.SPD.1WSI40101 to ROLLDOWN.진공패드.폐기율..전체.\n",
            "dtypes: float64(734)\n",
            "memory usage: 45.7+ MB\n"
          ],
          "name": "stdout"
        }
      ]
    },
    {
      "cell_type": "code",
      "metadata": {
        "colab": {
          "base_uri": "https://localhost:8080/"
        },
        "id": "NUomKUukOiUL",
        "outputId": "01c90095-b42b-4e75-8bbb-558adf697e70"
      },
      "source": [
        "# 그 외 결측치 처리\n",
        "# 남은 결측치는 ffill로 채워주자\n",
        "# 이 데이터는 1시간마다 측정한 센서 데이터이므로 전체 컬럼에 대한 평균보다는 이전 행의 값으로 결측치를 처리하는 것이 적절함\n",
        "fact_data.fillna(method = 'ffill', inplace=True)\n",
        "    # inplace=True : fillna 수행한 결과를 fact_data에 반영할지 여부 설정\n",
        "\n",
        "# 확인\n",
        "fact_data.isnull().sum().sort_values()"
      ],
      "execution_count": 39,
      "outputs": [
        {
          "output_type": "execute_result",
          "data": {
            "text/plain": [
              "LIFT.OUT.ROL.MTR.M1.SPD.1WSI40101     0\n",
              "ROOF.HEATING.Zone.5.1JIC31105.PV      0\n",
              "ROOF.HEATING.Zone.6.1JIC31106.PV      0\n",
              "ROOF.HEATING.Zone.7.1JIC31107.PV.1    0\n",
              "ROOF.HEATING.Zone.8.1JIC31108.PV.1    0\n",
              "                                     ..\n",
              "LOWER.C3..Z196.TMP.1TIC42457.PV       0\n",
              "UPPER.C4..Z197.TMP.1TIC42501.PV       0\n",
              "UPPER.C4..Z198.TMP.1TIC42502.PV       0\n",
              "UPPER.C4..Z200.TMP.1TIC42504.PV       0\n",
              "ROLLDOWN.진공패드.폐기율..전체.                0\n",
              "Length: 734, dtype: int64"
            ]
          },
          "metadata": {
            "tags": []
          },
          "execution_count": 39
        }
      ]
    },
    {
      "cell_type": "markdown",
      "metadata": {
        "id": "1hXEeyhMQwA6"
      },
      "source": [
        "### 분산 0인 데이터 제거\n",
        "- 분산이 0인 데이터를 제거하는 이유?\n",
        "    - 어떤 피처의 분산이 0이라는 것은 그 피처의 데이터가 모든 행에 대해 거의 변하지 않은 것을 의미함\n",
        "    - 어떤 경우에도 같은 값을 내는 컬럼이 불량률에 영향을 주고 있다고 보기 어려움\n",
        "- 수행 방법\n",
        "    - 방법1 : sklearn의 VarianceThreshold 사용\n",
        "    - 방법2 : var() 사용\n",
        "- 결과\n",
        "    - 컬럼수 : 831->818\n"
      ]
    },
    {
      "cell_type": "code",
      "metadata": {
        "id": "mQ_f0TGBQxsK"
      },
      "source": [
        "# 방법1\n",
        "#from sklearn.feature_selection import VarianceThreshold\n",
        "#selector = VarianceThreshold()\n",
        "#df = selector.fit_transform(fact_data)\n",
        "#print(df.shape)\n",
        "#df"
      ],
      "execution_count": 40,
      "outputs": []
    },
    {
      "cell_type": "code",
      "metadata": {
        "colab": {
          "base_uri": "https://localhost:8080/"
        },
        "id": "eOcaMZJvRgbK",
        "outputId": "7b95175a-a1ef-4851-953c-cf413940fb3c"
      },
      "source": [
        "# 방법 2\n",
        "# 분산 구하기\n",
        "df_var = fact_data.var()    # 시리즈\n",
        "# 확인\n",
        "print(df_var.describe())\n",
        "\n",
        "# 분산이 0에 수렴하는 컬럼 확인\n",
        "## 10e-10 이하면 0에 수렴하는 값으로 간주함\n",
        "print(df_var[df_var.values <= 10e-10])\n",
        "\n",
        "# 삭제\n",
        "fact_data.drop(df_var[df_var.values <= 10e-10].index, axis=1, inplace=True)\n",
        "\n",
        "# 컬럼 수 확인\n",
        "print(len(fact_data.columns))"
      ],
      "execution_count": 41,
      "outputs": [
        {
          "output_type": "stream",
          "text": [
            "count    7.340000e+02\n",
            "mean     1.049214e+00\n",
            "std      1.125586e+00\n",
            "min      7.538541e-27\n",
            "25%      1.000223e+00\n",
            "50%      1.000674e+00\n",
            "75%      1.000816e+00\n",
            "max      2.248774e+01\n",
            "dtype: float64\n",
            "LEHR.DRV.MTR..M4.2.CUR.1WII40105.PV     7.538541e-27\n",
            "LEHR.DRV.MTR..M9.1.CUR.1WII40114.PV     7.538541e-27\n",
            "LEHR.DRV.MTR..M9.2.CUR.1WII40115.PV     7.538541e-27\n",
            "LEHR.DRV.MTR..M10.1.CUR.1WII40116.PV    7.538541e-27\n",
            "LEHR.DRV.MTR..M14.1.CUR.1WII40124.PV    7.538541e-27\n",
            "LEHR.DRV.MTR..M17.2.CUR.1WII40131.PV    7.538541e-27\n",
            "TMP.TIN..BAY.4.LEFT.1TI30203.PV         7.538541e-27\n",
            "dtype: float64\n",
            "727\n"
          ],
          "name": "stdout"
        }
      ]
    },
    {
      "cell_type": "markdown",
      "metadata": {
        "id": "j8pQoi5qQqva"
      },
      "source": [
        "### 피처 간 상관관계 높은 피처 제거\n",
        "- 상관관계 : 피처 간의 종속된 정도\n",
        "- 상관관계가 높은 피처를 제거하는 이유?\n",
        "    - 두 피처 간의 상관관계가 높다는 것은, 하나의 피처 값이 다른 피처의 값에 큰 영향을 주고있음을 의미함\n",
        "    - 두 피처는 동일한 원인에 기인하여 변하는 것으로 추측할 수 있음\n",
        "    - 이를 제거하지 않고 두면 사실상 같은 의미인 데이터가 모델링에 여러 번 반영됨\n",
        "    - 사실상 종속관계에 있는 피처들이 모델링에 크게 기여하는 것과 같음\n",
        "    - 모델링에 영향을 미치는 원인들이 모두 비슷한 중요도로 반영되게 하려면 종속성이 낮은 피처들만을 이용하여 모델을 만드는 것이 타당함\n",
        "- 여기서는 피처 간 상관계수의 절대값이 0.9 이상인 경우를 종속된 것으로 봄\n"
      ]
    },
    {
      "cell_type": "code",
      "metadata": {
        "colab": {
          "base_uri": "https://localhost:8080/"
        },
        "id": "1lHjOEdh9ATz",
        "outputId": "617b413c-cb9c-4d77-cebb-54ab34cdfb90"
      },
      "source": [
        "# 모든 컬럼에 대해 상관계수를 구하고 상관계수가 0.9 이상인 컬럼 중 1개만 남기고 모두 제거\n",
        "\n",
        "# 모든 컬럼에 대해 상관계수의 절대값 구하기\n",
        "corr_arr = abs(fact_data.corr())\n",
        "\n",
        "# 상관계수가 0.9 이상인 컬럼 중 1개만 남기고 모두 제거\n",
        "del_list = []\n",
        "for i, col in enumerate(corr_arr.columns):\n",
        "    for j in range(len(corr_arr.index)):\n",
        "        if i == j:\n",
        "            continue\n",
        "        elif corr_arr.index[i] in del_list:           \n",
        "            break\n",
        "        # print(i, j, corr_arr.index[j], np.abs(corr_arr.iloc[j,i]))\n",
        "        if np.abs(corr_arr.iloc[j,i]) >= 0.9:\n",
        "            del_list.append(corr_arr.index[j])\n",
        "            # print(corr_arr.index[j], '-->', corr_arr.index[i])\n",
        "# 확인\n",
        "len(del_list)"
      ],
      "execution_count": 42,
      "outputs": [
        {
          "output_type": "execute_result",
          "data": {
            "text/plain": [
              "631"
            ]
          },
          "metadata": {
            "tags": []
          },
          "execution_count": 42
        }
      ]
    },
    {
      "cell_type": "code",
      "metadata": {
        "colab": {
          "base_uri": "https://localhost:8080/"
        },
        "id": "68-UpKrfVXDG",
        "outputId": "91aefe43-f25a-4261-e93e-afb8db5973e4"
      },
      "source": [
        "# del_list에 있는 컬럼은 제외\n",
        "total_col = fact_data.columns.tolist()\n",
        "col_remain = []\n",
        "for c in total_col:\n",
        "    if c not in del_list:\n",
        "        col_remain.append(c)\n",
        "len(col_remain)"
      ],
      "execution_count": 43,
      "outputs": [
        {
          "output_type": "execute_result",
          "data": {
            "text/plain": [
              "325"
            ]
          },
          "metadata": {
            "tags": []
          },
          "execution_count": 43
        }
      ]
    },
    {
      "cell_type": "code",
      "metadata": {
        "colab": {
          "base_uri": "https://localhost:8080/"
        },
        "id": "kAJpOIcPVe6m",
        "outputId": "6e688849-86d1-437c-9120-c223a3008b31"
      },
      "source": [
        "# 저장\n",
        "fact_data = fact_data[col_remain]\n",
        "fact_data.info()"
      ],
      "execution_count": 44,
      "outputs": [
        {
          "output_type": "stream",
          "text": [
            "<class 'pandas.core.frame.DataFrame'>\n",
            "Index: 8145 entries, 2016-01-01 07 to 2016-12-31 23\n",
            "Columns: 325 entries, LIFT.OUT.ROL.MTR.M1.SPD.1WSI40101 to 폐기율...\n",
            "dtypes: float64(325)\n",
            "memory usage: 20.3+ MB\n"
          ],
          "name": "stdout"
        }
      ]
    },
    {
      "cell_type": "markdown",
      "metadata": {
        "id": "Qmof_MJRV9UI"
      },
      "source": [
        "### (안함) VIF > 30 이상의 피처 제거"
      ]
    },
    {
      "cell_type": "code",
      "metadata": {
        "id": "vkXpYVSgVzig"
      },
      "source": [
        "# 화이팅"
      ],
      "execution_count": 45,
      "outputs": []
    },
    {
      "cell_type": "markdown",
      "metadata": {
        "id": "tu6CzEAWWEFw"
      },
      "source": [
        "## 분류 모델링을 위한 전처리\n",
        "- 325개의 컬럼으로 수행"
      ]
    },
    {
      "cell_type": "markdown",
      "metadata": {
        "id": "p5xhPDJFs8xY"
      },
      "source": [
        "### 스케일링"
      ]
    },
    {
      "cell_type": "code",
      "metadata": {
        "colab": {
          "base_uri": "https://localhost:8080/"
        },
        "id": "lB40kgyts8JQ",
        "outputId": "cfc024c6-e2d2-46ce-ad8b-e14b0e26f269"
      },
      "source": [
        "from sklearn.preprocessing import MinMaxScaler\n",
        "\n",
        "scaler = MinMaxScaler()\n",
        "scaler.fit(fact_data)\n",
        "fact_data_scaled = scaler.transform(fact_data)\n",
        "\n",
        "\n",
        "# 데이터 범위 확인\n",
        "print(\"스케일링한 데이터 최소값:\", fact_data_scaled.min())\n",
        "print(\"스케일링한 데이터 최대값:\", fact_data_scaled.max())"
      ],
      "execution_count": 50,
      "outputs": [
        {
          "output_type": "stream",
          "text": [
            "스케일링한 데이터 최소값: 0.0\n",
            "스케일링한 데이터 최대값: 1.0000000000000002\n"
          ],
          "name": "stdout"
        }
      ]
    },
    {
      "cell_type": "markdown",
      "metadata": {
        "id": "QpN-xs6ntJYP"
      },
      "source": [
        "### PCA 수행하여 주성분 몇 개가 적절한지 조사\n",
        "- 적당한 n_components 개수 정하기\n",
        "- 방법1\n",
        "    - 설명변수가 급감하는 때의 주성분 인덱스를 찾음\n",
        "    - 이 경우 최소한의 주성분 개수로 전체 데이터의 경향을 설명할 수 있음\n",
        "- 방법2\n",
        "    - 설명변수 비율의 누적합이 0.95일 때의 주성분 개수로 선택할 수 있음\n",
        "    - 이 경우 전체 데이터의 95%를 설명하기 위한 주성분 개수를 구하는 것과 같음"
      ]
    },
    {
      "cell_type": "code",
      "metadata": {
        "colab": {
          "base_uri": "https://localhost:8080/"
        },
        "id": "Pe3_M34vtOWe",
        "outputId": "9eced20c-4d8e-417e-f85b-0cf16f299847"
      },
      "source": [
        "# PCA 수행\n",
        "from sklearn.decomposition import PCA\n",
        "\n",
        "# 피처개수 146개만큼 주성분을 뽑아보자\n",
        "pca = PCA(n_components=len(fact_data.columns))\n",
        "\n",
        "# 스케일링한 값을 넣고 fit() 과 transform()을 호출해 PCA 변환 데이터 리턴\n",
        "pca.fit(fact_data_scaled)\n",
        "fact_data_pca = pca.transform(fact_data_scaled)\n",
        "\n",
        "# PCA 수행 후 데이터 확인\n",
        "print(\"데이터 구조\", fact_data_pca.shape)\n",
        "\n",
        "# 설명변수\n",
        "## 각 주성분이 전체 데이터 집합을 얼마나 잘 설명하는지 나타내는 값\n",
        "print(\"- 각 주성분의 설명변수 :\", pca.explained_variance_[:4])\n",
        "# 설명변수 비율\n",
        "## 전체 주성분의 설명변수 비율 합은 1(100%)\n",
        "print(\"- 각 주성분의 설명변수 비율 :\", pca.explained_variance_ratio_[:4])\n",
        "# 주성분 행렬\n",
        "print('- singular value :', pca.singular_values_[:4])"
      ],
      "execution_count": 55,
      "outputs": [
        {
          "output_type": "stream",
          "text": [
            "데이터 구조 (8145, 325)\n",
            "- 각 주성분의 설명변수 : [2.36102173 1.07909775 0.732532   0.39970418]\n",
            "- 각 주성분의 설명변수 비율 : [0.32151169 0.14694593 0.09975241 0.05442964]\n",
            "- singular value : [138.66564465  93.74525098  77.23820704  57.05427987]\n"
          ],
          "name": "stdout"
        }
      ]
    },
    {
      "cell_type": "code",
      "metadata": {
        "colab": {
          "base_uri": "https://localhost:8080/",
          "height": 454
        },
        "id": "U0VIaQbwtXoe",
        "outputId": "b605168e-056e-41a4-c572-98c54783a757"
      },
      "source": [
        "# PCA 수행 결과를 데이터프레임으로 만들어서 확인\n",
        "\n",
        "# 컬럼이름 붙이기\n",
        "pca_columns_name = [f\"pca{num+1}\" for num in range(fact_data.shape[1])]\n",
        "# 데이터프레임 만들기\n",
        "pca_df = pd.DataFrame(fact_data_pca, columns = pca_columns_name, index=fact_data.index)\n",
        "pca_df.info()\n",
        "pca_df.head()"
      ],
      "execution_count": 56,
      "outputs": [
        {
          "output_type": "stream",
          "text": [
            "<class 'pandas.core.frame.DataFrame'>\n",
            "Index: 8145 entries, 2016-01-01 07 to 2016-12-31 23\n",
            "Columns: 325 entries, pca1 to pca325\n",
            "dtypes: float64(325)\n",
            "memory usage: 20.3+ MB\n"
          ],
          "name": "stdout"
        },
        {
          "output_type": "execute_result",
          "data": {
            "text/html": [
              "<div>\n",
              "<style scoped>\n",
              "    .dataframe tbody tr th:only-of-type {\n",
              "        vertical-align: middle;\n",
              "    }\n",
              "\n",
              "    .dataframe tbody tr th {\n",
              "        vertical-align: top;\n",
              "    }\n",
              "\n",
              "    .dataframe thead th {\n",
              "        text-align: right;\n",
              "    }\n",
              "</style>\n",
              "<table border=\"1\" class=\"dataframe\">\n",
              "  <thead>\n",
              "    <tr style=\"text-align: right;\">\n",
              "      <th></th>\n",
              "      <th>pca1</th>\n",
              "      <th>pca2</th>\n",
              "      <th>pca3</th>\n",
              "      <th>pca4</th>\n",
              "      <th>pca5</th>\n",
              "      <th>pca6</th>\n",
              "      <th>pca7</th>\n",
              "      <th>pca8</th>\n",
              "      <th>pca9</th>\n",
              "      <th>pca10</th>\n",
              "      <th>pca11</th>\n",
              "      <th>pca12</th>\n",
              "      <th>pca13</th>\n",
              "      <th>pca14</th>\n",
              "      <th>pca15</th>\n",
              "      <th>pca16</th>\n",
              "      <th>pca17</th>\n",
              "      <th>pca18</th>\n",
              "      <th>pca19</th>\n",
              "      <th>pca20</th>\n",
              "      <th>pca21</th>\n",
              "      <th>pca22</th>\n",
              "      <th>pca23</th>\n",
              "      <th>pca24</th>\n",
              "      <th>pca25</th>\n",
              "      <th>pca26</th>\n",
              "      <th>pca27</th>\n",
              "      <th>pca28</th>\n",
              "      <th>pca29</th>\n",
              "      <th>pca30</th>\n",
              "      <th>pca31</th>\n",
              "      <th>pca32</th>\n",
              "      <th>pca33</th>\n",
              "      <th>pca34</th>\n",
              "      <th>pca35</th>\n",
              "      <th>pca36</th>\n",
              "      <th>pca37</th>\n",
              "      <th>pca38</th>\n",
              "      <th>pca39</th>\n",
              "      <th>pca40</th>\n",
              "      <th>...</th>\n",
              "      <th>pca286</th>\n",
              "      <th>pca287</th>\n",
              "      <th>pca288</th>\n",
              "      <th>pca289</th>\n",
              "      <th>pca290</th>\n",
              "      <th>pca291</th>\n",
              "      <th>pca292</th>\n",
              "      <th>pca293</th>\n",
              "      <th>pca294</th>\n",
              "      <th>pca295</th>\n",
              "      <th>pca296</th>\n",
              "      <th>pca297</th>\n",
              "      <th>pca298</th>\n",
              "      <th>pca299</th>\n",
              "      <th>pca300</th>\n",
              "      <th>pca301</th>\n",
              "      <th>pca302</th>\n",
              "      <th>pca303</th>\n",
              "      <th>pca304</th>\n",
              "      <th>pca305</th>\n",
              "      <th>pca306</th>\n",
              "      <th>pca307</th>\n",
              "      <th>pca308</th>\n",
              "      <th>pca309</th>\n",
              "      <th>pca310</th>\n",
              "      <th>pca311</th>\n",
              "      <th>pca312</th>\n",
              "      <th>pca313</th>\n",
              "      <th>pca314</th>\n",
              "      <th>pca315</th>\n",
              "      <th>pca316</th>\n",
              "      <th>pca317</th>\n",
              "      <th>pca318</th>\n",
              "      <th>pca319</th>\n",
              "      <th>pca320</th>\n",
              "      <th>pca321</th>\n",
              "      <th>pca322</th>\n",
              "      <th>pca323</th>\n",
              "      <th>pca324</th>\n",
              "      <th>pca325</th>\n",
              "    </tr>\n",
              "    <tr>\n",
              "      <th>dat...date.name.</th>\n",
              "      <th></th>\n",
              "      <th></th>\n",
              "      <th></th>\n",
              "      <th></th>\n",
              "      <th></th>\n",
              "      <th></th>\n",
              "      <th></th>\n",
              "      <th></th>\n",
              "      <th></th>\n",
              "      <th></th>\n",
              "      <th></th>\n",
              "      <th></th>\n",
              "      <th></th>\n",
              "      <th></th>\n",
              "      <th></th>\n",
              "      <th></th>\n",
              "      <th></th>\n",
              "      <th></th>\n",
              "      <th></th>\n",
              "      <th></th>\n",
              "      <th></th>\n",
              "      <th></th>\n",
              "      <th></th>\n",
              "      <th></th>\n",
              "      <th></th>\n",
              "      <th></th>\n",
              "      <th></th>\n",
              "      <th></th>\n",
              "      <th></th>\n",
              "      <th></th>\n",
              "      <th></th>\n",
              "      <th></th>\n",
              "      <th></th>\n",
              "      <th></th>\n",
              "      <th></th>\n",
              "      <th></th>\n",
              "      <th></th>\n",
              "      <th></th>\n",
              "      <th></th>\n",
              "      <th></th>\n",
              "      <th></th>\n",
              "      <th></th>\n",
              "      <th></th>\n",
              "      <th></th>\n",
              "      <th></th>\n",
              "      <th></th>\n",
              "      <th></th>\n",
              "      <th></th>\n",
              "      <th></th>\n",
              "      <th></th>\n",
              "      <th></th>\n",
              "      <th></th>\n",
              "      <th></th>\n",
              "      <th></th>\n",
              "      <th></th>\n",
              "      <th></th>\n",
              "      <th></th>\n",
              "      <th></th>\n",
              "      <th></th>\n",
              "      <th></th>\n",
              "      <th></th>\n",
              "      <th></th>\n",
              "      <th></th>\n",
              "      <th></th>\n",
              "      <th></th>\n",
              "      <th></th>\n",
              "      <th></th>\n",
              "      <th></th>\n",
              "      <th></th>\n",
              "      <th></th>\n",
              "      <th></th>\n",
              "      <th></th>\n",
              "      <th></th>\n",
              "      <th></th>\n",
              "      <th></th>\n",
              "      <th></th>\n",
              "      <th></th>\n",
              "      <th></th>\n",
              "      <th></th>\n",
              "      <th></th>\n",
              "      <th></th>\n",
              "    </tr>\n",
              "  </thead>\n",
              "  <tbody>\n",
              "    <tr>\n",
              "      <th>2016-01-01 07</th>\n",
              "      <td>3.452527</td>\n",
              "      <td>1.533809</td>\n",
              "      <td>1.323886</td>\n",
              "      <td>1.542712</td>\n",
              "      <td>0.183121</td>\n",
              "      <td>0.656539</td>\n",
              "      <td>-0.011691</td>\n",
              "      <td>0.198646</td>\n",
              "      <td>0.792417</td>\n",
              "      <td>0.933732</td>\n",
              "      <td>0.689587</td>\n",
              "      <td>-0.539740</td>\n",
              "      <td>-0.584063</td>\n",
              "      <td>-0.570702</td>\n",
              "      <td>0.049210</td>\n",
              "      <td>-0.050188</td>\n",
              "      <td>-0.918162</td>\n",
              "      <td>0.469422</td>\n",
              "      <td>-0.033838</td>\n",
              "      <td>0.015427</td>\n",
              "      <td>0.032161</td>\n",
              "      <td>-0.335349</td>\n",
              "      <td>-0.234412</td>\n",
              "      <td>-0.034332</td>\n",
              "      <td>-0.268557</td>\n",
              "      <td>0.450278</td>\n",
              "      <td>-0.178547</td>\n",
              "      <td>-0.002137</td>\n",
              "      <td>0.102945</td>\n",
              "      <td>-0.098039</td>\n",
              "      <td>0.044414</td>\n",
              "      <td>0.134852</td>\n",
              "      <td>0.184106</td>\n",
              "      <td>0.464864</td>\n",
              "      <td>-0.040969</td>\n",
              "      <td>0.071232</td>\n",
              "      <td>0.072646</td>\n",
              "      <td>-0.050108</td>\n",
              "      <td>-0.312152</td>\n",
              "      <td>0.189300</td>\n",
              "      <td>...</td>\n",
              "      <td>0.000245</td>\n",
              "      <td>0.000627</td>\n",
              "      <td>0.000355</td>\n",
              "      <td>0.000538</td>\n",
              "      <td>0.000395</td>\n",
              "      <td>-0.000748</td>\n",
              "      <td>-0.000064</td>\n",
              "      <td>0.000077</td>\n",
              "      <td>0.000186</td>\n",
              "      <td>-0.000101</td>\n",
              "      <td>-0.000941</td>\n",
              "      <td>0.000639</td>\n",
              "      <td>0.000342</td>\n",
              "      <td>0.000560</td>\n",
              "      <td>-0.000317</td>\n",
              "      <td>0.000697</td>\n",
              "      <td>-0.000271</td>\n",
              "      <td>-0.000879</td>\n",
              "      <td>-0.000116</td>\n",
              "      <td>-0.000007</td>\n",
              "      <td>-2.721801e-09</td>\n",
              "      <td>-3.816269e-11</td>\n",
              "      <td>3.839190e-11</td>\n",
              "      <td>-4.212336e-11</td>\n",
              "      <td>8.473320e-12</td>\n",
              "      <td>4.159003e-11</td>\n",
              "      <td>4.358408e-13</td>\n",
              "      <td>-5.512232e-11</td>\n",
              "      <td>-1.247813e-10</td>\n",
              "      <td>-5.828093e-11</td>\n",
              "      <td>7.350097e-12</td>\n",
              "      <td>-2.876308e-11</td>\n",
              "      <td>1.517614e-11</td>\n",
              "      <td>8.517374e-12</td>\n",
              "      <td>-1.087013e-11</td>\n",
              "      <td>-2.806739e-12</td>\n",
              "      <td>3.868135e-11</td>\n",
              "      <td>-1.395923e-11</td>\n",
              "      <td>-3.400296e-11</td>\n",
              "      <td>2.539618e-11</td>\n",
              "    </tr>\n",
              "    <tr>\n",
              "      <th>2016-01-01 08</th>\n",
              "      <td>3.437189</td>\n",
              "      <td>1.512892</td>\n",
              "      <td>1.329426</td>\n",
              "      <td>1.540556</td>\n",
              "      <td>0.155383</td>\n",
              "      <td>0.625875</td>\n",
              "      <td>0.025668</td>\n",
              "      <td>0.207212</td>\n",
              "      <td>0.792517</td>\n",
              "      <td>0.946555</td>\n",
              "      <td>0.718398</td>\n",
              "      <td>-0.539722</td>\n",
              "      <td>-0.581252</td>\n",
              "      <td>-0.554636</td>\n",
              "      <td>-0.031841</td>\n",
              "      <td>-0.039051</td>\n",
              "      <td>-0.908817</td>\n",
              "      <td>0.440760</td>\n",
              "      <td>-0.036983</td>\n",
              "      <td>0.034583</td>\n",
              "      <td>-0.008182</td>\n",
              "      <td>-0.374090</td>\n",
              "      <td>-0.208744</td>\n",
              "      <td>-0.022218</td>\n",
              "      <td>-0.273319</td>\n",
              "      <td>0.461592</td>\n",
              "      <td>-0.186129</td>\n",
              "      <td>0.000650</td>\n",
              "      <td>0.052902</td>\n",
              "      <td>-0.044170</td>\n",
              "      <td>0.069446</td>\n",
              "      <td>0.096062</td>\n",
              "      <td>0.110267</td>\n",
              "      <td>0.328989</td>\n",
              "      <td>0.013370</td>\n",
              "      <td>0.016166</td>\n",
              "      <td>0.064801</td>\n",
              "      <td>-0.037249</td>\n",
              "      <td>-0.229233</td>\n",
              "      <td>0.208264</td>\n",
              "      <td>...</td>\n",
              "      <td>-0.000836</td>\n",
              "      <td>0.000311</td>\n",
              "      <td>-0.000058</td>\n",
              "      <td>0.000083</td>\n",
              "      <td>0.000257</td>\n",
              "      <td>-0.000572</td>\n",
              "      <td>-0.000493</td>\n",
              "      <td>0.000450</td>\n",
              "      <td>-0.000522</td>\n",
              "      <td>0.000571</td>\n",
              "      <td>-0.000228</td>\n",
              "      <td>-0.000108</td>\n",
              "      <td>0.000018</td>\n",
              "      <td>0.001072</td>\n",
              "      <td>-0.000369</td>\n",
              "      <td>-0.000010</td>\n",
              "      <td>0.000018</td>\n",
              "      <td>0.000471</td>\n",
              "      <td>-0.000294</td>\n",
              "      <td>-0.000010</td>\n",
              "      <td>-3.066720e-09</td>\n",
              "      <td>1.113339e-09</td>\n",
              "      <td>2.937498e-11</td>\n",
              "      <td>5.103251e-11</td>\n",
              "      <td>3.789058e-12</td>\n",
              "      <td>4.492680e-11</td>\n",
              "      <td>-7.541727e-11</td>\n",
              "      <td>2.976486e-11</td>\n",
              "      <td>3.592476e-11</td>\n",
              "      <td>-1.016878e-11</td>\n",
              "      <td>-5.479823e-11</td>\n",
              "      <td>-3.139265e-11</td>\n",
              "      <td>-1.401166e-11</td>\n",
              "      <td>2.175264e-11</td>\n",
              "      <td>-4.173688e-11</td>\n",
              "      <td>-2.664043e-11</td>\n",
              "      <td>-1.751602e-13</td>\n",
              "      <td>-2.453915e-11</td>\n",
              "      <td>9.139483e-12</td>\n",
              "      <td>2.079229e-11</td>\n",
              "    </tr>\n",
              "    <tr>\n",
              "      <th>2016-01-01 09</th>\n",
              "      <td>3.464792</td>\n",
              "      <td>1.526558</td>\n",
              "      <td>1.338462</td>\n",
              "      <td>1.575942</td>\n",
              "      <td>0.159724</td>\n",
              "      <td>0.613717</td>\n",
              "      <td>0.032359</td>\n",
              "      <td>0.147726</td>\n",
              "      <td>0.823774</td>\n",
              "      <td>0.942204</td>\n",
              "      <td>0.717249</td>\n",
              "      <td>-0.556960</td>\n",
              "      <td>-0.563052</td>\n",
              "      <td>-0.504648</td>\n",
              "      <td>0.007678</td>\n",
              "      <td>0.007613</td>\n",
              "      <td>-0.895947</td>\n",
              "      <td>0.382570</td>\n",
              "      <td>-0.000814</td>\n",
              "      <td>0.018554</td>\n",
              "      <td>0.027737</td>\n",
              "      <td>-0.303451</td>\n",
              "      <td>-0.273145</td>\n",
              "      <td>-0.006438</td>\n",
              "      <td>-0.171159</td>\n",
              "      <td>0.422955</td>\n",
              "      <td>-0.211508</td>\n",
              "      <td>0.057228</td>\n",
              "      <td>-0.011271</td>\n",
              "      <td>0.028329</td>\n",
              "      <td>0.047506</td>\n",
              "      <td>0.018358</td>\n",
              "      <td>0.048855</td>\n",
              "      <td>0.453669</td>\n",
              "      <td>0.068625</td>\n",
              "      <td>0.059105</td>\n",
              "      <td>0.101009</td>\n",
              "      <td>-0.069568</td>\n",
              "      <td>-0.265144</td>\n",
              "      <td>0.201140</td>\n",
              "      <td>...</td>\n",
              "      <td>-0.000201</td>\n",
              "      <td>-0.000553</td>\n",
              "      <td>-0.000991</td>\n",
              "      <td>-0.000515</td>\n",
              "      <td>0.000350</td>\n",
              "      <td>0.000359</td>\n",
              "      <td>0.000407</td>\n",
              "      <td>-0.000237</td>\n",
              "      <td>-0.001093</td>\n",
              "      <td>0.000205</td>\n",
              "      <td>0.000187</td>\n",
              "      <td>-0.000661</td>\n",
              "      <td>0.000494</td>\n",
              "      <td>0.000602</td>\n",
              "      <td>-0.000522</td>\n",
              "      <td>0.000343</td>\n",
              "      <td>0.000152</td>\n",
              "      <td>0.000142</td>\n",
              "      <td>-0.000134</td>\n",
              "      <td>-0.000007</td>\n",
              "      <td>9.377311e-11</td>\n",
              "      <td>4.111950e-10</td>\n",
              "      <td>4.609113e-11</td>\n",
              "      <td>-6.280158e-11</td>\n",
              "      <td>-1.905137e-11</td>\n",
              "      <td>9.382512e-11</td>\n",
              "      <td>-1.101218e-11</td>\n",
              "      <td>-1.836513e-11</td>\n",
              "      <td>-2.992896e-11</td>\n",
              "      <td>-2.068506e-11</td>\n",
              "      <td>-2.010470e-11</td>\n",
              "      <td>-3.051983e-11</td>\n",
              "      <td>2.037900e-11</td>\n",
              "      <td>-2.398444e-11</td>\n",
              "      <td>4.358677e-12</td>\n",
              "      <td>6.446795e-12</td>\n",
              "      <td>-2.890889e-11</td>\n",
              "      <td>1.787658e-11</td>\n",
              "      <td>1.679081e-11</td>\n",
              "      <td>-1.388207e-11</td>\n",
              "    </tr>\n",
              "    <tr>\n",
              "      <th>2016-01-01 10</th>\n",
              "      <td>3.467155</td>\n",
              "      <td>1.540072</td>\n",
              "      <td>1.328730</td>\n",
              "      <td>1.555071</td>\n",
              "      <td>0.125659</td>\n",
              "      <td>0.643282</td>\n",
              "      <td>0.103772</td>\n",
              "      <td>0.133418</td>\n",
              "      <td>0.757122</td>\n",
              "      <td>0.941931</td>\n",
              "      <td>0.779887</td>\n",
              "      <td>-0.582086</td>\n",
              "      <td>-0.596052</td>\n",
              "      <td>-0.527201</td>\n",
              "      <td>-0.011283</td>\n",
              "      <td>-0.032384</td>\n",
              "      <td>-0.928584</td>\n",
              "      <td>0.431864</td>\n",
              "      <td>-0.042126</td>\n",
              "      <td>0.018688</td>\n",
              "      <td>-0.009855</td>\n",
              "      <td>-0.350683</td>\n",
              "      <td>-0.220539</td>\n",
              "      <td>-0.049981</td>\n",
              "      <td>-0.278155</td>\n",
              "      <td>0.482162</td>\n",
              "      <td>-0.181093</td>\n",
              "      <td>0.012355</td>\n",
              "      <td>0.074217</td>\n",
              "      <td>-0.040835</td>\n",
              "      <td>0.060803</td>\n",
              "      <td>0.051709</td>\n",
              "      <td>0.120123</td>\n",
              "      <td>0.364597</td>\n",
              "      <td>0.049702</td>\n",
              "      <td>0.030957</td>\n",
              "      <td>0.092043</td>\n",
              "      <td>-0.033457</td>\n",
              "      <td>-0.256902</td>\n",
              "      <td>0.213552</td>\n",
              "      <td>...</td>\n",
              "      <td>-0.000274</td>\n",
              "      <td>0.000009</td>\n",
              "      <td>0.000826</td>\n",
              "      <td>-0.000277</td>\n",
              "      <td>-0.000479</td>\n",
              "      <td>-0.000283</td>\n",
              "      <td>-0.000291</td>\n",
              "      <td>0.000329</td>\n",
              "      <td>-0.000086</td>\n",
              "      <td>0.000456</td>\n",
              "      <td>-0.000631</td>\n",
              "      <td>0.000419</td>\n",
              "      <td>-0.000577</td>\n",
              "      <td>0.000142</td>\n",
              "      <td>0.000706</td>\n",
              "      <td>0.000082</td>\n",
              "      <td>-0.000744</td>\n",
              "      <td>-0.000050</td>\n",
              "      <td>0.000171</td>\n",
              "      <td>-0.000009</td>\n",
              "      <td>3.453179e-09</td>\n",
              "      <td>-4.401535e-10</td>\n",
              "      <td>-4.367124e-11</td>\n",
              "      <td>5.530068e-11</td>\n",
              "      <td>2.335987e-11</td>\n",
              "      <td>-4.207952e-11</td>\n",
              "      <td>6.888327e-11</td>\n",
              "      <td>-7.770148e-11</td>\n",
              "      <td>-4.086971e-11</td>\n",
              "      <td>7.277482e-11</td>\n",
              "      <td>-6.885167e-12</td>\n",
              "      <td>5.354312e-11</td>\n",
              "      <td>-3.867547e-12</td>\n",
              "      <td>-1.034372e-11</td>\n",
              "      <td>1.751242e-12</td>\n",
              "      <td>4.565548e-11</td>\n",
              "      <td>3.749349e-11</td>\n",
              "      <td>-4.206563e-11</td>\n",
              "      <td>2.533172e-12</td>\n",
              "      <td>-5.487311e-12</td>\n",
              "    </tr>\n",
              "    <tr>\n",
              "      <th>2016-01-01 11</th>\n",
              "      <td>3.532537</td>\n",
              "      <td>1.547835</td>\n",
              "      <td>1.335525</td>\n",
              "      <td>1.567419</td>\n",
              "      <td>0.108039</td>\n",
              "      <td>0.703388</td>\n",
              "      <td>0.153403</td>\n",
              "      <td>0.011895</td>\n",
              "      <td>0.801740</td>\n",
              "      <td>0.883668</td>\n",
              "      <td>0.750729</td>\n",
              "      <td>-0.606428</td>\n",
              "      <td>-0.618410</td>\n",
              "      <td>-0.456236</td>\n",
              "      <td>0.026391</td>\n",
              "      <td>0.044970</td>\n",
              "      <td>-0.843589</td>\n",
              "      <td>0.380932</td>\n",
              "      <td>0.072108</td>\n",
              "      <td>-0.052091</td>\n",
              "      <td>0.001221</td>\n",
              "      <td>-0.313660</td>\n",
              "      <td>-0.250748</td>\n",
              "      <td>-0.023793</td>\n",
              "      <td>-0.184872</td>\n",
              "      <td>0.397042</td>\n",
              "      <td>-0.209460</td>\n",
              "      <td>0.124054</td>\n",
              "      <td>-0.008778</td>\n",
              "      <td>-0.009306</td>\n",
              "      <td>0.065415</td>\n",
              "      <td>-0.016898</td>\n",
              "      <td>-0.002687</td>\n",
              "      <td>0.459291</td>\n",
              "      <td>0.215382</td>\n",
              "      <td>0.085711</td>\n",
              "      <td>0.165011</td>\n",
              "      <td>-0.018140</td>\n",
              "      <td>-0.250387</td>\n",
              "      <td>0.128577</td>\n",
              "      <td>...</td>\n",
              "      <td>-0.000823</td>\n",
              "      <td>-0.000371</td>\n",
              "      <td>0.000606</td>\n",
              "      <td>-0.000784</td>\n",
              "      <td>-0.001357</td>\n",
              "      <td>0.001776</td>\n",
              "      <td>0.000360</td>\n",
              "      <td>-0.000389</td>\n",
              "      <td>-0.000460</td>\n",
              "      <td>-0.000256</td>\n",
              "      <td>-0.000034</td>\n",
              "      <td>-0.000201</td>\n",
              "      <td>-0.000270</td>\n",
              "      <td>0.000136</td>\n",
              "      <td>-0.000454</td>\n",
              "      <td>-0.000268</td>\n",
              "      <td>-0.000373</td>\n",
              "      <td>-0.000224</td>\n",
              "      <td>0.000094</td>\n",
              "      <td>-0.000016</td>\n",
              "      <td>5.080404e-10</td>\n",
              "      <td>-4.536461e-10</td>\n",
              "      <td>-5.705979e-11</td>\n",
              "      <td>3.520217e-11</td>\n",
              "      <td>4.230002e-11</td>\n",
              "      <td>5.876342e-12</td>\n",
              "      <td>1.354293e-11</td>\n",
              "      <td>1.707602e-11</td>\n",
              "      <td>3.409157e-11</td>\n",
              "      <td>-2.298813e-11</td>\n",
              "      <td>-8.672905e-12</td>\n",
              "      <td>-2.559606e-11</td>\n",
              "      <td>2.134911e-11</td>\n",
              "      <td>4.434214e-11</td>\n",
              "      <td>2.679883e-11</td>\n",
              "      <td>1.598345e-11</td>\n",
              "      <td>-6.005890e-12</td>\n",
              "      <td>-1.548088e-11</td>\n",
              "      <td>-1.986845e-11</td>\n",
              "      <td>9.732292e-12</td>\n",
              "    </tr>\n",
              "  </tbody>\n",
              "</table>\n",
              "<p>5 rows × 325 columns</p>\n",
              "</div>"
            ],
            "text/plain": [
              "                      pca1      pca2  ...        pca324        pca325\n",
              "dat...date.name.                      ...                            \n",
              "2016-01-01 07     3.452527  1.533809  ... -3.400296e-11  2.539618e-11\n",
              "2016-01-01 08     3.437189  1.512892  ...  9.139483e-12  2.079229e-11\n",
              "2016-01-01 09     3.464792  1.526558  ...  1.679081e-11 -1.388207e-11\n",
              "2016-01-01 10     3.467155  1.540072  ...  2.533172e-12 -5.487311e-12\n",
              "2016-01-01 11     3.532537  1.547835  ... -1.986845e-11  9.732292e-12\n",
              "\n",
              "[5 rows x 325 columns]"
            ]
          },
          "metadata": {
            "tags": []
          },
          "execution_count": 56
        }
      ]
    },
    {
      "cell_type": "markdown",
      "metadata": {
        "id": "syNYcotaw2Am"
      },
      "source": [
        "#### n_components 개수 정하기 : elbow 이용"
      ]
    },
    {
      "cell_type": "code",
      "metadata": {
        "colab": {
          "base_uri": "https://localhost:8080/",
          "height": 414
        },
        "id": "f9Xn9LwUuEi3",
        "outputId": "7ab6ea17-1af1-47eb-8061-12892b062d32"
      },
      "source": [
        "# 방법1\n",
        "# Scree Plot 그리기\n",
        "# x축 : n_components 수\n",
        "# y축 : 설명변수\n",
        "plt.figure(figsize=(16, 6))\n",
        "plt.plot(pca.explained_variance_, marker='o', c='blue')\n",
        "plt.xlabel(\"n_components\", fontsize=20)\n",
        "plt.ylabel(\"explained_variance_\", fontsize=20)\n",
        "# Elbow(그래프가 급격히 꺾이는 지점) 확인\n",
        "# n_components = 7, 즉 주성분 7개로 전체 데이터를 설명할 수 있을 것으로 보임"
      ],
      "execution_count": 57,
      "outputs": [
        {
          "output_type": "execute_result",
          "data": {
            "text/plain": [
              "Text(0, 0.5, 'explained_variance_')"
            ]
          },
          "metadata": {
            "tags": []
          },
          "execution_count": 57
        },
        {
          "output_type": "display_data",
          "data": {
            "image/png": "[encoded data removed]",
            "text/plain": [
              "<Figure size 1152x432 with 1 Axes>"
            ]
          },
          "metadata": {
            "tags": [],
            "needs_background": "light"
          }
        }
      ]
    },
    {
      "cell_type": "markdown",
      "metadata": {
        "id": "thwvssrpw6yu"
      },
      "source": [
        "#### n_components 개수 정하기 : 전체 데이터의 90%를 설명하는 피처 개수"
      ]
    },
    {
      "cell_type": "code",
      "metadata": {
        "colab": {
          "base_uri": "https://localhost:8080/"
        },
        "id": "I2t1VOacuY5_",
        "outputId": "780ab977-4cb4-4ad4-d9d7-040bd1462bfe"
      },
      "source": [
        "explain_cumsum = 0\n",
        "for feature_num in range(pca.n_components):\n",
        "    if explain_cumsum <= 0.9:\n",
        "        explain_cumsum += pca.explained_variance_ratio_[i]\n",
        "    else:\n",
        "        break\n",
        "print(\"주성분 {}개로 전체 데이터의 {}%를 설명함\".format(feature_num, (explain_cumsum*100).round(3)))"
      ],
      "execution_count": 88,
      "outputs": [
        {
          "output_type": "stream",
          "text": [
            "주성분 203개로 전체 데이터의 90.057%를 설명함\n"
          ],
          "name": "stdout"
        }
      ]
    },
    {
      "cell_type": "code",
      "metadata": {
        "colab": {
          "base_uri": "https://localhost:8080/",
          "height": 359
        },
        "id": "L3h2SaSJuRqX",
        "outputId": "e74062f6-196d-406d-c5b0-3b16fb50ded7"
      },
      "source": [
        "# 데이터프레임으로 보기\n",
        "result = pd.DataFrame({'설명가능한 분산 비율(고윳값)':pca.explained_variance_, '기여율':pca.explained_variance_ratio_},\n",
        "                      index=pca_columns_name)\n",
        "result[:10]"
      ],
      "execution_count": 84,
      "outputs": [
        {
          "output_type": "execute_result",
          "data": {
            "text/html": [
              "<div>\n",
              "<style scoped>\n",
              "    .dataframe tbody tr th:only-of-type {\n",
              "        vertical-align: middle;\n",
              "    }\n",
              "\n",
              "    .dataframe tbody tr th {\n",
              "        vertical-align: top;\n",
              "    }\n",
              "\n",
              "    .dataframe thead th {\n",
              "        text-align: right;\n",
              "    }\n",
              "</style>\n",
              "<table border=\"1\" class=\"dataframe\">\n",
              "  <thead>\n",
              "    <tr style=\"text-align: right;\">\n",
              "      <th></th>\n",
              "      <th>설명가능한 분산 비율(고윳값)</th>\n",
              "      <th>기여율</th>\n",
              "    </tr>\n",
              "  </thead>\n",
              "  <tbody>\n",
              "    <tr>\n",
              "      <th>pca1</th>\n",
              "      <td>2.361022</td>\n",
              "      <td>0.321512</td>\n",
              "    </tr>\n",
              "    <tr>\n",
              "      <th>pca2</th>\n",
              "      <td>1.079098</td>\n",
              "      <td>0.146946</td>\n",
              "    </tr>\n",
              "    <tr>\n",
              "      <th>pca3</th>\n",
              "      <td>0.732532</td>\n",
              "      <td>0.099752</td>\n",
              "    </tr>\n",
              "    <tr>\n",
              "      <th>pca4</th>\n",
              "      <td>0.399704</td>\n",
              "      <td>0.054430</td>\n",
              "    </tr>\n",
              "    <tr>\n",
              "      <th>pca5</th>\n",
              "      <td>0.308124</td>\n",
              "      <td>0.041959</td>\n",
              "    </tr>\n",
              "    <tr>\n",
              "      <th>pca6</th>\n",
              "      <td>0.232358</td>\n",
              "      <td>0.031641</td>\n",
              "    </tr>\n",
              "    <tr>\n",
              "      <th>pca7</th>\n",
              "      <td>0.169052</td>\n",
              "      <td>0.023021</td>\n",
              "    </tr>\n",
              "    <tr>\n",
              "      <th>pca8</th>\n",
              "      <td>0.152798</td>\n",
              "      <td>0.020807</td>\n",
              "    </tr>\n",
              "    <tr>\n",
              "      <th>pca9</th>\n",
              "      <td>0.138835</td>\n",
              "      <td>0.018906</td>\n",
              "    </tr>\n",
              "    <tr>\n",
              "      <th>pca10</th>\n",
              "      <td>0.135592</td>\n",
              "      <td>0.018464</td>\n",
              "    </tr>\n",
              "  </tbody>\n",
              "</table>\n",
              "</div>"
            ],
            "text/plain": [
              "       설명가능한 분산 비율(고윳값)       기여율\n",
              "pca1           2.361022  0.321512\n",
              "pca2           1.079098  0.146946\n",
              "pca3           0.732532  0.099752\n",
              "pca4           0.399704  0.054430\n",
              "pca5           0.308124  0.041959\n",
              "pca6           0.232358  0.031641\n",
              "pca7           0.169052  0.023021\n",
              "pca8           0.152798  0.020807\n",
              "pca9           0.138835  0.018906\n",
              "pca10          0.135592  0.018464"
            ]
          },
          "metadata": {
            "tags": []
          },
          "execution_count": 84
        }
      ]
    },
    {
      "cell_type": "markdown",
      "metadata": {
        "id": "w8FfZ5QJWv-X"
      },
      "source": [
        "### 레이블 기준 설정\n",
        "- 불량품/양품 나누는 기준"
      ]
    },
    {
      "cell_type": "code",
      "metadata": {
        "colab": {
          "base_uri": "https://localhost:8080/"
        },
        "id": "zTvypPMtYPSh",
        "outputId": "cf81b1ff-b37b-4dec-d914-8a91ea617c88"
      },
      "source": [
        "# 타겟 데이터\n",
        "df_LRD = fact_data_copy.iloc[:, -4]\n",
        "\n",
        "# 'L.RD' 의 데이터 중 상위 5% 이상이면 불량품, 미만이면 양품으로 결정함\n",
        "#df_LRD = pd.Series(data = np.where(df_LRD.values > df_LRD.quantile(0.95), 1, 0), name='L.RD', index=origin_data.index)\n",
        "\n",
        "# 'L.RD' 의 데이터 중 값이 0.01 이상이면 불량품, 미만이면 양품으로 결정함\n",
        "df_LRD = pd.Series(data = np.where(df_LRD.values >= 0.01, 1, 0), name='L.RD', index=fact_data_copy.index)\n",
        "\n",
        "print(\"레이블 개수\\n\", df_LRD.value_counts())"
      ],
      "execution_count": 85,
      "outputs": [
        {
          "output_type": "stream",
          "text": [
            "레이블 개수\n",
            " 0    4323\n",
            "1    3822\n",
            "Name: L.RD, dtype: int64\n"
          ],
          "name": "stdout"
        }
      ]
    },
    {
      "cell_type": "markdown",
      "metadata": {
        "id": "ipptn2HZZZke"
      },
      "source": [
        "### 피처 데이터와 레이블 데이터 합치기"
      ]
    },
    {
      "cell_type": "code",
      "metadata": {
        "colab": {
          "base_uri": "https://localhost:8080/"
        },
        "id": "sObmbWUqZBSo",
        "outputId": "d2e71023-dcdb-4dc9-e4a6-2dcde7981cc5"
      },
      "source": [
        "# 레이블 없는 데이터에 레이블 시리즈 합치기\n",
        "fact_data_LRD = pd.concat([fact_data, df_LRD], axis=1)\n",
        "print(fact_data_LRD.shape)"
      ],
      "execution_count": 86,
      "outputs": [
        {
          "output_type": "stream",
          "text": [
            "(8145, 326)\n"
          ],
          "name": "stdout"
        }
      ]
    },
    {
      "cell_type": "markdown",
      "metadata": {
        "id": "CB3TjKRm2aQF"
      },
      "source": [
        "### 훈련/테스트 데이터 나누기"
      ]
    },
    {
      "cell_type": "code",
      "metadata": {
        "colab": {
          "base_uri": "https://localhost:8080/"
        },
        "id": "Ul1uKAxsTCWa",
        "outputId": "6a6cc7f7-368f-47b4-c8e0-3ccdb6536301"
      },
      "source": [
        "from sklearn.model_selection import train_test_split\n",
        "\n",
        "# 피처/레이블 데이터 나누기\n",
        "X = fact_data_LRD.iloc[:, :-1]\n",
        "y = fact_data_LRD.iloc[:, -1]\n",
        "\n",
        "# 훈련/테스트 데이터 나누기\n",
        "X_train, X_test, y_train, y_test = train_test_split(X, y, random_state=42)\n",
        "\n",
        "print(X_train.shape)\n",
        "print(X_test.shape)\n",
        "print(y_train.shape)\n",
        "print(y_test.shape)"
      ],
      "execution_count": 87,
      "outputs": [
        {
          "output_type": "stream",
          "text": [
            "(6108, 325)\n",
            "(2037, 325)\n",
            "(6108,)\n",
            "(2037,)\n"
          ],
          "name": "stdout"
        }
      ]
    },
    {
      "cell_type": "markdown",
      "metadata": {
        "id": "FQ8BT2QRVHeO"
      },
      "source": [
        "---\n",
        "## 분류 모델 수행\n",
        "- SVM\n",
        "- Emsemble Method\n",
        "    - voting : 여러 알고리즘을 사용하여 비교하고 가장 좋은 모델을 선정\n",
        "        - hard voting(1, 0으로 리턴)\n",
        "        - soft voting(확률로 리턴)\n",
        "    - Bagging : 한 가지 알고리즘을 사용하고 데이터 샘플링을 달리하여 비교\n",
        "    \n",
        "    - Boosting :이전 모델 훈련 결과 나온 가중치를 다음 모델 훈련에 적용\n",
        "    - Stacking"
      ]
    },
    {
      "cell_type": "markdown",
      "metadata": {
        "id": "3z0egASfnFpv"
      },
      "source": [
        "### Xgboost\n",
        "- 파이썬 외부모듈\n",
        "- 데이터의 구조를 변경해서 사용해야 함\n",
        "- XGB Classifier 이용\n",
        "- 참고 : https://statkclee.github.io/model/model-python-xgboost-hyper.html"
      ]
    },
    {
      "cell_type": "markdown",
      "metadata": {
        "id": "pkUPosyF1HUe"
      },
      "source": [
        "#### XGBClassifier 사용"
      ]
    },
    {
      "cell_type": "code",
      "metadata": {
        "colab": {
          "base_uri": "https://localhost:8080/"
        },
        "id": "H_j5hnx71JSX",
        "outputId": "2ce8f403-1936-4b4b-eecd-90b9258dadf5"
      },
      "source": [
        "# XGB 부스트\n",
        "from xgboost import XGBClassifier\n",
        "\n",
        "xgb_wrapper = XGBClassifier(n_estimators = 400, learning_rate = 0.1, max_depth=7, subsample=0.6)\n",
        "xgb_wrapper.fit(X_train, y_train, early_stopping_rounds=100, eval_metric='error', eval_set=[(X_test, y_test)], verbose=True)\n",
        "    # early_stopping_rounds : 100번 이상, 400번 이하로 훈련했을 때 모델 성능이 더이상 나아지지 않는 경우 stop\n",
        "    ## 115번 째에서 loss 값이 가장 작았으며, 약 200회 정도만 수행해도 모델 성능이 충분히 개선됨\n",
        "\n",
        "# 분류된 클래스 레이블을 리턴\n",
        "pred = xgb_wrapper.predict(X_test)\n",
        "print(\"######################예측값######################\")\n",
        "print(pred)\n",
        "\n",
        "# 확률 리턴\n",
        "pred_proba = xgb_wrapper.predict_proba(X_test)[:, 1]\n",
        "print(\"######################예측확률######################\")\n",
        "print(pred_proba)"
      ],
      "execution_count": 92,
      "outputs": [
        {
          "output_type": "stream",
          "text": [
            "[0]\tvalidation_0-error:0.310751\n",
            "Will train until validation_0-error hasn't improved in 100 rounds.\n",
            "[1]\tvalidation_0-error:0.303878\n",
            "[2]\tvalidation_0-error:0.289151\n",
            "[3]\tvalidation_0-error:0.285714\n",
            "[4]\tvalidation_0-error:0.279332\n",
            "[5]\tvalidation_0-error:0.285714\n",
            "[6]\tvalidation_0-error:0.289151\n",
            "[7]\tvalidation_0-error:0.286696\n",
            "[8]\tvalidation_0-error:0.285714\n",
            "[9]\tvalidation_0-error:0.28326\n",
            "[10]\tvalidation_0-error:0.280805\n",
            "[11]\tvalidation_0-error:0.282278\n",
            "[12]\tvalidation_0-error:0.287187\n",
            "[13]\tvalidation_0-error:0.281787\n",
            "[14]\tvalidation_0-error:0.28326\n",
            "[15]\tvalidation_0-error:0.286205\n",
            "[16]\tvalidation_0-error:0.283751\n",
            "[17]\tvalidation_0-error:0.282278\n",
            "[18]\tvalidation_0-error:0.277369\n",
            "[19]\tvalidation_0-error:0.27786\n",
            "[20]\tvalidation_0-error:0.27786\n",
            "[21]\tvalidation_0-error:0.278841\n",
            "[22]\tvalidation_0-error:0.279823\n",
            "[23]\tvalidation_0-error:0.27786\n",
            "[24]\tvalidation_0-error:0.278351\n",
            "[25]\tvalidation_0-error:0.281787\n",
            "[26]\tvalidation_0-error:0.27786\n",
            "[27]\tvalidation_0-error:0.276387\n",
            "[28]\tvalidation_0-error:0.275896\n",
            "[29]\tvalidation_0-error:0.275405\n",
            "[30]\tvalidation_0-error:0.282769\n",
            "[31]\tvalidation_0-error:0.280805\n",
            "[32]\tvalidation_0-error:0.281787\n",
            "[33]\tvalidation_0-error:0.282769\n",
            "[34]\tvalidation_0-error:0.285223\n",
            "[35]\tvalidation_0-error:0.28866\n",
            "[36]\tvalidation_0-error:0.285223\n",
            "[37]\tvalidation_0-error:0.284732\n",
            "[38]\tvalidation_0-error:0.284732\n",
            "[39]\tvalidation_0-error:0.28326\n",
            "[40]\tvalidation_0-error:0.279823\n",
            "[41]\tvalidation_0-error:0.280805\n",
            "[42]\tvalidation_0-error:0.284732\n",
            "[43]\tvalidation_0-error:0.283751\n",
            "[44]\tvalidation_0-error:0.281296\n",
            "[45]\tvalidation_0-error:0.282769\n",
            "[46]\tvalidation_0-error:0.284242\n",
            "[47]\tvalidation_0-error:0.283751\n",
            "[48]\tvalidation_0-error:0.285714\n",
            "[49]\tvalidation_0-error:0.284732\n",
            "[50]\tvalidation_0-error:0.284242\n",
            "[51]\tvalidation_0-error:0.286696\n",
            "[52]\tvalidation_0-error:0.284242\n",
            "[53]\tvalidation_0-error:0.28326\n",
            "[54]\tvalidation_0-error:0.280314\n",
            "[55]\tvalidation_0-error:0.282769\n",
            "[56]\tvalidation_0-error:0.282769\n",
            "[57]\tvalidation_0-error:0.278351\n",
            "[58]\tvalidation_0-error:0.282278\n",
            "[59]\tvalidation_0-error:0.28326\n",
            "[60]\tvalidation_0-error:0.282278\n",
            "[61]\tvalidation_0-error:0.278841\n",
            "[62]\tvalidation_0-error:0.283751\n",
            "[63]\tvalidation_0-error:0.284732\n",
            "[64]\tvalidation_0-error:0.287678\n",
            "[65]\tvalidation_0-error:0.287187\n",
            "[66]\tvalidation_0-error:0.285223\n",
            "[67]\tvalidation_0-error:0.28326\n",
            "[68]\tvalidation_0-error:0.282278\n",
            "[69]\tvalidation_0-error:0.281296\n",
            "[70]\tvalidation_0-error:0.281296\n",
            "[71]\tvalidation_0-error:0.281787\n",
            "[72]\tvalidation_0-error:0.281787\n",
            "[73]\tvalidation_0-error:0.281296\n",
            "[74]\tvalidation_0-error:0.279823\n",
            "[75]\tvalidation_0-error:0.279823\n",
            "[76]\tvalidation_0-error:0.279823\n",
            "[77]\tvalidation_0-error:0.280805\n",
            "[78]\tvalidation_0-error:0.276878\n",
            "[79]\tvalidation_0-error:0.276878\n",
            "[80]\tvalidation_0-error:0.277369\n",
            "[81]\tvalidation_0-error:0.275405\n",
            "[82]\tvalidation_0-error:0.275896\n",
            "[83]\tvalidation_0-error:0.276387\n",
            "[84]\tvalidation_0-error:0.279332\n",
            "[85]\tvalidation_0-error:0.279823\n",
            "[86]\tvalidation_0-error:0.275896\n",
            "[87]\tvalidation_0-error:0.277369\n",
            "[88]\tvalidation_0-error:0.27786\n",
            "[89]\tvalidation_0-error:0.276387\n",
            "[90]\tvalidation_0-error:0.276387\n",
            "[91]\tvalidation_0-error:0.274914\n",
            "[92]\tvalidation_0-error:0.275405\n",
            "[93]\tvalidation_0-error:0.27246\n",
            "[94]\tvalidation_0-error:0.273441\n",
            "[95]\tvalidation_0-error:0.273932\n",
            "[96]\tvalidation_0-error:0.273441\n",
            "[97]\tvalidation_0-error:0.275405\n",
            "[98]\tvalidation_0-error:0.274423\n",
            "[99]\tvalidation_0-error:0.273441\n",
            "[100]\tvalidation_0-error:0.271969\n",
            "[101]\tvalidation_0-error:0.273441\n",
            "[102]\tvalidation_0-error:0.274423\n",
            "[103]\tvalidation_0-error:0.270987\n",
            "[104]\tvalidation_0-error:0.271478\n",
            "[105]\tvalidation_0-error:0.270987\n",
            "[106]\tvalidation_0-error:0.271969\n",
            "[107]\tvalidation_0-error:0.27295\n",
            "[108]\tvalidation_0-error:0.269514\n",
            "[109]\tvalidation_0-error:0.269514\n",
            "[110]\tvalidation_0-error:0.271478\n",
            "[111]\tvalidation_0-error:0.271969\n",
            "[112]\tvalidation_0-error:0.270005\n",
            "[113]\tvalidation_0-error:0.269514\n",
            "[114]\tvalidation_0-error:0.269023\n",
            "[115]\tvalidation_0-error:0.268532\n",
            "[116]\tvalidation_0-error:0.269023\n",
            "[117]\tvalidation_0-error:0.269023\n",
            "[118]\tvalidation_0-error:0.270005\n",
            "[119]\tvalidation_0-error:0.270005\n",
            "[120]\tvalidation_0-error:0.27295\n",
            "[121]\tvalidation_0-error:0.274423\n",
            "[122]\tvalidation_0-error:0.277369\n",
            "[123]\tvalidation_0-error:0.276387\n",
            "[124]\tvalidation_0-error:0.274423\n",
            "[125]\tvalidation_0-error:0.273441\n",
            "[126]\tvalidation_0-error:0.273441\n",
            "[127]\tvalidation_0-error:0.276878\n",
            "[128]\tvalidation_0-error:0.278351\n",
            "[129]\tvalidation_0-error:0.27786\n",
            "[130]\tvalidation_0-error:0.274914\n",
            "[131]\tvalidation_0-error:0.275896\n",
            "[132]\tvalidation_0-error:0.273441\n",
            "[133]\tvalidation_0-error:0.274423\n",
            "[134]\tvalidation_0-error:0.275405\n",
            "[135]\tvalidation_0-error:0.275405\n",
            "[136]\tvalidation_0-error:0.278351\n",
            "[137]\tvalidation_0-error:0.280805\n",
            "[138]\tvalidation_0-error:0.282278\n",
            "[139]\tvalidation_0-error:0.280314\n",
            "[140]\tvalidation_0-error:0.28326\n",
            "[141]\tvalidation_0-error:0.279332\n",
            "[142]\tvalidation_0-error:0.279332\n",
            "[143]\tvalidation_0-error:0.280314\n",
            "[144]\tvalidation_0-error:0.280805\n",
            "[145]\tvalidation_0-error:0.282278\n",
            "[146]\tvalidation_0-error:0.28326\n",
            "[147]\tvalidation_0-error:0.279823\n",
            "[148]\tvalidation_0-error:0.280314\n",
            "[149]\tvalidation_0-error:0.281787\n",
            "[150]\tvalidation_0-error:0.279332\n",
            "[151]\tvalidation_0-error:0.280314\n",
            "[152]\tvalidation_0-error:0.275405\n",
            "[153]\tvalidation_0-error:0.278841\n",
            "[154]\tvalidation_0-error:0.281787\n",
            "[155]\tvalidation_0-error:0.281296\n",
            "[156]\tvalidation_0-error:0.281296\n",
            "[157]\tvalidation_0-error:0.280805\n",
            "[158]\tvalidation_0-error:0.281296\n",
            "[159]\tvalidation_0-error:0.281787\n",
            "[160]\tvalidation_0-error:0.281296\n",
            "[161]\tvalidation_0-error:0.279823\n",
            "[162]\tvalidation_0-error:0.282769\n",
            "[163]\tvalidation_0-error:0.279823\n",
            "[164]\tvalidation_0-error:0.279823\n",
            "[165]\tvalidation_0-error:0.282769\n",
            "[166]\tvalidation_0-error:0.282278\n",
            "[167]\tvalidation_0-error:0.280805\n",
            "[168]\tvalidation_0-error:0.280805\n",
            "[169]\tvalidation_0-error:0.279823\n",
            "[170]\tvalidation_0-error:0.278351\n",
            "[171]\tvalidation_0-error:0.279823\n",
            "[172]\tvalidation_0-error:0.279332\n",
            "[173]\tvalidation_0-error:0.281296\n",
            "[174]\tvalidation_0-error:0.280314\n",
            "[175]\tvalidation_0-error:0.278841\n",
            "[176]\tvalidation_0-error:0.278841\n",
            "[177]\tvalidation_0-error:0.279332\n",
            "[178]\tvalidation_0-error:0.278841\n",
            "[179]\tvalidation_0-error:0.278841\n",
            "[180]\tvalidation_0-error:0.281296\n",
            "[181]\tvalidation_0-error:0.276387\n",
            "[182]\tvalidation_0-error:0.276878\n",
            "[183]\tvalidation_0-error:0.276878\n",
            "[184]\tvalidation_0-error:0.278351\n",
            "[185]\tvalidation_0-error:0.27786\n",
            "[186]\tvalidation_0-error:0.280314\n",
            "[187]\tvalidation_0-error:0.281787\n",
            "[188]\tvalidation_0-error:0.284242\n",
            "[189]\tvalidation_0-error:0.282278\n",
            "[190]\tvalidation_0-error:0.282769\n",
            "[191]\tvalidation_0-error:0.28326\n",
            "[192]\tvalidation_0-error:0.284732\n",
            "[193]\tvalidation_0-error:0.283751\n",
            "[194]\tvalidation_0-error:0.28326\n",
            "[195]\tvalidation_0-error:0.281296\n",
            "[196]\tvalidation_0-error:0.281787\n",
            "[197]\tvalidation_0-error:0.282769\n",
            "[198]\tvalidation_0-error:0.281296\n",
            "[199]\tvalidation_0-error:0.280805\n",
            "[200]\tvalidation_0-error:0.27786\n",
            "[201]\tvalidation_0-error:0.278351\n",
            "[202]\tvalidation_0-error:0.276878\n",
            "[203]\tvalidation_0-error:0.280314\n",
            "[204]\tvalidation_0-error:0.280314\n",
            "[205]\tvalidation_0-error:0.27786\n",
            "[206]\tvalidation_0-error:0.279332\n",
            "[207]\tvalidation_0-error:0.279332\n",
            "[208]\tvalidation_0-error:0.279332\n",
            "[209]\tvalidation_0-error:0.281296\n",
            "[210]\tvalidation_0-error:0.27786\n",
            "[211]\tvalidation_0-error:0.278841\n",
            "[212]\tvalidation_0-error:0.278351\n",
            "[213]\tvalidation_0-error:0.279823\n",
            "[214]\tvalidation_0-error:0.279332\n",
            "[215]\tvalidation_0-error:0.278841\n",
            "Stopping. Best iteration:\n",
            "[115]\tvalidation_0-error:0.268532\n",
            "\n",
            "######################예측값######################\n",
            "[1 1 1 ... 0 1 0]\n",
            "######################예측확률######################\n",
            "[0.71296555 0.72749233 0.7656854  ... 0.47840577 0.99301744 0.26636747]\n"
          ],
          "name": "stdout"
        }
      ]
    },
    {
      "cell_type": "markdown",
      "metadata": {
        "id": "fzHfHi_pJwqN"
      },
      "source": [
        "### 평가지표\n",
        "- 어떤 평가지표를 사용할지 고민해야 함\n",
        "    - 정확도(accuracy) : TN + TP / 전체\n",
        "    - 정밀도(precision) : TP / (FP + TP)\n",
        "        - Pos로 예측한 것 중 실제 Pos였던 것\n",
        "        - 양성예측도\n",
        "        - Pos 예측 성능을 더 정밀하게 측정하기 위한 평가지표\n",
        "        - FP를 낮추는 데 초점\n",
        "    - 재현율(recall) : TP / (FN + TP)\n",
        "        - 실제 Pos인 것 중 실제 Pos였던 것\n",
        "        - 민감도, TPR(True Positive Rate)\n",
        "        - Pos를 Neg로 판단하면 치명적인 경우 사용\n",
        "        - FN을 낮추는 데 초점\n",
        "    - F1 Score\n",
        "        -  2pr/(p+r)\n",
        "    - ROC 곡선\n",
        "        - 이진분류의 예측 성능 측정에 사용\n",
        "        - FP비율 - TP비율(recall) 곡선\n",
        "- 이 데이터에서는 극소수의 불량품을 판정하지 못하는 것이 치명적임\n",
        "    - 양품은 고객에게 배송되고, 불량품은 재검수 해보는 과정을 생각해보면\n",
        "    - 불량품을 양품으로 판정한 경우, 재검수가 이뤄지지 않고 불량품이 고객에게 배송되면 브랜드 이미지에 타격이 가는 등의 치명적인 문제가 발생함\n",
        "- 따라서 정확도는 적절치 않음. 재현율(recall)이 적절한 지표\n",
        "    - FP가 높고, FN이 낮은지 중점적으로 살펴야 함\n",
        "    - F1 Score가 적절할 것 같음"
      ]
    },
    {
      "cell_type": "code",
      "metadata": {
        "colab": {
          "base_uri": "https://localhost:8080/",
          "height": 249
        },
        "id": "5PiFAcNB1JUd",
        "outputId": "ba939339-31f7-42b4-8e33-d5a23d8da0da"
      },
      "source": [
        "# 평가지표출력\n",
        "# 오차행렬 : 정확도, 정밀도, 재현율, f1 스코어, roc_auc_score(곡선면적)\n",
        "from sklearn.metrics import confusion_matrix, accuracy_score, precision_score\n",
        "from sklearn.metrics import recall_score, f1_score, roc_auc_score\n",
        "print(\"테스트 데이터 수\", y_test.shape)\n",
        "\n",
        "print('오차행렬:\\n', confusion_matrix(y_test, pred))\n",
        "print('정확도:', accuracy_score(y_test, pred).round(3))\n",
        "print('정밀도:', precision_score(y_test, pred).round(3))\n",
        "print('재현율:', recall_score(y_test, pred).round(3))\n",
        "print('f1 스코어:', f1_score(y_test, pred).round(3))\n",
        "\n",
        "# roc_auc_score는 추정확률을 대입해야 함\n",
        "print('roc_auc_score:', roc_auc_score(y_test, pred_proba).round(3))"
      ],
      "execution_count": 32,
      "outputs": [
        {
          "output_type": "stream",
          "text": [
            "테스트 데이터 수 (2037,)\n"
          ],
          "name": "stdout"
        },
        {
          "output_type": "error",
          "ename": "NameError",
          "evalue": "ignored",
          "traceback": [
            "\u001b[0;31m---------------------------------------------------------------------------\u001b[0m",
            "\u001b[0;31mNameError\u001b[0m                                 Traceback (most recent call last)",
            "\u001b[0;32m<ipython-input-32-a77b736870f3>\u001b[0m in \u001b[0;36m<module>\u001b[0;34m()\u001b[0m\n\u001b[1;32m      5\u001b[0m \u001b[0mprint\u001b[0m\u001b[0;34m(\u001b[0m\u001b[0;34m\"테스트 데이터 수\"\u001b[0m\u001b[0;34m,\u001b[0m \u001b[0my_test\u001b[0m\u001b[0;34m.\u001b[0m\u001b[0mshape\u001b[0m\u001b[0;34m)\u001b[0m\u001b[0;34m\u001b[0m\u001b[0;34m\u001b[0m\u001b[0m\n\u001b[1;32m      6\u001b[0m \u001b[0;34m\u001b[0m\u001b[0m\n\u001b[0;32m----> 7\u001b[0;31m \u001b[0mprint\u001b[0m\u001b[0;34m(\u001b[0m\u001b[0;34m'오차행렬:\\n'\u001b[0m\u001b[0;34m,\u001b[0m \u001b[0mconfusion_matrix\u001b[0m\u001b[0;34m(\u001b[0m\u001b[0my_test\u001b[0m\u001b[0;34m,\u001b[0m \u001b[0mpreds\u001b[0m\u001b[0;34m)\u001b[0m\u001b[0;34m)\u001b[0m\u001b[0;34m\u001b[0m\u001b[0;34m\u001b[0m\u001b[0m\n\u001b[0m\u001b[1;32m      8\u001b[0m \u001b[0mprint\u001b[0m\u001b[0;34m(\u001b[0m\u001b[0;34m'정확도:'\u001b[0m\u001b[0;34m,\u001b[0m \u001b[0maccuracy_score\u001b[0m\u001b[0;34m(\u001b[0m\u001b[0my_test\u001b[0m\u001b[0;34m,\u001b[0m \u001b[0mpreds\u001b[0m\u001b[0;34m)\u001b[0m\u001b[0;34m.\u001b[0m\u001b[0mround\u001b[0m\u001b[0;34m(\u001b[0m\u001b[0;36m3\u001b[0m\u001b[0;34m)\u001b[0m\u001b[0;34m)\u001b[0m\u001b[0;34m\u001b[0m\u001b[0;34m\u001b[0m\u001b[0m\n\u001b[1;32m      9\u001b[0m \u001b[0mprint\u001b[0m\u001b[0;34m(\u001b[0m\u001b[0;34m'정밀도:'\u001b[0m\u001b[0;34m,\u001b[0m \u001b[0mprecision_score\u001b[0m\u001b[0;34m(\u001b[0m\u001b[0my_test\u001b[0m\u001b[0;34m,\u001b[0m \u001b[0mpreds\u001b[0m\u001b[0;34m)\u001b[0m\u001b[0;34m.\u001b[0m\u001b[0mround\u001b[0m\u001b[0;34m(\u001b[0m\u001b[0;36m3\u001b[0m\u001b[0;34m)\u001b[0m\u001b[0;34m)\u001b[0m\u001b[0;34m\u001b[0m\u001b[0;34m\u001b[0m\u001b[0m\n",
            "\u001b[0;31mNameError\u001b[0m: name 'preds' is not defined"
          ]
        }
      ]
    },
    {
      "cell_type": "markdown",
      "metadata": {
        "id": "HuCoP5YBbiPH"
      },
      "source": [
        "### 하이퍼 파라미터 조정\n",
        "- GridSearchCV를 이용한 최적의 파라미터 검색\n",
        "- 수행 시간 오래 걸림"
      ]
    },
    {
      "cell_type": "code",
      "metadata": {
        "id": "CiIU8KRbZzyp"
      },
      "source": [
        "# 시간 오래걸려서 자동수행을 방지하기 위해 패키지 주석처리함\n",
        "#from sklearn.model_selection import GridSearchCV\n",
        "\n",
        "# XGBoost 분류기 생성\n",
        "xgb_clf = xgb.XGBClassifier()\n",
        "\n",
        "# 하이퍼파라미터 격자 생성\n",
        "xgb_param_grid = {'max_depth': [5, 6, 7, 8], \n",
        "                  'subsample': [0.55, 0.6, 0.65]}\n",
        "\n",
        "# GridSearchCV 검증기 생성\n",
        "xgb_grid = GridSearchCV(estimator=xgb_clf,\n",
        "                       param_grid=xgb_param_grid,\n",
        "                       scoring='recall',    # 평가지표 recall 설정 됨!\n",
        "                       n_jobs=-1,\n",
        "                       cv=5,\n",
        "                       refit=True, \n",
        "                       return_train_score=True)\n",
        "\n",
        "# 검증 수행\n",
        "xgb_grid.fit(X_train, y_train)"
      ],
      "execution_count": null,
      "outputs": []
    },
    {
      "cell_type": "code",
      "metadata": {
        "id": "Yg_Y828U3_wa"
      },
      "source": [
        "# 검증 결과\n",
        "xgb_grid_df = pd.DataFrame(xgb_grid.cv_results_)\n",
        "xgb_grid_df.loc[:, ['mean_test_score', 'params']]\n",
        "\n",
        "\n",
        "## 최고성능\n",
        "best_score = xgb_grid.best_score_\n",
        "# 최고성능을 내는 행을 찾아냄\n",
        "best_row = xgb_grid.best_index_\n",
        "\n",
        "# 최적의 하이퍼 파라미터: max_depth, subsample\n",
        "best_max_depth     = xgb_grid.best_params_[\"max_depth\"]\n",
        "best_max_subsample = xgb_grid.best_params_[\"subsample\"]\n",
        "\n",
        "print('예측모형성능(recall):  \\t', best_score.round(3))\n",
        "print('인덱스:  \\t', best_row)\n",
        "print('max_depth:  \\t', best_max_depth)\n",
        "print('subsample:  \\t', best_max_subsample)\n",
        "# recall : 0.398 , max_depth=7, subsample=0.6 채택!"
      ],
      "execution_count": null,
      "outputs": []
    },
    {
      "cell_type": "markdown",
      "metadata": {
        "id": "f2OPtQ8RyoAV"
      },
      "source": [
        "### RFE 클래스를 이용한 중요 피처 선정\n",
        "- 참고링크\n",
        "    - https://scikit-learn.org/stable/modules/generated/sklearn.feature_selection.RFE.html#sklearn.feature_selection.RFE\n",
        "    - https://hongl.tistory.com/116\n",
        "- RFE\n",
        "    - recursive feature elimination (재귀적 피처 제거)\n",
        "    - class sklearn.feature_selection.RFE\n",
        "    - RFE(estimator, *, n_features_to_select=None, step=1, verbose=0, importance_getter='auto')\n",
        "        - estimator : 훈련할 모델\n",
        "        - n_features_to_select : 중요 피처 개수 설정(남길 피처 개수). float으로 설정하면 비율\n",
        "        - step : 반복할 때마다 삭제할 피처 개수 설정. float으로 설정하면 비율\n",
        "        - importance_getterstr : 삭제 기준. auto로 두면 회귀에서는 .coef, 분류에서는 feature_importance로 정함\n",
        "\n",
        "- See also\n",
        "    - RFECV\n",
        "        - Recursive feature elimination with built-in cross-validated selection of the best number of features.\n",
        "    - SelectFromModel\n",
        "        - Feature selection based on thresholds of importance weights.\n",
        "    - SequentialFeatureSelector\n",
        "        - Sequential cross-validation based feature selection. Does not rely on importance weights."
      ]
    },
    {
      "cell_type": "code",
      "metadata": {
        "colab": {
          "base_uri": "https://localhost:8080/"
        },
        "id": "ebKiXHMrZ-MO",
        "outputId": "38bcde85-98a8-4591-98d8-7ec42f869853"
      },
      "source": [
        "# RFE 이용하여 중요도 낮은 피처를 제거해가며 훈련해보기\n",
        "# feature_importance_가 낮은 피처를 제거하고 모델 훈련하는 과정을 반복하여 중요한 피처 수를 뽑아냄\n",
        "\n",
        "# XGB 부스트\n",
        "from xgboost import XGBClassifier\n",
        "xgb_wrapper = XGBClassifier(n_estimators = 200, learning_rate = 0.1, max_depth=7, subsample=0.6)\n",
        "\n",
        "# RFE 수행\n",
        "from sklearn.feature_selection import RFE\n",
        "xgb_rfe = RFE(estimator = xgb_wrapper, n_features_to_select = feature_num, verbose=True)    # feature_num : 위에서 pca 분석으로 구함. 전체 데이터의 90%를 설명할 수 있는 n_components 수\n",
        "xgb_rfe.fit(X_train, y_train)"
      ],
      "execution_count": 94,
      "outputs": [
        {
          "output_type": "stream",
          "text": [
            "Fitting estimator with 325 features.\n",
            "Fitting estimator with 324 features.\n",
            "Fitting estimator with 323 features.\n",
            "Fitting estimator with 322 features.\n",
            "Fitting estimator with 321 features.\n",
            "Fitting estimator with 320 features.\n",
            "Fitting estimator with 319 features.\n",
            "Fitting estimator with 318 features.\n",
            "Fitting estimator with 317 features.\n",
            "Fitting estimator with 316 features.\n",
            "Fitting estimator with 315 features.\n",
            "Fitting estimator with 314 features.\n",
            "Fitting estimator with 313 features.\n",
            "Fitting estimator with 312 features.\n",
            "Fitting estimator with 311 features.\n",
            "Fitting estimator with 310 features.\n",
            "Fitting estimator with 309 features.\n",
            "Fitting estimator with 308 features.\n",
            "Fitting estimator with 307 features.\n",
            "Fitting estimator with 306 features.\n",
            "Fitting estimator with 305 features.\n",
            "Fitting estimator with 304 features.\n",
            "Fitting estimator with 303 features.\n",
            "Fitting estimator with 302 features.\n",
            "Fitting estimator with 301 features.\n",
            "Fitting estimator with 300 features.\n",
            "Fitting estimator with 299 features.\n",
            "Fitting estimator with 298 features.\n",
            "Fitting estimator with 297 features.\n",
            "Fitting estimator with 296 features.\n",
            "Fitting estimator with 295 features.\n",
            "Fitting estimator with 294 features.\n",
            "Fitting estimator with 293 features.\n",
            "Fitting estimator with 292 features.\n",
            "Fitting estimator with 291 features.\n",
            "Fitting estimator with 290 features.\n",
            "Fitting estimator with 289 features.\n",
            "Fitting estimator with 288 features.\n",
            "Fitting estimator with 287 features.\n",
            "Fitting estimator with 286 features.\n",
            "Fitting estimator with 285 features.\n",
            "Fitting estimator with 284 features.\n",
            "Fitting estimator with 283 features.\n",
            "Fitting estimator with 282 features.\n",
            "Fitting estimator with 281 features.\n",
            "Fitting estimator with 280 features.\n",
            "Fitting estimator with 279 features.\n",
            "Fitting estimator with 278 features.\n",
            "Fitting estimator with 277 features.\n",
            "Fitting estimator with 276 features.\n",
            "Fitting estimator with 275 features.\n",
            "Fitting estimator with 274 features.\n",
            "Fitting estimator with 273 features.\n",
            "Fitting estimator with 272 features.\n",
            "Fitting estimator with 271 features.\n",
            "Fitting estimator with 270 features.\n",
            "Fitting estimator with 269 features.\n",
            "Fitting estimator with 268 features.\n",
            "Fitting estimator with 267 features.\n",
            "Fitting estimator with 266 features.\n",
            "Fitting estimator with 265 features.\n",
            "Fitting estimator with 264 features.\n",
            "Fitting estimator with 263 features.\n",
            "Fitting estimator with 262 features.\n",
            "Fitting estimator with 261 features.\n",
            "Fitting estimator with 260 features.\n",
            "Fitting estimator with 259 features.\n",
            "Fitting estimator with 258 features.\n",
            "Fitting estimator with 257 features.\n",
            "Fitting estimator with 256 features.\n",
            "Fitting estimator with 255 features.\n",
            "Fitting estimator with 254 features.\n",
            "Fitting estimator with 253 features.\n",
            "Fitting estimator with 252 features.\n",
            "Fitting estimator with 251 features.\n",
            "Fitting estimator with 250 features.\n",
            "Fitting estimator with 249 features.\n",
            "Fitting estimator with 248 features.\n",
            "Fitting estimator with 247 features.\n",
            "Fitting estimator with 246 features.\n",
            "Fitting estimator with 245 features.\n",
            "Fitting estimator with 244 features.\n",
            "Fitting estimator with 243 features.\n",
            "Fitting estimator with 242 features.\n",
            "Fitting estimator with 241 features.\n",
            "Fitting estimator with 240 features.\n",
            "Fitting estimator with 239 features.\n",
            "Fitting estimator with 238 features.\n",
            "Fitting estimator with 237 features.\n",
            "Fitting estimator with 236 features.\n",
            "Fitting estimator with 235 features.\n",
            "Fitting estimator with 234 features.\n",
            "Fitting estimator with 233 features.\n",
            "Fitting estimator with 232 features.\n",
            "Fitting estimator with 231 features.\n",
            "Fitting estimator with 230 features.\n",
            "Fitting estimator with 229 features.\n",
            "Fitting estimator with 228 features.\n",
            "Fitting estimator with 227 features.\n",
            "Fitting estimator with 226 features.\n",
            "Fitting estimator with 225 features.\n",
            "Fitting estimator with 224 features.\n",
            "Fitting estimator with 223 features.\n",
            "Fitting estimator with 222 features.\n",
            "Fitting estimator with 221 features.\n",
            "Fitting estimator with 220 features.\n",
            "Fitting estimator with 219 features.\n",
            "Fitting estimator with 218 features.\n",
            "Fitting estimator with 217 features.\n",
            "Fitting estimator with 216 features.\n",
            "Fitting estimator with 215 features.\n",
            "Fitting estimator with 214 features.\n",
            "Fitting estimator with 213 features.\n",
            "Fitting estimator with 212 features.\n",
            "Fitting estimator with 211 features.\n",
            "Fitting estimator with 210 features.\n",
            "Fitting estimator with 209 features.\n",
            "Fitting estimator with 208 features.\n",
            "Fitting estimator with 207 features.\n",
            "Fitting estimator with 206 features.\n",
            "Fitting estimator with 205 features.\n",
            "Fitting estimator with 204 features.\n"
          ],
          "name": "stdout"
        },
        {
          "output_type": "execute_result",
          "data": {
            "text/plain": [
              "RFE(estimator=XGBClassifier(base_score=0.5, booster='gbtree',\n",
              "                            colsample_bylevel=1, colsample_bynode=1,\n",
              "                            colsample_bytree=1, gamma=0, learning_rate=0.1,\n",
              "                            max_delta_step=0, max_depth=7, min_child_weight=1,\n",
              "                            missing=None, n_estimators=200, n_jobs=1,\n",
              "                            nthread=None, objective='binary:logistic',\n",
              "                            random_state=0, reg_alpha=0, reg_lambda=1,\n",
              "                            scale_pos_weight=1, seed=None, silent=None,\n",
              "                            subsample=0.6, verbosity=1),\n",
              "    n_features_to_select=203, step=1, verbose=True)"
            ]
          },
          "metadata": {
            "tags": []
          },
          "execution_count": 94
        }
      ]
    },
    {
      "cell_type": "code",
      "metadata": {
        "colab": {
          "base_uri": "https://localhost:8080/"
        },
        "id": "Hlxwk06DLzTN",
        "outputId": "6eec71a3-534f-4a84-9d3a-6471e0e3c67b"
      },
      "source": [
        "# 모델 저장\n",
        "import pickle\n",
        "with open('/content/drive/MyDrive/나무플래닛/3. 산출물/xgb_rfe.pickle', 'wb') as f:\n",
        "    pickle.dump(xgb_rfe, f, protocol=pickle.HIGHEST_PROTOCOL)\n",
        "\n",
        "# 저장한 모델 불러오기\n",
        "with open('/content/drive/MyDrive/나무플래닛/3. 산출물/xgb_rfe.pickle', 'rb') as f:\n",
        "    model = pickle.load(f)\n",
        "model"
      ],
      "execution_count": 102,
      "outputs": [
        {
          "output_type": "execute_result",
          "data": {
            "text/plain": [
              "RFE(estimator=XGBClassifier(base_score=0.5, booster='gbtree',\n",
              "                            colsample_bylevel=1, colsample_bynode=1,\n",
              "                            colsample_bytree=1, gamma=0, learning_rate=0.1,\n",
              "                            max_delta_step=0, max_depth=7, min_child_weight=1,\n",
              "                            missing=nan, n_estimators=200, n_jobs=1,\n",
              "                            nthread=None, objective='binary:logistic',\n",
              "                            random_state=0, reg_alpha=0, reg_lambda=1,\n",
              "                            scale_pos_weight=1, seed=None, silent=None,\n",
              "                            subsample=0.6, verbosity=1),\n",
              "    n_features_to_select=203, step=1, verbose=True)"
            ]
          },
          "metadata": {
            "tags": []
          },
          "execution_count": 102
        }
      ]
    },
    {
      "cell_type": "code",
      "metadata": {
        "colab": {
          "base_uri": "https://localhost:8080/"
        },
        "id": "iFlilF6o535z",
        "outputId": "42d17ca4-d886-4784-bb3a-9b26d35b2bae"
      },
      "source": [
        "# 선택된(남은) 피처만 필터링\n",
        "# 203개 컬럼에 대한 데이터\n",
        "feature_remain = xgb_rfe.transform(X_train)\n",
        "print(feature_remain.shape)\n",
        "feature_remain"
      ],
      "execution_count": 96,
      "outputs": [
        {
          "output_type": "stream",
          "text": [
            "(6108, 203)\n"
          ],
          "name": "stdout"
        },
        {
          "output_type": "execute_result",
          "data": {
            "text/plain": [
              "array([[-0.10729677, -0.18069875,  0.0400501 , ..., -1.04879165,\n",
              "        -0.42174732,  1.61      ],\n",
              "       [ 0.01688473, -0.29092286,  0.01000868, ..., -0.78593395,\n",
              "        -0.06966613,  0.        ],\n",
              "       [ 0.02635918,  0.16291014,  0.19282206, ...,  1.14376837,\n",
              "        -0.52975569,  6.98      ],\n",
              "       ...,\n",
              "       [-1.96420869,  0.43064591, -2.59909988, ...,  9.96945313,\n",
              "         5.83043207,  0.59      ],\n",
              "       [-0.53648505, -0.37524549, -0.07684142, ..., -0.22218073,\n",
              "        -0.21495506,  0.65      ],\n",
              "       [-0.83502398, -0.10864962, -0.19841481, ...,  0.80761613,\n",
              "         0.66756352,  2.19      ]])"
            ]
          },
          "metadata": {
            "tags": []
          },
          "execution_count": 96
        }
      ]
    },
    {
      "cell_type": "code",
      "metadata": {
        "id": "1IJQR_sXBa8r"
      },
      "source": [
        "# 남은 피처 저장\n",
        "np.save('/content/drive/MyDrive/나무플래닛/3. 산출물/rfe_remain_203', feature_remain)"
      ],
      "execution_count": 98,
      "outputs": []
    },
    {
      "cell_type": "markdown",
      "metadata": {
        "id": "l-7gA0DjMz3d"
      },
      "source": [
        "#### 203개로 줄인 피처 확인"
      ]
    },
    {
      "cell_type": "code",
      "metadata": {
        "colab": {
          "base_uri": "https://localhost:8080/"
        },
        "id": "P78IeMtyLjL-",
        "outputId": "e2423d2b-0241-43a2-b771-a36b4f0be735"
      },
      "source": [
        "# rfe 객체에서 파라미터 조사\n",
        "\n",
        "# 모델객체\n",
        "print(xgb_rfe.estimator_)\n",
        "\n",
        "# 피처 개수\n",
        "print(xgb_rfe.n_features_)\n",
        "\n",
        "# 피처 중요도 랭킹\n",
        "print('ranking_')\n",
        "print(xgb_rfe.ranking_)\n",
        "print(xgb_rfe.ranking_.shape)\n",
        "\n",
        "# 원래 피처에서 지운 데이터는 False, 남긴 데이터는 True\n",
        "print('support_')\n",
        "print(xgb_rfe.support_)\n",
        "print(xgb_rfe.support_.shape)"
      ],
      "execution_count": 164,
      "outputs": [
        {
          "output_type": "stream",
          "text": [
            "XGBClassifier(base_score=0.5, booster='gbtree', colsample_bylevel=1,\n",
            "              colsample_bynode=1, colsample_bytree=1, gamma=0,\n",
            "              learning_rate=0.1, max_delta_step=0, max_depth=7,\n",
            "              min_child_weight=1, missing=None, n_estimators=200, n_jobs=1,\n",
            "              nthread=None, objective='binary:logistic', random_state=0,\n",
            "              reg_alpha=0, reg_lambda=1, scale_pos_weight=1, seed=None,\n",
            "              silent=None, subsample=0.6, verbosity=1)\n",
            "203\n",
            "ranking_\n",
            "[123  78  93  92  91  90  88  87  86  84  98  80  83  96  99  97  53 111\n",
            " 101  81 104 106 102  65  46   1   1   1   1   1   1   8   1   1   1   1\n",
            "   1   1   1  35  23  20  50   1   1  52  38   1   1   1  55   1   1   1\n",
            "  11   1  21   1  70   1   1   1  59   1   1 110   1  79 113  85  89 121\n",
            " 120   1 114 119 115 109  72 108  57  94 117 116  76 103  62   1  95 100\n",
            "  82  51   1   5   1  64  32  47   1   1  45   1   1   1   1   1   1   1\n",
            "  40   1   1   2   1  16   1   1   1   1   1  43   1   1   1   1   1   1\n",
            "  61   1   1  68   1   1  26   1   1  18  24   1   1  75   1 118  73   1\n",
            "   1   1  10  54  56   1   1   1  71   1   1   1   1  63 122   1   1   1\n",
            "   3   1   1   4   1   1  27   1  28   1   1  33  17   1   1   1   1   1\n",
            "   1   1 105   1 107  66  39  77   1   1   1 112   1   1   1  69   1   9\n",
            "   1   1   1   1   1   1   1   1   1   1  67  48  34  19  25   1   1   1\n",
            "   1   1   1   1   1   1  13   1   1   1   1   1  36   1   1   1   1   1\n",
            "   1   1   1   1   6  37  12  22   1   1   1  30   1   1   1   1   1   1\n",
            "  44   1   1   1   7   1   1   1   1   1   1   1  14   1   1   1  29  41\n",
            "   1   1  49   1   1   1   1   1   1   1   1  74   1   1   1   1  15   1\n",
            "   1   1   1   1   1  60   1   1   1   1   1   1   1   1   1   1   1  58\n",
            "   1   1   1   1   1   1   1   1   1  42   1   1   1  31   1   1   1   1\n",
            "   1]\n",
            "(325,)\n",
            "support_\n",
            "[False False False False False False False False False False False False\n",
            " False False False False False False False False False False False False\n",
            " False  True  True  True  True  True  True False  True  True  True  True\n",
            "  True  True  True False False False False  True  True False False  True\n",
            "  True  True False  True  True  True False  True False  True False  True\n",
            "  True  True False  True  True False  True False False False False False\n",
            " False  True False False False False False False False False False False\n",
            " False False False  True False False False False  True False  True False\n",
            " False False  True  True False  True  True  True  True  True  True  True\n",
            " False  True  True False  True False  True  True  True  True  True False\n",
            "  True  True  True  True  True  True False  True  True False  True  True\n",
            " False  True  True False False  True  True False  True False False  True\n",
            "  True  True False False False  True  True  True False  True  True  True\n",
            "  True False False  True  True  True False  True  True False  True  True\n",
            " False  True False  True  True False False  True  True  True  True  True\n",
            "  True  True False  True False False False False  True  True  True False\n",
            "  True  True  True False  True False  True  True  True  True  True  True\n",
            "  True  True  True  True False False False False False  True  True  True\n",
            "  True  True  True  True  True  True False  True  True  True  True  True\n",
            " False  True  True  True  True  True  True  True  True  True False False\n",
            " False False  True  True  True False  True  True  True  True  True  True\n",
            " False  True  True  True False  True  True  True  True  True  True  True\n",
            " False  True  True  True False False  True  True False  True  True  True\n",
            "  True  True  True  True  True False  True  True  True  True False  True\n",
            "  True  True  True  True  True False  True  True  True  True  True  True\n",
            "  True  True  True  True  True False  True  True  True  True  True  True\n",
            "  True  True  True False  True  True  True False  True  True  True  True\n",
            "  True]\n",
            "(325,)\n"
          ],
          "name": "stdout"
        }
      ]
    },
    {
      "cell_type": "markdown",
      "metadata": {
        "id": "m8KdSIolYjO_"
      },
      "source": [
        "#### ■ fact_data_rfe (203개 컬럼)"
      ]
    },
    {
      "cell_type": "code",
      "metadata": {
        "colab": {
          "base_uri": "https://localhost:8080/"
        },
        "id": "qEeeY5YgNoDc",
        "outputId": "55f0c0d2-2f23-4a15-b818-c38f121de4a5"
      },
      "source": [
        "# rfe로 중요한 피처 203개 목록 받기\n",
        "mask = xgb_rfe.support_\n",
        "rfe_col = fact_data.columns[mask].tolist()\n",
        "print(len(rfe_col))\n",
        "\n",
        "# 203개 데이터프레임\n",
        "fact_data_rfe = fact_data[rfe_col]\n",
        "# 저장\n",
        "fact_data_rfe.to_csv('/content/drive/MyDrive/나무플래닛/3. 산출물/fact_data_rfe')\n",
        "fact_data_rfe.info()"
      ],
      "execution_count": 126,
      "outputs": [
        {
          "output_type": "stream",
          "text": [
            "203\n",
            "<class 'pandas.core.frame.DataFrame'>\n",
            "Index: 8145 entries, 2016-01-01 07 to 2016-12-31 23\n",
            "Columns: 203 entries, UPPER.AB1.Z1.TMP.1TIC41101.PV to 폐기율...\n",
            "dtypes: float64(203)\n",
            "memory usage: 13.0+ MB\n"
          ],
          "name": "stdout"
        }
      ]
    },
    {
      "cell_type": "code",
      "metadata": {
        "colab": {
          "base_uri": "https://localhost:8080/"
        },
        "id": "yMaJGtb7TjYw",
        "outputId": "d9448b40-ed08-41e5-9021-57fcbf608a62"
      },
      "source": [
        "# rfe로 추출한 컬럼 203개\n",
        "rfe_col[:]"
      ],
      "execution_count": 127,
      "outputs": [
        {
          "output_type": "execute_result",
          "data": {
            "text/plain": [
              "['UPPER.AB1.Z1.TMP.1TIC41101.PV',\n",
              " 'UPPER.AB1.Z6.TMP.1TIC41106.PV',\n",
              " 'LOWER.AB1.Z9.TMP.1TIC41152.PV',\n",
              " 'UPPER.AB2.Z20.TMP.1TIC41206.PV',\n",
              " 'LOWER.AB3.Z37.TMP.1TIC41352.PV',\n",
              " 'UPPER.AB5.Z57.TMP.1TIC41501.PV',\n",
              " 'LOWER.AB5.Z69.TMP.1TIC41556.PV',\n",
              " 'UPPER.AB6.Z71.TMP.1TIC41601.PV',\n",
              " 'LOWER.AB6.Z78.TMP.1TIC41651.PV',\n",
              " 'LOWER.AB6.Z83.TMP.1TIC41656.PV',\n",
              " 'LOWER.AB7.Z92.TMP.1TIC41751.PV',\n",
              " 'UPPER.AB8.Z99.TMP.1TIC41801.PV',\n",
              " 'UPPER.AB8.Z101TMP.1TIC41803.PV',\n",
              " 'LOWER.AB10.Z137.TMP.1TIC42054.PV',\n",
              " 'UPPER.AB11.Z142.TMP.1TIC42102.PV',\n",
              " 'UPPER.C1..Z157.TMP.1TIC42203.PV',\n",
              " 'UPPER.C1..Z158.TMP.1TIC42204.PV',\n",
              " 'UPPER.C1..Z159.TMP.1TIC42205.PV',\n",
              " 'LOWER.C1..Z168.TMP.1TIC42257.PV',\n",
              " 'UPPER.C2..Z169.TMP.1TIC42301.PV',\n",
              " 'UPPER.C2..Z170.TMP.1TIC42302.PV',\n",
              " 'UPPER.C2..Z173.TMP.1TIC42305.PV',\n",
              " 'LOWER.C2..Z176.TMP.1TIC42351.PV',\n",
              " 'UPPER.C3..Z183.TMP.1TIC42401.PV',\n",
              " 'LOWER.C3..Z193TMP.1TIC42454.PV',\n",
              " 'LOWER.C3..Z196.TMP.1TIC42457.PV',\n",
              " 'UPPER.C4..Z201.TMP.1TIC42505.PV',\n",
              " 'LOWER.C4..Z204.TMP.1TIC42551.PV',\n",
              " 'LIFT.OUT.ROL.MTR.M1.CUR.1WII40101.PV',\n",
              " 'LEHR.DRV.MTR..M8.1.CUR.1WII40112.PV',\n",
              " 'X1WOS45102_PV.1',\n",
              " 'TMP.GLASS..BAY.2.1TI30102.PV',\n",
              " 'TMP.GLASS..BAY.5.1TI30105.PV',\n",
              " 'TMP.TIN..BAY.5.LEFT.1TI30205.PV',\n",
              " 'TMP.TIN..BAY.10.LEFT.1TI30209.PV',\n",
              " 'TMP.GLASS..ZONE.AB1.E1.1TI40201.PV',\n",
              " 'TMP.GLASS..ZONE.AB1.E3.1TI40203.PV',\n",
              " 'TMP.GLASS..ZONE.AB11.L5.1TI40225.PV',\n",
              " 'TMP.GLASS..Z_RET.E1.1TI40241.PV',\n",
              " 'TMP.GLASS..ZONE.F.E1.1TI40251.PV',\n",
              " 'X.10.BAY.LEFT.PRESSURE.1CLBAY10LEFT_CPV',\n",
              " 'X.1.BAY.LEFT.PRESSURE.1CLBAY1LEFT_CPV',\n",
              " 'X.1.LEHR.SO2.ANALYZER.1AI44110.PV',\n",
              " 'X.1.LEHR.O2.ANALYZER.1AI44111.PV',\n",
              " 'X.2.LEHR.O2.ANALYZER.1AI44113.PV',\n",
              " 'BATH.AMBIENT.3.BAY.LEFT.1TI31003_PV',\n",
              " 'N2.TO.EA1313B.1FI33527A_PV',\n",
              " 'N2.TO.EA1315B.1FI33528A_PV',\n",
              " 'EXIT.LIP.PLATE.LEFT.1TI30604.PV',\n",
              " 'E.L.DB.LEFT..N2.FLOW.1FI33501.PV',\n",
              " 'N2.TO.HOOD.DOWN.STREAM.1FI33505A_PV',\n",
              " 'N2.TO.HOOD.UP.STREAM.1FI33506A_PV',\n",
              " 'TMP.GLASS..LEFT.EXIT.1TIC30109.PV',\n",
              " 'DROSS.BOX.PRESS.1PI40301.PV',\n",
              " 'LEHR.AB1.PRESS.1PI40302.PV',\n",
              " 'DB.HEAT.TOP.7.1.TMP.1TI40307.PV',\n",
              " 'DB.HEAT.BTM.LEFT.1.TMP.1TI40315.PV',\n",
              " 'DB.HEAT.BTM.LEFT.2.TMP.1TI40316.PV',\n",
              " 'DB.BTM.UP.STM.TC.RE.1TI40403_PV',\n",
              " 'DB.BTM.DN.STM.TC.LE.1TI40404_PV',\n",
              " 'DB.BTM.DN.STM.TC.RC.1TI40407_PV',\n",
              " 'DB.BTM.DN.STM.TC.RE.1TI40408_PV',\n",
              " 'DB.HEAT.TOP.7.1.2.TMP.CT.1JI40307.PV',\n",
              " 'DB.HEAT.BOTTOM.1.1JIC40308.PV',\n",
              " 'DB.HEAT.BOTTOM.3.1JIC40310.PV',\n",
              " 'DB.HEAT.BOTTOM.7.1JIC40314.PV',\n",
              " 'ROOF.HT.BAY.10.TOTAL.PWR.1CLBAY10_CPV',\n",
              " 'ROOF.HT.BAY.11.TOTAL.PWR.1CLBAY11_CPV',\n",
              " 'ROOF.HT.BAY.5.TOTAL.PWR.1CLBAY5_CPV',\n",
              " 'ROOF.HT.BAY.6.TOTAL.PWR.1CLBAY6_CPV',\n",
              " 'ROOF.HT.BAY.7.TOTAL.PWR.1CLBAY7_CPV',\n",
              " 'ROOF.HT.BAY.9.TOTAL.PWR.1CLBAY9_CPV',\n",
              " 'ROOF.HT.BAY.TOTAL.PWR.1CLBAYTOT_CPV',\n",
              " 'ROOF.HEATING.Zone.3.1JIC31103.PV.1',\n",
              " 'ROOF.HEATING.Zone.4.1JIC31104.PV.1',\n",
              " 'ROOF.HEATING.Zone10.1JIC31110.PV',\n",
              " 'ROOF.HEATING.Zone11.1JIC31111.PV',\n",
              " 'ROOF.HEATING.Zone12.1JIC31112.PV',\n",
              " 'ROOF.HEATING.Zone21.1JIC31121.PV',\n",
              " 'ROOF.HEATING.Zone22.1JIC31122.PV',\n",
              " 'ROOF.HEATING.Zone25.1JIC31125.PV',\n",
              " 'ROOF.HEATING.Zone27.1JIC31127.PV',\n",
              " 'ROOF.HEATING.Zone30.1JIC31130.PV',\n",
              " 'ROOF.HEATING.Zone32.1JIC31132.PV',\n",
              " 'ROOF.HEATING.Zone36.1JIC31136.PV',\n",
              " 'ROOF.HEATING.Zone40.1JIC31140.PV',\n",
              " 'ROOF.HEATING.Zone41.1JIC31141.PV',\n",
              " 'ROOF.HEATING.Zone42.1JIC31142.PV',\n",
              " 'ROOF.HEATING.Zone43.1JIC31143.PV',\n",
              " 'ROOF.HEATING.Zone44.1JIC31144.PV',\n",
              " 'ROOF.HEATING.Zone45.1JIC31145.PV',\n",
              " 'ROOF.HEATING.Zone49.1JIC31149.PV',\n",
              " 'ROOF.HEATING.Zone53.1JIC31153.PV',\n",
              " 'ROOF.HEATING.Zone63.1JIC31163.PV',\n",
              " 'ROOF.HEATING.Zone64.1JIC31164.PV',\n",
              " 'ROOF.HEATING.Zone73.1JIC31173.PV',\n",
              " 'ROOF.HEATING.Zone80.1JIC31180.PV',\n",
              " 'ROOF.HEATING.Zone81.1JIC31181.PV',\n",
              " 'ROOF.HEATING.Zone86.1JIC31186.PV',\n",
              " 'ATM.FLOW.SECT.2.N2.1FI33401.PV',\n",
              " 'ATM.FLOW.SECT.3.N2.1FI33403.PV',\n",
              " 'ATM.FLOW.SECT.3.N2.H2.1FI33404.PV',\n",
              " 'ATM.FLOW.SECT.4.N2.1FI33405.PV',\n",
              " 'ATM.FLOW.SECT.5.N2.1FI33407.PV',\n",
              " 'ATM.FLOW.SECT.6.N2.1FI33409.PV',\n",
              " 'ATM.FLOW.SECT.7.N2.1FI33411.PV',\n",
              " 'ATM.FLOW.SECT.8.N2.1FI33413.PV',\n",
              " 'ATM.FLOW.SECT.1.N2.H2.1FI33424.PV',\n",
              " 'ATM.FLOW.SECT.9.N2.H2.1FIC33416.PV.1',\n",
              " 'ATM.FLOW.SECT.10.N2.1FIC33417.PV',\n",
              " 'ATM.N2.H2.5..함유율.1CLFI33402_CPV',\n",
              " 'ATM.N2.H2.9..함유율.1CLFI33406_CPV',\n",
              " 'ATM.N2.H2.9..함유율.1CLFI33416_CPV',\n",
              " 'LOR.1.L.Axis',\n",
              " 'LOR.1.L.Hori',\n",
              " 'LOR.2.L.Axis',\n",
              " 'LOR.2.L.Hori',\n",
              " 'LOR.3.L.Axis',\n",
              " 'LOR.3.L.Hori',\n",
              " 'bay2_4',\n",
              " 'bay4_5',\n",
              " 'bay5_6',\n",
              " 'bay6_7',\n",
              " 'bay7_8',\n",
              " 'l_r_tin_bay5',\n",
              " 'l_r_tin_bay7',\n",
              " 'l_tin_bay_5_7',\n",
              " 'l_tin_bay_7_10',\n",
              " 'lc_rc_btm_dn',\n",
              " 'le_re_btm_dn',\n",
              " 'c_btm_up_dn',\n",
              " 'rc_btm_up_dn',\n",
              " 're_btm_up_dn',\n",
              " 'top_5',\n",
              " 'top_7',\n",
              " 'D_AB1_U_LR',\n",
              " 'D_AB2_U_LR',\n",
              " 'D_AB2_L_LR',\n",
              " 'D_AB3_U_LR',\n",
              " 'D_AB3_L_LR',\n",
              " 'D_AB4_U_LR',\n",
              " 'D_AB4_L_LR',\n",
              " 'D_AB5_L_LR',\n",
              " 'D_AB6_U_LR',\n",
              " 'D_AB6_L_LR',\n",
              " 'D_AB7_L_LR',\n",
              " 'D_AB8_U_LR',\n",
              " 'D_AB8_L_LR',\n",
              " 'D_AB9_U_LR',\n",
              " 'D_AB9_L_LR',\n",
              " 'D_AB10_U_LR',\n",
              " 'D_AB10_L_LR',\n",
              " 'D_AB11_L_LR',\n",
              " 'D_AB1_L_UL',\n",
              " 'D_AB2_L_UL',\n",
              " 'D_AB5_L_UL',\n",
              " 'D_AB7_L_UL',\n",
              " 'D_AB9_L_UL',\n",
              " 'D_AB10_L_UL',\n",
              " 'D_AB11_L_UL',\n",
              " 'D_C1_U_LR',\n",
              " 'D_C1_L_LR',\n",
              " 'D_C2_U_LR',\n",
              " 'D_C2_L_LR',\n",
              " 'D_C3_U_LR',\n",
              " 'D_C4_U_LR',\n",
              " 'D_C4_L_LR',\n",
              " 'D_C1_L_UL',\n",
              " 'D_C2_L_UL',\n",
              " 'D_GLS_AB1_LR',\n",
              " 'D_GLS_AB11_LR',\n",
              " 'D_GLS_AB7_LR',\n",
              " 'D_GLS_C4_LR',\n",
              " 'D_GLS_F_LR',\n",
              " 'D_GLS_RET_LR',\n",
              " 'S_AB1_AB2_L_L',\n",
              " 'S_AB2_AB3_U_L',\n",
              " 'S_AB2_AB3_L_L',\n",
              " 'S_AB3_AB4_U_L',\n",
              " 'S_AB4_AB5_U_L',\n",
              " 'S_AB5_AB6_U_L',\n",
              " 'S_AB6_AB7_U_L',\n",
              " 'S_AB6_AB7_L_L',\n",
              " 'S_AB7_AB8_U_L',\n",
              " 'S_AB7_AB8_L_L',\n",
              " 'S_AB8_AB9_U_L',\n",
              " 'S_AB9_AB10_U_L',\n",
              " 'S_AB9_AB10_L_L',\n",
              " 'S_AB10_AB11_U_L',\n",
              " 'S_AB10_AB11_L_L',\n",
              " 'S_AB11_C1_U_L',\n",
              " 'S_AB11_C1_L_L',\n",
              " 'S_C1_C2_U_L',\n",
              " 'S_C1_C2_L_L',\n",
              " 'S_C2_C3_U_L',\n",
              " 'S_C3_C4_U_L',\n",
              " 'S_AB1_AB11_L',\n",
              " 'S_AB11_AB7_L',\n",
              " 'S_C4_RET_L',\n",
              " 'S_RET_F_L',\n",
              " 'STD_U_L',\n",
              " 'STD_GLS_L',\n",
              " '폐기율...']"
            ]
          },
          "metadata": {
            "tags": []
          },
          "execution_count": 127
        }
      ]
    },
    {
      "cell_type": "markdown",
      "metadata": {
        "id": "9UeBW4DyYuD9"
      },
      "source": [
        "## 새로운 데이터로 다시 모델링"
      ]
    },
    {
      "cell_type": "markdown",
      "metadata": {
        "id": "in1yMUvAYxcu"
      },
      "source": [
        "### 데이터 분할"
      ]
    },
    {
      "cell_type": "code",
      "metadata": {
        "colab": {
          "base_uri": "https://localhost:8080/"
        },
        "id": "stEeacJzY1AN",
        "outputId": "5a71d171-9cc0-44fe-d27e-d26b33ca7afc"
      },
      "source": [
        "from sklearn.model_selection import train_test_split\n",
        "\n",
        "# 피처/레이블 데이터 나누기\n",
        "X = fact_data_rfe   ## 피처만 바뀜\n",
        "y = fact_data_LRD.iloc[:, -1]\n",
        "\n",
        "# 훈련/테스트 데이터 나누기\n",
        "X_train, X_test, y_train, y_test = train_test_split(X, y, random_state=42)\n",
        "\n",
        "print(X_train.shape)\n",
        "print(X_test.shape)\n",
        "print(y_train.shape)\n",
        "print(y_test.shape)"
      ],
      "execution_count": 169,
      "outputs": [
        {
          "output_type": "stream",
          "text": [
            "(6108, 203)\n",
            "(2037, 203)\n",
            "(6108,)\n",
            "(2037,)\n"
          ],
          "name": "stdout"
        }
      ]
    },
    {
      "cell_type": "markdown",
      "metadata": {
        "id": "CkhtjbleZeqt"
      },
      "source": [
        "### 모델 수행"
      ]
    },
    {
      "cell_type": "code",
      "metadata": {
        "colab": {
          "base_uri": "https://localhost:8080/"
        },
        "id": "aEmTMFSdYYfi",
        "outputId": "9446411a-2dfa-43f5-8e9b-7ec877e7c484"
      },
      "source": [
        "# XGB 부스트\n",
        "from xgboost import XGBClassifier\n",
        "\n",
        "xgb_wrapper = XGBClassifier(n_estimators = 400, learning_rate = 0.1, max_depth=7, subsample=0.6)\n",
        "xgb_wrapper.fit(X_train, y_train, early_stopping_rounds=100, eval_metric='error', eval_set=[(X_test, y_test)], verbose=True)\n",
        "    # early_stopping_rounds : 100번 이상, 400번 이하로 훈련했을 때 모델 성능이 더이상 나아지지 않는 경우 stop\n",
        "    ## 115번 째에서 loss 값이 가장 작았으며, 약 200회 정도만 수행해도 모델 성능이 충분히 개선됨\n",
        "\n",
        "# 분류된 클래스 레이블을 리턴\n",
        "pred = xgb_wrapper.predict(X_test)\n",
        "print(\"######################예측값######################\")\n",
        "print(pred)\n",
        "\n",
        "# 확률 리턴\n",
        "pred_proba = xgb_wrapper.predict_proba(X_test)[:, 1]\n",
        "print(\"######################예측확률######################\")\n",
        "print(pred_proba)\n"
      ],
      "execution_count": 170,
      "outputs": [
        {
          "output_type": "stream",
          "text": [
            "[0]\tvalidation_0-error:0.312224\n",
            "Will train until validation_0-error hasn't improved in 100 rounds.\n",
            "[1]\tvalidation_0-error:0.304369\n",
            "[2]\tvalidation_0-error:0.287187\n",
            "[3]\tvalidation_0-error:0.289151\n",
            "[4]\tvalidation_0-error:0.284732\n",
            "[5]\tvalidation_0-error:0.289151\n",
            "[6]\tvalidation_0-error:0.285223\n",
            "[7]\tvalidation_0-error:0.277369\n",
            "[8]\tvalidation_0-error:0.279823\n",
            "[9]\tvalidation_0-error:0.27295\n",
            "[10]\tvalidation_0-error:0.283751\n",
            "[11]\tvalidation_0-error:0.281787\n",
            "[12]\tvalidation_0-error:0.283751\n",
            "[13]\tvalidation_0-error:0.278841\n",
            "[14]\tvalidation_0-error:0.281787\n",
            "[15]\tvalidation_0-error:0.278841\n",
            "[16]\tvalidation_0-error:0.276878\n",
            "[17]\tvalidation_0-error:0.274423\n",
            "[18]\tvalidation_0-error:0.276387\n",
            "[19]\tvalidation_0-error:0.278841\n",
            "[20]\tvalidation_0-error:0.276387\n",
            "[21]\tvalidation_0-error:0.279332\n",
            "[22]\tvalidation_0-error:0.276387\n",
            "[23]\tvalidation_0-error:0.278351\n",
            "[24]\tvalidation_0-error:0.276387\n",
            "[25]\tvalidation_0-error:0.276878\n",
            "[26]\tvalidation_0-error:0.274423\n",
            "[27]\tvalidation_0-error:0.270987\n",
            "[28]\tvalidation_0-error:0.271478\n",
            "[29]\tvalidation_0-error:0.271969\n",
            "[30]\tvalidation_0-error:0.270005\n",
            "[31]\tvalidation_0-error:0.269514\n",
            "[32]\tvalidation_0-error:0.269514\n",
            "[33]\tvalidation_0-error:0.26755\n",
            "[34]\tvalidation_0-error:0.266078\n",
            "[35]\tvalidation_0-error:0.265587\n",
            "[36]\tvalidation_0-error:0.268041\n",
            "[37]\tvalidation_0-error:0.266078\n",
            "[38]\tvalidation_0-error:0.267059\n",
            "[39]\tvalidation_0-error:0.267059\n",
            "[40]\tvalidation_0-error:0.265096\n",
            "[41]\tvalidation_0-error:0.264605\n",
            "[42]\tvalidation_0-error:0.267059\n",
            "[43]\tvalidation_0-error:0.26755\n",
            "[44]\tvalidation_0-error:0.264605\n",
            "[45]\tvalidation_0-error:0.268041\n",
            "[46]\tvalidation_0-error:0.269023\n",
            "[47]\tvalidation_0-error:0.269023\n",
            "[48]\tvalidation_0-error:0.268041\n",
            "[49]\tvalidation_0-error:0.270496\n",
            "[50]\tvalidation_0-error:0.270005\n",
            "[51]\tvalidation_0-error:0.269514\n",
            "[52]\tvalidation_0-error:0.265587\n",
            "[53]\tvalidation_0-error:0.269514\n",
            "[54]\tvalidation_0-error:0.268532\n",
            "[55]\tvalidation_0-error:0.268532\n",
            "[56]\tvalidation_0-error:0.268041\n",
            "[57]\tvalidation_0-error:0.270496\n",
            "[58]\tvalidation_0-error:0.269023\n",
            "[59]\tvalidation_0-error:0.269514\n",
            "[60]\tvalidation_0-error:0.269023\n",
            "[61]\tvalidation_0-error:0.271969\n",
            "[62]\tvalidation_0-error:0.270987\n",
            "[63]\tvalidation_0-error:0.268041\n",
            "[64]\tvalidation_0-error:0.268041\n",
            "[65]\tvalidation_0-error:0.269023\n",
            "[66]\tvalidation_0-error:0.269514\n",
            "[67]\tvalidation_0-error:0.26755\n",
            "[68]\tvalidation_0-error:0.27246\n",
            "[69]\tvalidation_0-error:0.268532\n",
            "[70]\tvalidation_0-error:0.270496\n",
            "[71]\tvalidation_0-error:0.267059\n",
            "[72]\tvalidation_0-error:0.265587\n",
            "[73]\tvalidation_0-error:0.269514\n",
            "[74]\tvalidation_0-error:0.269514\n",
            "[75]\tvalidation_0-error:0.26755\n",
            "[76]\tvalidation_0-error:0.267059\n",
            "[77]\tvalidation_0-error:0.265587\n",
            "[78]\tvalidation_0-error:0.268041\n",
            "[79]\tvalidation_0-error:0.269514\n",
            "[80]\tvalidation_0-error:0.266568\n",
            "[81]\tvalidation_0-error:0.268041\n",
            "[82]\tvalidation_0-error:0.267059\n",
            "[83]\tvalidation_0-error:0.266568\n",
            "[84]\tvalidation_0-error:0.270005\n",
            "[85]\tvalidation_0-error:0.270005\n",
            "[86]\tvalidation_0-error:0.27246\n",
            "[87]\tvalidation_0-error:0.274423\n",
            "[88]\tvalidation_0-error:0.271969\n",
            "[89]\tvalidation_0-error:0.275405\n",
            "[90]\tvalidation_0-error:0.269514\n",
            "[91]\tvalidation_0-error:0.270005\n",
            "[92]\tvalidation_0-error:0.270005\n",
            "[93]\tvalidation_0-error:0.268532\n",
            "[94]\tvalidation_0-error:0.268041\n",
            "[95]\tvalidation_0-error:0.270005\n",
            "[96]\tvalidation_0-error:0.270496\n",
            "[97]\tvalidation_0-error:0.268532\n",
            "[98]\tvalidation_0-error:0.271478\n",
            "[99]\tvalidation_0-error:0.270987\n",
            "[100]\tvalidation_0-error:0.271478\n",
            "[101]\tvalidation_0-error:0.269514\n",
            "[102]\tvalidation_0-error:0.271478\n",
            "[103]\tvalidation_0-error:0.269514\n",
            "[104]\tvalidation_0-error:0.271478\n",
            "[105]\tvalidation_0-error:0.270987\n",
            "[106]\tvalidation_0-error:0.268532\n",
            "[107]\tvalidation_0-error:0.271478\n",
            "[108]\tvalidation_0-error:0.270005\n",
            "[109]\tvalidation_0-error:0.269514\n",
            "[110]\tvalidation_0-error:0.26755\n",
            "[111]\tvalidation_0-error:0.270005\n",
            "[112]\tvalidation_0-error:0.271478\n",
            "[113]\tvalidation_0-error:0.270987\n",
            "[114]\tvalidation_0-error:0.270496\n",
            "[115]\tvalidation_0-error:0.271478\n",
            "[116]\tvalidation_0-error:0.27246\n",
            "[117]\tvalidation_0-error:0.270987\n",
            "[118]\tvalidation_0-error:0.269514\n",
            "[119]\tvalidation_0-error:0.269023\n",
            "[120]\tvalidation_0-error:0.270987\n",
            "[121]\tvalidation_0-error:0.270496\n",
            "[122]\tvalidation_0-error:0.270005\n",
            "[123]\tvalidation_0-error:0.270987\n",
            "[124]\tvalidation_0-error:0.269023\n",
            "[125]\tvalidation_0-error:0.270496\n",
            "[126]\tvalidation_0-error:0.270987\n",
            "[127]\tvalidation_0-error:0.270987\n",
            "[128]\tvalidation_0-error:0.27246\n",
            "[129]\tvalidation_0-error:0.271969\n",
            "[130]\tvalidation_0-error:0.270005\n",
            "[131]\tvalidation_0-error:0.267059\n",
            "[132]\tvalidation_0-error:0.269514\n",
            "[133]\tvalidation_0-error:0.271478\n",
            "[134]\tvalidation_0-error:0.270496\n",
            "[135]\tvalidation_0-error:0.270005\n",
            "[136]\tvalidation_0-error:0.269514\n",
            "[137]\tvalidation_0-error:0.273441\n",
            "[138]\tvalidation_0-error:0.27246\n",
            "[139]\tvalidation_0-error:0.270496\n",
            "[140]\tvalidation_0-error:0.270005\n",
            "[141]\tvalidation_0-error:0.27295\n",
            "Stopping. Best iteration:\n",
            "[41]\tvalidation_0-error:0.264605\n",
            "\n",
            "######################예측값######################\n",
            "[1 1 1 ... 1 1 0]\n",
            "######################예측확률######################\n",
            "[0.62879133 0.744383   0.6667845  ... 0.8229615  0.94549656 0.21878436]\n"
          ],
          "name": "stdout"
        }
      ]
    },
    {
      "cell_type": "markdown",
      "metadata": {
        "id": "eg3OlXMqZf_k"
      },
      "source": [
        "### 평가지표"
      ]
    },
    {
      "cell_type": "code",
      "metadata": {
        "colab": {
          "base_uri": "https://localhost:8080/"
        },
        "id": "sOs36pqQYadk",
        "outputId": "6fe9b9a5-e76b-4ca2-e3cc-0c39daa38427"
      },
      "source": [
        "# 평가지표출력\n",
        "# 오차행렬 : 정확도, 정밀도, 재현율, f1 스코어, roc_auc_score(곡선면적)\n",
        "from sklearn.metrics import confusion_matrix, accuracy_score, precision_score\n",
        "from sklearn.metrics import recall_score, f1_score, roc_auc_score\n",
        "print(\"테스트 데이터 수\", y_test.shape)\n",
        "\n",
        "print('오차행렬:\\n', confusion_matrix(y_test, pred))\n",
        "print('정확도:', accuracy_score(y_test, pred).round(3))\n",
        "print('정밀도:', precision_score(y_test, pred).round(3))\n",
        "print('재현율:', recall_score(y_test, pred).round(3))\n",
        "print('f1 스코어:', f1_score(y_test, pred).round(3))\n",
        "\n",
        "# roc_auc_score는 추정확률을 대입해야 함\n",
        "print('roc_auc_score:', roc_auc_score(y_test, pred_proba).round(3))"
      ],
      "execution_count": 171,
      "outputs": [
        {
          "output_type": "stream",
          "text": [
            "테스트 데이터 수 (2037,)\n",
            "오차행렬:\n",
            " [[773 297]\n",
            " [242 725]]\n",
            "정확도: 0.735\n",
            "정밀도: 0.709\n",
            "재현율: 0.75\n",
            "f1 스코어: 0.729\n",
            "roc_auc_score: 0.818\n"
          ],
          "name": "stdout"
        }
      ]
    },
    {
      "cell_type": "code",
      "metadata": {
        "colab": {
          "base_uri": "https://localhost:8080/",
          "height": 1000
        },
        "id": "-4F8SYHyZhMR",
        "outputId": "ce0266d9-0f97-40a9-9ab0-636b3e2c98dc"
      },
      "source": [
        "# 특성 중요도 시각화\n",
        "fig, ax = plt.subplots(figsize=(10, 30))\n",
        "\n",
        "# xgb는 자체적으로 특성 중요도를 시각화하는 함수(plot_importance)를 제공함\n",
        "from xgboost import plot_importance\n",
        "plot_importance(xgb_wrapper, ax)\n",
        "\n",
        "# 폰트 사이즈\n",
        "plt.rc('font', size=10)          # controls default text sizes  # 중요도\n",
        "plt.rc('axes', titlesize=44)     # fontsize of the axes title  # 전체타이틀\n",
        "plt.rc('axes', labelsize=15)     # fontsize of the x and y labels\n",
        "plt.rc('xtick', labelsize=10)    # fontsize of the tick labels # x축\n",
        "plt.rc('ytick', labelsize=10)    # fontsize of the tick labels # y축\n",
        "plt.rc('legend', fontsize=8)     # legend fontsize\n",
        "plt.rc('figure', titlesize=44)   # fontsize of the figure title'''"
      ],
      "execution_count": 176,
      "outputs": [
        {
          "output_type": "display_data",
          "data": {
            "image/png": "[encoded data removed]",
            "text/plain": [
              "<Figure size 720x2160 with 1 Axes>"
            ]
          },
          "metadata": {
            "tags": [],
            "needs_background": "light"
          }
        }
      ]
    },
    {
      "cell_type": "code",
      "metadata": {
        "colab": {
          "base_uri": "https://localhost:8080/",
          "height": 912
        },
        "id": "MkWv8YFVZnsP",
        "outputId": "64585fef-2260-496f-e15f-4f6d01f3ae66"
      },
      "source": [
        "# xgboost 트리구조 확인\n",
        "import xgboost as xgb\n",
        "tree_img = xgb.to_graphviz(xgb_wrapper, num_trees=7)\n",
        "tree_img"
      ],
      "execution_count": 180,
      "outputs": [
        {
          "output_type": "execute_result",
          "data": {
            "text/plain": [
              "<graphviz.dot.Digraph at 0x7f355ca294d0>"
            ],
            "image/svg+xml": "<?xml version=\"1.0\" encoding=\"UTF-8\" standalone=\"no\"?>\n<!DOCTYPE svg PUBLIC \"-//W3C//DTD SVG 1.1//EN\"\n \"http://www.w3.org/Graphics/SVG/1.1/DTD/svg11.dtd\">\n<!-- Generated by graphviz version 2.40.1 (20161225.0304)\n -->\n<!-- Title: %3 Pages: 1 -->\n<svg width=\"9336pt\" height=\"653pt\"\n viewBox=\"0.00 0.00 9336.37 653.00\" xmlns=\"http://www.w3.org/2000/svg\" xmlns:xlink=\"http://www.w3.org/1999/xlink\">\n<g id=\"graph0\" class=\"graph\" transform=\"scale(1 1) rotate(0) translate(4 649)\">\n<title>%3</title>\n<polygon fill=\"#ffffff\" stroke=\"transparent\" points=\"-4,4 -4,-649 9332.3725,-649 9332.3725,4 -4,4\"/>\n<!-- 0 -->\n<g id=\"node1\" class=\"node\">\n<title>0</title>\n<ellipse fill=\"none\" stroke=\"#000000\" cx=\"2491.3922\" cy=\"-627\" rx=\"102.8821\" ry=\"18\"/>\n<text text-anchor=\"middle\" x=\"2491.3922\" y=\"-623.3\" font-family=\"Times,serif\" font-size=\"14.00\" fill=\"#000000\">폐기율...&lt;0.954999983</text>\n</g>\n<!-- 1 -->\n<g id=\"node2\" class=\"node\">\n<title>1</title>\n<ellipse fill=\"none\" stroke=\"#000000\" cx=\"1113.3922\" cy=\"-540\" rx=\"102.8821\" ry=\"18\"/>\n<text text-anchor=\"middle\" x=\"1113.3922\" y=\"-536.3\" font-family=\"Times,serif\" font-size=\"14.00\" fill=\"#000000\">폐기율...&lt;0.454999983</text>\n</g>\n<!-- 0&#45;&gt;1 -->\n<g id=\"edge1\" class=\"edge\">\n<title>0&#45;&gt;1</title>\n<path fill=\"none\" stroke=\"#0000ff\" d=\"M2394.7679,-620.8996C2145.3216,-605.1508 1481.0841,-563.2142 1220.4637,-546.76\"/>\n<polygon fill=\"#0000ff\" stroke=\"#0000ff\" points=\"1220.4371,-543.2514 1210.2364,-546.1143 1219.9959,-550.2375 1220.4371,-543.2514\"/>\n<text text-anchor=\"middle\" x=\"1920.8922\" y=\"-579.8\" font-family=\"Times,serif\" font-size=\"14.00\" fill=\"#000000\">yes, missing</text>\n</g>\n<!-- 2 -->\n<g id=\"node3\" class=\"node\">\n<title>2</title>\n<ellipse fill=\"none\" stroke=\"#000000\" cx=\"4273.3922\" cy=\"-540\" rx=\"97.4827\" ry=\"18\"/>\n<text text-anchor=\"middle\" x=\"4273.3922\" y=\"-536.3\" font-family=\"Times,serif\" font-size=\"14.00\" fill=\"#000000\">폐기율...&lt;2.34499979</text>\n</g>\n<!-- 0&#45;&gt;2 -->\n<g id=\"edge2\" class=\"edge\">\n<title>0&#45;&gt;2</title>\n<path fill=\"none\" stroke=\"#ff0000\" d=\"M2590.3777,-622.1674C2900.4669,-607.0283 3851.2544,-560.6094 4168.8549,-545.1037\"/>\n<polygon fill=\"#ff0000\" stroke=\"#ff0000\" points=\"4169.1582,-548.5931 4178.9756,-544.6096 4168.8168,-541.6015 4169.1582,-548.5931\"/>\n<text text-anchor=\"middle\" x=\"3497.3922\" y=\"-579.8\" font-family=\"Times,serif\" font-size=\"14.00\" fill=\"#000000\">no</text>\n</g>\n<!-- 3 -->\n<g id=\"node4\" class=\"node\">\n<title>3</title>\n<ellipse fill=\"none\" stroke=\"#000000\" cx=\"794.3922\" cy=\"-453\" rx=\"83.3857\" ry=\"18\"/>\n<text text-anchor=\"middle\" x=\"794.3922\" y=\"-449.3\" font-family=\"Times,serif\" font-size=\"14.00\" fill=\"#000000\">leaf=&#45;0.132092461</text>\n</g>\n<!-- 1&#45;&gt;3 -->\n<g id=\"edge3\" class=\"edge\">\n<title>1&#45;&gt;3</title>\n<path fill=\"none\" stroke=\"#0000ff\" d=\"M1057.8266,-524.8458C1001.4658,-509.4746 914.4379,-485.7398 855.9988,-469.8018\"/>\n<polygon fill=\"#0000ff\" stroke=\"#0000ff\" points=\"856.7235,-466.3717 846.155,-467.1171 854.8817,-473.125 856.7235,-466.3717\"/>\n<text text-anchor=\"middle\" x=\"1008.8922\" y=\"-492.8\" font-family=\"Times,serif\" font-size=\"14.00\" fill=\"#000000\">yes, missing</text>\n</g>\n<!-- 4 -->\n<g id=\"node5\" class=\"node\">\n<title>4</title>\n<ellipse fill=\"none\" stroke=\"#000000\" cx=\"1113.3922\" cy=\"-453\" rx=\"217.9616\" ry=\"18\"/>\n<text text-anchor=\"middle\" x=\"1113.3922\" y=\"-449.3\" font-family=\"Times,serif\" font-size=\"14.00\" fill=\"#000000\">LOWER.C3..Z193TMP.1TIC42454.PV&lt;&#45;1.39177012</text>\n</g>\n<!-- 1&#45;&gt;4 -->\n<g id=\"edge4\" class=\"edge\">\n<title>1&#45;&gt;4</title>\n<path fill=\"none\" stroke=\"#ff0000\" d=\"M1113.3922,-521.9735C1113.3922,-510.1918 1113.3922,-494.5607 1113.3922,-481.1581\"/>\n<polygon fill=\"#ff0000\" stroke=\"#ff0000\" points=\"1116.8923,-481.0033 1113.3922,-471.0034 1109.8923,-481.0034 1116.8923,-481.0033\"/>\n<text text-anchor=\"middle\" x=\"1121.3922\" y=\"-492.8\" font-family=\"Times,serif\" font-size=\"14.00\" fill=\"#000000\">no</text>\n</g>\n<!-- 5 -->\n<g id=\"node34\" class=\"node\">\n<title>5</title>\n<ellipse fill=\"none\" stroke=\"#000000\" cx=\"4273.3922\" cy=\"-453\" rx=\"122.3786\" ry=\"18\"/>\n<text text-anchor=\"middle\" x=\"4273.3922\" y=\"-449.3\" font-family=\"Times,serif\" font-size=\"14.00\" fill=\"#000000\">LOR.1.L.Axis&lt;0.307049036</text>\n</g>\n<!-- 2&#45;&gt;5 -->\n<g id=\"edge33\" class=\"edge\">\n<title>2&#45;&gt;5</title>\n<path fill=\"none\" stroke=\"#0000ff\" d=\"M4273.3922,-521.9735C4273.3922,-510.1918 4273.3922,-494.5607 4273.3922,-481.1581\"/>\n<polygon fill=\"#0000ff\" stroke=\"#0000ff\" points=\"4276.8923,-481.0033 4273.3922,-471.0034 4269.8923,-481.0034 4276.8923,-481.0033\"/>\n<text text-anchor=\"middle\" x=\"4308.8922\" y=\"-492.8\" font-family=\"Times,serif\" font-size=\"14.00\" fill=\"#000000\">yes, missing</text>\n</g>\n<!-- 6 -->\n<g id=\"node35\" class=\"node\">\n<title>6</title>\n<ellipse fill=\"none\" stroke=\"#000000\" cx=\"6479.3922\" cy=\"-453\" rx=\"247.7561\" ry=\"18\"/>\n<text text-anchor=\"middle\" x=\"6479.3922\" y=\"-449.3\" font-family=\"Times,serif\" font-size=\"14.00\" fill=\"#000000\">ROOF.HT.BAY.9.TOTAL.PWR.1CLBAY9_CPV&lt;1.2224623</text>\n</g>\n<!-- 2&#45;&gt;6 -->\n<g id=\"edge34\" class=\"edge\">\n<title>2&#45;&gt;6</title>\n<path fill=\"none\" stroke=\"#ff0000\" d=\"M4368.8893,-536.2338C4695.8034,-523.341 5776.003,-480.7402 6251.4138,-461.991\"/>\n<polygon fill=\"#ff0000\" stroke=\"#ff0000\" points=\"6251.6366,-465.485 6261.4908,-461.5936 6251.3607,-458.4905 6251.6366,-465.485\"/>\n<text text-anchor=\"middle\" x=\"5517.3922\" y=\"-492.8\" font-family=\"Times,serif\" font-size=\"14.00\" fill=\"#000000\">no</text>\n</g>\n<!-- 7 -->\n<g id=\"node6\" class=\"node\">\n<title>7</title>\n<ellipse fill=\"none\" stroke=\"#000000\" cx=\"596.3922\" cy=\"-366\" rx=\"204.1638\" ry=\"18\"/>\n<text text-anchor=\"middle\" x=\"596.3922\" y=\"-362.3\" font-family=\"Times,serif\" font-size=\"14.00\" fill=\"#000000\">TMP.GLASS..BAY.5.1TI30105.PV&lt;0.521395922</text>\n</g>\n<!-- 4&#45;&gt;7 -->\n<g id=\"edge5\" class=\"edge\">\n<title>4&#45;&gt;7</title>\n<path fill=\"none\" stroke=\"#0000ff\" d=\"M1017.3601,-436.8399C927.6225,-421.739 793.9562,-399.2458 701.4204,-383.674\"/>\n<polygon fill=\"#0000ff\" stroke=\"#0000ff\" points=\"701.9153,-380.2081 691.4731,-382.0001 700.7536,-387.1111 701.9153,-380.2081\"/>\n<text text-anchor=\"middle\" x=\"921.8922\" y=\"-405.8\" font-family=\"Times,serif\" font-size=\"14.00\" fill=\"#000000\">yes, missing</text>\n</g>\n<!-- 8 -->\n<g id=\"node7\" class=\"node\">\n<title>8</title>\n<ellipse fill=\"none\" stroke=\"#000000\" cx=\"1113.3922\" cy=\"-366\" rx=\"128.0773\" ry=\"18\"/>\n<text text-anchor=\"middle\" x=\"1113.3922\" y=\"-362.3\" font-family=\"Times,serif\" font-size=\"14.00\" fill=\"#000000\">D_AB10_L_LR&lt;&#45;1.19493675</text>\n</g>\n<!-- 4&#45;&gt;8 -->\n<g id=\"edge6\" class=\"edge\">\n<title>4&#45;&gt;8</title>\n<path fill=\"none\" stroke=\"#ff0000\" d=\"M1113.3922,-434.9735C1113.3922,-423.1918 1113.3922,-407.5607 1113.3922,-394.1581\"/>\n<polygon fill=\"#ff0000\" stroke=\"#ff0000\" points=\"1116.8923,-394.0033 1113.3922,-384.0034 1109.8923,-394.0034 1116.8923,-394.0033\"/>\n<text text-anchor=\"middle\" x=\"1121.3922\" y=\"-405.8\" font-family=\"Times,serif\" font-size=\"14.00\" fill=\"#000000\">no</text>\n</g>\n<!-- 13 -->\n<g id=\"node8\" class=\"node\">\n<title>13</title>\n<ellipse fill=\"none\" stroke=\"#000000\" cx=\"407.3922\" cy=\"-279\" rx=\"80.6858\" ry=\"18\"/>\n<text text-anchor=\"middle\" x=\"407.3922\" y=\"-275.3\" font-family=\"Times,serif\" font-size=\"14.00\" fill=\"#000000\">leaf=0.142977819</text>\n</g>\n<!-- 7&#45;&gt;13 -->\n<g id=\"edge7\" class=\"edge\">\n<title>7&#45;&gt;13</title>\n<path fill=\"none\" stroke=\"#0000ff\" d=\"M557.6891,-348.1843C527.0214,-334.0674 484.139,-314.3279 452.0248,-299.5452\"/>\n<polygon fill=\"#0000ff\" stroke=\"#0000ff\" points=\"453.3988,-296.3247 442.8515,-295.3225 450.4718,-302.6834 453.3988,-296.3247\"/>\n<text text-anchor=\"middle\" x=\"548.8922\" y=\"-318.8\" font-family=\"Times,serif\" font-size=\"14.00\" fill=\"#000000\">yes, missing</text>\n</g>\n<!-- 14 -->\n<g id=\"node9\" class=\"node\">\n<title>14</title>\n<ellipse fill=\"none\" stroke=\"#000000\" cx=\"596.3922\" cy=\"-279\" rx=\"90.1842\" ry=\"18\"/>\n<text text-anchor=\"middle\" x=\"596.3922\" y=\"-275.3\" font-family=\"Times,serif\" font-size=\"14.00\" fill=\"#000000\">leaf=0.00101828785</text>\n</g>\n<!-- 7&#45;&gt;14 -->\n<g id=\"edge8\" class=\"edge\">\n<title>7&#45;&gt;14</title>\n<path fill=\"none\" stroke=\"#ff0000\" d=\"M596.3922,-347.9735C596.3922,-336.1918 596.3922,-320.5607 596.3922,-307.1581\"/>\n<polygon fill=\"#ff0000\" stroke=\"#ff0000\" points=\"599.8923,-307.0033 596.3922,-297.0034 592.8923,-307.0034 599.8923,-307.0033\"/>\n<text text-anchor=\"middle\" x=\"604.3922\" y=\"-318.8\" font-family=\"Times,serif\" font-size=\"14.00\" fill=\"#000000\">no</text>\n</g>\n<!-- 15 -->\n<g id=\"node10\" class=\"node\">\n<title>15</title>\n<ellipse fill=\"none\" stroke=\"#000000\" cx=\"910.3922\" cy=\"-279\" rx=\"205.2636\" ry=\"18\"/>\n<text text-anchor=\"middle\" x=\"910.3922\" y=\"-275.3\" font-family=\"Times,serif\" font-size=\"14.00\" fill=\"#000000\">DROSS.BOX.PRESS.1PI40301.PV&lt;0.118405819</text>\n</g>\n<!-- 8&#45;&gt;15 -->\n<g id=\"edge9\" class=\"edge\">\n<title>8&#45;&gt;15</title>\n<path fill=\"none\" stroke=\"#0000ff\" d=\"M1073.2859,-348.8116C1041.1781,-335.0511 995.9413,-315.6639 961.2838,-300.8107\"/>\n<polygon fill=\"#0000ff\" stroke=\"#0000ff\" points=\"962.379,-297.4722 951.8088,-296.75 959.6215,-303.9063 962.379,-297.4722\"/>\n<text text-anchor=\"middle\" x=\"1059.8922\" y=\"-318.8\" font-family=\"Times,serif\" font-size=\"14.00\" fill=\"#000000\">yes, missing</text>\n</g>\n<!-- 16 -->\n<g id=\"node11\" class=\"node\">\n<title>16</title>\n<ellipse fill=\"none\" stroke=\"#000000\" cx=\"1367.3922\" cy=\"-279\" rx=\"233.1587\" ry=\"18\"/>\n<text text-anchor=\"middle\" x=\"1367.3922\" y=\"-275.3\" font-family=\"Times,serif\" font-size=\"14.00\" fill=\"#000000\">ROOF.HEATING.Zone81.1JIC31181.PV&lt;&#45;0.0589634776</text>\n</g>\n<!-- 8&#45;&gt;16 -->\n<g id=\"edge10\" class=\"edge\">\n<title>8&#45;&gt;16</title>\n<path fill=\"none\" stroke=\"#ff0000\" d=\"M1162.0654,-349.3285C1203.1312,-335.2626 1262.1229,-315.0568 1306.3467,-299.9093\"/>\n<polygon fill=\"#ff0000\" stroke=\"#ff0000\" points=\"1307.5038,-303.2126 1315.8301,-296.661 1305.2355,-296.5903 1307.5038,-303.2126\"/>\n<text text-anchor=\"middle\" x=\"1264.3922\" y=\"-318.8\" font-family=\"Times,serif\" font-size=\"14.00\" fill=\"#000000\">no</text>\n</g>\n<!-- 25 -->\n<g id=\"node12\" class=\"node\">\n<title>25</title>\n<ellipse fill=\"none\" stroke=\"#000000\" cx=\"275.3922\" cy=\"-192\" rx=\"122.3786\" ry=\"18\"/>\n<text text-anchor=\"middle\" x=\"275.3922\" y=\"-188.3\" font-family=\"Times,serif\" font-size=\"14.00\" fill=\"#000000\">STD_GLS_L&lt;&#45;0.966322899</text>\n</g>\n<!-- 15&#45;&gt;25 -->\n<g id=\"edge11\" class=\"edge\">\n<title>15&#45;&gt;25</title>\n<path fill=\"none\" stroke=\"#0000ff\" d=\"M799.4205,-263.796C679.6708,-247.3894 490.6808,-221.4962 375.3822,-205.6994\"/>\n<polygon fill=\"#0000ff\" stroke=\"#0000ff\" points=\"375.5306,-202.1871 365.148,-204.2973 374.5803,-209.1223 375.5306,-202.1871\"/>\n<text text-anchor=\"middle\" x=\"666.8922\" y=\"-231.8\" font-family=\"Times,serif\" font-size=\"14.00\" fill=\"#000000\">yes, missing</text>\n</g>\n<!-- 26 -->\n<g id=\"node13\" class=\"node\">\n<title>26</title>\n<ellipse fill=\"none\" stroke=\"#000000\" cx=\"910.3922\" cy=\"-192\" rx=\"120.4791\" ry=\"18\"/>\n<text text-anchor=\"middle\" x=\"910.3922\" y=\"-188.3\" font-family=\"Times,serif\" font-size=\"14.00\" fill=\"#000000\">D_AB2_L_UL&lt;0.37438333</text>\n</g>\n<!-- 15&#45;&gt;26 -->\n<g id=\"edge12\" class=\"edge\">\n<title>15&#45;&gt;26</title>\n<path fill=\"none\" stroke=\"#ff0000\" d=\"M910.3922,-260.9735C910.3922,-249.1918 910.3922,-233.5607 910.3922,-220.1581\"/>\n<polygon fill=\"#ff0000\" stroke=\"#ff0000\" points=\"913.8923,-220.0033 910.3922,-210.0034 906.8923,-220.0034 913.8923,-220.0033\"/>\n<text text-anchor=\"middle\" x=\"918.3922\" y=\"-231.8\" font-family=\"Times,serif\" font-size=\"14.00\" fill=\"#000000\">no</text>\n</g>\n<!-- 27 -->\n<g id=\"node20\" class=\"node\">\n<title>27</title>\n<ellipse fill=\"none\" stroke=\"#000000\" cx=\"1328.3922\" cy=\"-192\" rx=\"215.5619\" ry=\"18\"/>\n<text text-anchor=\"middle\" x=\"1328.3922\" y=\"-188.3\" font-family=\"Times,serif\" font-size=\"14.00\" fill=\"#000000\">UPPER.AB1.Z6.TMP.1TIC41106.PV&lt;&#45;0.156875312</text>\n</g>\n<!-- 16&#45;&gt;27 -->\n<g id=\"edge19\" class=\"edge\">\n<title>16&#45;&gt;27</title>\n<path fill=\"none\" stroke=\"#0000ff\" d=\"M1359.3113,-260.9735C1353.9253,-248.9585 1346.7446,-232.9401 1340.659,-219.3646\"/>\n<polygon fill=\"#0000ff\" stroke=\"#0000ff\" points=\"1343.747,-217.6967 1336.4626,-210.0034 1337.3595,-220.5602 1343.747,-217.6967\"/>\n<text text-anchor=\"middle\" x=\"1385.8922\" y=\"-231.8\" font-family=\"Times,serif\" font-size=\"14.00\" fill=\"#000000\">yes, missing</text>\n</g>\n<!-- 28 -->\n<g id=\"node21\" class=\"node\">\n<title>28</title>\n<ellipse fill=\"none\" stroke=\"#000000\" cx=\"1801.3922\" cy=\"-192\" rx=\"239.3577\" ry=\"18\"/>\n<text text-anchor=\"middle\" x=\"1801.3922\" y=\"-188.3\" font-family=\"Times,serif\" font-size=\"14.00\" fill=\"#000000\">DB.HEAT.TOP.7.1.2.TMP.CT.1JI40307.PV&lt;&#45;0.397189677</text>\n</g>\n<!-- 16&#45;&gt;28 -->\n<g id=\"edge20\" class=\"edge\">\n<title>16&#45;&gt;28</title>\n<path fill=\"none\" stroke=\"#ff0000\" d=\"M1451.3289,-262.174C1524.5521,-247.4956 1630.6982,-226.2174 1706.886,-210.9448\"/>\n<polygon fill=\"#ff0000\" stroke=\"#ff0000\" points=\"1707.8442,-214.3224 1716.9612,-208.9251 1706.4683,-207.459 1707.8442,-214.3224\"/>\n<text text-anchor=\"middle\" x=\"1618.3922\" y=\"-231.8\" font-family=\"Times,serif\" font-size=\"14.00\" fill=\"#000000\">no</text>\n</g>\n<!-- 41 -->\n<g id=\"node14\" class=\"node\">\n<title>41</title>\n<ellipse fill=\"none\" stroke=\"#000000\" cx=\"88.3922\" cy=\"-105\" rx=\"88.2844\" ry=\"18\"/>\n<text text-anchor=\"middle\" x=\"88.3922\" y=\"-101.3\" font-family=\"Times,serif\" font-size=\"14.00\" fill=\"#000000\">leaf=&#45;0.0286895316</text>\n</g>\n<!-- 25&#45;&gt;41 -->\n<g id=\"edge13\" class=\"edge\">\n<title>25&#45;&gt;41</title>\n<path fill=\"none\" stroke=\"#0000ff\" d=\"M238.447,-174.8116C208.2212,-160.7493 165.365,-140.8109 133.1865,-125.8402\"/>\n<polygon fill=\"#0000ff\" stroke=\"#0000ff\" points=\"134.535,-122.6073 123.9918,-121.5624 131.5822,-128.9541 134.535,-122.6073\"/>\n<text text-anchor=\"middle\" x=\"228.8922\" y=\"-144.8\" font-family=\"Times,serif\" font-size=\"14.00\" fill=\"#000000\">yes, missing</text>\n</g>\n<!-- 42 -->\n<g id=\"node15\" class=\"node\">\n<title>42</title>\n<ellipse fill=\"none\" stroke=\"#000000\" cx=\"275.3922\" cy=\"-105\" rx=\"80.6858\" ry=\"18\"/>\n<text text-anchor=\"middle\" x=\"275.3922\" y=\"-101.3\" font-family=\"Times,serif\" font-size=\"14.00\" fill=\"#000000\">leaf=0.148323625</text>\n</g>\n<!-- 25&#45;&gt;42 -->\n<g id=\"edge14\" class=\"edge\">\n<title>25&#45;&gt;42</title>\n<path fill=\"none\" stroke=\"#ff0000\" d=\"M275.3922,-173.9735C275.3922,-162.1918 275.3922,-146.5607 275.3922,-133.1581\"/>\n<polygon fill=\"#ff0000\" stroke=\"#ff0000\" points=\"278.8923,-133.0033 275.3922,-123.0034 271.8923,-133.0034 278.8923,-133.0033\"/>\n<text text-anchor=\"middle\" x=\"283.3922\" y=\"-144.8\" font-family=\"Times,serif\" font-size=\"14.00\" fill=\"#000000\">no</text>\n</g>\n<!-- 43 -->\n<g id=\"node16\" class=\"node\">\n<title>43</title>\n<ellipse fill=\"none\" stroke=\"#000000\" cx=\"595.3922\" cy=\"-105\" rx=\"220.9608\" ry=\"18\"/>\n<text text-anchor=\"middle\" x=\"595.3922\" y=\"-101.3\" font-family=\"Times,serif\" font-size=\"14.00\" fill=\"#000000\">ROOF.HEATING.Zone36.1JIC31136.PV&lt;1.14108706</text>\n</g>\n<!-- 26&#45;&gt;43 -->\n<g id=\"edge15\" class=\"edge\">\n<title>26&#45;&gt;43</title>\n<path fill=\"none\" stroke=\"#0000ff\" d=\"M852.9826,-176.144C801.0038,-161.788 724.191,-140.573 667.9714,-125.0457\"/>\n<polygon fill=\"#0000ff\" stroke=\"#0000ff\" points=\"668.6483,-121.6017 658.0774,-122.3131 666.7847,-128.3491 668.6483,-121.6017\"/>\n<text text-anchor=\"middle\" x=\"807.8922\" y=\"-144.8\" font-family=\"Times,serif\" font-size=\"14.00\" fill=\"#000000\">yes, missing</text>\n</g>\n<!-- 44 -->\n<g id=\"node17\" class=\"node\">\n<title>44</title>\n<ellipse fill=\"none\" stroke=\"#000000\" cx=\"919.3922\" cy=\"-105\" rx=\"85.2851\" ry=\"18\"/>\n<text text-anchor=\"middle\" x=\"919.3922\" y=\"-101.3\" font-family=\"Times,serif\" font-size=\"14.00\" fill=\"#000000\">leaf=0.0367827415</text>\n</g>\n<!-- 26&#45;&gt;44 -->\n<g id=\"edge16\" class=\"edge\">\n<title>26&#45;&gt;44</title>\n<path fill=\"none\" stroke=\"#ff0000\" d=\"M912.257,-173.9735C913.4758,-162.1918 915.0928,-146.5607 916.4793,-133.1581\"/>\n<polygon fill=\"#ff0000\" stroke=\"#ff0000\" points=\"919.9821,-133.3105 917.5297,-123.0034 913.0192,-132.5901 919.9821,-133.3105\"/>\n<text text-anchor=\"middle\" x=\"924.3922\" y=\"-144.8\" font-family=\"Times,serif\" font-size=\"14.00\" fill=\"#000000\">no</text>\n</g>\n<!-- 69 -->\n<g id=\"node18\" class=\"node\">\n<title>69</title>\n<ellipse fill=\"none\" stroke=\"#000000\" cx=\"492.3922\" cy=\"-18\" rx=\"83.3857\" ry=\"18\"/>\n<text text-anchor=\"middle\" x=\"492.3922\" y=\"-14.3\" font-family=\"Times,serif\" font-size=\"14.00\" fill=\"#000000\">leaf=&#45;0.124835037</text>\n</g>\n<!-- 43&#45;&gt;69 -->\n<g id=\"edge17\" class=\"edge\">\n<title>43&#45;&gt;69</title>\n<path fill=\"none\" stroke=\"#0000ff\" d=\"M574.0505,-86.9735C558.7577,-74.0564 537.987,-56.5122 521.2213,-42.3508\"/>\n<polygon fill=\"#0000ff\" stroke=\"#0000ff\" points=\"523.2521,-39.4847 513.3541,-35.7057 518.7351,-44.8323 523.2521,-39.4847\"/>\n<text text-anchor=\"middle\" x=\"585.8922\" y=\"-57.8\" font-family=\"Times,serif\" font-size=\"14.00\" fill=\"#000000\">yes, missing</text>\n</g>\n<!-- 70 -->\n<g id=\"node19\" class=\"node\">\n<title>70</title>\n<ellipse fill=\"none\" stroke=\"#000000\" cx=\"684.3922\" cy=\"-18\" rx=\"90.1842\" ry=\"18\"/>\n<text text-anchor=\"middle\" x=\"684.3922\" y=\"-14.3\" font-family=\"Times,serif\" font-size=\"14.00\" fill=\"#000000\">leaf=0.00737229688</text>\n</g>\n<!-- 43&#45;&gt;70 -->\n<g id=\"edge18\" class=\"edge\">\n<title>43&#45;&gt;70</title>\n<path fill=\"none\" stroke=\"#ff0000\" d=\"M613.833,-86.9735C626.927,-74.1738 644.6687,-56.8308 659.0856,-42.7379\"/>\n<polygon fill=\"#ff0000\" stroke=\"#ff0000\" points=\"661.5751,-45.1988 666.2794,-35.7057 656.6818,-40.1931 661.5751,-45.1988\"/>\n<text text-anchor=\"middle\" x=\"653.3922\" y=\"-57.8\" font-family=\"Times,serif\" font-size=\"14.00\" fill=\"#000000\">no</text>\n</g>\n<!-- 45 -->\n<g id=\"node22\" class=\"node\">\n<title>45</title>\n<ellipse fill=\"none\" stroke=\"#000000\" cx=\"1150.3922\" cy=\"-105\" rx=\"127.2775\" ry=\"18\"/>\n<text text-anchor=\"middle\" x=\"1150.3922\" y=\"-101.3\" font-family=\"Times,serif\" font-size=\"14.00\" fill=\"#000000\">l_tin_bay_5_7&lt;0.0501349755</text>\n</g>\n<!-- 27&#45;&gt;45 -->\n<g id=\"edge21\" class=\"edge\">\n<title>27&#45;&gt;45</title>\n<path fill=\"none\" stroke=\"#0000ff\" d=\"M1291.9417,-174.1843C1263.9492,-160.5026 1225.1513,-141.5396 1195.2525,-126.9261\"/>\n<polygon fill=\"#0000ff\" stroke=\"#0000ff\" points=\"1196.404,-123.5933 1185.8828,-122.3465 1193.3301,-129.8823 1196.404,-123.5933\"/>\n<text text-anchor=\"middle\" x=\"1285.8922\" y=\"-144.8\" font-family=\"Times,serif\" font-size=\"14.00\" fill=\"#000000\">yes, missing</text>\n</g>\n<!-- 46 -->\n<g id=\"node23\" class=\"node\">\n<title>46</title>\n<ellipse fill=\"none\" stroke=\"#000000\" cx=\"1420.3922\" cy=\"-105\" rx=\"124.5782\" ry=\"18\"/>\n<text text-anchor=\"middle\" x=\"1420.3922\" y=\"-101.3\" font-family=\"Times,serif\" font-size=\"14.00\" fill=\"#000000\">D_AB4_L_LR&lt;0.894059181</text>\n</g>\n<!-- 27&#45;&gt;46 -->\n<g id=\"edge22\" class=\"edge\">\n<title>27&#45;&gt;46</title>\n<path fill=\"none\" stroke=\"#ff0000\" d=\"M1347.4546,-173.9735C1360.9003,-161.2586 1379.087,-144.0603 1393.9361,-130.0183\"/>\n<polygon fill=\"#ff0000\" stroke=\"#ff0000\" points=\"1396.4932,-132.4173 1401.3541,-123.0034 1391.6835,-127.3312 1396.4932,-132.4173\"/>\n<text text-anchor=\"middle\" x=\"1388.3922\" y=\"-144.8\" font-family=\"Times,serif\" font-size=\"14.00\" fill=\"#000000\">no</text>\n</g>\n<!-- 47 -->\n<g id=\"node28\" class=\"node\">\n<title>47</title>\n<ellipse fill=\"none\" stroke=\"#000000\" cx=\"1780.3922\" cy=\"-105\" rx=\"217.1615\" ry=\"18\"/>\n<text text-anchor=\"middle\" x=\"1780.3922\" y=\"-101.3\" font-family=\"Times,serif\" font-size=\"14.00\" fill=\"#000000\">ATM.FLOW.SECT.4.N2.1FI33405.PV&lt;0.167012036</text>\n</g>\n<!-- 28&#45;&gt;47 -->\n<g id=\"edge27\" class=\"edge\">\n<title>28&#45;&gt;47</title>\n<path fill=\"none\" stroke=\"#0000ff\" d=\"M1797.0409,-173.9735C1794.1689,-162.0751 1790.3492,-146.2508 1787.093,-132.7606\"/>\n<polygon fill=\"#0000ff\" stroke=\"#0000ff\" points=\"1790.4866,-131.9029 1784.7378,-123.0034 1783.682,-133.5455 1790.4866,-131.9029\"/>\n<text text-anchor=\"middle\" x=\"1827.8922\" y=\"-144.8\" font-family=\"Times,serif\" font-size=\"14.00\" fill=\"#000000\">yes, missing</text>\n</g>\n<!-- 48 -->\n<g id=\"node29\" class=\"node\">\n<title>48</title>\n<ellipse fill=\"none\" stroke=\"#000000\" cx=\"2240.3922\" cy=\"-105\" rx=\"224.7602\" ry=\"18\"/>\n<text text-anchor=\"middle\" x=\"2240.3922\" y=\"-101.3\" font-family=\"Times,serif\" font-size=\"14.00\" fill=\"#000000\">ROOF.HEATING.Zone.4.1JIC31104.PV.1&lt;1.60334659</text>\n</g>\n<!-- 28&#45;&gt;48 -->\n<g id=\"edge28\" class=\"edge\">\n<title>28&#45;&gt;48</title>\n<path fill=\"none\" stroke=\"#ff0000\" d=\"M1886.5563,-175.1224C1960.8893,-160.3912 2068.6188,-139.0416 2145.6537,-123.775\"/>\n<polygon fill=\"#ff0000\" stroke=\"#ff0000\" points=\"2146.7096,-127.1339 2155.8384,-121.7567 2145.3488,-120.2675 2146.7096,-127.1339\"/>\n<text text-anchor=\"middle\" x=\"2055.3922\" y=\"-144.8\" font-family=\"Times,serif\" font-size=\"14.00\" fill=\"#000000\">no</text>\n</g>\n<!-- 71 -->\n<g id=\"node24\" class=\"node\">\n<title>71</title>\n<ellipse fill=\"none\" stroke=\"#000000\" cx=\"980.3922\" cy=\"-18\" rx=\"80.6858\" ry=\"18\"/>\n<text text-anchor=\"middle\" x=\"980.3922\" y=\"-14.3\" font-family=\"Times,serif\" font-size=\"14.00\" fill=\"#000000\">leaf=0.129766434</text>\n</g>\n<!-- 45&#45;&gt;71 -->\n<g id=\"edge23\" class=\"edge\">\n<title>45&#45;&gt;71</title>\n<path fill=\"none\" stroke=\"#0000ff\" d=\"M1116.3987,-87.6033C1089.2071,-73.6877 1050.9644,-54.1164 1021.9537,-39.2697\"/>\n<polygon fill=\"#0000ff\" stroke=\"#0000ff\" points=\"1023.3813,-36.0687 1012.8848,-34.6286 1020.1923,-42.3001 1023.3813,-36.0687\"/>\n<text text-anchor=\"middle\" x=\"1111.8922\" y=\"-57.8\" font-family=\"Times,serif\" font-size=\"14.00\" fill=\"#000000\">yes, missing</text>\n</g>\n<!-- 72 -->\n<g id=\"node25\" class=\"node\">\n<title>72</title>\n<ellipse fill=\"none\" stroke=\"#000000\" cx=\"1167.3922\" cy=\"-18\" rx=\"88.2844\" ry=\"18\"/>\n<text text-anchor=\"middle\" x=\"1167.3922\" y=\"-14.3\" font-family=\"Times,serif\" font-size=\"14.00\" fill=\"#000000\">leaf=&#45;0.0720077977</text>\n</g>\n<!-- 45&#45;&gt;72 -->\n<g id=\"edge24\" class=\"edge\">\n<title>45&#45;&gt;72</title>\n<path fill=\"none\" stroke=\"#ff0000\" d=\"M1153.9146,-86.9735C1156.2168,-75.1918 1159.2711,-59.5607 1161.89,-46.1581\"/>\n<polygon fill=\"#ff0000\" stroke=\"#ff0000\" points=\"1165.3915,-46.489 1163.8743,-36.0034 1158.5214,-45.1465 1165.3915,-46.489\"/>\n<text text-anchor=\"middle\" x=\"1168.3922\" y=\"-57.8\" font-family=\"Times,serif\" font-size=\"14.00\" fill=\"#000000\">no</text>\n</g>\n<!-- 73 -->\n<g id=\"node26\" class=\"node\">\n<title>73</title>\n<ellipse fill=\"none\" stroke=\"#000000\" cx=\"1391.3922\" cy=\"-18\" rx=\"83.3857\" ry=\"18\"/>\n<text text-anchor=\"middle\" x=\"1391.3922\" y=\"-14.3\" font-family=\"Times,serif\" font-size=\"14.00\" fill=\"#000000\">leaf=&#45;0.110692583</text>\n</g>\n<!-- 46&#45;&gt;73 -->\n<g id=\"edge25\" class=\"edge\">\n<title>46&#45;&gt;73</title>\n<path fill=\"none\" stroke=\"#0000ff\" d=\"M1414.3833,-86.9735C1410.4172,-75.0751 1405.1424,-59.2508 1400.6457,-45.7606\"/>\n<polygon fill=\"#0000ff\" stroke=\"#0000ff\" points=\"1403.876,-44.3834 1397.3933,-36.0034 1397.2352,-46.597 1403.876,-44.3834\"/>\n<text text-anchor=\"middle\" x=\"1443.8922\" y=\"-57.8\" font-family=\"Times,serif\" font-size=\"14.00\" fill=\"#000000\">yes, missing</text>\n</g>\n<!-- 74 -->\n<g id=\"node27\" class=\"node\">\n<title>74</title>\n<ellipse fill=\"none\" stroke=\"#000000\" cx=\"1577.3922\" cy=\"-18\" rx=\"85.2851\" ry=\"18\"/>\n<text text-anchor=\"middle\" x=\"1577.3922\" y=\"-14.3\" font-family=\"Times,serif\" font-size=\"14.00\" fill=\"#000000\">leaf=0.0460105464</text>\n</g>\n<!-- 46&#45;&gt;74 -->\n<g id=\"edge26\" class=\"edge\">\n<title>46&#45;&gt;74</title>\n<path fill=\"none\" stroke=\"#ff0000\" d=\"M1452.1634,-87.3943C1476.9302,-73.67 1511.4538,-54.5391 1537.9813,-39.8392\"/>\n<polygon fill=\"#ff0000\" stroke=\"#ff0000\" points=\"1539.9514,-42.7489 1547.0018,-34.8405 1536.5585,-36.6262 1539.9514,-42.7489\"/>\n<text text-anchor=\"middle\" x=\"1516.3922\" y=\"-57.8\" font-family=\"Times,serif\" font-size=\"14.00\" fill=\"#000000\">no</text>\n</g>\n<!-- 75 -->\n<g id=\"node30\" class=\"node\">\n<title>75</title>\n<ellipse fill=\"none\" stroke=\"#000000\" cx=\"1771.3922\" cy=\"-18\" rx=\"83.3857\" ry=\"18\"/>\n<text text-anchor=\"middle\" x=\"1771.3922\" y=\"-14.3\" font-family=\"Times,serif\" font-size=\"14.00\" fill=\"#000000\">leaf=&#45;0.117740214</text>\n</g>\n<!-- 47&#45;&gt;75 -->\n<g id=\"edge29\" class=\"edge\">\n<title>47&#45;&gt;75</title>\n<path fill=\"none\" stroke=\"#0000ff\" d=\"M1778.5274,-86.9735C1777.3085,-75.1918 1775.6915,-59.5607 1774.3051,-46.1581\"/>\n<polygon fill=\"#0000ff\" stroke=\"#0000ff\" points=\"1777.7651,-45.5901 1773.2546,-36.0034 1770.8022,-46.3105 1777.7651,-45.5901\"/>\n<text text-anchor=\"middle\" x=\"1812.8922\" y=\"-57.8\" font-family=\"Times,serif\" font-size=\"14.00\" fill=\"#000000\">yes, missing</text>\n</g>\n<!-- 76 -->\n<g id=\"node31\" class=\"node\">\n<title>76</title>\n<ellipse fill=\"none\" stroke=\"#000000\" cx=\"1957.3922\" cy=\"-18\" rx=\"85.2851\" ry=\"18\"/>\n<text text-anchor=\"middle\" x=\"1957.3922\" y=\"-14.3\" font-family=\"Times,serif\" font-size=\"14.00\" fill=\"#000000\">leaf=0.0959309563</text>\n</g>\n<!-- 47&#45;&gt;76 -->\n<g id=\"edge30\" class=\"edge\">\n<title>47&#45;&gt;76</title>\n<path fill=\"none\" stroke=\"#ff0000\" d=\"M1816.6379,-87.1843C1844.9294,-73.2783 1884.3208,-53.9164 1914.2388,-39.211\"/>\n<polygon fill=\"#ff0000\" stroke=\"#ff0000\" points=\"1916.1629,-42.1652 1923.5934,-34.6129 1913.075,-35.8831 1916.1629,-42.1652\"/>\n<text text-anchor=\"middle\" x=\"1888.3922\" y=\"-57.8\" font-family=\"Times,serif\" font-size=\"14.00\" fill=\"#000000\">no</text>\n</g>\n<!-- 77 -->\n<g id=\"node32\" class=\"node\">\n<title>77</title>\n<ellipse fill=\"none\" stroke=\"#000000\" cx=\"2220.3922\" cy=\"-18\" rx=\"81.7856\" ry=\"18\"/>\n<text text-anchor=\"middle\" x=\"2220.3922\" y=\"-14.3\" font-family=\"Times,serif\" font-size=\"14.00\" fill=\"#000000\">leaf=&#45;0.111120261</text>\n</g>\n<!-- 48&#45;&gt;77 -->\n<g id=\"edge31\" class=\"edge\">\n<title>48&#45;&gt;77</title>\n<path fill=\"none\" stroke=\"#0000ff\" d=\"M2236.2481,-86.9735C2233.5129,-75.0751 2229.8751,-59.2508 2226.7739,-45.7606\"/>\n<polygon fill=\"#0000ff\" stroke=\"#0000ff\" points=\"2230.1824,-44.965 2224.5309,-36.0034 2223.3603,-46.5333 2230.1824,-44.965\"/>\n<text text-anchor=\"middle\" x=\"2267.8922\" y=\"-57.8\" font-family=\"Times,serif\" font-size=\"14.00\" fill=\"#000000\">yes, missing</text>\n</g>\n<!-- 78 -->\n<g id=\"node33\" class=\"node\">\n<title>78</title>\n<ellipse fill=\"none\" stroke=\"#000000\" cx=\"2405.3922\" cy=\"-18\" rx=\"85.2851\" ry=\"18\"/>\n<text text-anchor=\"middle\" x=\"2405.3922\" y=\"-14.3\" font-family=\"Times,serif\" font-size=\"14.00\" fill=\"#000000\">leaf=0.0224533975</text>\n</g>\n<!-- 48&#45;&gt;78 -->\n<g id=\"edge32\" class=\"edge\">\n<title>48&#45;&gt;78</title>\n<path fill=\"none\" stroke=\"#ff0000\" d=\"M2274.1805,-87.1843C2300.3551,-73.3832 2336.7216,-54.2081 2364.532,-39.5444\"/>\n<polygon fill=\"#ff0000\" stroke=\"#ff0000\" points=\"2366.395,-42.5189 2373.6083,-34.7588 2363.1301,-36.3269 2366.395,-42.5189\"/>\n<text text-anchor=\"middle\" x=\"2341.3922\" y=\"-57.8\" font-family=\"Times,serif\" font-size=\"14.00\" fill=\"#000000\">no</text>\n</g>\n<!-- 9 -->\n<g id=\"node36\" class=\"node\">\n<title>9</title>\n<ellipse fill=\"none\" stroke=\"#000000\" cx=\"3977.3922\" cy=\"-366\" rx=\"135.3763\" ry=\"18\"/>\n<text text-anchor=\"middle\" x=\"3977.3922\" y=\"-362.3\" font-family=\"Times,serif\" font-size=\"14.00\" fill=\"#000000\">D_GLS_AB7_LR&lt;&#45;1.44950652</text>\n</g>\n<!-- 5&#45;&gt;9 -->\n<g id=\"edge35\" class=\"edge\">\n<title>5&#45;&gt;9</title>\n<path fill=\"none\" stroke=\"#0000ff\" d=\"M4218.4105,-436.8399C4168.856,-422.2748 4095.9041,-400.8329 4043.2515,-385.3573\"/>\n<polygon fill=\"#0000ff\" stroke=\"#0000ff\" points=\"4043.9171,-381.9049 4033.3359,-382.4429 4041.9431,-388.6209 4043.9171,-381.9049\"/>\n<text text-anchor=\"middle\" x=\"4178.8922\" y=\"-405.8\" font-family=\"Times,serif\" font-size=\"14.00\" fill=\"#000000\">yes, missing</text>\n</g>\n<!-- 10 -->\n<g id=\"node37\" class=\"node\">\n<title>10</title>\n<ellipse fill=\"none\" stroke=\"#000000\" cx=\"4623.3922\" cy=\"-366\" rx=\"120.7786\" ry=\"18\"/>\n<text text-anchor=\"middle\" x=\"4623.3922\" y=\"-362.3\" font-family=\"Times,serif\" font-size=\"14.00\" fill=\"#000000\">D_AB8_U_LR&lt;1.48137069</text>\n</g>\n<!-- 5&#45;&gt;10 -->\n<g id=\"edge36\" class=\"edge\">\n<title>5&#45;&gt;10</title>\n<path fill=\"none\" stroke=\"#ff0000\" d=\"M4335.9651,-437.4461C4396.3435,-422.4378 4487.6856,-399.7328 4551.1323,-383.9617\"/>\n<polygon fill=\"#ff0000\" stroke=\"#ff0000\" points=\"4552.2063,-387.3014 4561.0666,-381.4923 4550.5176,-380.5081 4552.2063,-387.3014\"/>\n<text text-anchor=\"middle\" x=\"4477.3922\" y=\"-405.8\" font-family=\"Times,serif\" font-size=\"14.00\" fill=\"#000000\">no</text>\n</g>\n<!-- 11 -->\n<g id=\"node66\" class=\"node\">\n<title>11</title>\n<ellipse fill=\"none\" stroke=\"#000000\" cx=\"6479.3922\" cy=\"-366\" rx=\"240.4573\" ry=\"18\"/>\n<text text-anchor=\"middle\" x=\"6479.3922\" y=\"-362.3\" font-family=\"Times,serif\" font-size=\"14.00\" fill=\"#000000\">DB.HEAT.BTM.LEFT.1.TMP.1TI40315.PV&lt;&#45;0.524011493</text>\n</g>\n<!-- 6&#45;&gt;11 -->\n<g id=\"edge65\" class=\"edge\">\n<title>6&#45;&gt;11</title>\n<path fill=\"none\" stroke=\"#0000ff\" d=\"M6479.3922,-434.9735C6479.3922,-423.1918 6479.3922,-407.5607 6479.3922,-394.1581\"/>\n<polygon fill=\"#0000ff\" stroke=\"#0000ff\" points=\"6482.8923,-394.0033 6479.3922,-384.0034 6475.8923,-394.0034 6482.8923,-394.0033\"/>\n<text text-anchor=\"middle\" x=\"6514.8922\" y=\"-405.8\" font-family=\"Times,serif\" font-size=\"14.00\" fill=\"#000000\">yes, missing</text>\n</g>\n<!-- 12 -->\n<g id=\"node67\" class=\"node\">\n<title>12</title>\n<ellipse fill=\"none\" stroke=\"#000000\" cx=\"7712.3922\" cy=\"-366\" rx=\"143.7746\" ry=\"18\"/>\n<text text-anchor=\"middle\" x=\"7712.3922\" y=\"-362.3\" font-family=\"Times,serif\" font-size=\"14.00\" fill=\"#000000\">S_AB5_AB6_U_L&lt;&#45;0.803722739</text>\n</g>\n<!-- 6&#45;&gt;12 -->\n<g id=\"edge66\" class=\"edge\">\n<title>6&#45;&gt;12</title>\n<path fill=\"none\" stroke=\"#ff0000\" d=\"M6657.3641,-440.4424C6906.2954,-422.8779 7353.0009,-391.3585 7576.811,-375.5666\"/>\n<polygon fill=\"#ff0000\" stroke=\"#ff0000\" points=\"7577.2421,-379.0449 7586.971,-374.8497 7576.7494,-372.0623 7577.2421,-379.0449\"/>\n<text text-anchor=\"middle\" x=\"7178.3922\" y=\"-405.8\" font-family=\"Times,serif\" font-size=\"14.00\" fill=\"#000000\">no</text>\n</g>\n<!-- 17 -->\n<g id=\"node38\" class=\"node\">\n<title>17</title>\n<ellipse fill=\"none\" stroke=\"#000000\" cx=\"3245.3922\" cy=\"-279\" rx=\"221.7607\" ry=\"18\"/>\n<text text-anchor=\"middle\" x=\"3245.3922\" y=\"-275.3\" font-family=\"Times,serif\" font-size=\"14.00\" fill=\"#000000\">LOWER.AB3.Z37.TMP.1TIC41352.PV&lt;0.199752569</text>\n</g>\n<!-- 9&#45;&gt;17 -->\n<g id=\"edge37\" class=\"edge\">\n<title>9&#45;&gt;17</title>\n<path fill=\"none\" stroke=\"#0000ff\" d=\"M3876.3792,-353.9944C3747.4968,-338.6764 3524.1271,-312.1283 3380.6497,-295.0757\"/>\n<polygon fill=\"#0000ff\" stroke=\"#0000ff\" points=\"3380.803,-291.5694 3370.4598,-293.8646 3379.9768,-298.5204 3380.803,-291.5694\"/>\n<text text-anchor=\"middle\" x=\"3690.8922\" y=\"-318.8\" font-family=\"Times,serif\" font-size=\"14.00\" fill=\"#000000\">yes, missing</text>\n</g>\n<!-- 18 -->\n<g id=\"node39\" class=\"node\">\n<title>18</title>\n<ellipse fill=\"none\" stroke=\"#000000\" cx=\"3977.3922\" cy=\"-279\" rx=\"125.3778\" ry=\"18\"/>\n<text text-anchor=\"middle\" x=\"3977.3922\" y=\"-275.3\" font-family=\"Times,serif\" font-size=\"14.00\" fill=\"#000000\">S_C2_C3_U_L&lt;&#45;1.38680255</text>\n</g>\n<!-- 9&#45;&gt;18 -->\n<g id=\"edge38\" class=\"edge\">\n<title>9&#45;&gt;18</title>\n<path fill=\"none\" stroke=\"#ff0000\" d=\"M3977.3922,-347.9735C3977.3922,-336.1918 3977.3922,-320.5607 3977.3922,-307.1581\"/>\n<polygon fill=\"#ff0000\" stroke=\"#ff0000\" points=\"3980.8923,-307.0033 3977.3922,-297.0034 3973.8923,-307.0034 3980.8923,-307.0033\"/>\n<text text-anchor=\"middle\" x=\"3985.3922\" y=\"-318.8\" font-family=\"Times,serif\" font-size=\"14.00\" fill=\"#000000\">no</text>\n</g>\n<!-- 19 -->\n<g id=\"node62\" class=\"node\">\n<title>19</title>\n<ellipse fill=\"none\" stroke=\"#000000\" cx=\"4623.3922\" cy=\"-279\" rx=\"219.8612\" ry=\"18\"/>\n<text text-anchor=\"middle\" x=\"4623.3922\" y=\"-275.3\" font-family=\"Times,serif\" font-size=\"14.00\" fill=\"#000000\">ATM.FLOW.SECT.7.N2.1FI33411.PV&lt;&#45;0.265868783</text>\n</g>\n<!-- 10&#45;&gt;19 -->\n<g id=\"edge61\" class=\"edge\">\n<title>10&#45;&gt;19</title>\n<path fill=\"none\" stroke=\"#0000ff\" d=\"M4623.3922,-347.9735C4623.3922,-336.1918 4623.3922,-320.5607 4623.3922,-307.1581\"/>\n<polygon fill=\"#0000ff\" stroke=\"#0000ff\" points=\"4626.8923,-307.0033 4623.3922,-297.0034 4619.8923,-307.0034 4626.8923,-307.0033\"/>\n<text text-anchor=\"middle\" x=\"4658.8922\" y=\"-318.8\" font-family=\"Times,serif\" font-size=\"14.00\" fill=\"#000000\">yes, missing</text>\n</g>\n<!-- 20 -->\n<g id=\"node63\" class=\"node\">\n<title>20</title>\n<ellipse fill=\"none\" stroke=\"#000000\" cx=\"4946.3922\" cy=\"-279\" rx=\"85.2851\" ry=\"18\"/>\n<text text-anchor=\"middle\" x=\"4946.3922\" y=\"-275.3\" font-family=\"Times,serif\" font-size=\"14.00\" fill=\"#000000\">leaf=0.0260921009</text>\n</g>\n<!-- 10&#45;&gt;20 -->\n<g id=\"edge62\" class=\"edge\">\n<title>10&#45;&gt;20</title>\n<path fill=\"none\" stroke=\"#ff0000\" d=\"M4681.885,-350.245C4738.9407,-334.877 4825.4346,-311.5799 4883.8389,-295.8487\"/>\n<polygon fill=\"#ff0000\" stroke=\"#ff0000\" points=\"4884.9364,-299.1779 4893.682,-293.1975 4883.1158,-292.4188 4884.9364,-299.1779\"/>\n<text text-anchor=\"middle\" x=\"4812.3922\" y=\"-318.8\" font-family=\"Times,serif\" font-size=\"14.00\" fill=\"#000000\">no</text>\n</g>\n<!-- 29 -->\n<g id=\"node40\" class=\"node\">\n<title>29</title>\n<ellipse fill=\"none\" stroke=\"#000000\" cx=\"2790.3922\" cy=\"-192\" rx=\"220.161\" ry=\"18\"/>\n<text text-anchor=\"middle\" x=\"2790.3922\" y=\"-188.3\" font-family=\"Times,serif\" font-size=\"14.00\" fill=\"#000000\">ROOF.HEATING.Zone53.1JIC31153.PV&lt;1.30113757</text>\n</g>\n<!-- 17&#45;&gt;29 -->\n<g id=\"edge39\" class=\"edge\">\n<title>17&#45;&gt;29</title>\n<path fill=\"none\" stroke=\"#0000ff\" d=\"M3158.7392,-262.4312C3081.2217,-247.6092 2967.7359,-225.9097 2887.2498,-210.52\"/>\n<polygon fill=\"#0000ff\" stroke=\"#0000ff\" points=\"2887.5885,-207.0215 2877.1091,-208.581 2886.2738,-213.8969 2887.5885,-207.0215\"/>\n<text text-anchor=\"middle\" x=\"3080.8922\" y=\"-231.8\" font-family=\"Times,serif\" font-size=\"14.00\" fill=\"#000000\">yes, missing</text>\n</g>\n<!-- 30 -->\n<g id=\"node41\" class=\"node\">\n<title>30</title>\n<ellipse fill=\"none\" stroke=\"#000000\" cx=\"3245.3922\" cy=\"-192\" rx=\"217.1615\" ry=\"18\"/>\n<text text-anchor=\"middle\" x=\"3245.3922\" y=\"-188.3\" font-family=\"Times,serif\" font-size=\"14.00\" fill=\"#000000\">LOWER.AB6.Z78.TMP.1TIC41651.PV&lt;1.01906133</text>\n</g>\n<!-- 17&#45;&gt;30 -->\n<g id=\"edge40\" class=\"edge\">\n<title>17&#45;&gt;30</title>\n<path fill=\"none\" stroke=\"#ff0000\" d=\"M3245.3922,-260.9735C3245.3922,-249.1918 3245.3922,-233.5607 3245.3922,-220.1581\"/>\n<polygon fill=\"#ff0000\" stroke=\"#ff0000\" points=\"3248.8923,-220.0033 3245.3922,-210.0034 3241.8923,-220.0034 3248.8923,-220.0033\"/>\n<text text-anchor=\"middle\" x=\"3253.3922\" y=\"-231.8\" font-family=\"Times,serif\" font-size=\"14.00\" fill=\"#000000\">no</text>\n</g>\n<!-- 31 -->\n<g id=\"node48\" class=\"node\">\n<title>31</title>\n<ellipse fill=\"none\" stroke=\"#000000\" cx=\"3879.3922\" cy=\"-192\" rx=\"148.6738\" ry=\"18\"/>\n<text text-anchor=\"middle\" x=\"3879.3922\" y=\"-188.3\" font-family=\"Times,serif\" font-size=\"14.00\" fill=\"#000000\">S_AB6_AB7_U_L&lt;&#45;0.0479266942</text>\n</g>\n<!-- 18&#45;&gt;31 -->\n<g id=\"edge47\" class=\"edge\">\n<title>18&#45;&gt;31</title>\n<path fill=\"none\" stroke=\"#0000ff\" d=\"M3957.0865,-260.9735C3942.7639,-248.2586 3923.3911,-231.0603 3907.5737,-217.0183\"/>\n<polygon fill=\"#0000ff\" stroke=\"#0000ff\" points=\"3909.4738,-214.0249 3899.6718,-210.0034 3904.8265,-219.2597 3909.4738,-214.0249\"/>\n<text text-anchor=\"middle\" x=\"3969.8922\" y=\"-231.8\" font-family=\"Times,serif\" font-size=\"14.00\" fill=\"#000000\">yes, missing</text>\n</g>\n<!-- 32 -->\n<g id=\"node49\" class=\"node\">\n<title>32</title>\n<ellipse fill=\"none\" stroke=\"#000000\" cx=\"4310.3922\" cy=\"-192\" rx=\"206.8635\" ry=\"18\"/>\n<text text-anchor=\"middle\" x=\"4310.3922\" y=\"-188.3\" font-family=\"Times,serif\" font-size=\"14.00\" fill=\"#000000\">TMP.GLASS..BAY.5.1TI30105.PV&lt;&#45;0.938614249</text>\n</g>\n<!-- 18&#45;&gt;32 -->\n<g id=\"edge48\" class=\"edge\">\n<title>18&#45;&gt;32</title>\n<path fill=\"none\" stroke=\"#ff0000\" d=\"M4038.0823,-263.144C4093.5254,-248.6589 4175.6958,-227.1909 4235.2634,-211.6282\"/>\n<polygon fill=\"#ff0000\" stroke=\"#ff0000\" points=\"4236.2027,-215.0004 4244.9932,-209.0862 4234.4332,-208.2277 4236.2027,-215.0004\"/>\n<text text-anchor=\"middle\" x=\"4172.3922\" y=\"-231.8\" font-family=\"Times,serif\" font-size=\"14.00\" fill=\"#000000\">no</text>\n</g>\n<!-- 49 -->\n<g id=\"node42\" class=\"node\">\n<title>49</title>\n<ellipse fill=\"none\" stroke=\"#000000\" cx=\"2623.3922\" cy=\"-105\" rx=\"139.9756\" ry=\"18\"/>\n<text text-anchor=\"middle\" x=\"2623.3922\" y=\"-101.3\" font-family=\"Times,serif\" font-size=\"14.00\" fill=\"#000000\">D_GLS_AB11_LR&lt;&#45;1.46841562</text>\n</g>\n<!-- 29&#45;&gt;49 -->\n<g id=\"edge41\" class=\"edge\">\n<title>29&#45;&gt;49</title>\n<path fill=\"none\" stroke=\"#0000ff\" d=\"M2756.1942,-174.1843C2730.131,-160.6065 2694.0836,-141.8273 2666.1207,-127.2598\"/>\n<polygon fill=\"#0000ff\" stroke=\"#0000ff\" points=\"2667.4595,-124.0108 2656.9737,-122.4946 2664.2253,-130.2189 2667.4595,-124.0108\"/>\n<text text-anchor=\"middle\" x=\"2752.8922\" y=\"-144.8\" font-family=\"Times,serif\" font-size=\"14.00\" fill=\"#000000\">yes, missing</text>\n</g>\n<!-- 50 -->\n<g id=\"node43\" class=\"node\">\n<title>50</title>\n<ellipse fill=\"none\" stroke=\"#000000\" cx=\"2869.3922\" cy=\"-105\" rx=\"88.2844\" ry=\"18\"/>\n<text text-anchor=\"middle\" x=\"2869.3922\" y=\"-101.3\" font-family=\"Times,serif\" font-size=\"14.00\" fill=\"#000000\">leaf=&#45;0.0519064255</text>\n</g>\n<!-- 29&#45;&gt;50 -->\n<g id=\"edge42\" class=\"edge\">\n<title>29&#45;&gt;50</title>\n<path fill=\"none\" stroke=\"#ff0000\" d=\"M2806.761,-173.9735C2818.2771,-161.2912 2833.8434,-144.1486 2846.5761,-130.1265\"/>\n<polygon fill=\"#ff0000\" stroke=\"#ff0000\" points=\"2849.1832,-132.4619 2853.3146,-122.7057 2844.0009,-127.7561 2849.1832,-132.4619\"/>\n<text text-anchor=\"middle\" x=\"2843.3922\" y=\"-144.8\" font-family=\"Times,serif\" font-size=\"14.00\" fill=\"#000000\">no</text>\n</g>\n<!-- 51 -->\n<g id=\"node46\" class=\"node\">\n<title>51</title>\n<ellipse fill=\"none\" stroke=\"#000000\" cx=\"3059.3922\" cy=\"-105\" rx=\"83.3857\" ry=\"18\"/>\n<text text-anchor=\"middle\" x=\"3059.3922\" y=\"-101.3\" font-family=\"Times,serif\" font-size=\"14.00\" fill=\"#000000\">leaf=&#45;0.116562381</text>\n</g>\n<!-- 30&#45;&gt;51 -->\n<g id=\"edge45\" class=\"edge\">\n<title>30&#45;&gt;51</title>\n<path fill=\"none\" stroke=\"#0000ff\" d=\"M3207.3034,-174.1843C3177.3483,-160.173 3135.5517,-140.623 3104.0276,-125.8779\"/>\n<polygon fill=\"#0000ff\" stroke=\"#0000ff\" points=\"3105.1396,-122.5341 3094.5986,-121.4675 3102.1738,-128.8748 3105.1396,-122.5341\"/>\n<text text-anchor=\"middle\" x=\"3199.8922\" y=\"-144.8\" font-family=\"Times,serif\" font-size=\"14.00\" fill=\"#000000\">yes, missing</text>\n</g>\n<!-- 52 -->\n<g id=\"node47\" class=\"node\">\n<title>52</title>\n<ellipse fill=\"none\" stroke=\"#000000\" cx=\"3245.3922\" cy=\"-105\" rx=\"85.2851\" ry=\"18\"/>\n<text text-anchor=\"middle\" x=\"3245.3922\" y=\"-101.3\" font-family=\"Times,serif\" font-size=\"14.00\" fill=\"#000000\">leaf=0.0474125594</text>\n</g>\n<!-- 30&#45;&gt;52 -->\n<g id=\"edge46\" class=\"edge\">\n<title>30&#45;&gt;52</title>\n<path fill=\"none\" stroke=\"#ff0000\" d=\"M3245.3922,-173.9735C3245.3922,-162.1918 3245.3922,-146.5607 3245.3922,-133.1581\"/>\n<polygon fill=\"#ff0000\" stroke=\"#ff0000\" points=\"3248.8923,-133.0033 3245.3922,-123.0034 3241.8923,-133.0034 3248.8923,-133.0033\"/>\n<text text-anchor=\"middle\" x=\"3253.3922\" y=\"-144.8\" font-family=\"Times,serif\" font-size=\"14.00\" fill=\"#000000\">no</text>\n</g>\n<!-- 79 -->\n<g id=\"node44\" class=\"node\">\n<title>79</title>\n<ellipse fill=\"none\" stroke=\"#000000\" cx=\"2608.3922\" cy=\"-18\" rx=\"85.2851\" ry=\"18\"/>\n<text text-anchor=\"middle\" x=\"2608.3922\" y=\"-14.3\" font-family=\"Times,serif\" font-size=\"14.00\" fill=\"#000000\">leaf=0.0180120263</text>\n</g>\n<!-- 49&#45;&gt;79 -->\n<g id=\"edge43\" class=\"edge\">\n<title>49&#45;&gt;79</title>\n<path fill=\"none\" stroke=\"#0000ff\" d=\"M2620.2841,-86.9735C2618.2528,-75.1918 2615.5578,-59.5607 2613.247,-46.1581\"/>\n<polygon fill=\"#0000ff\" stroke=\"#0000ff\" points=\"2616.6444,-45.2633 2611.4962,-36.0034 2609.7462,-46.4527 2616.6444,-45.2633\"/>\n<text text-anchor=\"middle\" x=\"2652.8922\" y=\"-57.8\" font-family=\"Times,serif\" font-size=\"14.00\" fill=\"#000000\">yes, missing</text>\n</g>\n<!-- 80 -->\n<g id=\"node45\" class=\"node\">\n<title>80</title>\n<ellipse fill=\"none\" stroke=\"#000000\" cx=\"2792.3922\" cy=\"-18\" rx=\"80.6858\" ry=\"18\"/>\n<text text-anchor=\"middle\" x=\"2792.3922\" y=\"-14.3\" font-family=\"Times,serif\" font-size=\"14.00\" fill=\"#000000\">leaf=0.151316926</text>\n</g>\n<!-- 49&#45;&gt;80 -->\n<g id=\"edge44\" class=\"edge\">\n<title>49&#45;&gt;80</title>\n<path fill=\"none\" stroke=\"#ff0000\" d=\"M2657.5918,-87.3943C2684.6584,-73.4606 2722.5508,-53.9538 2751.2704,-39.1692\"/>\n<polygon fill=\"#ff0000\" stroke=\"#ff0000\" points=\"2752.9582,-42.2369 2760.2472,-34.548 2749.7542,-36.0132 2752.9582,-42.2369\"/>\n<text text-anchor=\"middle\" x=\"2726.3922\" y=\"-57.8\" font-family=\"Times,serif\" font-size=\"14.00\" fill=\"#000000\">no</text>\n</g>\n<!-- 53 -->\n<g id=\"node50\" class=\"node\">\n<title>53</title>\n<ellipse fill=\"none\" stroke=\"#000000\" cx=\"3488.3922\" cy=\"-105\" rx=\"139.9756\" ry=\"18\"/>\n<text text-anchor=\"middle\" x=\"3488.3922\" y=\"-101.3\" font-family=\"Times,serif\" font-size=\"14.00\" fill=\"#000000\">D_GLS_AB7_LR&lt;&#45;0.116296753</text>\n</g>\n<!-- 31&#45;&gt;53 -->\n<g id=\"edge49\" class=\"edge\">\n<title>31&#45;&gt;53</title>\n<path fill=\"none\" stroke=\"#0000ff\" d=\"M3808.1314,-176.144C3740.5294,-161.1021 3639.0861,-138.5304 3568.6625,-122.8607\"/>\n<polygon fill=\"#0000ff\" stroke=\"#0000ff\" points=\"3569.0264,-119.3561 3558.5049,-120.6005 3567.506,-126.189 3569.0264,-119.3561\"/>\n<text text-anchor=\"middle\" x=\"3742.8922\" y=\"-144.8\" font-family=\"Times,serif\" font-size=\"14.00\" fill=\"#000000\">yes, missing</text>\n</g>\n<!-- 54 -->\n<g id=\"node51\" class=\"node\">\n<title>54</title>\n<ellipse fill=\"none\" stroke=\"#000000\" cx=\"3879.3922\" cy=\"-105\" rx=\"233.1587\" ry=\"18\"/>\n<text text-anchor=\"middle\" x=\"3879.3922\" y=\"-101.3\" font-family=\"Times,serif\" font-size=\"14.00\" fill=\"#000000\">DB.HEAT.BTM.LEFT.1.TMP.1TI40315.PV&lt;1.54223061</text>\n</g>\n<!-- 31&#45;&gt;54 -->\n<g id=\"edge50\" class=\"edge\">\n<title>31&#45;&gt;54</title>\n<path fill=\"none\" stroke=\"#ff0000\" d=\"M3879.3922,-173.9735C3879.3922,-162.1918 3879.3922,-146.5607 3879.3922,-133.1581\"/>\n<polygon fill=\"#ff0000\" stroke=\"#ff0000\" points=\"3882.8923,-133.0033 3879.3922,-123.0034 3875.8923,-133.0034 3882.8923,-133.0033\"/>\n<text text-anchor=\"middle\" x=\"3887.3922\" y=\"-144.8\" font-family=\"Times,serif\" font-size=\"14.00\" fill=\"#000000\">no</text>\n</g>\n<!-- 55 -->\n<g id=\"node56\" class=\"node\">\n<title>55</title>\n<ellipse fill=\"none\" stroke=\"#000000\" cx=\"4399.3922\" cy=\"-105\" rx=\"269.1523\" ry=\"18\"/>\n<text text-anchor=\"middle\" x=\"4399.3922\" y=\"-101.3\" font-family=\"Times,serif\" font-size=\"14.00\" fill=\"#000000\">X.1.BAY.LEFT.PRESSURE.1CLBAY1LEFT_CPV&lt;&#45;0.790283442</text>\n</g>\n<!-- 32&#45;&gt;55 -->\n<g id=\"edge55\" class=\"edge\">\n<title>32&#45;&gt;55</title>\n<path fill=\"none\" stroke=\"#0000ff\" d=\"M4328.833,-173.9735C4341.8403,-161.2586 4359.4339,-144.0603 4373.7988,-130.0183\"/>\n<polygon fill=\"#0000ff\" stroke=\"#0000ff\" points=\"4376.2705,-132.4965 4380.9749,-123.0034 4371.3773,-127.4908 4376.2705,-132.4965\"/>\n<text text-anchor=\"middle\" x=\"4395.8922\" y=\"-144.8\" font-family=\"Times,serif\" font-size=\"14.00\" fill=\"#000000\">yes, missing</text>\n</g>\n<!-- 56 -->\n<g id=\"node57\" class=\"node\">\n<title>56</title>\n<ellipse fill=\"none\" stroke=\"#000000\" cx=\"4888.3922\" cy=\"-105\" rx=\"202.2642\" ry=\"18\"/>\n<text text-anchor=\"middle\" x=\"4888.3922\" y=\"-101.3\" font-family=\"Times,serif\" font-size=\"14.00\" fill=\"#000000\">TMP.GLASS..BAY.5.1TI30105.PV&lt;&#45;0.17963174</text>\n</g>\n<!-- 32&#45;&gt;56 -->\n<g id=\"edge56\" class=\"edge\">\n<title>32&#45;&gt;56</title>\n<path fill=\"none\" stroke=\"#ff0000\" d=\"M4414.0606,-176.3959C4515.7135,-161.0952 4670.279,-137.8302 4775.1155,-122.0503\"/>\n<polygon fill=\"#ff0000\" stroke=\"#ff0000\" points=\"4775.7346,-125.4966 4785.1023,-120.5471 4774.6927,-118.5746 4775.7346,-125.4966\"/>\n<text text-anchor=\"middle\" x=\"4642.3922\" y=\"-144.8\" font-family=\"Times,serif\" font-size=\"14.00\" fill=\"#000000\">no</text>\n</g>\n<!-- 81 -->\n<g id=\"node52\" class=\"node\">\n<title>81</title>\n<ellipse fill=\"none\" stroke=\"#000000\" cx=\"3369.3922\" cy=\"-18\" rx=\"83.3857\" ry=\"18\"/>\n<text text-anchor=\"middle\" x=\"3369.3922\" y=\"-14.3\" font-family=\"Times,serif\" font-size=\"14.00\" fill=\"#000000\">leaf=&#45;0.028848568</text>\n</g>\n<!-- 53&#45;&gt;81 -->\n<g id=\"edge51\" class=\"edge\">\n<title>53&#45;&gt;81</title>\n<path fill=\"none\" stroke=\"#0000ff\" d=\"M3464.0236,-87.1843C3445.9361,-73.9607 3421.1004,-55.8035 3401.4104,-41.4083\"/>\n<polygon fill=\"#0000ff\" stroke=\"#0000ff\" points=\"3403.4599,-38.571 3393.3215,-35.4946 3399.3285,-44.2219 3403.4599,-38.571\"/>\n<text text-anchor=\"middle\" x=\"3471.8922\" y=\"-57.8\" font-family=\"Times,serif\" font-size=\"14.00\" fill=\"#000000\">yes, missing</text>\n</g>\n<!-- 82 -->\n<g id=\"node53\" class=\"node\">\n<title>82</title>\n<ellipse fill=\"none\" stroke=\"#000000\" cx=\"3546.3922\" cy=\"-18\" rx=\"75.2868\" ry=\"18\"/>\n<text text-anchor=\"middle\" x=\"3546.3922\" y=\"-14.3\" font-family=\"Times,serif\" font-size=\"14.00\" fill=\"#000000\">leaf=0.15754573</text>\n</g>\n<!-- 53&#45;&gt;82 -->\n<g id=\"edge52\" class=\"edge\">\n<title>53&#45;&gt;82</title>\n<path fill=\"none\" stroke=\"#ff0000\" d=\"M3500.4098,-86.9735C3508.5754,-74.7252 3519.5145,-58.3165 3528.6745,-44.5766\"/>\n<polygon fill=\"#ff0000\" stroke=\"#ff0000\" points=\"3531.7551,-46.2653 3534.3899,-36.0034 3525.9307,-42.3824 3531.7551,-46.2653\"/>\n<text text-anchor=\"middle\" x=\"3529.3922\" y=\"-57.8\" font-family=\"Times,serif\" font-size=\"14.00\" fill=\"#000000\">no</text>\n</g>\n<!-- 83 -->\n<g id=\"node54\" class=\"node\">\n<title>83</title>\n<ellipse fill=\"none\" stroke=\"#000000\" cx=\"3786.3922\" cy=\"-18\" rx=\"88.2844\" ry=\"18\"/>\n<text text-anchor=\"middle\" x=\"3786.3922\" y=\"-14.3\" font-family=\"Times,serif\" font-size=\"14.00\" fill=\"#000000\">leaf=&#45;0.0843419954</text>\n</g>\n<!-- 54&#45;&gt;83 -->\n<g id=\"edge53\" class=\"edge\">\n<title>54&#45;&gt;83</title>\n<path fill=\"none\" stroke=\"#0000ff\" d=\"M3860.1225,-86.9735C3846.44,-74.1738 3827.9009,-56.8308 3812.8361,-42.7379\"/>\n<polygon fill=\"#0000ff\" stroke=\"#0000ff\" points=\"3815.0127,-39.9813 3805.3189,-35.7057 3810.2306,-45.0933 3815.0127,-39.9813\"/>\n<text text-anchor=\"middle\" x=\"3874.8922\" y=\"-57.8\" font-family=\"Times,serif\" font-size=\"14.00\" fill=\"#000000\">yes, missing</text>\n</g>\n<!-- 84 -->\n<g id=\"node55\" class=\"node\">\n<title>84</title>\n<ellipse fill=\"none\" stroke=\"#000000\" cx=\"3973.3922\" cy=\"-18\" rx=\"80.6858\" ry=\"18\"/>\n<text text-anchor=\"middle\" x=\"3973.3922\" y=\"-14.3\" font-family=\"Times,serif\" font-size=\"14.00\" fill=\"#000000\">leaf=0.104372434</text>\n</g>\n<!-- 54&#45;&gt;84 -->\n<g id=\"edge54\" class=\"edge\">\n<title>54&#45;&gt;84</title>\n<path fill=\"none\" stroke=\"#ff0000\" d=\"M3898.869,-86.9735C3912.6986,-74.1738 3931.4371,-56.8308 3946.6639,-42.7379\"/>\n<polygon fill=\"#ff0000\" stroke=\"#ff0000\" points=\"3949.3002,-45.0669 3954.2619,-35.7057 3944.5454,-39.9296 3949.3002,-45.0669\"/>\n<text text-anchor=\"middle\" x=\"3940.3922\" y=\"-57.8\" font-family=\"Times,serif\" font-size=\"14.00\" fill=\"#000000\">no</text>\n</g>\n<!-- 85 -->\n<g id=\"node58\" class=\"node\">\n<title>85</title>\n<ellipse fill=\"none\" stroke=\"#000000\" cx=\"4262.3922\" cy=\"-18\" rx=\"85.2851\" ry=\"18\"/>\n<text text-anchor=\"middle\" x=\"4262.3922\" y=\"-14.3\" font-family=\"Times,serif\" font-size=\"14.00\" fill=\"#000000\">leaf=0.0724311098</text>\n</g>\n<!-- 55&#45;&gt;85 -->\n<g id=\"edge57\" class=\"edge\">\n<title>55&#45;&gt;85</title>\n<path fill=\"none\" stroke=\"#0000ff\" d=\"M4371.0057,-86.9735C4349.8333,-73.5283 4320.7669,-55.0701 4298.0304,-40.6316\"/>\n<polygon fill=\"#0000ff\" stroke=\"#0000ff\" points=\"4299.662,-37.5216 4289.344,-35.1154 4295.9094,-43.4308 4299.662,-37.5216\"/>\n<text text-anchor=\"middle\" x=\"4374.8922\" y=\"-57.8\" font-family=\"Times,serif\" font-size=\"14.00\" fill=\"#000000\">yes, missing</text>\n</g>\n<!-- 86 -->\n<g id=\"node59\" class=\"node\">\n<title>86</title>\n<ellipse fill=\"none\" stroke=\"#000000\" cx=\"4454.3922\" cy=\"-18\" rx=\"88.2844\" ry=\"18\"/>\n<text text-anchor=\"middle\" x=\"4454.3922\" y=\"-14.3\" font-family=\"Times,serif\" font-size=\"14.00\" fill=\"#000000\">leaf=&#45;0.0162877887</text>\n</g>\n<!-- 55&#45;&gt;86 -->\n<g id=\"edge58\" class=\"edge\">\n<title>55&#45;&gt;86</title>\n<path fill=\"none\" stroke=\"#ff0000\" d=\"M4410.7882,-86.9735C4418.5314,-74.7252 4428.9047,-58.3165 4437.5909,-44.5766\"/>\n<polygon fill=\"#ff0000\" stroke=\"#ff0000\" points=\"4440.6255,-46.3262 4443.0107,-36.0034 4434.7087,-42.5857 4440.6255,-46.3262\"/>\n<text text-anchor=\"middle\" x=\"4438.3922\" y=\"-57.8\" font-family=\"Times,serif\" font-size=\"14.00\" fill=\"#000000\">no</text>\n</g>\n<!-- 87 -->\n<g id=\"node60\" class=\"node\">\n<title>87</title>\n<ellipse fill=\"none\" stroke=\"#000000\" cx=\"4698.3922\" cy=\"-18\" rx=\"83.3857\" ry=\"18\"/>\n<text text-anchor=\"middle\" x=\"4698.3922\" y=\"-14.3\" font-family=\"Times,serif\" font-size=\"14.00\" fill=\"#000000\">leaf=&#45;0.104888275</text>\n</g>\n<!-- 56&#45;&gt;87 -->\n<g id=\"edge59\" class=\"edge\">\n<title>56&#45;&gt;87</title>\n<path fill=\"none\" stroke=\"#0000ff\" d=\"M4849.4843,-87.1843C4818.6543,-73.0674 4775.545,-53.3279 4743.261,-38.5452\"/>\n<polygon fill=\"#0000ff\" stroke=\"#0000ff\" points=\"4744.5884,-35.3036 4734.0391,-34.3225 4741.6741,-41.6681 4744.5884,-35.3036\"/>\n<text text-anchor=\"middle\" x=\"4840.8922\" y=\"-57.8\" font-family=\"Times,serif\" font-size=\"14.00\" fill=\"#000000\">yes, missing</text>\n</g>\n<!-- 88 -->\n<g id=\"node61\" class=\"node\">\n<title>88</title>\n<ellipse fill=\"none\" stroke=\"#000000\" cx=\"4888.3922\" cy=\"-18\" rx=\"88.2844\" ry=\"18\"/>\n<text text-anchor=\"middle\" x=\"4888.3922\" y=\"-14.3\" font-family=\"Times,serif\" font-size=\"14.00\" fill=\"#000000\">leaf=&#45;0.0266963784</text>\n</g>\n<!-- 56&#45;&gt;88 -->\n<g id=\"edge60\" class=\"edge\">\n<title>56&#45;&gt;88</title>\n<path fill=\"none\" stroke=\"#ff0000\" d=\"M4888.3922,-86.9735C4888.3922,-75.1918 4888.3922,-59.5607 4888.3922,-46.1581\"/>\n<polygon fill=\"#ff0000\" stroke=\"#ff0000\" points=\"4891.8923,-46.0033 4888.3922,-36.0034 4884.8923,-46.0034 4891.8923,-46.0033\"/>\n<text text-anchor=\"middle\" x=\"4896.3922\" y=\"-57.8\" font-family=\"Times,serif\" font-size=\"14.00\" fill=\"#000000\">no</text>\n</g>\n<!-- 33 -->\n<g id=\"node64\" class=\"node\">\n<title>33</title>\n<ellipse fill=\"none\" stroke=\"#000000\" cx=\"4623.3922\" cy=\"-192\" rx=\"88.2844\" ry=\"18\"/>\n<text text-anchor=\"middle\" x=\"4623.3922\" y=\"-188.3\" font-family=\"Times,serif\" font-size=\"14.00\" fill=\"#000000\">leaf=&#45;0.0475937575</text>\n</g>\n<!-- 19&#45;&gt;33 -->\n<g id=\"edge63\" class=\"edge\">\n<title>19&#45;&gt;33</title>\n<path fill=\"none\" stroke=\"#0000ff\" d=\"M4623.3922,-260.9735C4623.3922,-249.1918 4623.3922,-233.5607 4623.3922,-220.1581\"/>\n<polygon fill=\"#0000ff\" stroke=\"#0000ff\" points=\"4626.8923,-220.0033 4623.3922,-210.0034 4619.8923,-220.0034 4626.8923,-220.0033\"/>\n<text text-anchor=\"middle\" x=\"4658.8922\" y=\"-231.8\" font-family=\"Times,serif\" font-size=\"14.00\" fill=\"#000000\">yes, missing</text>\n</g>\n<!-- 34 -->\n<g id=\"node65\" class=\"node\">\n<title>34</title>\n<ellipse fill=\"none\" stroke=\"#000000\" cx=\"4813.3922\" cy=\"-192\" rx=\"83.3857\" ry=\"18\"/>\n<text text-anchor=\"middle\" x=\"4813.3922\" y=\"-188.3\" font-family=\"Times,serif\" font-size=\"14.00\" fill=\"#000000\">leaf=&#45;0.165015265</text>\n</g>\n<!-- 19&#45;&gt;34 -->\n<g id=\"edge64\" class=\"edge\">\n<title>19&#45;&gt;34</title>\n<path fill=\"none\" stroke=\"#ff0000\" d=\"M4662.3,-261.1843C4693.13,-247.0674 4736.2393,-227.3279 4768.5234,-212.5452\"/>\n<polygon fill=\"#ff0000\" stroke=\"#ff0000\" points=\"4770.1102,-215.6681 4777.7452,-208.3225 4767.1959,-209.3036 4770.1102,-215.6681\"/>\n<text text-anchor=\"middle\" x=\"4738.3922\" y=\"-231.8\" font-family=\"Times,serif\" font-size=\"14.00\" fill=\"#000000\">no</text>\n</g>\n<!-- 21 -->\n<g id=\"node68\" class=\"node\">\n<title>21</title>\n<ellipse fill=\"none\" stroke=\"#000000\" cx=\"6139.3922\" cy=\"-279\" rx=\"228.5596\" ry=\"18\"/>\n<text text-anchor=\"middle\" x=\"6139.3922\" y=\"-275.3\" font-family=\"Times,serif\" font-size=\"14.00\" fill=\"#000000\">ROOF.HEATING.Zone45.1JIC31145.PV&lt;&#45;0.920973182</text>\n</g>\n<!-- 11&#45;&gt;21 -->\n<g id=\"edge67\" class=\"edge\">\n<title>11&#45;&gt;21</title>\n<path fill=\"none\" stroke=\"#0000ff\" d=\"M6411.8126,-348.7076C6355.6101,-334.3264 6275.5968,-313.8524 6216.8224,-298.813\"/>\n<polygon fill=\"#0000ff\" stroke=\"#0000ff\" points=\"6217.3993,-295.348 6206.8438,-296.2597 6215.664,-302.1295 6217.3993,-295.348\"/>\n<text text-anchor=\"middle\" x=\"6365.8922\" y=\"-318.8\" font-family=\"Times,serif\" font-size=\"14.00\" fill=\"#000000\">yes, missing</text>\n</g>\n<!-- 22 -->\n<g id=\"node69\" class=\"node\">\n<title>22</title>\n<ellipse fill=\"none\" stroke=\"#000000\" cx=\"6977.3922\" cy=\"-279\" rx=\"147.5738\" ry=\"18\"/>\n<text text-anchor=\"middle\" x=\"6977.3922\" y=\"-275.3\" font-family=\"Times,serif\" font-size=\"14.00\" fill=\"#000000\">S_AB10_AB11_L_L&lt;&#45;0.18631281</text>\n</g>\n<!-- 11&#45;&gt;22 -->\n<g id=\"edge68\" class=\"edge\">\n<title>11&#45;&gt;22</title>\n<path fill=\"none\" stroke=\"#ff0000\" d=\"M6574.2343,-349.4312C6662.8199,-333.9554 6794.3225,-310.9821 6882.8205,-295.5216\"/>\n<polygon fill=\"#ff0000\" stroke=\"#ff0000\" points=\"6883.6075,-298.9372 6892.856,-293.7684 6882.4028,-292.0416 6883.6075,-298.9372\"/>\n<text text-anchor=\"middle\" x=\"6766.3922\" y=\"-318.8\" font-family=\"Times,serif\" font-size=\"14.00\" fill=\"#000000\">no</text>\n</g>\n<!-- 23 -->\n<g id=\"node98\" class=\"node\">\n<title>23</title>\n<ellipse fill=\"none\" stroke=\"#000000\" cx=\"7712.3922\" cy=\"-279\" rx=\"80.6858\" ry=\"18\"/>\n<text text-anchor=\"middle\" x=\"7712.3922\" y=\"-275.3\" font-family=\"Times,serif\" font-size=\"14.00\" fill=\"#000000\">leaf=0.130705133</text>\n</g>\n<!-- 12&#45;&gt;23 -->\n<g id=\"edge97\" class=\"edge\">\n<title>12&#45;&gt;23</title>\n<path fill=\"none\" stroke=\"#0000ff\" d=\"M7712.3922,-347.9735C7712.3922,-336.1918 7712.3922,-320.5607 7712.3922,-307.1581\"/>\n<polygon fill=\"#0000ff\" stroke=\"#0000ff\" points=\"7715.8923,-307.0033 7712.3922,-297.0034 7708.8923,-307.0034 7715.8923,-307.0033\"/>\n<text text-anchor=\"middle\" x=\"7747.8922\" y=\"-318.8\" font-family=\"Times,serif\" font-size=\"14.00\" fill=\"#000000\">yes, missing</text>\n</g>\n<!-- 24 -->\n<g id=\"node99\" class=\"node\">\n<title>24</title>\n<ellipse fill=\"none\" stroke=\"#000000\" cx=\"8241.3922\" cy=\"-279\" rx=\"124.5782\" ry=\"18\"/>\n<text text-anchor=\"middle\" x=\"8241.3922\" y=\"-275.3\" font-family=\"Times,serif\" font-size=\"14.00\" fill=\"#000000\">LOR.2.L.Axis&lt;&#45;0.350903481</text>\n</g>\n<!-- 12&#45;&gt;24 -->\n<g id=\"edge98\" class=\"edge\">\n<title>12&#45;&gt;24</title>\n<path fill=\"none\" stroke=\"#ff0000\" d=\"M7799.4494,-351.6825C7895.8565,-335.8272 8050.6348,-310.3722 8149.097,-294.179\"/>\n<polygon fill=\"#ff0000\" stroke=\"#ff0000\" points=\"8149.7382,-297.6206 8159.0376,-292.5441 8148.6022,-290.7134 8149.7382,-297.6206\"/>\n<text text-anchor=\"middle\" x=\"8017.3922\" y=\"-318.8\" font-family=\"Times,serif\" font-size=\"14.00\" fill=\"#000000\">no</text>\n</g>\n<!-- 35 -->\n<g id=\"node70\" class=\"node\">\n<title>35</title>\n<ellipse fill=\"none\" stroke=\"#000000\" cx=\"5604.3922\" cy=\"-192\" rx=\"217.1615\" ry=\"18\"/>\n<text text-anchor=\"middle\" x=\"5604.3922\" y=\"-188.3\" font-family=\"Times,serif\" font-size=\"14.00\" fill=\"#000000\">TMP.TIN..BAY.5.LEFT.1TI30205.PV&lt;&#45;0.145714581</text>\n</g>\n<!-- 21&#45;&gt;35 -->\n<g id=\"edge69\" class=\"edge\">\n<title>21&#45;&gt;35</title>\n<path fill=\"none\" stroke=\"#0000ff\" d=\"M6039.7036,-262.789C5946.8544,-247.6901 5808.7576,-225.2333 5713.1087,-209.6791\"/>\n<polygon fill=\"#0000ff\" stroke=\"#0000ff\" points=\"5713.5494,-206.2049 5703.1173,-208.0544 5712.4258,-213.1142 5713.5494,-206.2049\"/>\n<text text-anchor=\"middle\" x=\"5939.8922\" y=\"-231.8\" font-family=\"Times,serif\" font-size=\"14.00\" fill=\"#000000\">yes, missing</text>\n</g>\n<!-- 36 -->\n<g id=\"node71\" class=\"node\">\n<title>36</title>\n<ellipse fill=\"none\" stroke=\"#000000\" cx=\"6139.3922\" cy=\"-192\" rx=\"124.5782\" ry=\"18\"/>\n<text text-anchor=\"middle\" x=\"6139.3922\" y=\"-188.3\" font-family=\"Times,serif\" font-size=\"14.00\" fill=\"#000000\">LOR.2.L.Axis&lt;&#45;0.538075328</text>\n</g>\n<!-- 21&#45;&gt;36 -->\n<g id=\"edge70\" class=\"edge\">\n<title>21&#45;&gt;36</title>\n<path fill=\"none\" stroke=\"#ff0000\" d=\"M6139.3922,-260.9735C6139.3922,-249.1918 6139.3922,-233.5607 6139.3922,-220.1581\"/>\n<polygon fill=\"#ff0000\" stroke=\"#ff0000\" points=\"6142.8923,-220.0033 6139.3922,-210.0034 6135.8923,-220.0034 6142.8923,-220.0033\"/>\n<text text-anchor=\"middle\" x=\"6147.3922\" y=\"-231.8\" font-family=\"Times,serif\" font-size=\"14.00\" fill=\"#000000\">no</text>\n</g>\n<!-- 37 -->\n<g id=\"node84\" class=\"node\">\n<title>37</title>\n<ellipse fill=\"none\" stroke=\"#000000\" cx=\"6977.3922\" cy=\"-192\" rx=\"213.3623\" ry=\"18\"/>\n<text text-anchor=\"middle\" x=\"6977.3922\" y=\"-188.3\" font-family=\"Times,serif\" font-size=\"14.00\" fill=\"#000000\">UPPER.C2..Z170.TMP.1TIC42302.PV&lt;1.48356116</text>\n</g>\n<!-- 22&#45;&gt;37 -->\n<g id=\"edge83\" class=\"edge\">\n<title>22&#45;&gt;37</title>\n<path fill=\"none\" stroke=\"#0000ff\" d=\"M6977.3922,-260.9735C6977.3922,-249.1918 6977.3922,-233.5607 6977.3922,-220.1581\"/>\n<polygon fill=\"#0000ff\" stroke=\"#0000ff\" points=\"6980.8923,-220.0033 6977.3922,-210.0034 6973.8923,-220.0034 6980.8923,-220.0033\"/>\n<text text-anchor=\"middle\" x=\"7012.8922\" y=\"-231.8\" font-family=\"Times,serif\" font-size=\"14.00\" fill=\"#000000\">yes, missing</text>\n</g>\n<!-- 38 -->\n<g id=\"node85\" class=\"node\">\n<title>38</title>\n<ellipse fill=\"none\" stroke=\"#000000\" cx=\"7316.3922\" cy=\"-192\" rx=\"97.4827\" ry=\"18\"/>\n<text text-anchor=\"middle\" x=\"7316.3922\" y=\"-188.3\" font-family=\"Times,serif\" font-size=\"14.00\" fill=\"#000000\">폐기율...&lt;10.8549995</text>\n</g>\n<!-- 22&#45;&gt;38 -->\n<g id=\"edge84\" class=\"edge\">\n<title>22&#45;&gt;38</title>\n<path fill=\"none\" stroke=\"#ff0000\" d=\"M7040.7578,-262.738C7100.2097,-247.4805 7188.8109,-224.7421 7249.4104,-209.19\"/>\n<polygon fill=\"#ff0000\" stroke=\"#ff0000\" points=\"7250.4449,-212.538 7259.2609,-206.662 7248.7047,-205.7578 7250.4449,-212.538\"/>\n<text text-anchor=\"middle\" x=\"7175.3922\" y=\"-231.8\" font-family=\"Times,serif\" font-size=\"14.00\" fill=\"#000000\">no</text>\n</g>\n<!-- 57 -->\n<g id=\"node72\" class=\"node\">\n<title>57</title>\n<ellipse fill=\"none\" stroke=\"#000000\" cx=\"5266.3922\" cy=\"-105\" rx=\"95.5831\" ry=\"18\"/>\n<text text-anchor=\"middle\" x=\"5266.3922\" y=\"-101.3\" font-family=\"Times,serif\" font-size=\"14.00\" fill=\"#000000\">bay5_6&lt;0.852578521</text>\n</g>\n<!-- 35&#45;&gt;57 -->\n<g id=\"edge71\" class=\"edge\">\n<title>35&#45;&gt;57</title>\n<path fill=\"none\" stroke=\"#0000ff\" d=\"M5537.6142,-174.8116C5478.3251,-159.5508 5392.1493,-137.3694 5332.9323,-122.1272\"/>\n<polygon fill=\"#0000ff\" stroke=\"#0000ff\" points=\"5333.4928,-118.6575 5322.936,-119.5542 5331.7479,-125.4365 5333.4928,-118.6575\"/>\n<text text-anchor=\"middle\" x=\"5491.8922\" y=\"-144.8\" font-family=\"Times,serif\" font-size=\"14.00\" fill=\"#000000\">yes, missing</text>\n</g>\n<!-- 58 -->\n<g id=\"node73\" class=\"node\">\n<title>58</title>\n<ellipse fill=\"none\" stroke=\"#000000\" cx=\"5604.3922\" cy=\"-105\" rx=\"219.8612\" ry=\"18\"/>\n<text text-anchor=\"middle\" x=\"5604.3922\" y=\"-101.3\" font-family=\"Times,serif\" font-size=\"14.00\" fill=\"#000000\">TMP.GLASS..Z_RET.E1.1TI40241.PV&lt;0.304225206</text>\n</g>\n<!-- 35&#45;&gt;58 -->\n<g id=\"edge72\" class=\"edge\">\n<title>35&#45;&gt;58</title>\n<path fill=\"none\" stroke=\"#ff0000\" d=\"M5604.3922,-173.9735C5604.3922,-162.1918 5604.3922,-146.5607 5604.3922,-133.1581\"/>\n<polygon fill=\"#ff0000\" stroke=\"#ff0000\" points=\"5607.8923,-133.0033 5604.3922,-123.0034 5600.8923,-133.0034 5607.8923,-133.0033\"/>\n<text text-anchor=\"middle\" x=\"5612.3922\" y=\"-144.8\" font-family=\"Times,serif\" font-size=\"14.00\" fill=\"#000000\">no</text>\n</g>\n<!-- 59 -->\n<g id=\"node78\" class=\"node\">\n<title>59</title>\n<ellipse fill=\"none\" stroke=\"#000000\" cx=\"5941.3922\" cy=\"-105\" rx=\"97.4827\" ry=\"18\"/>\n<text text-anchor=\"middle\" x=\"5941.3922\" y=\"-101.3\" font-family=\"Times,serif\" font-size=\"14.00\" fill=\"#000000\">폐기율...&lt;4.76999998</text>\n</g>\n<!-- 36&#45;&gt;59 -->\n<g id=\"edge77\" class=\"edge\">\n<title>36&#45;&gt;59</title>\n<path fill=\"none\" stroke=\"#0000ff\" d=\"M6100.2737,-174.8116C6068.2356,-160.7343 6022.7954,-140.7681 5988.7118,-125.792\"/>\n<polygon fill=\"#0000ff\" stroke=\"#0000ff\" points=\"5989.9834,-122.5278 5979.4202,-121.7093 5987.1675,-128.9364 5989.9834,-122.5278\"/>\n<text text-anchor=\"middle\" x=\"6087.8922\" y=\"-144.8\" font-family=\"Times,serif\" font-size=\"14.00\" fill=\"#000000\">yes, missing</text>\n</g>\n<!-- 60 -->\n<g id=\"node79\" class=\"node\">\n<title>60</title>\n<ellipse fill=\"none\" stroke=\"#000000\" cx=\"6314.3922\" cy=\"-105\" rx=\"257.2544\" ry=\"18\"/>\n<text text-anchor=\"middle\" x=\"6314.3922\" y=\"-101.3\" font-family=\"Times,serif\" font-size=\"14.00\" fill=\"#000000\">ROOF.HT.BAY.5.TOTAL.PWR.1CLBAY5_CPV&lt;0.994499803</text>\n</g>\n<!-- 36&#45;&gt;60 -->\n<g id=\"edge78\" class=\"edge\">\n<title>36&#45;&gt;60</title>\n<path fill=\"none\" stroke=\"#ff0000\" d=\"M6174.3854,-174.6033C6201.5667,-161.0904 6239.4753,-142.2444 6268.9921,-127.5703\"/>\n<polygon fill=\"#ff0000\" stroke=\"#ff0000\" points=\"6270.86,-130.5504 6278.2564,-122.9646 6267.7438,-124.2823 6270.86,-130.5504\"/>\n<text text-anchor=\"middle\" x=\"6245.3922\" y=\"-144.8\" font-family=\"Times,serif\" font-size=\"14.00\" fill=\"#000000\">no</text>\n</g>\n<!-- 89 -->\n<g id=\"node74\" class=\"node\">\n<title>89</title>\n<ellipse fill=\"none\" stroke=\"#000000\" cx=\"5080.3922\" cy=\"-18\" rx=\"85.2851\" ry=\"18\"/>\n<text text-anchor=\"middle\" x=\"5080.3922\" y=\"-14.3\" font-family=\"Times,serif\" font-size=\"14.00\" fill=\"#000000\">leaf=0.0506765358</text>\n</g>\n<!-- 57&#45;&gt;89 -->\n<g id=\"edge73\" class=\"edge\">\n<title>57&#45;&gt;89</title>\n<path fill=\"none\" stroke=\"#0000ff\" d=\"M5230.5295,-88.2255C5200.3601,-74.114 5157.0929,-53.8761 5124.7496,-38.7478\"/>\n<polygon fill=\"#0000ff\" stroke=\"#0000ff\" points=\"5126.055,-35.4945 5115.5139,-34.4279 5123.0891,-41.8352 5126.055,-35.4945\"/>\n<text text-anchor=\"middle\" x=\"5220.8922\" y=\"-57.8\" font-family=\"Times,serif\" font-size=\"14.00\" fill=\"#000000\">yes, missing</text>\n</g>\n<!-- 90 -->\n<g id=\"node75\" class=\"node\">\n<title>90</title>\n<ellipse fill=\"none\" stroke=\"#000000\" cx=\"5266.3922\" cy=\"-18\" rx=\"83.3857\" ry=\"18\"/>\n<text text-anchor=\"middle\" x=\"5266.3922\" y=\"-14.3\" font-family=\"Times,serif\" font-size=\"14.00\" fill=\"#000000\">leaf=&#45;0.153308406</text>\n</g>\n<!-- 57&#45;&gt;90 -->\n<g id=\"edge74\" class=\"edge\">\n<title>57&#45;&gt;90</title>\n<path fill=\"none\" stroke=\"#ff0000\" d=\"M5266.3922,-86.9735C5266.3922,-75.1918 5266.3922,-59.5607 5266.3922,-46.1581\"/>\n<polygon fill=\"#ff0000\" stroke=\"#ff0000\" points=\"5269.8923,-46.0033 5266.3922,-36.0034 5262.8923,-46.0034 5269.8923,-46.0033\"/>\n<text text-anchor=\"middle\" x=\"5274.3922\" y=\"-57.8\" font-family=\"Times,serif\" font-size=\"14.00\" fill=\"#000000\">no</text>\n</g>\n<!-- 91 -->\n<g id=\"node76\" class=\"node\">\n<title>91</title>\n<ellipse fill=\"none\" stroke=\"#000000\" cx=\"5443.3922\" cy=\"-18\" rx=\"75.2868\" ry=\"18\"/>\n<text text-anchor=\"middle\" x=\"5443.3922\" y=\"-14.3\" font-family=\"Times,serif\" font-size=\"14.00\" fill=\"#000000\">leaf=0.11299286</text>\n</g>\n<!-- 58&#45;&gt;91 -->\n<g id=\"edge75\" class=\"edge\">\n<title>58&#45;&gt;91</title>\n<path fill=\"none\" stroke=\"#0000ff\" d=\"M5571.4229,-87.1843C5545.7175,-73.2938 5509.9382,-53.9597 5482.7359,-39.2603\"/>\n<polygon fill=\"#0000ff\" stroke=\"#0000ff\" points=\"5484.3281,-36.1424 5473.8665,-34.4675 5481.0003,-42.3008 5484.3281,-36.1424\"/>\n<text text-anchor=\"middle\" x=\"5569.8922\" y=\"-57.8\" font-family=\"Times,serif\" font-size=\"14.00\" fill=\"#000000\">yes, missing</text>\n</g>\n<!-- 92 -->\n<g id=\"node77\" class=\"node\">\n<title>92</title>\n<ellipse fill=\"none\" stroke=\"#000000\" cx=\"5625.3922\" cy=\"-18\" rx=\"88.2844\" ry=\"18\"/>\n<text text-anchor=\"middle\" x=\"5625.3922\" y=\"-14.3\" font-family=\"Times,serif\" font-size=\"14.00\" fill=\"#000000\">leaf=&#45;0.0602406338</text>\n</g>\n<!-- 58&#45;&gt;92 -->\n<g id=\"edge76\" class=\"edge\">\n<title>58&#45;&gt;92</title>\n<path fill=\"none\" stroke=\"#ff0000\" d=\"M5608.7434,-86.9735C5611.6154,-75.0751 5615.4351,-59.2508 5618.6913,-45.7606\"/>\n<polygon fill=\"#ff0000\" stroke=\"#ff0000\" points=\"5622.1023,-46.5455 5621.0465,-36.0034 5615.2977,-44.9029 5622.1023,-46.5455\"/>\n<text text-anchor=\"middle\" x=\"5624.3922\" y=\"-57.8\" font-family=\"Times,serif\" font-size=\"14.00\" fill=\"#000000\">no</text>\n</g>\n<!-- 93 -->\n<g id=\"node80\" class=\"node\">\n<title>93</title>\n<ellipse fill=\"none\" stroke=\"#000000\" cx=\"5815.3922\" cy=\"-18\" rx=\"83.3857\" ry=\"18\"/>\n<text text-anchor=\"middle\" x=\"5815.3922\" y=\"-14.3\" font-family=\"Times,serif\" font-size=\"14.00\" fill=\"#000000\">leaf=&#45;0.098183535</text>\n</g>\n<!-- 59&#45;&gt;93 -->\n<g id=\"edge79\" class=\"edge\">\n<title>59&#45;&gt;93</title>\n<path fill=\"none\" stroke=\"#0000ff\" d=\"M5916.197,-87.6033C5896.8823,-74.267 5870.0446,-55.7362 5848.9167,-41.1479\"/>\n<polygon fill=\"#0000ff\" stroke=\"#0000ff\" points=\"5850.7613,-38.1683 5840.5436,-35.3665 5846.7839,-43.9286 5850.7613,-38.1683\"/>\n<text text-anchor=\"middle\" x=\"5921.8922\" y=\"-57.8\" font-family=\"Times,serif\" font-size=\"14.00\" fill=\"#000000\">yes, missing</text>\n</g>\n<!-- 94 -->\n<g id=\"node81\" class=\"node\">\n<title>94</title>\n<ellipse fill=\"none\" stroke=\"#000000\" cx=\"5997.3922\" cy=\"-18\" rx=\"80.6858\" ry=\"18\"/>\n<text text-anchor=\"middle\" x=\"5997.3922\" y=\"-14.3\" font-family=\"Times,serif\" font-size=\"14.00\" fill=\"#000000\">leaf=0.067260012</text>\n</g>\n<!-- 59&#45;&gt;94 -->\n<g id=\"edge80\" class=\"edge\">\n<title>59&#45;&gt;94</title>\n<path fill=\"none\" stroke=\"#ff0000\" d=\"M5952.9954,-86.9735C5960.8794,-74.7252 5971.4413,-58.3165 5980.2854,-44.5766\"/>\n<polygon fill=\"#ff0000\" stroke=\"#ff0000\" points=\"5983.3343,-46.3064 5985.8038,-36.0034 5977.4482,-42.5176 5983.3343,-46.3064\"/>\n<text text-anchor=\"middle\" x=\"5981.3922\" y=\"-57.8\" font-family=\"Times,serif\" font-size=\"14.00\" fill=\"#000000\">no</text>\n</g>\n<!-- 95 -->\n<g id=\"node82\" class=\"node\">\n<title>95</title>\n<ellipse fill=\"none\" stroke=\"#000000\" cx=\"6176.3922\" cy=\"-18\" rx=\"80.6858\" ry=\"18\"/>\n<text text-anchor=\"middle\" x=\"6176.3922\" y=\"-14.3\" font-family=\"Times,serif\" font-size=\"14.00\" fill=\"#000000\">leaf=0.109033123</text>\n</g>\n<!-- 60&#45;&gt;95 -->\n<g id=\"edge81\" class=\"edge\">\n<title>60&#45;&gt;95</title>\n<path fill=\"none\" stroke=\"#0000ff\" d=\"M6285.7985,-86.9735C6264.4716,-73.5283 6235.1929,-55.0701 6212.2906,-40.6316\"/>\n<polygon fill=\"#0000ff\" stroke=\"#0000ff\" points=\"6213.8665,-37.4877 6203.5407,-35.1154 6210.1334,-43.4092 6213.8665,-37.4877\"/>\n<text text-anchor=\"middle\" x=\"6289.8922\" y=\"-57.8\" font-family=\"Times,serif\" font-size=\"14.00\" fill=\"#000000\">yes, missing</text>\n</g>\n<!-- 96 -->\n<g id=\"node83\" class=\"node\">\n<title>96</title>\n<ellipse fill=\"none\" stroke=\"#000000\" cx=\"6358.3922\" cy=\"-18\" rx=\"83.3857\" ry=\"18\"/>\n<text text-anchor=\"middle\" x=\"6358.3922\" y=\"-14.3\" font-family=\"Times,serif\" font-size=\"14.00\" fill=\"#000000\">leaf=&#45;0.044041153</text>\n</g>\n<!-- 60&#45;&gt;96 -->\n<g id=\"edge82\" class=\"edge\">\n<title>60&#45;&gt;96</title>\n<path fill=\"none\" stroke=\"#ff0000\" d=\"M6323.509,-86.9735C6329.6446,-74.8418 6337.8443,-58.6287 6344.7522,-44.9698\"/>\n<polygon fill=\"#ff0000\" stroke=\"#ff0000\" points=\"6347.8971,-46.5066 6349.287,-36.0034 6341.6505,-43.3474 6347.8971,-46.5066\"/>\n<text text-anchor=\"middle\" x=\"6347.3922\" y=\"-57.8\" font-family=\"Times,serif\" font-size=\"14.00\" fill=\"#000000\">no</text>\n</g>\n<!-- 61 -->\n<g id=\"node86\" class=\"node\">\n<title>61</title>\n<ellipse fill=\"none\" stroke=\"#000000\" cx=\"6720.3922\" cy=\"-105\" rx=\"120.4791\" ry=\"18\"/>\n<text text-anchor=\"middle\" x=\"6720.3922\" y=\"-101.3\" font-family=\"Times,serif\" font-size=\"14.00\" fill=\"#000000\">D_AB5_L_LR&lt;1.34903443</text>\n</g>\n<!-- 37&#45;&gt;61 -->\n<g id=\"edge85\" class=\"edge\">\n<title>37&#45;&gt;61</title>\n<path fill=\"none\" stroke=\"#0000ff\" d=\"M6925.6935,-174.4989C6883.3129,-160.1521 6823.3273,-139.8458 6779.1355,-124.8859\"/>\n<polygon fill=\"#0000ff\" stroke=\"#0000ff\" points=\"6779.9885,-121.4796 6769.3943,-121.5883 6777.744,-128.11 6779.9885,-121.4796\"/>\n<text text-anchor=\"middle\" x=\"6899.8922\" y=\"-144.8\" font-family=\"Times,serif\" font-size=\"14.00\" fill=\"#000000\">yes, missing</text>\n</g>\n<!-- 62 -->\n<g id=\"node87\" class=\"node\">\n<title>62</title>\n<ellipse fill=\"none\" stroke=\"#000000\" cx=\"6995.3922\" cy=\"-105\" rx=\"136.4758\" ry=\"18\"/>\n<text text-anchor=\"middle\" x=\"6995.3922\" y=\"-101.3\" font-family=\"Times,serif\" font-size=\"14.00\" fill=\"#000000\">D_GLS_AB11_LR&lt;1.19089317</text>\n</g>\n<!-- 37&#45;&gt;62 -->\n<g id=\"edge86\" class=\"edge\">\n<title>37&#45;&gt;62</title>\n<path fill=\"none\" stroke=\"#ff0000\" d=\"M6981.1218,-173.9735C6983.5594,-162.1918 6986.7934,-146.5607 6989.5663,-133.1581\"/>\n<polygon fill=\"#ff0000\" stroke=\"#ff0000\" points=\"6993.0686,-133.5051 6991.6673,-123.0034 6986.2138,-132.0868 6993.0686,-133.5051\"/>\n<text text-anchor=\"middle\" x=\"6996.3922\" y=\"-144.8\" font-family=\"Times,serif\" font-size=\"14.00\" fill=\"#000000\">no</text>\n</g>\n<!-- 63 -->\n<g id=\"node92\" class=\"node\">\n<title>63</title>\n<ellipse fill=\"none\" stroke=\"#000000\" cx=\"7316.3922\" cy=\"-105\" rx=\"130.777\" ry=\"18\"/>\n<text text-anchor=\"middle\" x=\"7316.3922\" y=\"-101.3\" font-family=\"Times,serif\" font-size=\"14.00\" fill=\"#000000\">D_AB10_U_LR&lt;0.642205358</text>\n</g>\n<!-- 38&#45;&gt;63 -->\n<g id=\"edge91\" class=\"edge\">\n<title>38&#45;&gt;63</title>\n<path fill=\"none\" stroke=\"#0000ff\" d=\"M7316.3922,-173.9735C7316.3922,-162.1918 7316.3922,-146.5607 7316.3922,-133.1581\"/>\n<polygon fill=\"#0000ff\" stroke=\"#0000ff\" points=\"7319.8923,-133.0033 7316.3922,-123.0034 7312.8923,-133.0034 7319.8923,-133.0033\"/>\n<text text-anchor=\"middle\" x=\"7351.8922\" y=\"-144.8\" font-family=\"Times,serif\" font-size=\"14.00\" fill=\"#000000\">yes, missing</text>\n</g>\n<!-- 64 -->\n<g id=\"node93\" class=\"node\">\n<title>64</title>\n<ellipse fill=\"none\" stroke=\"#000000\" cx=\"7686.3922\" cy=\"-105\" rx=\"220.161\" ry=\"18\"/>\n<text text-anchor=\"middle\" x=\"7686.3922\" y=\"-101.3\" font-family=\"Times,serif\" font-size=\"14.00\" fill=\"#000000\">ROOF.HEATING.Zone45.1JIC31145.PV&lt;0.71139735</text>\n</g>\n<!-- 38&#45;&gt;64 -->\n<g id=\"edge92\" class=\"edge\">\n<title>38&#45;&gt;64</title>\n<path fill=\"none\" stroke=\"#ff0000\" d=\"M7376.6625,-177.8283C7438.5328,-163.2804 7535.2417,-140.5408 7604.1257,-124.3437\"/>\n<polygon fill=\"#ff0000\" stroke=\"#ff0000\" points=\"7605.1461,-127.6993 7614.0795,-122.0032 7603.5438,-120.8852 7605.1461,-127.6993\"/>\n<text text-anchor=\"middle\" x=\"7532.3922\" y=\"-144.8\" font-family=\"Times,serif\" font-size=\"14.00\" fill=\"#000000\">no</text>\n</g>\n<!-- 97 -->\n<g id=\"node88\" class=\"node\">\n<title>97</title>\n<ellipse fill=\"none\" stroke=\"#000000\" cx=\"6544.3922\" cy=\"-18\" rx=\"85.2851\" ry=\"18\"/>\n<text text-anchor=\"middle\" x=\"6544.3922\" y=\"-14.3\" font-family=\"Times,serif\" font-size=\"14.00\" fill=\"#000000\">leaf=0.0765168294</text>\n</g>\n<!-- 61&#45;&gt;97 -->\n<g id=\"edge87\" class=\"edge\">\n<title>61&#45;&gt;97</title>\n<path fill=\"none\" stroke=\"#0000ff\" d=\"M6685.1989,-87.6033C6656.9258,-73.6274 6617.1122,-53.9468 6587.0311,-39.0772\"/>\n<polygon fill=\"#0000ff\" stroke=\"#0000ff\" points=\"6588.5471,-35.9224 6578.0316,-34.6286 6585.4451,-42.1976 6588.5471,-35.9224\"/>\n<text text-anchor=\"middle\" x=\"6678.8922\" y=\"-57.8\" font-family=\"Times,serif\" font-size=\"14.00\" fill=\"#000000\">yes, missing</text>\n</g>\n<!-- 98 -->\n<g id=\"node89\" class=\"node\">\n<title>98</title>\n<ellipse fill=\"none\" stroke=\"#000000\" cx=\"6736.3922\" cy=\"-18\" rx=\"88.2844\" ry=\"18\"/>\n<text text-anchor=\"middle\" x=\"6736.3922\" y=\"-14.3\" font-family=\"Times,serif\" font-size=\"14.00\" fill=\"#000000\">leaf=&#45;0.0938274339</text>\n</g>\n<!-- 61&#45;&gt;98 -->\n<g id=\"edge88\" class=\"edge\">\n<title>61&#45;&gt;98</title>\n<path fill=\"none\" stroke=\"#ff0000\" d=\"M6723.7074,-86.9735C6725.8741,-75.1918 6728.7488,-59.5607 6731.2137,-46.1581\"/>\n<polygon fill=\"#ff0000\" stroke=\"#ff0000\" points=\"6734.7146,-46.4715 6733.0812,-36.0034 6727.8301,-45.2053 6734.7146,-46.4715\"/>\n<text text-anchor=\"middle\" x=\"6737.3922\" y=\"-57.8\" font-family=\"Times,serif\" font-size=\"14.00\" fill=\"#000000\">no</text>\n</g>\n<!-- 99 -->\n<g id=\"node90\" class=\"node\">\n<title>99</title>\n<ellipse fill=\"none\" stroke=\"#000000\" cx=\"6931.3922\" cy=\"-18\" rx=\"88.2844\" ry=\"18\"/>\n<text text-anchor=\"middle\" x=\"6931.3922\" y=\"-14.3\" font-family=\"Times,serif\" font-size=\"14.00\" fill=\"#000000\">leaf=&#45;0.0319023579</text>\n</g>\n<!-- 62&#45;&gt;99 -->\n<g id=\"edge89\" class=\"edge\">\n<title>62&#45;&gt;99</title>\n<path fill=\"none\" stroke=\"#0000ff\" d=\"M6982.1313,-86.9735C6973.0352,-74.6085 6960.8201,-58.0036 6950.6545,-44.1847\"/>\n<polygon fill=\"#0000ff\" stroke=\"#0000ff\" points=\"6953.3811,-41.9846 6944.636,-36.0034 6947.7424,-46.1326 6953.3811,-41.9846\"/>\n<text text-anchor=\"middle\" x=\"7002.8922\" y=\"-57.8\" font-family=\"Times,serif\" font-size=\"14.00\" fill=\"#000000\">yes, missing</text>\n</g>\n<!-- 100 -->\n<g id=\"node91\" class=\"node\">\n<title>100</title>\n<ellipse fill=\"none\" stroke=\"#000000\" cx=\"7121.3922\" cy=\"-18\" rx=\"83.3857\" ry=\"18\"/>\n<text text-anchor=\"middle\" x=\"7121.3922\" y=\"-14.3\" font-family=\"Times,serif\" font-size=\"14.00\" fill=\"#000000\">leaf=&#45;0.117761962</text>\n</g>\n<!-- 62&#45;&gt;100 -->\n<g id=\"edge90\" class=\"edge\">\n<title>62&#45;&gt;100</title>\n<path fill=\"none\" stroke=\"#ff0000\" d=\"M7021.1942,-87.1843C7040.5577,-73.8143 7067.2255,-55.4008 7088.181,-40.9315\"/>\n<polygon fill=\"#ff0000\" stroke=\"#ff0000\" points=\"7090.243,-43.7611 7096.4833,-35.199 7086.2657,-38.0008 7090.243,-43.7611\"/>\n<text text-anchor=\"middle\" x=\"7074.3922\" y=\"-57.8\" font-family=\"Times,serif\" font-size=\"14.00\" fill=\"#000000\">no</text>\n</g>\n<!-- 101 -->\n<g id=\"node94\" class=\"node\">\n<title>101</title>\n<ellipse fill=\"none\" stroke=\"#000000\" cx=\"7307.3922\" cy=\"-18\" rx=\"85.2851\" ry=\"18\"/>\n<text text-anchor=\"middle\" x=\"7307.3922\" y=\"-14.3\" font-family=\"Times,serif\" font-size=\"14.00\" fill=\"#000000\">leaf=0.0160961654</text>\n</g>\n<!-- 63&#45;&gt;101 -->\n<g id=\"edge93\" class=\"edge\">\n<title>63&#45;&gt;101</title>\n<path fill=\"none\" stroke=\"#0000ff\" d=\"M7314.5274,-86.9735C7313.3085,-75.1918 7311.6915,-59.5607 7310.3051,-46.1581\"/>\n<polygon fill=\"#0000ff\" stroke=\"#0000ff\" points=\"7313.7651,-45.5901 7309.2546,-36.0034 7306.8022,-46.3105 7313.7651,-45.5901\"/>\n<text text-anchor=\"middle\" x=\"7348.8922\" y=\"-57.8\" font-family=\"Times,serif\" font-size=\"14.00\" fill=\"#000000\">yes, missing</text>\n</g>\n<!-- 102 -->\n<g id=\"node95\" class=\"node\">\n<title>102</title>\n<ellipse fill=\"none\" stroke=\"#000000\" cx=\"7499.3922\" cy=\"-18\" rx=\"88.2844\" ry=\"18\"/>\n<text text-anchor=\"middle\" x=\"7499.3922\" y=\"-14.3\" font-family=\"Times,serif\" font-size=\"14.00\" fill=\"#000000\">leaf=&#45;0.0726622716</text>\n</g>\n<!-- 63&#45;&gt;102 -->\n<g id=\"edge94\" class=\"edge\">\n<title>63&#45;&gt;102</title>\n<path fill=\"none\" stroke=\"#ff0000\" d=\"M7352.9851,-87.6033C7382.3828,-73.6274 7423.7798,-53.9468 7455.0574,-39.0772\"/>\n<polygon fill=\"#ff0000\" stroke=\"#ff0000\" points=\"7456.8862,-42.0832 7464.4148,-34.6286 7453.8807,-35.7612 7456.8862,-42.0832\"/>\n<text text-anchor=\"middle\" x=\"7427.3922\" y=\"-57.8\" font-family=\"Times,serif\" font-size=\"14.00\" fill=\"#000000\">no</text>\n</g>\n<!-- 103 -->\n<g id=\"node96\" class=\"node\">\n<title>103</title>\n<ellipse fill=\"none\" stroke=\"#000000\" cx=\"7686.3922\" cy=\"-18\" rx=\"80.6858\" ry=\"18\"/>\n<text text-anchor=\"middle\" x=\"7686.3922\" y=\"-14.3\" font-family=\"Times,serif\" font-size=\"14.00\" fill=\"#000000\">leaf=0.135390833</text>\n</g>\n<!-- 64&#45;&gt;103 -->\n<g id=\"edge95\" class=\"edge\">\n<title>64&#45;&gt;103</title>\n<path fill=\"none\" stroke=\"#0000ff\" d=\"M7686.3922,-86.9735C7686.3922,-75.1918 7686.3922,-59.5607 7686.3922,-46.1581\"/>\n<polygon fill=\"#0000ff\" stroke=\"#0000ff\" points=\"7689.8923,-46.0033 7686.3922,-36.0034 7682.8923,-46.0034 7689.8923,-46.0033\"/>\n<text text-anchor=\"middle\" x=\"7721.8922\" y=\"-57.8\" font-family=\"Times,serif\" font-size=\"14.00\" fill=\"#000000\">yes, missing</text>\n</g>\n<!-- 104 -->\n<g id=\"node97\" class=\"node\">\n<title>104</title>\n<ellipse fill=\"none\" stroke=\"#000000\" cx=\"7873.3922\" cy=\"-18\" rx=\"88.2844\" ry=\"18\"/>\n<text text-anchor=\"middle\" x=\"7873.3922\" y=\"-14.3\" font-family=\"Times,serif\" font-size=\"14.00\" fill=\"#000000\">leaf=&#45;0.0027452996</text>\n</g>\n<!-- 64&#45;&gt;104 -->\n<g id=\"edge96\" class=\"edge\">\n<title>64&#45;&gt;104</title>\n<path fill=\"none\" stroke=\"#ff0000\" d=\"M7724.6856,-87.1843C7754.705,-73.2181 7796.553,-53.7487 7828.2107,-39.0203\"/>\n<polygon fill=\"#ff0000\" stroke=\"#ff0000\" points=\"7830.0935,-42.0046 7837.6839,-34.6129 7827.1407,-35.6578 7830.0935,-42.0046\"/>\n<text text-anchor=\"middle\" x=\"7799.3922\" y=\"-57.8\" font-family=\"Times,serif\" font-size=\"14.00\" fill=\"#000000\">no</text>\n</g>\n<!-- 39 -->\n<g id=\"node100\" class=\"node\">\n<title>39</title>\n<ellipse fill=\"none\" stroke=\"#000000\" cx=\"8241.3922\" cy=\"-192\" rx=\"79.0865\" ry=\"18\"/>\n<text text-anchor=\"middle\" x=\"8241.3922\" y=\"-188.3\" font-family=\"Times,serif\" font-size=\"14.00\" fill=\"#000000\">top_5&lt;1.3926084</text>\n</g>\n<!-- 24&#45;&gt;39 -->\n<g id=\"edge99\" class=\"edge\">\n<title>24&#45;&gt;39</title>\n<path fill=\"none\" stroke=\"#0000ff\" d=\"M8241.3922,-260.9735C8241.3922,-249.1918 8241.3922,-233.5607 8241.3922,-220.1581\"/>\n<polygon fill=\"#0000ff\" stroke=\"#0000ff\" points=\"8244.8923,-220.0033 8241.3922,-210.0034 8237.8923,-220.0034 8244.8923,-220.0033\"/>\n<text text-anchor=\"middle\" x=\"8276.8922\" y=\"-231.8\" font-family=\"Times,serif\" font-size=\"14.00\" fill=\"#000000\">yes, missing</text>\n</g>\n<!-- 40 -->\n<g id=\"node101\" class=\"node\">\n<title>40</title>\n<ellipse fill=\"none\" stroke=\"#000000\" cx=\"8637.3922\" cy=\"-192\" rx=\"241.2573\" ry=\"18\"/>\n<text text-anchor=\"middle\" x=\"8637.3922\" y=\"-188.3\" font-family=\"Times,serif\" font-size=\"14.00\" fill=\"#000000\">DB.HEAT.BTM.LEFT.1.TMP.1TI40315.PV&lt;&#45;0.571730494</text>\n</g>\n<!-- 24&#45;&gt;40 -->\n<g id=\"edge100\" class=\"edge\">\n<title>24&#45;&gt;40</title>\n<path fill=\"none\" stroke=\"#ff0000\" d=\"M8309.918,-263.9451C8376.305,-249.3601 8477.2724,-227.1778 8549.5344,-211.3021\"/>\n<polygon fill=\"#ff0000\" stroke=\"#ff0000\" points=\"8550.5177,-214.6696 8559.5337,-209.1053 8549.0156,-207.8327 8550.5177,-214.6696\"/>\n<text text-anchor=\"middle\" x=\"8471.3922\" y=\"-231.8\" font-family=\"Times,serif\" font-size=\"14.00\" fill=\"#000000\">no</text>\n</g>\n<!-- 65 -->\n<g id=\"node102\" class=\"node\">\n<title>65</title>\n<ellipse fill=\"none\" stroke=\"#000000\" cx=\"8068.3922\" cy=\"-105\" rx=\"124.5782\" ry=\"18\"/>\n<text text-anchor=\"middle\" x=\"8068.3922\" y=\"-101.3\" font-family=\"Times,serif\" font-size=\"14.00\" fill=\"#000000\">LOR.3.L.Axis&lt;&#45;0.306745589</text>\n</g>\n<!-- 39&#45;&gt;65 -->\n<g id=\"edge101\" class=\"edge\">\n<title>39&#45;&gt;65</title>\n<path fill=\"none\" stroke=\"#0000ff\" d=\"M8208.445,-175.4312C8181.0807,-161.67 8141.928,-141.9805 8111.9731,-126.9164\"/>\n<polygon fill=\"#0000ff\" stroke=\"#0000ff\" points=\"8113.5016,-123.7675 8102.9952,-122.4015 8110.3567,-130.0213 8113.5016,-123.7675\"/>\n<text text-anchor=\"middle\" x=\"8200.8922\" y=\"-144.8\" font-family=\"Times,serif\" font-size=\"14.00\" fill=\"#000000\">yes, missing</text>\n</g>\n<!-- 66 -->\n<g id=\"node103\" class=\"node\">\n<title>66</title>\n<ellipse fill=\"none\" stroke=\"#000000\" cx=\"8299.3922\" cy=\"-105\" rx=\"88.2844\" ry=\"18\"/>\n<text text-anchor=\"middle\" x=\"8299.3922\" y=\"-101.3\" font-family=\"Times,serif\" font-size=\"14.00\" fill=\"#000000\">leaf=&#45;0.0918578804</text>\n</g>\n<!-- 39&#45;&gt;66 -->\n<g id=\"edge102\" class=\"edge\">\n<title>39&#45;&gt;66</title>\n<path fill=\"none\" stroke=\"#ff0000\" d=\"M8253.4098,-173.9735C8261.5754,-161.7252 8272.5145,-145.3165 8281.6745,-131.5766\"/>\n<polygon fill=\"#ff0000\" stroke=\"#ff0000\" points=\"8284.7551,-133.2653 8287.3899,-123.0034 8278.9307,-129.3824 8284.7551,-133.2653\"/>\n<text text-anchor=\"middle\" x=\"8282.3922\" y=\"-144.8\" font-family=\"Times,serif\" font-size=\"14.00\" fill=\"#000000\">no</text>\n</g>\n<!-- 67 -->\n<g id=\"node106\" class=\"node\">\n<title>67</title>\n<ellipse fill=\"none\" stroke=\"#000000\" cx=\"8637.3922\" cy=\"-105\" rx=\"231.259\" ry=\"18\"/>\n<text text-anchor=\"middle\" x=\"8637.3922\" y=\"-101.3\" font-family=\"Times,serif\" font-size=\"14.00\" fill=\"#000000\">X.2.LEHR.O2.ANALYZER.1AI44113.PV&lt;0.344676942</text>\n</g>\n<!-- 40&#45;&gt;67 -->\n<g id=\"edge105\" class=\"edge\">\n<title>40&#45;&gt;67</title>\n<path fill=\"none\" stroke=\"#0000ff\" d=\"M8637.3922,-173.9735C8637.3922,-162.1918 8637.3922,-146.5607 8637.3922,-133.1581\"/>\n<polygon fill=\"#0000ff\" stroke=\"#0000ff\" points=\"8640.8923,-133.0033 8637.3922,-123.0034 8633.8923,-133.0034 8640.8923,-133.0033\"/>\n<text text-anchor=\"middle\" x=\"8672.8922\" y=\"-144.8\" font-family=\"Times,serif\" font-size=\"14.00\" fill=\"#000000\">yes, missing</text>\n</g>\n<!-- 68 -->\n<g id=\"node107\" class=\"node\">\n<title>68</title>\n<ellipse fill=\"none\" stroke=\"#000000\" cx=\"9107.3922\" cy=\"-105\" rx=\"220.9608\" ry=\"18\"/>\n<text text-anchor=\"middle\" x=\"9107.3922\" y=\"-101.3\" font-family=\"Times,serif\" font-size=\"14.00\" fill=\"#000000\">ROOF.HEATING.Zone21.1JIC31121.PV&lt;0.57679224</text>\n</g>\n<!-- 40&#45;&gt;68 -->\n<g id=\"edge106\" class=\"edge\">\n<title>40&#45;&gt;68</title>\n<path fill=\"none\" stroke=\"#ff0000\" d=\"M8727.7347,-175.277C8808.064,-160.4076 8925.3009,-138.7063 9008.2036,-123.3604\"/>\n<polygon fill=\"#ff0000\" stroke=\"#ff0000\" points=\"9008.9428,-126.7832 9018.1387,-121.5214 9007.6686,-119.9001 9008.9428,-126.7832\"/>\n<text text-anchor=\"middle\" x=\"8909.3922\" y=\"-144.8\" font-family=\"Times,serif\" font-size=\"14.00\" fill=\"#000000\">no</text>\n</g>\n<!-- 105 -->\n<g id=\"node104\" class=\"node\">\n<title>105</title>\n<ellipse fill=\"none\" stroke=\"#000000\" cx=\"8068.3922\" cy=\"-18\" rx=\"88.2844\" ry=\"18\"/>\n<text text-anchor=\"middle\" x=\"8068.3922\" y=\"-14.3\" font-family=\"Times,serif\" font-size=\"14.00\" fill=\"#000000\">leaf=&#45;0.0553201623</text>\n</g>\n<!-- 65&#45;&gt;105 -->\n<g id=\"edge103\" class=\"edge\">\n<title>65&#45;&gt;105</title>\n<path fill=\"none\" stroke=\"#0000ff\" d=\"M8068.3922,-86.9735C8068.3922,-75.1918 8068.3922,-59.5607 8068.3922,-46.1581\"/>\n<polygon fill=\"#0000ff\" stroke=\"#0000ff\" points=\"8071.8923,-46.0033 8068.3922,-36.0034 8064.8923,-46.0034 8071.8923,-46.0033\"/>\n<text text-anchor=\"middle\" x=\"8103.8922\" y=\"-57.8\" font-family=\"Times,serif\" font-size=\"14.00\" fill=\"#000000\">yes, missing</text>\n</g>\n<!-- 106 -->\n<g id=\"node105\" class=\"node\">\n<title>106</title>\n<ellipse fill=\"none\" stroke=\"#000000\" cx=\"8260.3922\" cy=\"-18\" rx=\"85.2851\" ry=\"18\"/>\n<text text-anchor=\"middle\" x=\"8260.3922\" y=\"-14.3\" font-family=\"Times,serif\" font-size=\"14.00\" fill=\"#000000\">leaf=0.0781254172</text>\n</g>\n<!-- 65&#45;&gt;106 -->\n<g id=\"edge104\" class=\"edge\">\n<title>65&#45;&gt;106</title>\n<path fill=\"none\" stroke=\"#ff0000\" d=\"M8106.3252,-87.8116C8137.4586,-73.7043 8181.6434,-53.683 8214.7174,-38.6964\"/>\n<polygon fill=\"#ff0000\" stroke=\"#ff0000\" points=\"8216.4999,-41.7313 8224.1639,-34.4159 8213.6107,-35.3553 8216.4999,-41.7313\"/>\n<text text-anchor=\"middle\" x=\"8184.3922\" y=\"-57.8\" font-family=\"Times,serif\" font-size=\"14.00\" fill=\"#000000\">no</text>\n</g>\n<!-- 107 -->\n<g id=\"node108\" class=\"node\">\n<title>107</title>\n<ellipse fill=\"none\" stroke=\"#000000\" cx=\"8565.3922\" cy=\"-18\" rx=\"85.2851\" ry=\"18\"/>\n<text text-anchor=\"middle\" x=\"8565.3922\" y=\"-14.3\" font-family=\"Times,serif\" font-size=\"14.00\" fill=\"#000000\">leaf=0.0666140839</text>\n</g>\n<!-- 67&#45;&gt;107 -->\n<g id=\"edge107\" class=\"edge\">\n<title>67&#45;&gt;107</title>\n<path fill=\"none\" stroke=\"#0000ff\" d=\"M8622.4737,-86.9735C8612.144,-74.4919 8598.239,-57.6899 8586.7392,-43.7944\"/>\n<polygon fill=\"#0000ff\" stroke=\"#0000ff\" points=\"8589.3636,-41.4758 8580.2915,-36.0034 8583.9708,-45.9388 8589.3636,-41.4758\"/>\n<text text-anchor=\"middle\" x=\"8641.8922\" y=\"-57.8\" font-family=\"Times,serif\" font-size=\"14.00\" fill=\"#000000\">yes, missing</text>\n</g>\n<!-- 108 -->\n<g id=\"node109\" class=\"node\">\n<title>108</title>\n<ellipse fill=\"none\" stroke=\"#000000\" cx=\"8757.3922\" cy=\"-18\" rx=\"88.2844\" ry=\"18\"/>\n<text text-anchor=\"middle\" x=\"8757.3922\" y=\"-14.3\" font-family=\"Times,serif\" font-size=\"14.00\" fill=\"#000000\">leaf=&#45;0.0496700667</text>\n</g>\n<!-- 67&#45;&gt;108 -->\n<g id=\"edge108\" class=\"edge\">\n<title>67&#45;&gt;108</title>\n<path fill=\"none\" stroke=\"#ff0000\" d=\"M8662.2562,-86.9735C8680.5171,-73.7344 8705.4822,-55.6347 8725.2565,-41.2983\"/>\n<polygon fill=\"#ff0000\" stroke=\"#ff0000\" points=\"8727.3371,-44.1131 8733.3788,-35.4097 8723.2283,-38.4458 8727.3371,-44.1131\"/>\n<text text-anchor=\"middle\" x=\"8713.3922\" y=\"-57.8\" font-family=\"Times,serif\" font-size=\"14.00\" fill=\"#000000\">no</text>\n</g>\n<!-- 109 -->\n<g id=\"node110\" class=\"node\">\n<title>109</title>\n<ellipse fill=\"none\" stroke=\"#000000\" cx=\"8992.3922\" cy=\"-18\" rx=\"83.3857\" ry=\"18\"/>\n<text text-anchor=\"middle\" x=\"8992.3922\" y=\"-14.3\" font-family=\"Times,serif\" font-size=\"14.00\" fill=\"#000000\">leaf=&#45;0.115673259</text>\n</g>\n<!-- 68&#45;&gt;109 -->\n<g id=\"edge109\" class=\"edge\">\n<title>68&#45;&gt;109</title>\n<path fill=\"none\" stroke=\"#0000ff\" d=\"M9083.5641,-86.9735C9066.1422,-73.7935 9042.3527,-55.7962 9023.4429,-41.4906\"/>\n<polygon fill=\"#0000ff\" stroke=\"#0000ff\" points=\"9025.4916,-38.6517 9015.405,-35.4097 9021.2683,-44.2342 9025.4916,-38.6517\"/>\n<text text-anchor=\"middle\" x=\"9092.8922\" y=\"-57.8\" font-family=\"Times,serif\" font-size=\"14.00\" fill=\"#000000\">yes, missing</text>\n</g>\n<!-- 110 -->\n<g id=\"node111\" class=\"node\">\n<title>110</title>\n<ellipse fill=\"none\" stroke=\"#000000\" cx=\"9178.3922\" cy=\"-18\" rx=\"85.2851\" ry=\"18\"/>\n<text text-anchor=\"middle\" x=\"9178.3922\" y=\"-14.3\" font-family=\"Times,serif\" font-size=\"14.00\" fill=\"#000000\">leaf=0.0253840424</text>\n</g>\n<!-- 68&#45;&gt;110 -->\n<g id=\"edge110\" class=\"edge\">\n<title>68&#45;&gt;110</title>\n<path fill=\"none\" stroke=\"#ff0000\" d=\"M9122.1034,-86.9735C9132.2896,-74.4919 9146.0015,-57.6899 9157.3416,-43.7944\"/>\n<polygon fill=\"#ff0000\" stroke=\"#ff0000\" points=\"9160.0887,-45.9638 9163.6998,-36.0034 9154.6654,-41.5379 9160.0887,-45.9638\"/>\n<text text-anchor=\"middle\" x=\"9154.3922\" y=\"-57.8\" font-family=\"Times,serif\" font-size=\"14.00\" fill=\"#000000\">no</text>\n</g>\n</g>\n</svg>\n"
          },
          "metadata": {
            "tags": []
          },
          "execution_count": 180
        }
      ]
    },
    {
      "cell_type": "code",
      "metadata": {
        "colab": {
          "base_uri": "https://localhost:8080/"
        },
        "id": "Lk57hzV-as58",
        "outputId": "89c2818a-46b8-4da5-fc1c-fed1d2f2aae9"
      },
      "source": [
        "type(tree_img)"
      ],
      "execution_count": 181,
      "outputs": [
        {
          "output_type": "execute_result",
          "data": {
            "text/plain": [
              "graphviz.dot.Digraph"
            ]
          },
          "metadata": {
            "tags": []
          },
          "execution_count": 181
        }
      ]
    },
    {
      "cell_type": "code",
      "metadata": {
        "colab": {
          "base_uri": "https://localhost:8080/",
          "height": 36
        },
        "id": "X_WNGA98Z0HX",
        "outputId": "159a5482-7236-42ce-ed21-dcf018224c77"
      },
      "source": [
        "# 이미지 저장\n",
        "from PIL import Image\n",
        "# 이미지 열기\n",
        "tree_img.save('/content/drive/MyDrive/나무플래닛/3. 산출물/xgb_203_tree.dot') "
      ],
      "execution_count": 182,
      "outputs": [
        {
          "output_type": "execute_result",
          "data": {
            "application/vnd.google.colaboratory.intrinsic+json": {
              "type": "string"
            },
            "text/plain": [
              "'/content/drive/MyDrive/나무플래닛/3. 산출물/xgb_203_tree.dot'"
            ]
          },
          "metadata": {
            "tags": []
          },
          "execution_count": 182
        }
      ]
    },
    {
      "cell_type": "code",
      "metadata": {
        "id": "rjaWe2ROa1uu"
      },
      "source": [
        ""
      ],
      "execution_count": null,
      "outputs": []
    }
  ]
}