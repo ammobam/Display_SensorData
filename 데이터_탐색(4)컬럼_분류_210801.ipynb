{
  "nbformat": 4,
  "nbformat_minor": 0,
  "metadata": {
    "colab": {
      "name": "210731_데이터 탐색(4)컬럼 분류.ipynb",
      "provenance": [],
      "collapsed_sections": [],
      "mount_file_id": "1aYJtov15JL3MO2sE9SlhfK0eYX4bnQjh",
      "authorship_tag": "ABX9TyNT4Qt1ELCRcP2i2/vwWAGY",
      "include_colab_link": true
    },
    "kernelspec": {
      "name": "python3",
      "display_name": "Python 3"
    },
    "language_info": {
      "name": "python"
    }
  },
  "cells": [
    {
      "cell_type": "markdown",
      "metadata": {
        "id": "view-in-github",
        "colab_type": "text"
      },
      "source": [
        "<a href=\"https://colab.research.google.com/github/ammobam/Display_SensorData/blob/main/%EB%8D%B0%EC%9D%B4%ED%84%B0_%ED%83%90%EC%83%89(4)%EC%BB%AC%EB%9F%BC_%EB%B6%84%EB%A5%98_210801.ipynb\" target=\"_parent\"><img src=\"https://colab.research.google.com/assets/colab-badge.svg\" alt=\"Open In Colab\"/></a>"
      ]
    },
    {
      "cell_type": "markdown",
      "metadata": {
        "id": "QAL9RXUHAv1x"
      },
      "source": [
        "# **디스플레이 생산라인 센서 데이터 분석\n",
        "\n",
        "## 주제 : 불량품에 영향을 주는 요인 찾기\n",
        "- 결과 : \"ㅇㅇ센서에서 ㅁㅁ면 불량품\"\n",
        "1. 주요 요인 피처 5개 추출\n",
        "2. 불량품/양품 구분하는 모델도 찾아야 함\n",
        "\n",
        "\n",
        "- 머신러닝 이용\n",
        "---"
      ]
    },
    {
      "cell_type": "markdown",
      "metadata": {
        "id": "SzGTqwO6AzMO"
      },
      "source": [
        "## 컬럼이름 분류하기\n",
        "- 데이터는 센서 데이터로 약  800여개의 컬럼이 있음\n",
        "- 이름이 비슷한 컬럼이 다수 있으며 생산라인이 Left, Right으로 나뉘어 동일한 공정을 수행중임\n",
        "- 컬럼이름을 기준으로 컬럼을 분류하고자 함\n",
        "    - LEFT\n",
        "    - RIGHT\n",
        "    - 공통\n",
        "- 컬럼을 분류하면 피처 수를 줄여 데이터탐색이 가능함\n",
        "    - 이름이 유사한 컬럼간 종속성을 확인\n",
        "    - LEFT, RIGHT 각 공정에 따라 레이블에 미치는 영향 확인 \n"
      ]
    },
    {
      "cell_type": "code",
      "metadata": {
        "id": "cAqYBhUtAuR1"
      },
      "source": [
        "# 데이터 불러오기\n",
        "import pandas as pd\n",
        "df_origin = pd.read_csv('/content/drive/MyDrive/나무플래닛/1. 데이터_디스플레이/factory_glass_2016.zip', encoding='cp949')"
      ],
      "execution_count": 1,
      "outputs": []
    },
    {
      "cell_type": "code",
      "metadata": {
        "id": "vNaDLmf9B1p_"
      },
      "source": [
        "# 컬럼이름 리스트 저장하기\n",
        "col = df_origin.columns.tolist()\n",
        "#col"
      ],
      "execution_count": 2,
      "outputs": []
    },
    {
      "cell_type": "markdown",
      "metadata": {
        "id": "L_xryvSed0Pi"
      },
      "source": [
        "### 1. 앞 3글자가 동일한 컬럼을 분류하고 확인\n"
      ]
    },
    {
      "cell_type": "code",
      "metadata": {
        "colab": {
          "base_uri": "https://localhost:8080/"
        },
        "id": "-u1nhZ4Odkux",
        "outputId": "15156806-bd93-4cc2-990e-feb3d716db58"
      },
      "source": [
        "# 앞글자 3자리가 같은 컬럼의 집단 개수 확인\n",
        "col_name_3=[]\n",
        "for name in col:\n",
        "    name = str(name)[:3]\n",
        "    col_name_3.append(name)\n",
        "\n",
        "print(len(set(col_name_3)))  # 61개"
      ],
      "execution_count": 87,
      "outputs": [
        {
          "output_type": "stream",
          "text": [
            "61\n"
          ],
          "name": "stdout"
        }
      ]
    },
    {
      "cell_type": "code",
      "metadata": {
        "id": "hP32Lj-WdUZk",
        "colab": {
          "base_uri": "https://localhost:8080/"
        },
        "outputId": "83a70634-abfa-43f0-9e2e-e534764addef"
      },
      "source": [
        "# 앞글자 3자리가 key, 이름이 유사한 컬럼이 value인 딕셔너리 생성\n",
        "# 빈 딕셔너리 생성\n",
        "col_name_3={}\n",
        "# 인덱스, 컬럼이름에 대해 반복\n",
        "for i, key in enumerate(col):\n",
        "    key = str(key)[:3]\n",
        "    # 만약 key가 딕셔너리에 없으면 키, 인덱스 생성\n",
        "    if key not in col_name_3:\n",
        "        col_name_3[key] = [col[i]]\n",
        "        ## 딕셔너리에 넣을 때 int가 아닌 list로 넣어야 함\n",
        "\n",
        "    # 만약 key가 딕셔너리에 있으면 인덱스 추가\n",
        "    else:\n",
        "        col_name_3[key].append(col[i])\n",
        "\n",
        "print(len(col_name_3)) # 컬럼집단 61개 잘 만들어짐\n",
        "#col_name_3"
      ],
      "execution_count": 88,
      "outputs": [
        {
          "output_type": "stream",
          "text": [
            "61\n"
          ],
          "name": "stdout"
        }
      ]
    },
    {
      "cell_type": "code",
      "metadata": {
        "colab": {
          "base_uri": "https://localhost:8080/"
        },
        "id": "Fvlf3PeECSTN",
        "outputId": "4a3e8671-1be1-46ab-dde2-b86efb6f8056"
      },
      "source": [
        "# 2. 컬럼명에 LEFT, RIGHT가 있으면 분류\n",
        "\n",
        "# left, right 분류하여 저장할 딕셔너리 생성\n",
        "dict_l_r = {'Left':[],\n",
        "            'Right':[],\n",
        "            'Center':[]}\n",
        "\n",
        "# 각 key에 대해 반복 수행\n",
        "for key in col_name_3:\n",
        "    #print(col_name_3[key])\n",
        "    #print(len(col_name_3[key]))\n",
        "\n",
        "\n",
        "    for i in range(len(col_name_3[key])):\n",
        "        #print(str(col_name_3[key][i]).lower())\n",
        "\n",
        "        # left라는 단어가 있으면 \n",
        "        if ('left') in str(col_name_3[key][i].lower()):\n",
        "            dict_l_r['Left'].append(col_name_3[key][i])\n",
        "        \n",
        "        # right라는 단어가 있으면\n",
        "        elif ('right') in str(col_name_3[key][i].lower()):\n",
        "            dict_l_r['Right'].append(col_name_3[key][i])\n",
        "\n",
        "        # left, right가 아니면\n",
        "        #else:\n",
        "        #    dict_l_r['Center'].append(col_name_3[key][i])\n",
        "\n",
        "    # 각 컬럼이름에 대해 반복 수행\n",
        "        #print(str(col_name_3[key]).lower())\n",
        "\n",
        "# 확인\n",
        "for key in dict_l_r:\n",
        "    print(key, \":\", len(dict_l_r[key]))\n",
        "#dict_l_r"
      ],
      "execution_count": 134,
      "outputs": [
        {
          "output_type": "stream",
          "text": [
            "Left : 27\n",
            "Right : 24\n",
            "Center : 0\n"
          ],
          "name": "stdout"
        }
      ]
    },
    {
      "cell_type": "code",
      "metadata": {
        "id": "v7K2lRCpslPL"
      },
      "source": [
        "# 3. 컬럼명에 _L, _R...등등이 있으면 분류\n",
        "# 딕셔너리 개수 균형 확인해보면서 작업\n",
        "\n",
        "for key in col_name_3:\n",
        "    for i in range(len(col_name_3[key])):\n",
        "\n",
        "        # 컬럼이름에 문자열 'ㅣ\\_r\\_', 'lr'가 포함된 경우 딕셔너리에 추가\n",
        "        # re.search에서 여러개의 패턴을 or조건으로 잇기 위해 '' 안에서 |로 이어야 함\n",
        "        re_isin_r_l = re.search('l\\_r\\_|lr', str(col_name_3[key][i].lower())) != None\n",
        "        if re_isin_r_l:\n",
        "            dict_l_r['Center'].append(col_name_3[key][i])\n",
        "\n",
        "        else:\n",
        "            # 컬럼이름에 문자열 '\\_r\\_'가 포함된 경우 딕셔너리에 추가\n",
        "            re_isin_r = re.search('\\_r\\_|\\.r\\.|\\_l\\_r', str(col_name_3[key][i].lower())) != None\n",
        "            if re_isin_r:\n",
        "                dict_l_r['Right'].append(col_name_3[key][i])\n",
        "\n",
        "            # 컬럼이름에 문자열 '\\_l\\_'가 포함된 경우 딕셔너리에 추가\n",
        "            # l_r이 Left로 들어가는 것을 예방하기 위해 Right를 먼저 판단하고 Left 판단함 \n",
        "            else:\n",
        "                re_isin_l = re.search('\\_l\\_|\\.l\\.|\\_l\\_l', str(col_name_3[key][i].lower())) != None\n",
        "                if re_isin_l:\n",
        "                    dict_l_r['Left'].append(col_name_3[key][i])\n",
        "\n",
        "\n",
        "# 확인\n",
        "for key in dict_l_r:\n",
        "    print(key, \":\", len(dict_l_r[key]))\n",
        "dict_l_r\n",
        "#print(69+64+43)"
      ],
      "execution_count": null,
      "outputs": []
    },
    {
      "cell_type": "code",
      "metadata": {
        "colab": {
          "base_uri": "https://localhost:8080/"
        },
        "id": "fgHeDFH0L8yS",
        "outputId": "c88fb896-f6c3-41b8-b57e-cbb6c7a5ae65"
      },
      "source": [
        "##################33\n",
        "\n",
        "# left, right 분류하여 저장할 딕셔너리 생성\n",
        "dict_l_r = {'Left':[],\n",
        "            'Right':[],\n",
        "            'Center':[]}\n",
        "\n",
        "# 3. 컬럼명에 _L, _R...등등이 있으면 분류\n",
        "# 딕셔너리 개수 균형 확인해보면서 작업\n",
        "\n",
        "for key in col_name_3:\n",
        "    for i in range(len(col_name_3[key])):\n",
        "\n",
        "        # 컬럼이름에 문자열 'ㅣ\\_r\\_', 'lr'가 포함된 경우 딕셔너리에 추가\n",
        "        # re.search에서 여러개의 패턴을 or조건으로 잇기 위해 '' 안에서 |로 이어야 함\n",
        "        re_isin_r_l = re.search('l\\_r\\_|lr', str(col_name_3[key][i].lower())) != None\n",
        "        if re_isin_r_l:\n",
        "            dict_l_r['Center'].append(col_name_3[key][i])\n",
        "\n",
        "        else:\n",
        "            # 컬럼이름에 문자열 '\\_r\\_'가 포함된 경우 딕셔너리에 추가\n",
        "            re_isin_r = re.search('right|\\_r\\_|\\.r\\.|\\_l\\_r', str(col_name_3[key][i].lower())) != None\n",
        "            if re_isin_r:\n",
        "                dict_l_r['Right'].append(col_name_3[key][i])\n",
        "\n",
        "            # 컬럼이름에 문자열 '\\_l\\_'가 포함된 경우 딕셔너리에 추가\n",
        "            # l_r이 Left로 들어가는 것을 예방하기 위해 Right를 먼저 판단하고 Left 판단함 \n",
        "            else:\n",
        "                re_isin_l = re.search('left|\\_l\\_|\\.l\\.|\\_l\\_l', str(col_name_3[key][i].lower())) != None\n",
        "                if re_isin_l:\n",
        "                    dict_l_r['Left'].append(col_name_3[key][i])\n",
        "\n",
        "\n",
        "# 확인\n",
        "for key in dict_l_r:\n",
        "    print(key, \":\", len(dict_l_r[key]))\n",
        "dict_l_r['Left']"
      ],
      "execution_count": 136,
      "outputs": [
        {
          "output_type": "stream",
          "text": [
            "Left : 67\n",
            "Right : 64\n",
            "Center : 43\n"
          ],
          "name": "stdout"
        },
        {
          "output_type": "execute_result",
          "data": {
            "text/plain": [
              "['DB.N2.SCREEN.FLOW.LEFT.1FI49011_PV',\n",
              " 'DB.N2.SCREEN.FLOW.LEFT.1FI49011_PV.1',\n",
              " 'DB.HEAT.BTM.LEFT.1.TMP.1TI40315.PV',\n",
              " 'DB.HEAT.BTM.LEFT.2.TMP.1TI40316.PV',\n",
              " 'Left.edge',\n",
              " 'TMP.TIN..BAY.1.LEFT.1TI30201.PV',\n",
              " 'TMP.TIN..BAY.4.LEFT.1TI30203.PV',\n",
              " 'TMP.TIN..BAY.5.LEFT.1TI30205.PV',\n",
              " 'TMP.TIN..BAY.7.LEFT.1TI30207.PV',\n",
              " 'TMP.TIN..BAY.10.LEFT.1TI30209.PV',\n",
              " 'TMP.GLASS..LEFT.EXIT.1TIC30109.PV',\n",
              " 'X.10.BAY.LEFT.PRESSURE.1CLBAY10LEFT_CPV',\n",
              " 'X.1.BAY.LEFT.PRESSURE.1CLBAY1LEFT_CPV',\n",
              " 'X.7.BAY.LEFT.PRESSURE.1CLBAY7LEFT_CPV',\n",
              " 'RET.AMBIANT.LEFT.TMP.1TI42602.PV',\n",
              " 'BATH.AMBIENT.3.BAY.LEFT.1TI31003_PV',\n",
              " 'EXIT.LIP.PLATE.LEFT.1TI30604.PV',\n",
              " 'E.L.DB.LEFT..N2.FLOW.1FI33501.PV',\n",
              " 'DROSS.BOX.N2.BTM.HT1.L.1JI39005.PV',\n",
              " 'DROSS.BOX.N2.BTM.HT..L..1JI39009.PV',\n",
              " 'DROSSBOX.N2.SCN.L.1JI39011_PV',\n",
              " 'HOOD.N2.TOP.HEATER.L..1JI39007.PV',\n",
              " 'DDP.LEFT.N2.H2.9..1FI33420.PV',\n",
              " 'SPOUT.LEFT.UPSTREAM.1FI33511.PV',\n",
              " 'SPOUT.LEFT.BOS.UPSTREAM.1FI33512.PV',\n",
              " 'SPOUT.LEFT.BOTTOM.1FI33513.PV',\n",
              " 'SPOUT.LEFT.TOP.1FI33514.PV',\n",
              " 'LOR.1.L.Axis',\n",
              " 'LOR.1.L.Hori',\n",
              " 'LOR.2.L.Axis',\n",
              " 'LOR.2.L.Hori',\n",
              " 'LOR.3.L.Axis',\n",
              " 'LOR.3.L.Hori',\n",
              " 'D_AB1_L_UL',\n",
              " 'D_AB2_L_UL',\n",
              " 'D_AB3_L_UL',\n",
              " 'D_AB4_L_UL',\n",
              " 'D_AB5_L_UL',\n",
              " 'D_AB6_L_UL',\n",
              " 'D_AB7_L_UL',\n",
              " 'D_AB8_L_UL',\n",
              " 'D_AB9_L_UL',\n",
              " 'D_AB10_L_UL',\n",
              " 'D_AB11_L_UL',\n",
              " 'D_C1_L_UL',\n",
              " 'D_C2_L_UL',\n",
              " 'D_C3_L_UL',\n",
              " 'D_C4_L_UL',\n",
              " 'S_AB1_AB2_L_L',\n",
              " 'S_AB2_AB3_L_L',\n",
              " 'S_AB3_AB4_L_L',\n",
              " 'S_AB4_AB5_L_L',\n",
              " 'S_AB5_AB6_L_L',\n",
              " 'S_AB6_AB7_L_L',\n",
              " 'S_AB7_AB8_L_L',\n",
              " 'S_AB8_AB9_L_L',\n",
              " 'S_AB9_AB10_L_L',\n",
              " 'S_AB10_AB11_L_L',\n",
              " 'S_AB11_C1_L_L',\n",
              " 'S_C1_C2_L_L',\n",
              " 'S_C2_C3_L_L',\n",
              " 'S_C3_C4_L_L',\n",
              " 'STD_L_L',\n",
              " '투입.LEFT.',\n",
              " 'ROLLDOWN.폐기.LEFT.',\n",
              " 'ROLLDOWN.진공패드.폐기율..LEFT.',\n",
              " '진공패드.폐기.LEFT.']"
            ]
          },
          "metadata": {
            "tags": []
          },
          "execution_count": 136
        }
      ]
    },
    {
      "cell_type": "code",
      "metadata": {
        "id": "KUjC-cNB2QZI"
      },
      "source": [
        "# re.search에 대한 조사\n",
        "# re.search에서 여러개의 패턴을 or조건으로 잇기 위해 '' 안에서 |로 이어야 함\n",
        "#re.search('a|b', 'b') != None"
      ],
      "execution_count": 91,
      "outputs": []
    },
    {
      "cell_type": "code",
      "metadata": {
        "colab": {
          "base_uri": "https://localhost:8080/"
        },
        "id": "3pp1_Z2Vz_2s",
        "outputId": "2755f323-a249-47bc-e550-ad11dfbb2529"
      },
      "source": [
        "# 확인\n",
        "#dict_l_r\n",
        "\n",
        "# Left, Right, Center 구분 딕셔너리에 포함된 컬럼이름을 1차원 리스트로 만듦\n",
        "# https://programmers.co.kr/learn/courses/4008/lessons/12738\n",
        "value_l_r = list(dict_l_r.values())\n",
        "value_l_r_flatten = sum(value_l_r, [])\n",
        "# 확인\n",
        "len(value_l_r_flatten)  # 176\n",
        "len(set(value_l_r_flatten))  # 174 ... 딕셔너리에 중복되어서 들어간 컬럼이 있다는 뜻. 딕셔너리 확인."
      ],
      "execution_count": 96,
      "outputs": [
        {
          "output_type": "execute_result",
          "data": {
            "text/plain": [
              "174"
            ]
          },
          "metadata": {
            "tags": []
          },
          "execution_count": 96
        }
      ]
    },
    {
      "cell_type": "code",
      "metadata": {
        "colab": {
          "base_uri": "https://localhost:8080/",
          "height": 137
        },
        "id": "gibO_jnL-I1V",
        "outputId": "09b15a23-91f0-4875-9f5c-2848e80ec978"
      },
      "source": [
        "# 딕셔너리에서 중복된 value 찾기\n",
        "# 각 키마다 중복된 value가 있는지 조회함\n",
        "for val in dict_l_r['Center']:\n",
        "    if val in dict_l_r['Left']:\n",
        "        print(\"Center-Left 중복 :\", val)\n",
        "    if val in dict_l_r['Right']:\n",
        "        print(\"Center-Right 중복 :\", val)\n",
        "for val in dict_l_r['Right']:\n",
        "    if val in dict_l_r['Left']:\n",
        "        print(\"Center-Right 중복 :\", val)\n",
        "\n",
        "# Center-Right 중복 : E.L.DB.RIGHT.N2.FLOW.1FI33502.PV\n",
        "# 해당 컬럼은 .L.과 Right를 모두 포함함\n",
        "# Right에만 속하는 것이 맞으므로 딕셔너리 Left에서 삭제해야 함\n",
        "# Center -> Right -> Left 판단하도록 수정하여 딕셔너리 재생성"
      ],
      "execution_count": 115,
      "outputs": [
        {
          "output_type": "error",
          "ename": "SyntaxError",
          "evalue": "ignored",
          "traceback": [
            "\u001b[0;36m  File \u001b[0;32m\"<ipython-input-115-2cccfee89529>\"\u001b[0;36m, line \u001b[0;32m15\u001b[0m\n\u001b[0;31m    del dict_l_r['Left'] = 'E.L.DB.RIGHT.N2.FLOW.1FI33502.PV'\u001b[0m\n\u001b[0m                         ^\u001b[0m\n\u001b[0;31mSyntaxError\u001b[0m\u001b[0;31m:\u001b[0m invalid syntax\n"
          ]
        }
      ]
    },
    {
      "cell_type": "code",
      "metadata": {
        "colab": {
          "base_uri": "https://localhost:8080/"
        },
        "id": "CSQ7t9eCJL5-",
        "outputId": "7b07f9b7-780d-478b-cc70-54ad0bc18f68"
      },
      "source": [
        "dict_a = {'a':[1, 2, 3], 'b':[3,4,5]}\n",
        "#dir(dict)\n",
        "#help(dict)"
      ],
      "execution_count": 132,
      "outputs": [
        {
          "output_type": "execute_result",
          "data": {
            "text/plain": [
              "[1, 2, 3]"
            ]
          },
          "metadata": {
            "tags": []
          },
          "execution_count": 132
        }
      ]
    },
    {
      "cell_type": "code",
      "metadata": {
        "colab": {
          "base_uri": "https://localhost:8080/"
        },
        "id": "rGeHjIxv63mI",
        "outputId": "5d1c1e1b-4ff0-4256-aa87-36232b1d10e8"
      },
      "source": [
        "count=0\n",
        "for name in col:\n",
        "    if name not in value_l_r_flatten:\n",
        "        count += 1\n",
        "print(count)"
      ],
      "execution_count": 94,
      "outputs": [
        {
          "output_type": "stream",
          "text": [
            "667\n"
          ],
          "name": "stdout"
        }
      ]
    },
    {
      "cell_type": "code",
      "metadata": {
        "id": "EAUyr-YqDaSu"
      },
      "source": [
        "# 컬럼집단 하나를 골라 컬럼 간의 상관계수 확인하기\n",
        "## 만약 이름이 유사한 컬럼 간 종속성이 높다면\n",
        "## 해당 컬럼 집단에서 하나만 골라 대표로 하고 전체 데이터에 대해 상관계수를 확인할 것\n",
        "\n",
        "# 컬럼집단명 고르지\n",
        "col_name_3.keys()\n",
        "\n",
        "# 'LIF' 컬럼집단의 컬럼명 리스트\n",
        "col_atm = col_name_3['LIF']\n",
        "col_atm\n",
        "\n",
        "# 데이터에서 해당 컬럼만 추출하여 저장하기\n",
        "df = df_origin[col_atm]\n",
        "#df"
      ],
      "execution_count": null,
      "outputs": []
    },
    {
      "cell_type": "code",
      "metadata": {
        "id": "Ot-EGiGNEkwl"
      },
      "source": [
        "# 상관계수 데이터프레임을 배열로 저장\n",
        "corr_arr = df.corr().to_numpy()\n",
        "## 상관계수는 -1.0~1.0 까지 범위로 나옴.\n",
        "## 절대값을 취해 0~1.0 범위에서 상관관계가 강한 경우 점수가 높게 나오도록 함 \n",
        "corr_arr = abs(corr_arr)\n",
        "#print(corr_arr.shape)    # (26,26)\n",
        "\n",
        "# 시각화\n",
        "import seaborn as sns\n",
        "import matplotlib.pyplot as plt\n",
        "\n",
        "plt.figure(figsize=(12, 12))\n",
        "sns.set(font_scale=1.0)\n",
        "sns.heatmap(corr_arr, cbar=True, square=True, fmt='.2f', annot=True,\n",
        "           annot_kws={'size':10}, yticklabels=col_atm, xticklabels=col_atm)\n",
        "plt.show()"
      ],
      "execution_count": null,
      "outputs": []
    },
    {
      "cell_type": "code",
      "metadata": {
        "id": "6qGvPSxdEss_"
      },
      "source": [
        "# 모든 컬럼에 대해 상관계수를 구하고 상관계수가 0.9 이상인 컬럼 중 1개만 남기고 모두 제거\n",
        "\n",
        "# 모든 컬럼에 대해 상관계수 구하기\n",
        "\n",
        "\n",
        "# 상관계수가 0.9 이상인 컬럼 중 1개만 남기고 모두 제거\n",
        "\n",
        "del_list = []\n",
        "\n",
        "for i, col in enumerate((corr_arr.columns)):\n",
        "    for j in range(len(corrMatt.index)):\n",
        "        if i == j:\n",
        "            continue\n",
        "        elif corrMatt.index[i] in del_list:           \n",
        "            break\n",
        "        # print(i, j, corrMatt.index[j], np.abs(corrMatt.iloc[j,i]))\n",
        "        if np.abs(corrMatt.iloc[j,i]) >= 0.9:\n",
        "            del_list.append(corrMatt.index[j])\n",
        "            # print(corrMatt.index[j], '-->', corrMatt.index[i])"
      ],
      "execution_count": null,
      "outputs": []
    }
  ]
}