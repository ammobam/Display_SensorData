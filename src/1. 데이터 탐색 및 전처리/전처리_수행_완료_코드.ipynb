{
  "nbformat": 4,
  "nbformat_minor": 0,
  "metadata": {
    "accelerator": "GPU",
    "colab": {
      "name": "전처리 수행 완료.ipynb",
      "provenance": [],
      "collapsed_sections": [],
      "toc_visible": true
    },
    "kernelspec": {
      "display_name": "Python 3",
      "language": "python",
      "name": "python3"
    },
    "language_info": {
      "codemirror_mode": {
        "name": "ipython",
        "version": 3
      },
      "file_extension": ".py",
      "mimetype": "text/x-python",
      "name": "python",
      "nbconvert_exporter": "python",
      "pygments_lexer": "ipython3",
      "version": "3.8.5"
    }
  },
  "cells": [
    {
      "cell_type": "markdown",
      "metadata": {
        "id": "gCOtFFGOsFBV"
      },
      "source": [
        "# **디스플레이 생산라인 센서데이터 이상치 탐지 프로젝트\n",
        "## 🚀 전처리 수행 소스코드"
      ]
    },
    {
      "cell_type": "code",
      "metadata": {
        "id": "RIMRmTYTtbYv"
      },
      "source": [
        "# 패키지 불러오기\n",
        "import pandas as pd\n",
        "import numpy as np\n",
        "import matplotlib.pyplot as plt\n",
        "import seaborn as sns\n",
        "import pickle\n",
        "import warnings\n",
        "# 경고 끄기\n",
        "warnings.filterwarnings(action='ignore')"
      ],
      "execution_count": 1,
      "outputs": []
    },
    {
      "cell_type": "code",
      "metadata": {
        "id": "Lk8Qj6icr09h"
      },
      "source": [
        "# 데이터 불러오기\n",
        "# 첫번째 열을 인덱스로 사용함\n",
        "fact_data = pd.read_csv('/content/drive/MyDrive/나무플래닛/1. 데이터_디스플레이/factory_glass_2016.zip', encoding='cp949', index_col=0)"
      ],
      "execution_count": 2,
      "outputs": []
    },
    {
      "cell_type": "code",
      "metadata": {
        "id": "tg4JBGvt7205",
        "colab": {
          "base_uri": "https://localhost:8080/",
          "height": 422
        },
        "outputId": "9ae17fc3-85cb-45ca-f995-f190bc5630a1"
      },
      "source": [
        "# 데이터 확인\n",
        "fact_data.info()\n",
        "fact_data.head()\n",
        "# 840 컬럼 x 8145개 행이 있음\n",
        "# 데이터 타입은 float과 int형으로 모두 숫자 데이터. 연산 가능함."
      ],
      "execution_count": 3,
      "outputs": [
        {
          "output_type": "stream",
          "name": "stdout",
          "text": [
            "<class 'pandas.core.frame.DataFrame'>\n",
            "Index: 8145 entries, 2016-01-01 07 to 2016-12-31 23\n",
            "Columns: 840 entries, LIFT.OUT.ROL.MTR.M1.SPD.1WSI40101 to R.Vac\n",
            "dtypes: float64(834), int64(6)\n",
            "memory usage: 52.3+ MB\n"
          ]
        },
        {
          "output_type": "execute_result",
          "data": {
            "text/html": [
              "<div>\n",
              "<style scoped>\n",
              "    .dataframe tbody tr th:only-of-type {\n",
              "        vertical-align: middle;\n",
              "    }\n",
              "\n",
              "    .dataframe tbody tr th {\n",
              "        vertical-align: top;\n",
              "    }\n",
              "\n",
              "    .dataframe thead th {\n",
              "        text-align: right;\n",
              "    }\n",
              "</style>\n",
              "<table border=\"1\" class=\"dataframe\">\n",
              "  <thead>\n",
              "    <tr style=\"text-align: right;\">\n",
              "      <th></th>\n",
              "      <th>LIFT.OUT.ROL.MTR.M1.SPD.1WSI40101</th>\n",
              "      <th>LIFT.OUT.ROL.MTR.M2.SPD.1WSI40102</th>\n",
              "      <th>LIFT.OUT.ROL.MTR.M3.SPD.1WSI40103</th>\n",
              "      <th>LEHR.DRV.MTR..M4.1.SPD.1WSI40104</th>\n",
              "      <th>LEHR.DRV.MTR..M4.2.SPD.1WSI40105</th>\n",
              "      <th>LEHR.DRV.MTR..M5.1.SPD.1WSI40106</th>\n",
              "      <th>LEHR.DRV.MTR..M5.2.SPD.1WSI40107</th>\n",
              "      <th>LEHR.DRV.MTR..M6.1.SPD.1WSI40108</th>\n",
              "      <th>LEHR.DRV.MTR..M6.2.SPD.1WSI40109</th>\n",
              "      <th>LEHR.DRV.MTR..M7.1.SPD.1WSI40110</th>\n",
              "      <th>LEHR.DRV.MTR..M7.2.SPD.1WSI40111</th>\n",
              "      <th>LEHR.DRV.MTR..M8.1.SPD.1WSI40112</th>\n",
              "      <th>LEHR.DRV.MTR..M8.2.SPD.1WSI40113</th>\n",
              "      <th>LEHR.DRV.MTR..M9.1.SPD.1WSI40114</th>\n",
              "      <th>LEHR.DRV.MTR..M9.2.SPD.1WSI40115</th>\n",
              "      <th>DRIVE.MOTOR.M10.1.SPEED.1WSI40116</th>\n",
              "      <th>LEHR.DRV.MTR..M10.2.SPD.1WSI40117</th>\n",
              "      <th>LEHR.DRV.MTR..M11.1.SPD.1WSI40118</th>\n",
              "      <th>DRIVE.MOTOR.M11.2.SPEED.1WSI40119</th>\n",
              "      <th>LEHR.DRV.MTR..M12.1.SPD.1WSI40120</th>\n",
              "      <th>LEHR.DRV.MTR..M12.2.SPD.1WSI40121</th>\n",
              "      <th>LEHR.DRV.MTR..M13.1.SPD.1WSI40122</th>\n",
              "      <th>LEHR.DRV.MTR..M13.2.SPD.1WSI40123</th>\n",
              "      <th>LEHR.DRV.MTR..M14.1.SPD.1WSI40124</th>\n",
              "      <th>LEHR.DRV.MTR..M14.2.SPD.1WSI40125</th>\n",
              "      <th>LEHR.DRV.MTR..M15.1.SPD.1WSI40126</th>\n",
              "      <th>LEHR.DRV.MTR..M15.2.SPD.1WSI40127</th>\n",
              "      <th>LEHR.DRV.MTR..M16.1.SPD.1WSI40128</th>\n",
              "      <th>DRIVE.MOTOR.M16.2.SPEED.1WSI40129</th>\n",
              "      <th>LEHR.DRV.MTR..M17.1.SPD.1WSI40130</th>\n",
              "      <th>LEHR.DRV.MTR..M17.2.SPD.1WSI40131</th>\n",
              "      <th>LEHR.DRV.MTR..M18.1.SPD.1WSI40132</th>\n",
              "      <th>LEHR.DRV.MTR..M18.2.SPD.1WSI40133</th>\n",
              "      <th>DRIVE.MOTOR.M19.1.SPEED.1WSI40134</th>\n",
              "      <th>LEHR.DRV.MTR..M19.2.SPD.1WSI40135</th>\n",
              "      <th>X1WOS45101_PV</th>\n",
              "      <th>X1WOS45102_PV</th>\n",
              "      <th>X1WOS45103_PV</th>\n",
              "      <th>X1WOS45104_PV</th>\n",
              "      <th>X1WOS45105_PV</th>\n",
              "      <th>...</th>\n",
              "      <th>S_C1_C2_L_L</th>\n",
              "      <th>S_C1_C2_L_R</th>\n",
              "      <th>S_C2_C3_U_L</th>\n",
              "      <th>S_C2_C3_U_R</th>\n",
              "      <th>S_C2_C3_L_L</th>\n",
              "      <th>S_C2_C3_L_R</th>\n",
              "      <th>S_C3_C4_U_L</th>\n",
              "      <th>S_C3_C4_U_R</th>\n",
              "      <th>S_C3_C4_L_L</th>\n",
              "      <th>S_C3_C4_L_R</th>\n",
              "      <th>S_AB1_AB11_L</th>\n",
              "      <th>S_AB1_AB11_R</th>\n",
              "      <th>S_AB11_AB7_L</th>\n",
              "      <th>S_AB11_AB7_R</th>\n",
              "      <th>S_AB7_C4_L</th>\n",
              "      <th>S_AB7_C4_R</th>\n",
              "      <th>S_C4_RET_L</th>\n",
              "      <th>S_C4_RET_R</th>\n",
              "      <th>S_RET_F_L</th>\n",
              "      <th>S_RET_F_R</th>\n",
              "      <th>STD_U_L</th>\n",
              "      <th>STD_U_R</th>\n",
              "      <th>STD_L_L</th>\n",
              "      <th>STD_L_R</th>\n",
              "      <th>STD_GLS_L</th>\n",
              "      <th>STD_GLS_R</th>\n",
              "      <th>투입.LEFT.</th>\n",
              "      <th>투입.RIGHT.</th>\n",
              "      <th>ROLLDOWN.폐기.LEFT.</th>\n",
              "      <th>진공패드.폐기.LEFT.</th>\n",
              "      <th>ROLLDOWN.폐기.RIGHT.</th>\n",
              "      <th>진공패드.폐기.RIGHT.</th>\n",
              "      <th>폐기율...</th>\n",
              "      <th>ROLLDOWN.진공패드.폐기율..LEFT.</th>\n",
              "      <th>ROLLDOWN.진공패드.폐기율..RIGHT.</th>\n",
              "      <th>ROLLDOWN.진공패드.폐기율..전체.</th>\n",
              "      <th>L.RD</th>\n",
              "      <th>L.Vac</th>\n",
              "      <th>R.RD</th>\n",
              "      <th>R.Vac</th>\n",
              "    </tr>\n",
              "    <tr>\n",
              "      <th>dat...date.name.</th>\n",
              "      <th></th>\n",
              "      <th></th>\n",
              "      <th></th>\n",
              "      <th></th>\n",
              "      <th></th>\n",
              "      <th></th>\n",
              "      <th></th>\n",
              "      <th></th>\n",
              "      <th></th>\n",
              "      <th></th>\n",
              "      <th></th>\n",
              "      <th></th>\n",
              "      <th></th>\n",
              "      <th></th>\n",
              "      <th></th>\n",
              "      <th></th>\n",
              "      <th></th>\n",
              "      <th></th>\n",
              "      <th></th>\n",
              "      <th></th>\n",
              "      <th></th>\n",
              "      <th></th>\n",
              "      <th></th>\n",
              "      <th></th>\n",
              "      <th></th>\n",
              "      <th></th>\n",
              "      <th></th>\n",
              "      <th></th>\n",
              "      <th></th>\n",
              "      <th></th>\n",
              "      <th></th>\n",
              "      <th></th>\n",
              "      <th></th>\n",
              "      <th></th>\n",
              "      <th></th>\n",
              "      <th></th>\n",
              "      <th></th>\n",
              "      <th></th>\n",
              "      <th></th>\n",
              "      <th></th>\n",
              "      <th></th>\n",
              "      <th></th>\n",
              "      <th></th>\n",
              "      <th></th>\n",
              "      <th></th>\n",
              "      <th></th>\n",
              "      <th></th>\n",
              "      <th></th>\n",
              "      <th></th>\n",
              "      <th></th>\n",
              "      <th></th>\n",
              "      <th></th>\n",
              "      <th></th>\n",
              "      <th></th>\n",
              "      <th></th>\n",
              "      <th></th>\n",
              "      <th></th>\n",
              "      <th></th>\n",
              "      <th></th>\n",
              "      <th></th>\n",
              "      <th></th>\n",
              "      <th></th>\n",
              "      <th></th>\n",
              "      <th></th>\n",
              "      <th></th>\n",
              "      <th></th>\n",
              "      <th></th>\n",
              "      <th></th>\n",
              "      <th></th>\n",
              "      <th></th>\n",
              "      <th></th>\n",
              "      <th></th>\n",
              "      <th></th>\n",
              "      <th></th>\n",
              "      <th></th>\n",
              "      <th></th>\n",
              "      <th></th>\n",
              "      <th></th>\n",
              "      <th></th>\n",
              "      <th></th>\n",
              "      <th></th>\n",
              "    </tr>\n",
              "  </thead>\n",
              "  <tbody>\n",
              "    <tr>\n",
              "      <th>2016-01-01 07</th>\n",
              "      <td>-1.772682</td>\n",
              "      <td>-1.713219</td>\n",
              "      <td>-1.734851</td>\n",
              "      <td>-1.590051</td>\n",
              "      <td>-1.636293</td>\n",
              "      <td>-1.575213</td>\n",
              "      <td>-1.636293</td>\n",
              "      <td>-1.548119</td>\n",
              "      <td>-1.824581</td>\n",
              "      <td>-1.548119</td>\n",
              "      <td>-1.8189</td>\n",
              "      <td>-1.548119</td>\n",
              "      <td>-1.779407</td>\n",
              "      <td>-1.548119</td>\n",
              "      <td>-1.779407</td>\n",
              "      <td>-1.548119</td>\n",
              "      <td>-1.806012</td>\n",
              "      <td>-1.548119</td>\n",
              "      <td>-1.775051</td>\n",
              "      <td>-1.548119</td>\n",
              "      <td>-1.776634</td>\n",
              "      <td>-1.548119</td>\n",
              "      <td>-1.766604</td>\n",
              "      <td>-1.548119</td>\n",
              "      <td>-1.775051</td>\n",
              "      <td>-1.638207</td>\n",
              "      <td>-1.728206</td>\n",
              "      <td>-1.674911</td>\n",
              "      <td>-1.641818</td>\n",
              "      <td>-1.662151</td>\n",
              "      <td>-1.636293</td>\n",
              "      <td>-1.622314</td>\n",
              "      <td>-1.653428</td>\n",
              "      <td>-1.548119</td>\n",
              "      <td>-1.807954</td>\n",
              "      <td>-1.73</td>\n",
              "      <td>-1.315444</td>\n",
              "      <td>-1.620631</td>\n",
              "      <td>-1.517655</td>\n",
              "      <td>-1.804912</td>\n",
              "      <td>...</td>\n",
              "      <td>-0.195736</td>\n",
              "      <td>0.706941</td>\n",
              "      <td>1.477203</td>\n",
              "      <td>0.410847</td>\n",
              "      <td>0.491620</td>\n",
              "      <td>0.942180</td>\n",
              "      <td>2.776941</td>\n",
              "      <td>2.492437</td>\n",
              "      <td>2.060406</td>\n",
              "      <td>2.612283</td>\n",
              "      <td>1.726404</td>\n",
              "      <td>1.461145</td>\n",
              "      <td>-1.192642</td>\n",
              "      <td>-1.134471</td>\n",
              "      <td>2.599429</td>\n",
              "      <td>2.690433</td>\n",
              "      <td>-0.365598</td>\n",
              "      <td>-0.659319</td>\n",
              "      <td>-1.963403</td>\n",
              "      <td>-1.621407</td>\n",
              "      <td>0.523950</td>\n",
              "      <td>1.951349</td>\n",
              "      <td>2.248106</td>\n",
              "      <td>2.767676</td>\n",
              "      <td>3.012706</td>\n",
              "      <td>3.069007</td>\n",
              "      <td>80</td>\n",
              "      <td>74</td>\n",
              "      <td>2</td>\n",
              "      <td>5</td>\n",
              "      <td>8</td>\n",
              "      <td>3</td>\n",
              "      <td>11.69</td>\n",
              "      <td>8.75</td>\n",
              "      <td>14.86</td>\n",
              "      <td>11.69</td>\n",
              "      <td>0.025</td>\n",
              "      <td>0.063</td>\n",
              "      <td>0.108</td>\n",
              "      <td>0.041</td>\n",
              "    </tr>\n",
              "    <tr>\n",
              "      <th>2016-01-01 08</th>\n",
              "      <td>-1.772682</td>\n",
              "      <td>-1.713219</td>\n",
              "      <td>-1.734851</td>\n",
              "      <td>-1.590051</td>\n",
              "      <td>-1.636293</td>\n",
              "      <td>-1.575213</td>\n",
              "      <td>-1.636293</td>\n",
              "      <td>-1.548119</td>\n",
              "      <td>-1.824581</td>\n",
              "      <td>-1.548119</td>\n",
              "      <td>-1.8189</td>\n",
              "      <td>-1.548119</td>\n",
              "      <td>-1.779407</td>\n",
              "      <td>-1.548119</td>\n",
              "      <td>-1.779407</td>\n",
              "      <td>-1.548119</td>\n",
              "      <td>-1.806012</td>\n",
              "      <td>-1.548119</td>\n",
              "      <td>-1.775051</td>\n",
              "      <td>-1.548119</td>\n",
              "      <td>-1.776634</td>\n",
              "      <td>-1.548119</td>\n",
              "      <td>-1.766604</td>\n",
              "      <td>-1.548119</td>\n",
              "      <td>-1.775051</td>\n",
              "      <td>-1.638207</td>\n",
              "      <td>-1.728206</td>\n",
              "      <td>-1.674911</td>\n",
              "      <td>-1.641818</td>\n",
              "      <td>-1.662151</td>\n",
              "      <td>-1.636293</td>\n",
              "      <td>-1.622314</td>\n",
              "      <td>-1.653428</td>\n",
              "      <td>-1.548119</td>\n",
              "      <td>-1.807954</td>\n",
              "      <td>-1.73</td>\n",
              "      <td>-1.315444</td>\n",
              "      <td>-1.620631</td>\n",
              "      <td>-1.517655</td>\n",
              "      <td>-1.804912</td>\n",
              "      <td>...</td>\n",
              "      <td>-0.500742</td>\n",
              "      <td>0.822657</td>\n",
              "      <td>1.495204</td>\n",
              "      <td>0.397591</td>\n",
              "      <td>0.587871</td>\n",
              "      <td>0.938186</td>\n",
              "      <td>2.888919</td>\n",
              "      <td>2.573187</td>\n",
              "      <td>2.161149</td>\n",
              "      <td>2.664726</td>\n",
              "      <td>1.682081</td>\n",
              "      <td>1.414518</td>\n",
              "      <td>-1.109125</td>\n",
              "      <td>-1.042269</td>\n",
              "      <td>2.588703</td>\n",
              "      <td>2.654307</td>\n",
              "      <td>-0.348979</td>\n",
              "      <td>-0.560103</td>\n",
              "      <td>-1.978936</td>\n",
              "      <td>-1.810022</td>\n",
              "      <td>0.566521</td>\n",
              "      <td>2.010125</td>\n",
              "      <td>2.364418</td>\n",
              "      <td>2.842630</td>\n",
              "      <td>3.022998</td>\n",
              "      <td>3.069274</td>\n",
              "      <td>92</td>\n",
              "      <td>75</td>\n",
              "      <td>0</td>\n",
              "      <td>2</td>\n",
              "      <td>10</td>\n",
              "      <td>0</td>\n",
              "      <td>7.19</td>\n",
              "      <td>2.17</td>\n",
              "      <td>13.33</td>\n",
              "      <td>7.19</td>\n",
              "      <td>0.000</td>\n",
              "      <td>0.022</td>\n",
              "      <td>0.133</td>\n",
              "      <td>0.000</td>\n",
              "    </tr>\n",
              "    <tr>\n",
              "      <th>2016-01-01 09</th>\n",
              "      <td>-1.772682</td>\n",
              "      <td>-1.713219</td>\n",
              "      <td>-1.734851</td>\n",
              "      <td>-1.590051</td>\n",
              "      <td>-1.636293</td>\n",
              "      <td>-1.575213</td>\n",
              "      <td>-1.636293</td>\n",
              "      <td>-1.548119</td>\n",
              "      <td>-1.824581</td>\n",
              "      <td>-1.548119</td>\n",
              "      <td>-1.8189</td>\n",
              "      <td>-1.548119</td>\n",
              "      <td>-1.779407</td>\n",
              "      <td>-1.548119</td>\n",
              "      <td>-1.779407</td>\n",
              "      <td>-1.548119</td>\n",
              "      <td>-1.806012</td>\n",
              "      <td>-1.548119</td>\n",
              "      <td>-1.775051</td>\n",
              "      <td>-1.548119</td>\n",
              "      <td>-1.776634</td>\n",
              "      <td>-1.548119</td>\n",
              "      <td>-1.766604</td>\n",
              "      <td>-1.548119</td>\n",
              "      <td>-1.775051</td>\n",
              "      <td>-1.638207</td>\n",
              "      <td>-1.728206</td>\n",
              "      <td>-1.674911</td>\n",
              "      <td>-1.641818</td>\n",
              "      <td>-1.662151</td>\n",
              "      <td>-1.636293</td>\n",
              "      <td>-1.622314</td>\n",
              "      <td>-1.653428</td>\n",
              "      <td>-1.548119</td>\n",
              "      <td>-1.807954</td>\n",
              "      <td>-1.73</td>\n",
              "      <td>-1.315444</td>\n",
              "      <td>-1.620631</td>\n",
              "      <td>-1.517655</td>\n",
              "      <td>-1.804912</td>\n",
              "      <td>...</td>\n",
              "      <td>-0.164556</td>\n",
              "      <td>0.962210</td>\n",
              "      <td>1.552127</td>\n",
              "      <td>0.460702</td>\n",
              "      <td>0.397216</td>\n",
              "      <td>0.843443</td>\n",
              "      <td>2.868644</td>\n",
              "      <td>2.486441</td>\n",
              "      <td>2.183298</td>\n",
              "      <td>2.638130</td>\n",
              "      <td>1.632955</td>\n",
              "      <td>1.359022</td>\n",
              "      <td>-0.986580</td>\n",
              "      <td>-0.928583</td>\n",
              "      <td>2.550175</td>\n",
              "      <td>2.606185</td>\n",
              "      <td>-0.456071</td>\n",
              "      <td>-0.644073</td>\n",
              "      <td>-1.878611</td>\n",
              "      <td>-1.742395</td>\n",
              "      <td>0.545936</td>\n",
              "      <td>2.002820</td>\n",
              "      <td>2.397034</td>\n",
              "      <td>2.817728</td>\n",
              "      <td>2.936967</td>\n",
              "      <td>2.969952</td>\n",
              "      <td>64</td>\n",
              "      <td>66</td>\n",
              "      <td>1</td>\n",
              "      <td>4</td>\n",
              "      <td>0</td>\n",
              "      <td>0</td>\n",
              "      <td>3.85</td>\n",
              "      <td>7.81</td>\n",
              "      <td>0.00</td>\n",
              "      <td>3.85</td>\n",
              "      <td>0.016</td>\n",
              "      <td>0.063</td>\n",
              "      <td>0.000</td>\n",
              "      <td>0.000</td>\n",
              "    </tr>\n",
              "    <tr>\n",
              "      <th>2016-01-01 10</th>\n",
              "      <td>-1.772682</td>\n",
              "      <td>-1.713219</td>\n",
              "      <td>-1.734851</td>\n",
              "      <td>-1.590051</td>\n",
              "      <td>-1.636293</td>\n",
              "      <td>-1.575213</td>\n",
              "      <td>-1.636293</td>\n",
              "      <td>-1.548119</td>\n",
              "      <td>-1.824581</td>\n",
              "      <td>-1.548119</td>\n",
              "      <td>-1.8189</td>\n",
              "      <td>-1.548119</td>\n",
              "      <td>-1.779407</td>\n",
              "      <td>-1.548119</td>\n",
              "      <td>-1.779407</td>\n",
              "      <td>-1.548119</td>\n",
              "      <td>-1.806012</td>\n",
              "      <td>-1.548119</td>\n",
              "      <td>-1.775051</td>\n",
              "      <td>-1.548119</td>\n",
              "      <td>-1.776634</td>\n",
              "      <td>-1.548119</td>\n",
              "      <td>-1.766604</td>\n",
              "      <td>-1.548119</td>\n",
              "      <td>-1.775051</td>\n",
              "      <td>-1.638207</td>\n",
              "      <td>-1.728206</td>\n",
              "      <td>-1.674911</td>\n",
              "      <td>-1.641818</td>\n",
              "      <td>-1.662151</td>\n",
              "      <td>-1.636293</td>\n",
              "      <td>-1.622314</td>\n",
              "      <td>-1.653428</td>\n",
              "      <td>-1.548119</td>\n",
              "      <td>-1.807954</td>\n",
              "      <td>-1.73</td>\n",
              "      <td>-1.315444</td>\n",
              "      <td>-1.620631</td>\n",
              "      <td>-1.517655</td>\n",
              "      <td>-1.804912</td>\n",
              "      <td>...</td>\n",
              "      <td>-0.824056</td>\n",
              "      <td>0.686628</td>\n",
              "      <td>1.586571</td>\n",
              "      <td>0.411229</td>\n",
              "      <td>0.878934</td>\n",
              "      <td>1.019915</td>\n",
              "      <td>2.834358</td>\n",
              "      <td>2.354249</td>\n",
              "      <td>2.199586</td>\n",
              "      <td>2.623425</td>\n",
              "      <td>1.563766</td>\n",
              "      <td>1.253063</td>\n",
              "      <td>-0.885353</td>\n",
              "      <td>-0.860442</td>\n",
              "      <td>2.518261</td>\n",
              "      <td>2.551495</td>\n",
              "      <td>-0.463717</td>\n",
              "      <td>-0.585540</td>\n",
              "      <td>-1.863727</td>\n",
              "      <td>-1.845004</td>\n",
              "      <td>0.549254</td>\n",
              "      <td>2.047995</td>\n",
              "      <td>2.399854</td>\n",
              "      <td>2.810619</td>\n",
              "      <td>2.876398</td>\n",
              "      <td>2.914596</td>\n",
              "      <td>68</td>\n",
              "      <td>73</td>\n",
              "      <td>0</td>\n",
              "      <td>7</td>\n",
              "      <td>0</td>\n",
              "      <td>0</td>\n",
              "      <td>4.96</td>\n",
              "      <td>10.29</td>\n",
              "      <td>0.00</td>\n",
              "      <td>4.96</td>\n",
              "      <td>0.000</td>\n",
              "      <td>0.103</td>\n",
              "      <td>0.000</td>\n",
              "      <td>0.000</td>\n",
              "    </tr>\n",
              "    <tr>\n",
              "      <th>2016-01-01 11</th>\n",
              "      <td>-1.772682</td>\n",
              "      <td>-1.713219</td>\n",
              "      <td>-1.734851</td>\n",
              "      <td>-1.590051</td>\n",
              "      <td>-1.636293</td>\n",
              "      <td>-1.575213</td>\n",
              "      <td>-1.636293</td>\n",
              "      <td>-1.548119</td>\n",
              "      <td>-1.824581</td>\n",
              "      <td>-1.548119</td>\n",
              "      <td>-1.8189</td>\n",
              "      <td>-1.548119</td>\n",
              "      <td>-1.779407</td>\n",
              "      <td>-1.548119</td>\n",
              "      <td>-1.779407</td>\n",
              "      <td>-1.548119</td>\n",
              "      <td>-1.806012</td>\n",
              "      <td>-1.548119</td>\n",
              "      <td>-1.775051</td>\n",
              "      <td>-1.548119</td>\n",
              "      <td>-1.776634</td>\n",
              "      <td>-1.548119</td>\n",
              "      <td>-1.766604</td>\n",
              "      <td>-1.548119</td>\n",
              "      <td>-1.775051</td>\n",
              "      <td>-1.638207</td>\n",
              "      <td>-1.728206</td>\n",
              "      <td>-1.674911</td>\n",
              "      <td>-1.641818</td>\n",
              "      <td>-1.662151</td>\n",
              "      <td>-1.636293</td>\n",
              "      <td>-1.622314</td>\n",
              "      <td>-1.653428</td>\n",
              "      <td>-1.548119</td>\n",
              "      <td>-1.807954</td>\n",
              "      <td>-1.73</td>\n",
              "      <td>-1.315444</td>\n",
              "      <td>-1.620631</td>\n",
              "      <td>-1.517655</td>\n",
              "      <td>-1.804912</td>\n",
              "      <td>...</td>\n",
              "      <td>-0.504655</td>\n",
              "      <td>0.954654</td>\n",
              "      <td>1.540081</td>\n",
              "      <td>0.393697</td>\n",
              "      <td>0.795806</td>\n",
              "      <td>0.917465</td>\n",
              "      <td>2.852398</td>\n",
              "      <td>2.365165</td>\n",
              "      <td>2.159633</td>\n",
              "      <td>2.582810</td>\n",
              "      <td>1.476850</td>\n",
              "      <td>1.144747</td>\n",
              "      <td>-0.852229</td>\n",
              "      <td>-0.821249</td>\n",
              "      <td>2.521009</td>\n",
              "      <td>2.541783</td>\n",
              "      <td>-0.421995</td>\n",
              "      <td>-0.580300</td>\n",
              "      <td>-1.903504</td>\n",
              "      <td>-1.781370</td>\n",
              "      <td>0.610913</td>\n",
              "      <td>2.101178</td>\n",
              "      <td>2.379341</td>\n",
              "      <td>2.797094</td>\n",
              "      <td>2.858177</td>\n",
              "      <td>2.873929</td>\n",
              "      <td>36</td>\n",
              "      <td>35</td>\n",
              "      <td>0</td>\n",
              "      <td>0</td>\n",
              "      <td>0</td>\n",
              "      <td>0</td>\n",
              "      <td>0.00</td>\n",
              "      <td>0.00</td>\n",
              "      <td>0.00</td>\n",
              "      <td>0.00</td>\n",
              "      <td>0.000</td>\n",
              "      <td>0.000</td>\n",
              "      <td>0.000</td>\n",
              "      <td>0.000</td>\n",
              "    </tr>\n",
              "  </tbody>\n",
              "</table>\n",
              "<p>5 rows × 840 columns</p>\n",
              "</div>"
            ],
            "text/plain": [
              "                  LIFT.OUT.ROL.MTR.M1.SPD.1WSI40101  ...  R.Vac\n",
              "dat...date.name.                                     ...       \n",
              "2016-01-01 07                             -1.772682  ...  0.041\n",
              "2016-01-01 08                             -1.772682  ...  0.000\n",
              "2016-01-01 09                             -1.772682  ...  0.000\n",
              "2016-01-01 10                             -1.772682  ...  0.000\n",
              "2016-01-01 11                             -1.772682  ...  0.000\n",
              "\n",
              "[5 rows x 840 columns]"
            ]
          },
          "metadata": {},
          "execution_count": 3
        }
      ]
    },
    {
      "cell_type": "markdown",
      "metadata": {
        "id": "p26tE_THsNRO"
      },
      "source": [
        "## 📌1. 컬럼 제외하기"
      ]
    },
    {
      "cell_type": "markdown",
      "metadata": {
        "id": "Myvoo8akXH_f"
      },
      "source": [
        "### 1_1.레이블 제외하기"
      ]
    },
    {
      "cell_type": "code",
      "metadata": {
        "id": "aQjaWeOjdV0K",
        "colab": {
          "base_uri": "https://localhost:8080/"
        },
        "outputId": "24ac847e-cc52-49c9-934a-0bad723b05fd"
      },
      "source": [
        "# 레이블 확인\n",
        "print(fact_data.columns[-14:])"
      ],
      "execution_count": 4,
      "outputs": [
        {
          "output_type": "stream",
          "name": "stdout",
          "text": [
            "Index(['투입.LEFT.', '투입.RIGHT.', 'ROLLDOWN.폐기.LEFT.', '진공패드.폐기.LEFT.',\n",
            "       'ROLLDOWN.폐기.RIGHT.', '진공패드.폐기.RIGHT.', '폐기율...',\n",
            "       'ROLLDOWN.진공패드.폐기율..LEFT.', 'ROLLDOWN.진공패드.폐기율..RIGHT.',\n",
            "       'ROLLDOWN.진공패드.폐기율..전체.', 'L.RD', 'L.Vac', 'R.RD', 'R.Vac'],\n",
            "      dtype='object')\n"
          ]
        }
      ]
    },
    {
      "cell_type": "code",
      "metadata": {
        "id": "YnjeUV_OW9mH",
        "colab": {
          "base_uri": "https://localhost:8080/"
        },
        "outputId": "022da15e-c0d4-4dee-80b5-f8e95183ae15"
      },
      "source": [
        "# 레이블 제외하기\n",
        "col_notfeature = fact_data.columns[-14:]\n",
        "\n",
        "col_use = []\n",
        "for col in fact_data.columns:\n",
        "    if col not in col_notfeature:\n",
        "       col_use.append(col)\n",
        "\n",
        "# 개수 확인\n",
        "print(len(col_use)) # 826개\n",
        "\n",
        "# 데이터프레임에 반영\n",
        "fact_data = fact_data[col_use]"
      ],
      "execution_count": 5,
      "outputs": [
        {
          "output_type": "stream",
          "name": "stdout",
          "text": [
            "826\n"
          ]
        }
      ]
    },
    {
      "cell_type": "markdown",
      "metadata": {
        "id": "UwpuU3uKrXQ7"
      },
      "source": [
        "### 1_2.Right 컬럼 제외하기\n",
        "- 본 데이터의 컬럼 이름의 규칙성과 데이터의 상관관계를 살펴본 결과, left, right 공정은 동일한 공정으로 추정됨\n",
        "- 동일한 공정의 데이터를 이용하는 것은 최종 모델에 특정 공정의 영향력이 중복되어 반영되는 것과 같음\n",
        "- 모델링에 중복하여 영향을 미치면 중요 피처를 찾을 때 큰 영향력을 가진 것으로 판단하는 잘못을 야기할 수 있으므로, 어느 한 쪽 공정의 데이터를 제외하는 것이 타당함\n",
        "- 상세한 판단 근거는 [src/1. 데이터 탐색 및 전처리/(1) 컬럼명 구분.ipynb](https://github.com/ammobam/Display_SensorData/blob/main/src/1.%20%EB%8D%B0%EC%9D%B4%ED%84%B0%20%ED%83%90%EC%83%89%20%EB%B0%8F%20%EC%A0%84%EC%B2%98%EB%A6%AC/(1)%20%EC%BB%AC%EB%9F%BC%EB%AA%85%20%EA%B5%AC%EB%B6%84.ipynb)에서 확인할 수 있음"
      ]
    },
    {
      "cell_type": "code",
      "metadata": {
        "id": "d8q51VXCr4sZ",
        "colab": {
          "base_uri": "https://localhost:8080/"
        },
        "outputId": "e6a5ba42-95bb-4c57-f841-de3102e5027b"
      },
      "source": [
        "# 컬럼명을 기준으로 공정을 분류해둔 딕셔너리 불러오기\n",
        "with open('/content/drive/MyDrive/나무플래닛/3. 산출물/dict_left_right.pickle', 'rb') as f:\n",
        "    dict_l_r = pickle.load(f)\n",
        "\n",
        "# 확인\n",
        "print(dict_l_r.keys())\n",
        "\n",
        "# Right 공정에 해당하는 컬럼\n",
        "col_right = dict_l_r['Right']\n",
        "print(len(col_right)) # 91개"
      ],
      "execution_count": 6,
      "outputs": [
        {
          "output_type": "stream",
          "name": "stdout",
          "text": [
            "dict_keys(['Left', 'Right', 'Center'])\n",
            "91\n"
          ]
        }
      ]
    },
    {
      "cell_type": "code",
      "metadata": {
        "id": "SIwNUeWhrXRG",
        "colab": {
          "base_uri": "https://localhost:8080/"
        },
        "outputId": "3bfe2acc-e69d-4f62-f545-7f9ad47bf81f"
      },
      "source": [
        "# Right 컬럼 제외하기\n",
        "col_use = []\n",
        "for col in fact_data.columns:\n",
        "    if col not in col_right:\n",
        "       col_use.append(col)\n",
        "print(len(col_use)) # 739개\n",
        "\n",
        "# 데이터프레임 만들기\n",
        "fact_data = fact_data[col_use]"
      ],
      "execution_count": 7,
      "outputs": [
        {
          "output_type": "stream",
          "name": "stdout",
          "text": [
            "739\n"
          ]
        }
      ]
    },
    {
      "cell_type": "markdown",
      "metadata": {
        "id": "clfLbcOeQk1b"
      },
      "source": [
        "## 📌2. 결측치 처리"
      ]
    },
    {
      "cell_type": "markdown",
      "metadata": {
        "id": "voPAxUiPlMQ2"
      },
      "source": [
        "### 2_1. 전체 열이 결측치인 행 삭제"
      ]
    },
    {
      "cell_type": "code",
      "metadata": {
        "id": "ZRMcWlufsy9O",
        "colab": {
          "base_uri": "https://localhost:8080/"
        },
        "outputId": "97c9984a-4297-4784-c3e7-996f32ccce95"
      },
      "source": [
        "# 결측치 찾기\n",
        "nan_data = fact_data.isnull().sum().sort_values(ascending=False)\n",
        "print(nan_data)\n",
        "## isnull() : 결측치를 찾아 True/False 리턴함.\n",
        "    # boolean 데이터타입은 숫자로 변환하면 True -> 1, False -> 0\n",
        "    # 여기서는 결측치가 있는 데이터는 1의 값을 갖게 됨\n",
        "## sum() : 컬럼별로 값을 모두 더함\n",
        "## sort_values() : 값을 크기별로 정렬함\n",
        "    # ascending=False 옵션을 주면 내림차순으로 정렬함"
      ],
      "execution_count": 8,
      "outputs": [
        {
          "output_type": "stream",
          "name": "stdout",
          "text": [
            "LEHR.DRV.MTR..M19.2.CUR.1WII40135.PV    8145\n",
            "ROOF.HEATING.Zone78.1JIC31178.PV        8145\n",
            "DCS_Offset_RPM_M14.1WOS45114_PV         8145\n",
            "UPPER.RET..Z218.TMP.1TIC42601.PV        8145\n",
            "DCS_Offset_RPM_M13.1WOS45113_PV         8145\n",
            "                                        ... \n",
            "ROOF.HEATING.Zone.9.1JIC31109.PV.1         0\n",
            "ROOF.HEATING.Zone.8.1JIC31108.PV.1         0\n",
            "ROOF.HEATING.Zone.7.1JIC31107.PV.1         0\n",
            "ROOF.HEATING.Zone.6.1JIC31106.PV           0\n",
            "LIFT.OUT.ROL.MTR.M1.SPD.1WSI40101          0\n",
            "Length: 739, dtype: int64\n"
          ]
        }
      ]
    },
    {
      "cell_type": "code",
      "metadata": {
        "id": "XFsvINL23Llx",
        "colab": {
          "base_uri": "https://localhost:8080/"
        },
        "outputId": "edc687a2-435f-4797-a321-4b94d491bd1d"
      },
      "source": [
        "# 이때 결측치 개수 컬럼은 시리즈 타입이므로 슬라이싱 가능함\n",
        "print(type(nan_data))\n",
        "\n",
        "# nan 개수 상위 10개를 확인함\n",
        "# 조회 결과, 7개 컬럼은 전체 8145개의 행이 모두 결측치임. 데이터가 없으므로 삭제.\n",
        "print(nan_data[:10])"
      ],
      "execution_count": 9,
      "outputs": [
        {
          "output_type": "stream",
          "name": "stdout",
          "text": [
            "<class 'pandas.core.series.Series'>\n",
            "LEHR.DRV.MTR..M19.2.CUR.1WII40135.PV    8145\n",
            "ROOF.HEATING.Zone78.1JIC31178.PV        8145\n",
            "DCS_Offset_RPM_M14.1WOS45114_PV         8145\n",
            "UPPER.RET..Z218.TMP.1TIC42601.PV        8145\n",
            "DCS_Offset_RPM_M13.1WOS45113_PV         8145\n",
            "ROOF.HEATING.Zone76.1JIC31176.PV        8145\n",
            "ROOF.HEATING.Zone52.1JIC31152.PV        8145\n",
            "N2.TO.EA1313A.1FI33503A_PV.1               1\n",
            "LEHR.DRV.MTR..M9.2.SPD.1WSI40115.1         1\n",
            "LEHR.DRV.MTR..M9.1.SPD.1WSI40114.1         1\n",
            "dtype: int64\n"
          ]
        }
      ]
    },
    {
      "cell_type": "code",
      "metadata": {
        "id": "r5uwwSPm5Taa",
        "colab": {
          "base_uri": "https://localhost:8080/"
        },
        "outputId": "cca290a1-ac3c-4390-a538-8c966884094e"
      },
      "source": [
        "# 전체 행이 결측치인 컬럼을 찾고 삭제하기\n",
        "\n",
        "# 1. 전체 행이 결측치인 컬럼을 찾기\n",
        "print(nan_data[nan_data.values == fact_data.shape[0]].index.tolist())\n",
        "    # nan_data에서 다음 조건에 해당하는 컬럼을 찾음\n",
        "        # nan_data.values : nan_data를 데이터 배열로 만들어줌\n",
        "        # fact_data.shape -> (행 개수, 열 개수)\n",
        "            # fact_data.shape[0]는 fact_data 행의 개수임\n",
        "    # .index : 그때의 컬럼이름(여기선 인덱스)을 추출함\n",
        "    # .tolist() : 데이터를 리스트 타입으로 변환함\n",
        "\n",
        "# 2. 해당 컬럼 삭제\n",
        "fact_data.drop(nan_data[nan_data.values == fact_data.shape[0]].index.tolist(), axis=1, inplace=True)\n",
        "    # inplace=True : drop 수행한 결과를 fact_data에 반영할지 여부 설정\n",
        "\n",
        "# 3. 확인\n",
        "fact_data.info()"
      ],
      "execution_count": 10,
      "outputs": [
        {
          "output_type": "stream",
          "name": "stdout",
          "text": [
            "['LEHR.DRV.MTR..M19.2.CUR.1WII40135.PV', 'ROOF.HEATING.Zone78.1JIC31178.PV', 'DCS_Offset_RPM_M14.1WOS45114_PV', 'UPPER.RET..Z218.TMP.1TIC42601.PV', 'DCS_Offset_RPM_M13.1WOS45113_PV', 'ROOF.HEATING.Zone76.1JIC31176.PV', 'ROOF.HEATING.Zone52.1JIC31152.PV']\n",
            "<class 'pandas.core.frame.DataFrame'>\n",
            "Index: 8145 entries, 2016-01-01 07 to 2016-12-31 23\n",
            "Columns: 732 entries, LIFT.OUT.ROL.MTR.M1.SPD.1WSI40101 to STD_GLS_L\n",
            "dtypes: float64(732)\n",
            "memory usage: 45.5+ MB\n"
          ]
        }
      ]
    },
    {
      "cell_type": "markdown",
      "metadata": {
        "id": "PeIqCeDzlTRb"
      },
      "source": [
        "### 2_2. 그외 결측치 처리"
      ]
    },
    {
      "cell_type": "code",
      "metadata": {
        "id": "NUomKUukOiUL",
        "colab": {
          "base_uri": "https://localhost:8080/"
        },
        "outputId": "c08cb544-679a-437b-f566-c50fb1ac78e2"
      },
      "source": [
        "# 그 외 결측치 처리\n",
        "# 남은 결측치는 ffill로 채움\n",
        "# 이 데이터는 1시간마다 측정한 센서 데이터이므로 전체 컬럼에 대한 평균보다는 이전 행의 값으로 결측치를 처리하는 것이 적절함\n",
        "fact_data.fillna(method = 'ffill', inplace=True)\n",
        "    # inplace=True : fillna 수행한 결과를 fact_data에 반영할지 여부 설정\n",
        "\n",
        "# 확인\n",
        "fact_data.isnull().sum().sort_values()"
      ],
      "execution_count": 11,
      "outputs": [
        {
          "output_type": "execute_result",
          "data": {
            "text/plain": [
              "LIFT.OUT.ROL.MTR.M1.SPD.1WSI40101     0\n",
              "ROOF.HEATING.Zone.4.1JIC31104.PV.1    0\n",
              "ROOF.HEATING.Zone.5.1JIC31105.PV      0\n",
              "ROOF.HEATING.Zone.6.1JIC31106.PV      0\n",
              "ROOF.HEATING.Zone.7.1JIC31107.PV.1    0\n",
              "                                     ..\n",
              "LOWER.C3..Z193TMP.1TIC42454.PV        0\n",
              "LOWER.C3..Z196.TMP.1TIC42457.PV       0\n",
              "UPPER.C4..Z197.TMP.1TIC42501.PV       0\n",
              "UPPER.C4..Z199.TMP.1TIC42503.PV       0\n",
              "STD_GLS_L                             0\n",
              "Length: 732, dtype: int64"
            ]
          },
          "metadata": {},
          "execution_count": 11
        }
      ]
    },
    {
      "cell_type": "markdown",
      "metadata": {
        "id": "Tn_SdnBaugLJ"
      },
      "source": [
        "## 📌3.데이터 전처리"
      ]
    },
    {
      "cell_type": "markdown",
      "metadata": {
        "id": "1hXEeyhMQwA6"
      },
      "source": [
        "### 3_1. 분산 0인 데이터 제거\n",
        "- 분산이 0인 데이터를 제거하는 이유?\n",
        "    - 어떤 피처의 분산이 0이라는 것은 그 피처의 데이터가 모든 행에 대해 거의 변하지 않은 것을 의미함\n",
        "    - 어떤 경우에도 같은 값을 내는 컬럼이 불량률에 영향을 주고 있다고 보기 어려움"
      ]
    },
    {
      "cell_type": "code",
      "metadata": {
        "id": "eOcaMZJvRgbK",
        "colab": {
          "base_uri": "https://localhost:8080/"
        },
        "outputId": "e5733811-a9fe-4a88-c22e-eec36d1a3259"
      },
      "source": [
        "# 분산 구하기\n",
        "df_var = fact_data.var()    # 시리즈\n",
        "# 확인\n",
        "print(\"분산 통계량 확인\\n\", df_var.describe())\n",
        "\n",
        "# 분산이 0에 수렴하는 컬럼 확인\n",
        "## 10e-10 이하면 0에 수렴하는 값으로 간주함\n",
        "print(df_var[df_var.values <= 10e-10])\n",
        "\n",
        "# 삭제\n",
        "fact_data.drop(df_var[df_var.values <= 10e-10].index, axis=1, inplace=True)\n",
        "\n",
        "# 컬럼 수 확인\n",
        "print(\"컬럼 수:\", len(fact_data.columns))"
      ],
      "execution_count": 12,
      "outputs": [
        {
          "output_type": "stream",
          "name": "stdout",
          "text": [
            "분산 통계량 확인\n",
            " count    7.320000e+02\n",
            "mean     9.906385e-01\n",
            "std      9.741771e-02\n",
            "min      7.538541e-27\n",
            "25%      1.000222e+00\n",
            "50%      1.000674e+00\n",
            "75%      1.000815e+00\n",
            "max      1.001149e+00\n",
            "dtype: float64\n",
            "LEHR.DRV.MTR..M4.2.CUR.1WII40105.PV     7.538541e-27\n",
            "LEHR.DRV.MTR..M9.1.CUR.1WII40114.PV     7.538541e-27\n",
            "LEHR.DRV.MTR..M9.2.CUR.1WII40115.PV     7.538541e-27\n",
            "LEHR.DRV.MTR..M10.1.CUR.1WII40116.PV    7.538541e-27\n",
            "LEHR.DRV.MTR..M14.1.CUR.1WII40124.PV    7.538541e-27\n",
            "LEHR.DRV.MTR..M17.2.CUR.1WII40131.PV    7.538541e-27\n",
            "TMP.TIN..BAY.4.LEFT.1TI30203.PV         7.538541e-27\n",
            "dtype: float64\n",
            "컬럼 수: 725\n"
          ]
        }
      ]
    },
    {
      "cell_type": "markdown",
      "metadata": {
        "id": "j8pQoi5qQqva"
      },
      "source": [
        "### 3_2.피처 간 상관관계 높은 피처 제거\n",
        "- 상관관계 : 피처 간의 종속된 정도\n",
        "- 상관관계가 높은 피처를 제거하는 이유?\n",
        "    - 두 피처 간의 상관관계가 높다는 것은 하나의 피처 값이 다른 피처의 값에 큰 영향을 주고있음을 뜻함\n",
        "    - 두 피처는 동일한 원인에 기인하여 변하는 것으로 추측할 수 있음\n",
        "    - 이를 제거하지 않고 두면 같은 원인에서 발생한 데이터가 모델링에 여러 번 반영됨\n",
        "    - 모델링에 영향을 미치는 원인들이 모두 비슷한 중요도로 반영되게 하려면 종속성이 낮은 피처들만을 이용하여 모델을 만드는 것이 타당함\n",
        "- 여기서는 피처 간 상관계수의 절대값이 0.9 이상인 경우를 종속된 것으로 봄\n",
        "- 상세한 소스 설명은 [src/1. 데이터 탐색 및 전처리/(3) 상관계수 높은 피처 제거.ipynb]()에서 확인할 수 있음\n"
      ]
    },
    {
      "cell_type": "code",
      "metadata": {
        "id": "1lHjOEdh9ATz",
        "colab": {
          "base_uri": "https://localhost:8080/"
        },
        "outputId": "5f6f8308-9094-4e1e-9675-ca24f720254a"
      },
      "source": [
        "# 모든 컬럼에 대해 상관계수를 구하고 상관계수가 0.9 이상인 컬럼 중 1개만 남기고 모두 제거\n",
        "\n",
        "# 모든 컬럼에 대해 상관계수의 절대값 행렬 데이터프레임 구하기\n",
        "corr_arr = abs(fact_data.corr())\n",
        "\n",
        "# 삭제할 컬럼 저장 리스트 생성\n",
        "del_list = []\n",
        "\n",
        "for i, col in enumerate(corr_arr.columns):\n",
        "    for j in range(len(corr_arr.index)):\n",
        "        # 동일 컬럼의 경우에는 상관계수가 1이므로 넘어가도록 함\n",
        "        if i == j:\n",
        "            continue\n",
        "        # 이미 del_list에 있는 경우는 다음\n",
        "        elif corr_arr.index[i] in del_list:           \n",
        "            break\n",
        "        # del_list에 포함되지 않고 상관계수가 0.9 이상인 조합에 대해 한 쪽의 컬럼이름 저장\n",
        "        if np.abs(corr_arr.iloc[j,i]) >= 0.9:\n",
        "            del_list.append(corr_arr.index[j])\n",
        "# 확인\n",
        "print(len(del_list))"
      ],
      "execution_count": 13,
      "outputs": [
        {
          "output_type": "stream",
          "name": "stdout",
          "text": [
            "630\n"
          ]
        }
      ]
    },
    {
      "cell_type": "code",
      "metadata": {
        "id": "68-UpKrfVXDG",
        "colab": {
          "base_uri": "https://localhost:8080/"
        },
        "outputId": "21a18de8-5f0c-4abf-c7a7-152774cdceac"
      },
      "source": [
        "# del_list에 있는 컬럼은 제외\n",
        "total_col = fact_data.columns.tolist()\n",
        "col_use = []\n",
        "for c in total_col:\n",
        "    if c not in del_list:\n",
        "        col_use.append(c)\n",
        "print(\"컬럼 수\", len(col_use))\n",
        "\n",
        "# 데이터프레임에 반영\n",
        "fact_data = fact_data[col_use]"
      ],
      "execution_count": 14,
      "outputs": [
        {
          "output_type": "stream",
          "name": "stdout",
          "text": [
            "컬럼 수 324\n"
          ]
        }
      ]
    },
    {
      "cell_type": "markdown",
      "metadata": {
        "id": "yTfFpg9nlENn"
      },
      "source": [
        "## 📌4.전처리 수행 후 파일 저장"
      ]
    },
    {
      "cell_type": "code",
      "metadata": {
        "id": "qNWjkOzrkvK3"
      },
      "source": [
        "# 전처리 수행한 파일 저장하기\n",
        "fact_data.to_csv('/content/drive/MyDrive/나무플래닛/3. 산출물/fact_data.csv')"
      ],
      "execution_count": 15,
      "outputs": []
    },
    {
      "cell_type": "code",
      "metadata": {
        "id": "ySGAny2FlIFF",
        "colab": {
          "base_uri": "https://localhost:8080/"
        },
        "outputId": "f1eaba73-def3-45e9-ad35-38feb30873cc"
      },
      "source": [
        "# 확인\n",
        "fact_data= pd.read_csv('/content/drive/MyDrive/나무플래닛/3. 산출물/fact_data.csv')\n",
        "fact_data.info()"
      ],
      "execution_count": 16,
      "outputs": [
        {
          "output_type": "stream",
          "name": "stdout",
          "text": [
            "<class 'pandas.core.frame.DataFrame'>\n",
            "RangeIndex: 8145 entries, 0 to 8144\n",
            "Columns: 325 entries, dat...date.name. to STD_GLS_L\n",
            "dtypes: float64(324), object(1)\n",
            "memory usage: 20.2+ MB\n"
          ]
        }
      ]
    }
  ]
}
