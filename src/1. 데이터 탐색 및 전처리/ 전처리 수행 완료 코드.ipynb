{
  "nbformat": 4,
  "nbformat_minor": 0,
  "metadata": {
    "accelerator": "GPU",
    "colab": {
      "name": "step_1_전처리_수행.ipynb",
      "provenance": [],
      "collapsed_sections": [],
      "toc_visible": true,
      "include_colab_link": true
    },
    "kernelspec": {
      "display_name": "Python 3",
      "language": "python",
      "name": "python3"
    },
    "language_info": {
      "codemirror_mode": {
        "name": "ipython",
        "version": 3
      },
      "file_extension": ".py",
      "mimetype": "text/x-python",
      "name": "python",
      "nbconvert_exporter": "python",
      "pygments_lexer": "ipython3",
      "version": "3.8.5"
    }
  },
  "cells": [
    {
      "cell_type": "markdown",
      "metadata": {
        "id": "view-in-github",
        "colab_type": "text"
      },
      "source": [
        "<a href=\"https://colab.research.google.com/github/ammobam/Display_SensorData/blob/main/step_1_%EC%A0%84%EC%B2%98%EB%A6%AC_%EC%88%98%ED%96%89.ipynb\" target=\"_parent\"><img src=\"https://colab.research.google.com/assets/colab-badge.svg\" alt=\"Open In Colab\"/></a>"
      ]
    },
    {
      "cell_type": "markdown",
      "metadata": {
        "id": "gCOtFFGOsFBV"
      },
      "source": [
        "# 머신러닝을 이용한 중요 피처 찾기\n",
        "- 데이터 : 디스플레이 공정별 센서 측정값. (.csv)\n",
        "\n",
        "## 할 것\n",
        "- csv 파일을 넣으면 머신러닝까지 자동으로 수행되도록 함"
      ]
    },
    {
      "cell_type": "markdown",
      "metadata": {
        "id": "pF5ijLuKVRU4"
      },
      "source": [
        "## 패키지 임포트"
      ]
    },
    {
      "cell_type": "code",
      "metadata": {
        "id": "RIMRmTYTtbYv"
      },
      "source": [
        "import pandas as pd\n",
        "import numpy as np\n",
        "import matplotlib.pyplot as plt\n",
        "import seaborn as sns\n",
        "import warnings\n",
        "warnings.filterwarnings(action='ignore')\n",
        "#help(pd.read_csv)"
      ],
      "execution_count": 10,
      "outputs": []
    },
    {
      "cell_type": "markdown",
      "metadata": {
        "id": "FO-eaPBKswdE"
      },
      "source": [
        "## 데이터 불러오기\n",
        "- 데이터 불러오기\n",
        "- 원본데이터 보존을 위해 copy 데이터 만들어서 사용하기\n",
        "- (선택) 생산라인 L, R 구분"
      ]
    },
    {
      "cell_type": "code",
      "metadata": {
        "id": "Lk8Qj6icr09h"
      },
      "source": [
        "# 데이터 불러오기\n",
        "# 첫번째 열을 인덱스로 사용함\n",
        "fact_data = pd.read_csv('/content/drive/MyDrive/나무플래닛/1. 데이터_디스플레이/factory_glass_2016.zip', encoding='cp949', index_col=0)\n",
        "    # encoding : 파일이 안 열리면 인코딩 옵션을 확인하자. utf-8, cp949등으로 설정해봄.\n",
        "    # index_col : 인덱스로 사용할 columns의 인덱스를 설정"
      ],
      "execution_count": 14,
      "outputs": []
    },
    {
      "cell_type": "code",
      "metadata": {
        "colab": {
          "base_uri": "https://localhost:8080/",
          "height": 420
        },
        "id": "tg4JBGvt7205",
        "outputId": "6476df84-f60a-4ddb-c886-f72ed514ff08"
      },
      "source": [
        "# 데이터 확인\n",
        "fact_data.info()\n",
        "fact_data.head()\n",
        "    # 840 컬럼 x 8145개 행이 있음\n",
        "    # 데이터 타입은 float과 int형으로 모두 숫자 데이터. 연산 가능함."
      ],
      "execution_count": 15,
      "outputs": [
        {
          "output_type": "stream",
          "text": [
            "<class 'pandas.core.frame.DataFrame'>\n",
            "Index: 8145 entries, 2016-01-01 07 to 2016-12-31 23\n",
            "Columns: 840 entries, LIFT.OUT.ROL.MTR.M1.SPD.1WSI40101 to R.Vac\n",
            "dtypes: float64(834), int64(6)\n",
            "memory usage: 52.3+ MB\n"
          ],
          "name": "stdout"
        },
        {
          "output_type": "execute_result",
          "data": {
            "text/html": [
              "<div>\n",
              "<style scoped>\n",
              "    .dataframe tbody tr th:only-of-type {\n",
              "        vertical-align: middle;\n",
              "    }\n",
              "\n",
              "    .dataframe tbody tr th {\n",
              "        vertical-align: top;\n",
              "    }\n",
              "\n",
              "    .dataframe thead th {\n",
              "        text-align: right;\n",
              "    }\n",
              "</style>\n",
              "<table border=\"1\" class=\"dataframe\">\n",
              "  <thead>\n",
              "    <tr style=\"text-align: right;\">\n",
              "      <th></th>\n",
              "      <th>LIFT.OUT.ROL.MTR.M1.SPD.1WSI40101</th>\n",
              "      <th>LIFT.OUT.ROL.MTR.M2.SPD.1WSI40102</th>\n",
              "      <th>LIFT.OUT.ROL.MTR.M3.SPD.1WSI40103</th>\n",
              "      <th>LEHR.DRV.MTR..M4.1.SPD.1WSI40104</th>\n",
              "      <th>LEHR.DRV.MTR..M4.2.SPD.1WSI40105</th>\n",
              "      <th>LEHR.DRV.MTR..M5.1.SPD.1WSI40106</th>\n",
              "      <th>LEHR.DRV.MTR..M5.2.SPD.1WSI40107</th>\n",
              "      <th>LEHR.DRV.MTR..M6.1.SPD.1WSI40108</th>\n",
              "      <th>LEHR.DRV.MTR..M6.2.SPD.1WSI40109</th>\n",
              "      <th>LEHR.DRV.MTR..M7.1.SPD.1WSI40110</th>\n",
              "      <th>LEHR.DRV.MTR..M7.2.SPD.1WSI40111</th>\n",
              "      <th>LEHR.DRV.MTR..M8.1.SPD.1WSI40112</th>\n",
              "      <th>LEHR.DRV.MTR..M8.2.SPD.1WSI40113</th>\n",
              "      <th>LEHR.DRV.MTR..M9.1.SPD.1WSI40114</th>\n",
              "      <th>LEHR.DRV.MTR..M9.2.SPD.1WSI40115</th>\n",
              "      <th>DRIVE.MOTOR.M10.1.SPEED.1WSI40116</th>\n",
              "      <th>LEHR.DRV.MTR..M10.2.SPD.1WSI40117</th>\n",
              "      <th>LEHR.DRV.MTR..M11.1.SPD.1WSI40118</th>\n",
              "      <th>DRIVE.MOTOR.M11.2.SPEED.1WSI40119</th>\n",
              "      <th>LEHR.DRV.MTR..M12.1.SPD.1WSI40120</th>\n",
              "      <th>LEHR.DRV.MTR..M12.2.SPD.1WSI40121</th>\n",
              "      <th>LEHR.DRV.MTR..M13.1.SPD.1WSI40122</th>\n",
              "      <th>LEHR.DRV.MTR..M13.2.SPD.1WSI40123</th>\n",
              "      <th>LEHR.DRV.MTR..M14.1.SPD.1WSI40124</th>\n",
              "      <th>LEHR.DRV.MTR..M14.2.SPD.1WSI40125</th>\n",
              "      <th>LEHR.DRV.MTR..M15.1.SPD.1WSI40126</th>\n",
              "      <th>LEHR.DRV.MTR..M15.2.SPD.1WSI40127</th>\n",
              "      <th>LEHR.DRV.MTR..M16.1.SPD.1WSI40128</th>\n",
              "      <th>DRIVE.MOTOR.M16.2.SPEED.1WSI40129</th>\n",
              "      <th>LEHR.DRV.MTR..M17.1.SPD.1WSI40130</th>\n",
              "      <th>LEHR.DRV.MTR..M17.2.SPD.1WSI40131</th>\n",
              "      <th>LEHR.DRV.MTR..M18.1.SPD.1WSI40132</th>\n",
              "      <th>LEHR.DRV.MTR..M18.2.SPD.1WSI40133</th>\n",
              "      <th>DRIVE.MOTOR.M19.1.SPEED.1WSI40134</th>\n",
              "      <th>LEHR.DRV.MTR..M19.2.SPD.1WSI40135</th>\n",
              "      <th>X1WOS45101_PV</th>\n",
              "      <th>X1WOS45102_PV</th>\n",
              "      <th>X1WOS45103_PV</th>\n",
              "      <th>X1WOS45104_PV</th>\n",
              "      <th>X1WOS45105_PV</th>\n",
              "      <th>...</th>\n",
              "      <th>S_C1_C2_L_L</th>\n",
              "      <th>S_C1_C2_L_R</th>\n",
              "      <th>S_C2_C3_U_L</th>\n",
              "      <th>S_C2_C3_U_R</th>\n",
              "      <th>S_C2_C3_L_L</th>\n",
              "      <th>S_C2_C3_L_R</th>\n",
              "      <th>S_C3_C4_U_L</th>\n",
              "      <th>S_C3_C4_U_R</th>\n",
              "      <th>S_C3_C4_L_L</th>\n",
              "      <th>S_C3_C4_L_R</th>\n",
              "      <th>S_AB1_AB11_L</th>\n",
              "      <th>S_AB1_AB11_R</th>\n",
              "      <th>S_AB11_AB7_L</th>\n",
              "      <th>S_AB11_AB7_R</th>\n",
              "      <th>S_AB7_C4_L</th>\n",
              "      <th>S_AB7_C4_R</th>\n",
              "      <th>S_C4_RET_L</th>\n",
              "      <th>S_C4_RET_R</th>\n",
              "      <th>S_RET_F_L</th>\n",
              "      <th>S_RET_F_R</th>\n",
              "      <th>STD_U_L</th>\n",
              "      <th>STD_U_R</th>\n",
              "      <th>STD_L_L</th>\n",
              "      <th>STD_L_R</th>\n",
              "      <th>STD_GLS_L</th>\n",
              "      <th>STD_GLS_R</th>\n",
              "      <th>투입.LEFT.</th>\n",
              "      <th>투입.RIGHT.</th>\n",
              "      <th>ROLLDOWN.폐기.LEFT.</th>\n",
              "      <th>진공패드.폐기.LEFT.</th>\n",
              "      <th>ROLLDOWN.폐기.RIGHT.</th>\n",
              "      <th>진공패드.폐기.RIGHT.</th>\n",
              "      <th>폐기율...</th>\n",
              "      <th>ROLLDOWN.진공패드.폐기율..LEFT.</th>\n",
              "      <th>ROLLDOWN.진공패드.폐기율..RIGHT.</th>\n",
              "      <th>ROLLDOWN.진공패드.폐기율..전체.</th>\n",
              "      <th>L.RD</th>\n",
              "      <th>L.Vac</th>\n",
              "      <th>R.RD</th>\n",
              "      <th>R.Vac</th>\n",
              "    </tr>\n",
              "    <tr>\n",
              "      <th>dat...date.name.</th>\n",
              "      <th></th>\n",
              "      <th></th>\n",
              "      <th></th>\n",
              "      <th></th>\n",
              "      <th></th>\n",
              "      <th></th>\n",
              "      <th></th>\n",
              "      <th></th>\n",
              "      <th></th>\n",
              "      <th></th>\n",
              "      <th></th>\n",
              "      <th></th>\n",
              "      <th></th>\n",
              "      <th></th>\n",
              "      <th></th>\n",
              "      <th></th>\n",
              "      <th></th>\n",
              "      <th></th>\n",
              "      <th></th>\n",
              "      <th></th>\n",
              "      <th></th>\n",
              "      <th></th>\n",
              "      <th></th>\n",
              "      <th></th>\n",
              "      <th></th>\n",
              "      <th></th>\n",
              "      <th></th>\n",
              "      <th></th>\n",
              "      <th></th>\n",
              "      <th></th>\n",
              "      <th></th>\n",
              "      <th></th>\n",
              "      <th></th>\n",
              "      <th></th>\n",
              "      <th></th>\n",
              "      <th></th>\n",
              "      <th></th>\n",
              "      <th></th>\n",
              "      <th></th>\n",
              "      <th></th>\n",
              "      <th></th>\n",
              "      <th></th>\n",
              "      <th></th>\n",
              "      <th></th>\n",
              "      <th></th>\n",
              "      <th></th>\n",
              "      <th></th>\n",
              "      <th></th>\n",
              "      <th></th>\n",
              "      <th></th>\n",
              "      <th></th>\n",
              "      <th></th>\n",
              "      <th></th>\n",
              "      <th></th>\n",
              "      <th></th>\n",
              "      <th></th>\n",
              "      <th></th>\n",
              "      <th></th>\n",
              "      <th></th>\n",
              "      <th></th>\n",
              "      <th></th>\n",
              "      <th></th>\n",
              "      <th></th>\n",
              "      <th></th>\n",
              "      <th></th>\n",
              "      <th></th>\n",
              "      <th></th>\n",
              "      <th></th>\n",
              "      <th></th>\n",
              "      <th></th>\n",
              "      <th></th>\n",
              "      <th></th>\n",
              "      <th></th>\n",
              "      <th></th>\n",
              "      <th></th>\n",
              "      <th></th>\n",
              "      <th></th>\n",
              "      <th></th>\n",
              "      <th></th>\n",
              "      <th></th>\n",
              "      <th></th>\n",
              "    </tr>\n",
              "  </thead>\n",
              "  <tbody>\n",
              "    <tr>\n",
              "      <th>2016-01-01 07</th>\n",
              "      <td>-1.772682</td>\n",
              "      <td>-1.713219</td>\n",
              "      <td>-1.734851</td>\n",
              "      <td>-1.590051</td>\n",
              "      <td>-1.636293</td>\n",
              "      <td>-1.575213</td>\n",
              "      <td>-1.636293</td>\n",
              "      <td>-1.548119</td>\n",
              "      <td>-1.824581</td>\n",
              "      <td>-1.548119</td>\n",
              "      <td>-1.8189</td>\n",
              "      <td>-1.548119</td>\n",
              "      <td>-1.779407</td>\n",
              "      <td>-1.548119</td>\n",
              "      <td>-1.779407</td>\n",
              "      <td>-1.548119</td>\n",
              "      <td>-1.806012</td>\n",
              "      <td>-1.548119</td>\n",
              "      <td>-1.775051</td>\n",
              "      <td>-1.548119</td>\n",
              "      <td>-1.776634</td>\n",
              "      <td>-1.548119</td>\n",
              "      <td>-1.766604</td>\n",
              "      <td>-1.548119</td>\n",
              "      <td>-1.775051</td>\n",
              "      <td>-1.638207</td>\n",
              "      <td>-1.728206</td>\n",
              "      <td>-1.674911</td>\n",
              "      <td>-1.641818</td>\n",
              "      <td>-1.662151</td>\n",
              "      <td>-1.636293</td>\n",
              "      <td>-1.622314</td>\n",
              "      <td>-1.653428</td>\n",
              "      <td>-1.548119</td>\n",
              "      <td>-1.807954</td>\n",
              "      <td>-1.73</td>\n",
              "      <td>-1.315444</td>\n",
              "      <td>-1.620631</td>\n",
              "      <td>-1.517655</td>\n",
              "      <td>-1.804912</td>\n",
              "      <td>...</td>\n",
              "      <td>-0.195736</td>\n",
              "      <td>0.706941</td>\n",
              "      <td>1.477203</td>\n",
              "      <td>0.410847</td>\n",
              "      <td>0.491620</td>\n",
              "      <td>0.942180</td>\n",
              "      <td>2.776941</td>\n",
              "      <td>2.492437</td>\n",
              "      <td>2.060406</td>\n",
              "      <td>2.612283</td>\n",
              "      <td>1.726404</td>\n",
              "      <td>1.461145</td>\n",
              "      <td>-1.192642</td>\n",
              "      <td>-1.134471</td>\n",
              "      <td>2.599429</td>\n",
              "      <td>2.690433</td>\n",
              "      <td>-0.365598</td>\n",
              "      <td>-0.659319</td>\n",
              "      <td>-1.963403</td>\n",
              "      <td>-1.621407</td>\n",
              "      <td>0.523950</td>\n",
              "      <td>1.951349</td>\n",
              "      <td>2.248106</td>\n",
              "      <td>2.767676</td>\n",
              "      <td>3.012706</td>\n",
              "      <td>3.069007</td>\n",
              "      <td>80</td>\n",
              "      <td>74</td>\n",
              "      <td>2</td>\n",
              "      <td>5</td>\n",
              "      <td>8</td>\n",
              "      <td>3</td>\n",
              "      <td>11.69</td>\n",
              "      <td>8.75</td>\n",
              "      <td>14.86</td>\n",
              "      <td>11.69</td>\n",
              "      <td>0.025</td>\n",
              "      <td>0.063</td>\n",
              "      <td>0.108</td>\n",
              "      <td>0.041</td>\n",
              "    </tr>\n",
              "    <tr>\n",
              "      <th>2016-01-01 08</th>\n",
              "      <td>-1.772682</td>\n",
              "      <td>-1.713219</td>\n",
              "      <td>-1.734851</td>\n",
              "      <td>-1.590051</td>\n",
              "      <td>-1.636293</td>\n",
              "      <td>-1.575213</td>\n",
              "      <td>-1.636293</td>\n",
              "      <td>-1.548119</td>\n",
              "      <td>-1.824581</td>\n",
              "      <td>-1.548119</td>\n",
              "      <td>-1.8189</td>\n",
              "      <td>-1.548119</td>\n",
              "      <td>-1.779407</td>\n",
              "      <td>-1.548119</td>\n",
              "      <td>-1.779407</td>\n",
              "      <td>-1.548119</td>\n",
              "      <td>-1.806012</td>\n",
              "      <td>-1.548119</td>\n",
              "      <td>-1.775051</td>\n",
              "      <td>-1.548119</td>\n",
              "      <td>-1.776634</td>\n",
              "      <td>-1.548119</td>\n",
              "      <td>-1.766604</td>\n",
              "      <td>-1.548119</td>\n",
              "      <td>-1.775051</td>\n",
              "      <td>-1.638207</td>\n",
              "      <td>-1.728206</td>\n",
              "      <td>-1.674911</td>\n",
              "      <td>-1.641818</td>\n",
              "      <td>-1.662151</td>\n",
              "      <td>-1.636293</td>\n",
              "      <td>-1.622314</td>\n",
              "      <td>-1.653428</td>\n",
              "      <td>-1.548119</td>\n",
              "      <td>-1.807954</td>\n",
              "      <td>-1.73</td>\n",
              "      <td>-1.315444</td>\n",
              "      <td>-1.620631</td>\n",
              "      <td>-1.517655</td>\n",
              "      <td>-1.804912</td>\n",
              "      <td>...</td>\n",
              "      <td>-0.500742</td>\n",
              "      <td>0.822657</td>\n",
              "      <td>1.495204</td>\n",
              "      <td>0.397591</td>\n",
              "      <td>0.587871</td>\n",
              "      <td>0.938186</td>\n",
              "      <td>2.888919</td>\n",
              "      <td>2.573187</td>\n",
              "      <td>2.161149</td>\n",
              "      <td>2.664726</td>\n",
              "      <td>1.682081</td>\n",
              "      <td>1.414518</td>\n",
              "      <td>-1.109125</td>\n",
              "      <td>-1.042269</td>\n",
              "      <td>2.588703</td>\n",
              "      <td>2.654307</td>\n",
              "      <td>-0.348979</td>\n",
              "      <td>-0.560103</td>\n",
              "      <td>-1.978936</td>\n",
              "      <td>-1.810022</td>\n",
              "      <td>0.566521</td>\n",
              "      <td>2.010125</td>\n",
              "      <td>2.364418</td>\n",
              "      <td>2.842630</td>\n",
              "      <td>3.022998</td>\n",
              "      <td>3.069274</td>\n",
              "      <td>92</td>\n",
              "      <td>75</td>\n",
              "      <td>0</td>\n",
              "      <td>2</td>\n",
              "      <td>10</td>\n",
              "      <td>0</td>\n",
              "      <td>7.19</td>\n",
              "      <td>2.17</td>\n",
              "      <td>13.33</td>\n",
              "      <td>7.19</td>\n",
              "      <td>0.000</td>\n",
              "      <td>0.022</td>\n",
              "      <td>0.133</td>\n",
              "      <td>0.000</td>\n",
              "    </tr>\n",
              "    <tr>\n",
              "      <th>2016-01-01 09</th>\n",
              "      <td>-1.772682</td>\n",
              "      <td>-1.713219</td>\n",
              "      <td>-1.734851</td>\n",
              "      <td>-1.590051</td>\n",
              "      <td>-1.636293</td>\n",
              "      <td>-1.575213</td>\n",
              "      <td>-1.636293</td>\n",
              "      <td>-1.548119</td>\n",
              "      <td>-1.824581</td>\n",
              "      <td>-1.548119</td>\n",
              "      <td>-1.8189</td>\n",
              "      <td>-1.548119</td>\n",
              "      <td>-1.779407</td>\n",
              "      <td>-1.548119</td>\n",
              "      <td>-1.779407</td>\n",
              "      <td>-1.548119</td>\n",
              "      <td>-1.806012</td>\n",
              "      <td>-1.548119</td>\n",
              "      <td>-1.775051</td>\n",
              "      <td>-1.548119</td>\n",
              "      <td>-1.776634</td>\n",
              "      <td>-1.548119</td>\n",
              "      <td>-1.766604</td>\n",
              "      <td>-1.548119</td>\n",
              "      <td>-1.775051</td>\n",
              "      <td>-1.638207</td>\n",
              "      <td>-1.728206</td>\n",
              "      <td>-1.674911</td>\n",
              "      <td>-1.641818</td>\n",
              "      <td>-1.662151</td>\n",
              "      <td>-1.636293</td>\n",
              "      <td>-1.622314</td>\n",
              "      <td>-1.653428</td>\n",
              "      <td>-1.548119</td>\n",
              "      <td>-1.807954</td>\n",
              "      <td>-1.73</td>\n",
              "      <td>-1.315444</td>\n",
              "      <td>-1.620631</td>\n",
              "      <td>-1.517655</td>\n",
              "      <td>-1.804912</td>\n",
              "      <td>...</td>\n",
              "      <td>-0.164556</td>\n",
              "      <td>0.962210</td>\n",
              "      <td>1.552127</td>\n",
              "      <td>0.460702</td>\n",
              "      <td>0.397216</td>\n",
              "      <td>0.843443</td>\n",
              "      <td>2.868644</td>\n",
              "      <td>2.486441</td>\n",
              "      <td>2.183298</td>\n",
              "      <td>2.638130</td>\n",
              "      <td>1.632955</td>\n",
              "      <td>1.359022</td>\n",
              "      <td>-0.986580</td>\n",
              "      <td>-0.928583</td>\n",
              "      <td>2.550175</td>\n",
              "      <td>2.606185</td>\n",
              "      <td>-0.456071</td>\n",
              "      <td>-0.644073</td>\n",
              "      <td>-1.878611</td>\n",
              "      <td>-1.742395</td>\n",
              "      <td>0.545936</td>\n",
              "      <td>2.002820</td>\n",
              "      <td>2.397034</td>\n",
              "      <td>2.817728</td>\n",
              "      <td>2.936967</td>\n",
              "      <td>2.969952</td>\n",
              "      <td>64</td>\n",
              "      <td>66</td>\n",
              "      <td>1</td>\n",
              "      <td>4</td>\n",
              "      <td>0</td>\n",
              "      <td>0</td>\n",
              "      <td>3.85</td>\n",
              "      <td>7.81</td>\n",
              "      <td>0.00</td>\n",
              "      <td>3.85</td>\n",
              "      <td>0.016</td>\n",
              "      <td>0.063</td>\n",
              "      <td>0.000</td>\n",
              "      <td>0.000</td>\n",
              "    </tr>\n",
              "    <tr>\n",
              "      <th>2016-01-01 10</th>\n",
              "      <td>-1.772682</td>\n",
              "      <td>-1.713219</td>\n",
              "      <td>-1.734851</td>\n",
              "      <td>-1.590051</td>\n",
              "      <td>-1.636293</td>\n",
              "      <td>-1.575213</td>\n",
              "      <td>-1.636293</td>\n",
              "      <td>-1.548119</td>\n",
              "      <td>-1.824581</td>\n",
              "      <td>-1.548119</td>\n",
              "      <td>-1.8189</td>\n",
              "      <td>-1.548119</td>\n",
              "      <td>-1.779407</td>\n",
              "      <td>-1.548119</td>\n",
              "      <td>-1.779407</td>\n",
              "      <td>-1.548119</td>\n",
              "      <td>-1.806012</td>\n",
              "      <td>-1.548119</td>\n",
              "      <td>-1.775051</td>\n",
              "      <td>-1.548119</td>\n",
              "      <td>-1.776634</td>\n",
              "      <td>-1.548119</td>\n",
              "      <td>-1.766604</td>\n",
              "      <td>-1.548119</td>\n",
              "      <td>-1.775051</td>\n",
              "      <td>-1.638207</td>\n",
              "      <td>-1.728206</td>\n",
              "      <td>-1.674911</td>\n",
              "      <td>-1.641818</td>\n",
              "      <td>-1.662151</td>\n",
              "      <td>-1.636293</td>\n",
              "      <td>-1.622314</td>\n",
              "      <td>-1.653428</td>\n",
              "      <td>-1.548119</td>\n",
              "      <td>-1.807954</td>\n",
              "      <td>-1.73</td>\n",
              "      <td>-1.315444</td>\n",
              "      <td>-1.620631</td>\n",
              "      <td>-1.517655</td>\n",
              "      <td>-1.804912</td>\n",
              "      <td>...</td>\n",
              "      <td>-0.824056</td>\n",
              "      <td>0.686628</td>\n",
              "      <td>1.586571</td>\n",
              "      <td>0.411229</td>\n",
              "      <td>0.878934</td>\n",
              "      <td>1.019915</td>\n",
              "      <td>2.834358</td>\n",
              "      <td>2.354249</td>\n",
              "      <td>2.199586</td>\n",
              "      <td>2.623425</td>\n",
              "      <td>1.563766</td>\n",
              "      <td>1.253063</td>\n",
              "      <td>-0.885353</td>\n",
              "      <td>-0.860442</td>\n",
              "      <td>2.518261</td>\n",
              "      <td>2.551495</td>\n",
              "      <td>-0.463717</td>\n",
              "      <td>-0.585540</td>\n",
              "      <td>-1.863727</td>\n",
              "      <td>-1.845004</td>\n",
              "      <td>0.549254</td>\n",
              "      <td>2.047995</td>\n",
              "      <td>2.399854</td>\n",
              "      <td>2.810619</td>\n",
              "      <td>2.876398</td>\n",
              "      <td>2.914596</td>\n",
              "      <td>68</td>\n",
              "      <td>73</td>\n",
              "      <td>0</td>\n",
              "      <td>7</td>\n",
              "      <td>0</td>\n",
              "      <td>0</td>\n",
              "      <td>4.96</td>\n",
              "      <td>10.29</td>\n",
              "      <td>0.00</td>\n",
              "      <td>4.96</td>\n",
              "      <td>0.000</td>\n",
              "      <td>0.103</td>\n",
              "      <td>0.000</td>\n",
              "      <td>0.000</td>\n",
              "    </tr>\n",
              "    <tr>\n",
              "      <th>2016-01-01 11</th>\n",
              "      <td>-1.772682</td>\n",
              "      <td>-1.713219</td>\n",
              "      <td>-1.734851</td>\n",
              "      <td>-1.590051</td>\n",
              "      <td>-1.636293</td>\n",
              "      <td>-1.575213</td>\n",
              "      <td>-1.636293</td>\n",
              "      <td>-1.548119</td>\n",
              "      <td>-1.824581</td>\n",
              "      <td>-1.548119</td>\n",
              "      <td>-1.8189</td>\n",
              "      <td>-1.548119</td>\n",
              "      <td>-1.779407</td>\n",
              "      <td>-1.548119</td>\n",
              "      <td>-1.779407</td>\n",
              "      <td>-1.548119</td>\n",
              "      <td>-1.806012</td>\n",
              "      <td>-1.548119</td>\n",
              "      <td>-1.775051</td>\n",
              "      <td>-1.548119</td>\n",
              "      <td>-1.776634</td>\n",
              "      <td>-1.548119</td>\n",
              "      <td>-1.766604</td>\n",
              "      <td>-1.548119</td>\n",
              "      <td>-1.775051</td>\n",
              "      <td>-1.638207</td>\n",
              "      <td>-1.728206</td>\n",
              "      <td>-1.674911</td>\n",
              "      <td>-1.641818</td>\n",
              "      <td>-1.662151</td>\n",
              "      <td>-1.636293</td>\n",
              "      <td>-1.622314</td>\n",
              "      <td>-1.653428</td>\n",
              "      <td>-1.548119</td>\n",
              "      <td>-1.807954</td>\n",
              "      <td>-1.73</td>\n",
              "      <td>-1.315444</td>\n",
              "      <td>-1.620631</td>\n",
              "      <td>-1.517655</td>\n",
              "      <td>-1.804912</td>\n",
              "      <td>...</td>\n",
              "      <td>-0.504655</td>\n",
              "      <td>0.954654</td>\n",
              "      <td>1.540081</td>\n",
              "      <td>0.393697</td>\n",
              "      <td>0.795806</td>\n",
              "      <td>0.917465</td>\n",
              "      <td>2.852398</td>\n",
              "      <td>2.365165</td>\n",
              "      <td>2.159633</td>\n",
              "      <td>2.582810</td>\n",
              "      <td>1.476850</td>\n",
              "      <td>1.144747</td>\n",
              "      <td>-0.852229</td>\n",
              "      <td>-0.821249</td>\n",
              "      <td>2.521009</td>\n",
              "      <td>2.541783</td>\n",
              "      <td>-0.421995</td>\n",
              "      <td>-0.580300</td>\n",
              "      <td>-1.903504</td>\n",
              "      <td>-1.781370</td>\n",
              "      <td>0.610913</td>\n",
              "      <td>2.101178</td>\n",
              "      <td>2.379341</td>\n",
              "      <td>2.797094</td>\n",
              "      <td>2.858177</td>\n",
              "      <td>2.873929</td>\n",
              "      <td>36</td>\n",
              "      <td>35</td>\n",
              "      <td>0</td>\n",
              "      <td>0</td>\n",
              "      <td>0</td>\n",
              "      <td>0</td>\n",
              "      <td>0.00</td>\n",
              "      <td>0.00</td>\n",
              "      <td>0.00</td>\n",
              "      <td>0.00</td>\n",
              "      <td>0.000</td>\n",
              "      <td>0.000</td>\n",
              "      <td>0.000</td>\n",
              "      <td>0.000</td>\n",
              "    </tr>\n",
              "  </tbody>\n",
              "</table>\n",
              "<p>5 rows × 840 columns</p>\n",
              "</div>"
            ],
            "text/plain": [
              "                  LIFT.OUT.ROL.MTR.M1.SPD.1WSI40101  ...  R.Vac\n",
              "dat...date.name.                                     ...       \n",
              "2016-01-01 07                             -1.772682  ...  0.041\n",
              "2016-01-01 08                             -1.772682  ...  0.000\n",
              "2016-01-01 09                             -1.772682  ...  0.000\n",
              "2016-01-01 10                             -1.772682  ...  0.000\n",
              "2016-01-01 11                             -1.772682  ...  0.000\n",
              "\n",
              "[5 rows x 840 columns]"
            ]
          },
          "metadata": {
            "tags": []
          },
          "execution_count": 15
        }
      ]
    },
    {
      "cell_type": "markdown",
      "metadata": {
        "id": "HTnGYnCNLCde"
      },
      "source": [
        "### ** 데이터 복사에 관하여\n",
        "- 복사를 하는 이유\n",
        "    - 데이터를 복사하여 작업하면 원본 데이터의 유실을 예방할 수 있음.\n",
        "    - 같은 데이터를 새로운 객체에 두 번 할당하는 경우에 비해 memory를 아낄 수 있음\n",
        "- 복사의 종류\n",
        "    -  a = 10, b = a로 복사하면 참조만 복사. 같은 데이터\n",
        "    - [mutable문제 발생] 어느 한 쪽을 수정하면 다른 쪽도 변경됨\n",
        "    - 얕은 복사(.copy())\n",
        "        - 겉 객체를 복사하여 다른 객체 할당함\n",
        "        - 원소가 다시 리스트 등의 객체인 경우, 그 원소객체의 참조만 복사되어 mutable 문제가 발생함\n",
        "    - 깊은 복사(.deepcopy())\n",
        "        - 겉 객체, 원소 객체가 2중인 경우 그 객체까지 복사 (예시 : 리스트 안에 다시 리스트)\n",
        "        - mutable한 문제가 해결됨\n",
        "- 더 알아보기 : 2중 배열 만들어서 copy, deepcopy 비교하기\n",
        "    - 참고링크 : https://maeng-test-blog.tistory.com/98"
      ]
    },
    {
      "cell_type": "code",
      "metadata": {
        "id": "WtO4vzCYNbqd"
      },
      "source": [
        "# 원본데이터의 보존을 위해 얕은 복사를 수행함\n",
        "# fact_data 데이터는 숫자형으로 얕은 복사만 수행해도 됨\n",
        "fact_data_copy = fact_data.copy()"
      ],
      "execution_count": 16,
      "outputs": []
    },
    {
      "cell_type": "markdown",
      "metadata": {
        "id": "dfgdkOz9syW9"
      },
      "source": [
        "## 데이터 전처리\n",
        "- 결측치 처리\n",
        "- 분산 0인 피처 제거\n",
        "- 상관관계 높은 피처 제거\n",
        "- VIF > 30 이상의 피처 제거"
      ]
    },
    {
      "cell_type": "markdown",
      "metadata": {
        "id": "p26tE_THsNRO"
      },
      "source": [
        "### 컬럼 제외하기"
      ]
    },
    {
      "cell_type": "markdown",
      "metadata": {
        "id": "Myvoo8akXH_f"
      },
      "source": [
        "#### 레이블 컬럼 제외하기"
      ]
    },
    {
      "cell_type": "code",
      "metadata": {
        "colab": {
          "base_uri": "https://localhost:8080/"
        },
        "id": "7FizlEG_WZhA",
        "outputId": "faa139be-fcb7-4a91-8ec0-281aa349c920"
      },
      "source": [
        "# 레이블 컬럼 제외하기\n",
        "col_label = ['L.RD', 'L.Vac', 'R.RD', 'R.Vac']\n",
        "col_use = []\n",
        "for col in fact_data.columns:\n",
        "    if col not in col_label:\n",
        "       col_use.append(col)\n",
        "print(len(col_use)) # 836개\n",
        "\n",
        "# 데이터프레임 만들기\n",
        "fact_data = fact_data[col_use]"
      ],
      "execution_count": 17,
      "outputs": [
        {
          "output_type": "stream",
          "text": [
            "836\n"
          ],
          "name": "stdout"
        }
      ]
    },
    {
      "cell_type": "code",
      "metadata": {
        "colab": {
          "base_uri": "https://localhost:8080/"
        },
        "id": "h8hn6ZcDXd6P",
        "outputId": "75267aa5-717b-4300-d0ab-ecea7c91e656"
      },
      "source": [
        "# 레이블 컬럼에 혹시 결측치 있었나 확인\n",
        "fact_data_copy[col_label].isnull().sum()\n",
        "# 없음"
      ],
      "execution_count": 18,
      "outputs": [
        {
          "output_type": "execute_result",
          "data": {
            "text/plain": [
              "L.RD     0\n",
              "L.Vac    0\n",
              "R.RD     0\n",
              "R.Vac    0\n",
              "dtype: int64"
            ]
          },
          "metadata": {
            "tags": []
          },
          "execution_count": 18
        }
      ]
    },
    {
      "cell_type": "markdown",
      "metadata": {
        "id": "A0EYwCEEWWI_"
      },
      "source": [
        "#### 아무리봐도 피처는 아닌 것 같은 컬럼 제거하기"
      ]
    },
    {
      "cell_type": "code",
      "metadata": {
        "colab": {
          "base_uri": "https://localhost:8080/"
        },
        "id": "aQjaWeOjdV0K",
        "outputId": "9f89b378-6674-4419-e5f3-2313a90a7bb0"
      },
      "source": [
        "fact_data.columns[-12:]"
      ],
      "execution_count": 19,
      "outputs": [
        {
          "output_type": "execute_result",
          "data": {
            "text/plain": [
              "Index(['STD_GLS_L', 'STD_GLS_R', '투입.LEFT.', '투입.RIGHT.', 'ROLLDOWN.폐기.LEFT.',\n",
              "       '진공패드.폐기.LEFT.', 'ROLLDOWN.폐기.RIGHT.', '진공패드.폐기.RIGHT.', '폐기율...',\n",
              "       'ROLLDOWN.진공패드.폐기율..LEFT.', 'ROLLDOWN.진공패드.폐기율..RIGHT.',\n",
              "       'ROLLDOWN.진공패드.폐기율..전체.'],\n",
              "      dtype='object')"
            ]
          },
          "metadata": {
            "tags": []
          },
          "execution_count": 19
        }
      ]
    },
    {
      "cell_type": "code",
      "metadata": {
        "colab": {
          "base_uri": "https://localhost:8080/"
        },
        "id": "YnjeUV_OW9mH",
        "outputId": "477ee950-14c5-4337-d5f4-270fe235fc3f"
      },
      "source": [
        "# 아무리봐도 피처는 아닌 것 같은 컬럼 제거하기\n",
        "col_susang = fact_data.columns[-10:]\n",
        "\n",
        "col_use = []\n",
        "for col in fact_data.columns:\n",
        "    if col not in col_susang:\n",
        "       col_use.append(col)\n",
        "print(len(col_use)) # 826개\n",
        "\n",
        "# 데이터프레임 만들기\n",
        "fact_data = fact_data[col_use]"
      ],
      "execution_count": 20,
      "outputs": [
        {
          "output_type": "stream",
          "text": [
            "826\n"
          ],
          "name": "stdout"
        }
      ]
    },
    {
      "cell_type": "markdown",
      "metadata": {
        "id": "UwpuU3uKrXQ7"
      },
      "source": [
        "#### Right 컬럼 제외하기"
      ]
    },
    {
      "cell_type": "code",
      "metadata": {
        "colab": {
          "base_uri": "https://localhost:8080/"
        },
        "id": "d8q51VXCr4sZ",
        "outputId": "d595f99e-e189-4bb8-fe31-d406a703df39"
      },
      "source": [
        "# Right 공정에 해당하는 컬럼\n",
        "col_right = [   'DB.N2.SCREEN.FLOW.RIGHT.1FI49012_PV',\n",
        "                 'DB.N2.SCREEN.FLOW.RIGHT.1FI49012_PV.1',\n",
        "                 'Right.edge',\n",
        "                 'TMP.TIN..BAY.1.RIGHT.1TI30202.PV',\n",
        "                 'TMP.TIN..BAY.5.RIGHT.1TI30206.PV',\n",
        "                 'TMP.TIN..BAY.7.RIGHT.1TI30208.PV',\n",
        "                 'TMP.TIN..BAY.10.RIGHT.1TI30210.PV',\n",
        "                 'TMP.GLASS..RIGHT.EXIT.1TIC30111.PV',\n",
        "                 'X.10.BAY.RIGHT.PRESSURE.1CLBAY10RIGHT_CPV',\n",
        "                 'X.1.BAY.RIGHT.PRESSURE.1CLBAY1RIGHT_CPV',\n",
        "                 'X.7.BAY.RIGHT.PRESSURE.1CLBAY7RIGHT_CPV',\n",
        "                 'RET.AMBIANT.RIGHT.TMP.1TI42603.PV',\n",
        "                 'BATH.AMBIENT.3.BAY.RIGHT.1TI31002_PV',\n",
        "                 'EXIT.LIP.PLATE.RIGHT.1TI30605.PV',\n",
        "                 'E.L.DB.RIGHT.N2.FLOW.1FI33502.PV',\n",
        "                 'DROSS.BOX.N2.BTM.HT1.R.1JI39006.PV',\n",
        "                 'DROSS.BOX.N2.BTM.HT..R..1JI39010.PV',\n",
        "                 'DROSSBOX.N2.SCN.R.1JI39012_PV',\n",
        "                 'HOOD.N2.HEATER.R..1JI39008.PV',\n",
        "                 'DDP.RIGHT.N2.H2.9..1FI33421.PV',\n",
        "                 'SPOUT.RIGHT.UPSTREAM.1FI33516.PV',\n",
        "                 'SPOUT.RIGHT.BOS.UPSTREAM.1FI33517.PV',\n",
        "                 'SPOUT.RIGHT.BOTTOM.1FI33518.PV',\n",
        "                 'SPOUT.RIGHT.TOP.1FI33519.PV',\n",
        "                 'LOR.1.R.Axis',\n",
        "                 'LOR.1.R.Hori',\n",
        "                 'LOR.2.R.Axis',\n",
        "                 'LOR.2.R.Hori',\n",
        "                 'LOR.3.R.Axis',\n",
        "                 'LOR.3.R.Hori',\n",
        "                 'r_tin_bay_1_5',\n",
        "                 'r_tin_bay_5_7',\n",
        "                 'r_tin_bay_7_10',\n",
        "                 'r_top_n.1_mean',\n",
        "                 'r_top_n.2_mean',\n",
        "                 'r_n.2_glass',\n",
        "                 'D_AB1_R_UL',\n",
        "                 'D_AB2_R_UL',\n",
        "                 'D_AB3_R_UL',\n",
        "                 'D_AB4_R_UL',\n",
        "                 'D_AB5_R_UL',\n",
        "                 'D_AB6_R_UL',\n",
        "                 'D_AB7_R_UL',\n",
        "                 'D_AB8_R_UL',\n",
        "                 'D_AB9_R_UL',\n",
        "                 'D_AB10_R_UL',\n",
        "                 'D_AB11_R_UL',\n",
        "                 'D_C1_R_UL',\n",
        "                 'D_C2_R_UL',\n",
        "                 'D_C3_R_UL',\n",
        "                 'D_C4_R_UL',\n",
        "                 'S_AB1_AB2_U_R',\n",
        "                 'S_AB1_AB2_L_R',\n",
        "                 'S_AB2_AB3_U_R',\n",
        "                 'S_AB2_AB3_L_R',\n",
        "                 'S_AB3_AB4_U_R',\n",
        "                 'S_AB3_AB4_L_R',\n",
        "                 'S_AB4_AB5_U_R',\n",
        "                 'S_AB4_AB5_L_R',\n",
        "                 'S_AB5_AB6_U_R',\n",
        "                 'S_AB5_AB6_L_R',\n",
        "                 'S_AB6_AB7_U_R',\n",
        "                 'S_AB6_AB7_L_R',\n",
        "                 'S_AB7_AB8_U_R',\n",
        "                 'S_AB7_AB8_L_R',\n",
        "                 'S_AB8_AB9_U_R',\n",
        "                 'S_AB8_AB9_L_R',\n",
        "                 'S_AB9_AB10_U_R',\n",
        "                 'S_AB9_AB10_L_R',\n",
        "                 'S_AB10_AB11_U_R',\n",
        "                 'S_AB10_AB11_L_R',\n",
        "                 'S_AB11_C1_U_R',\n",
        "                 'S_AB11_C1_L_R',\n",
        "                 'S_AB1_AB11_R',\n",
        "                 'S_AB11_AB7_R',\n",
        "                 'S_AB7_C4_R',\n",
        "                 'S_C1_C2_U_R',\n",
        "                 'S_C1_C2_L_R',\n",
        "                 'S_C2_C3_U_R',\n",
        "                 'S_C2_C3_L_R',\n",
        "                 'S_C3_C4_U_R',\n",
        "                 'S_C3_C4_L_R',\n",
        "                 'S_C4_RET_R',\n",
        "                 'S_RET_F_R',\n",
        "                 'STD_U_R',\n",
        "                 'STD_L_R',\n",
        "                 'STD_GLS_R',\n",
        "                 '투입.RIGHT.',\n",
        "                 'ROLLDOWN.폐기.RIGHT.',\n",
        "                 'ROLLDOWN.진공패드.폐기율..RIGHT.',\n",
        "                 '진공패드.폐기.RIGHT.']\n",
        "# 개수 확인\n",
        "len(col_right) # 91개"
      ],
      "execution_count": 21,
      "outputs": [
        {
          "output_type": "execute_result",
          "data": {
            "text/plain": [
              "91"
            ]
          },
          "metadata": {
            "tags": []
          },
          "execution_count": 21
        }
      ]
    },
    {
      "cell_type": "code",
      "metadata": {
        "colab": {
          "base_uri": "https://localhost:8080/"
        },
        "id": "SIwNUeWhrXRG",
        "outputId": "1f8cec57-d1b1-4f10-8020-3ce1ed75a1a0"
      },
      "source": [
        "# Right 컬럼 제외하기\n",
        "col_use = []\n",
        "for col in fact_data.columns:\n",
        "    if col not in col_right:\n",
        "       col_use.append(col)\n",
        "print(len(col_use)) # 739개\n",
        "\n",
        "# 데이터프레임 만들기\n",
        "fact_data = fact_data[col_use]"
      ],
      "execution_count": 22,
      "outputs": [
        {
          "output_type": "stream",
          "text": [
            "739\n"
          ],
          "name": "stdout"
        }
      ]
    },
    {
      "cell_type": "markdown",
      "metadata": {
        "id": "clfLbcOeQk1b"
      },
      "source": [
        "### 결측치 처리"
      ]
    },
    {
      "cell_type": "code",
      "metadata": {
        "colab": {
          "base_uri": "https://localhost:8080/"
        },
        "id": "ZRMcWlufsy9O",
        "outputId": "0d383961-3125-4c54-e8cf-6c92c77f762a"
      },
      "source": [
        "# 결측치 찾기\n",
        "nan_data = fact_data.isnull().sum().sort_values(ascending=False)\n",
        "print(nan_data)\n",
        "## isnull() : 결측치를 찾아 True/False 리턴함.\n",
        "    # boolean 데이터타입은 숫자로 변환하면 True -> 1, False -> 0\n",
        "    # 여기서는 결측치가 있는 데이터는 1의 값을 갖게 됨\n",
        "## sum() : 컬럼별로 값을 모두 더함\n",
        "## sort_values() : 값을 크기별로 정렬함\n",
        "    # ascending=False 옵션을 주면 내림차순으로 정렬함"
      ],
      "execution_count": 23,
      "outputs": [
        {
          "output_type": "stream",
          "text": [
            "LEHR.DRV.MTR..M19.2.CUR.1WII40135.PV    8145\n",
            "ROOF.HEATING.Zone78.1JIC31178.PV        8145\n",
            "DCS_Offset_RPM_M14.1WOS45114_PV         8145\n",
            "UPPER.RET..Z218.TMP.1TIC42601.PV        8145\n",
            "DCS_Offset_RPM_M13.1WOS45113_PV         8145\n",
            "                                        ... \n",
            "ROOF.HEATING.Zone.9.1JIC31109.PV.1         0\n",
            "ROOF.HEATING.Zone.8.1JIC31108.PV.1         0\n",
            "ROOF.HEATING.Zone.7.1JIC31107.PV.1         0\n",
            "ROOF.HEATING.Zone.6.1JIC31106.PV           0\n",
            "LIFT.OUT.ROL.MTR.M1.SPD.1WSI40101          0\n",
            "Length: 739, dtype: int64\n"
          ],
          "name": "stdout"
        }
      ]
    },
    {
      "cell_type": "code",
      "metadata": {
        "colab": {
          "base_uri": "https://localhost:8080/"
        },
        "id": "XFsvINL23Llx",
        "outputId": "4ac7ccda-8554-4b05-b2c0-85b1bb12932c"
      },
      "source": [
        "# 이때 결측치 개수 컬럼은 시리즈 타입이므로 슬라이싱 됨. nan 개수 상위 20개 정도 살펴보자.\n",
        "print(type(nan_data))\n",
        "\n",
        "# 조회 결과, 7개 컬럼은 전체 8145개의 행이 모두 결측치임. 데이터가 없으므로 삭제.\n",
        "print(nan_data[:20])"
      ],
      "execution_count": 24,
      "outputs": [
        {
          "output_type": "stream",
          "text": [
            "<class 'pandas.core.series.Series'>\n",
            "LEHR.DRV.MTR..M19.2.CUR.1WII40135.PV    8145\n",
            "ROOF.HEATING.Zone78.1JIC31178.PV        8145\n",
            "DCS_Offset_RPM_M14.1WOS45114_PV         8145\n",
            "UPPER.RET..Z218.TMP.1TIC42601.PV        8145\n",
            "DCS_Offset_RPM_M13.1WOS45113_PV         8145\n",
            "ROOF.HEATING.Zone76.1JIC31176.PV        8145\n",
            "ROOF.HEATING.Zone52.1JIC31152.PV        8145\n",
            "N2.TO.EA1313A.1FI33503A_PV.1               1\n",
            "LEHR.DRV.MTR..M9.2.SPD.1WSI40115.1         1\n",
            "LEHR.DRV.MTR..M9.1.SPD.1WSI40114.1         1\n",
            "LEHR.DRV.MTR..M8.2.SPD.1WSI40113.1         1\n",
            "LEHR.DRV.MTR..M8.1.SPD.1WSI40112.1         1\n",
            "LEHR.DRV.MTR..M7.2.SPD.1WSI40111.1         1\n",
            "Ribbon.Speed                               1\n",
            "LEHR.DRV.MTR..M7.1.SPD.1WSI40110.1         1\n",
            "LEHR.DRV.MTR..M6.2.SPD.1WSI40109.1         1\n",
            "LEHR.DRV.MTR..M6.1.SPD.1WSI40108.1         1\n",
            "DRIVE.MOTOR.M10.1.SPEED.1WSI40116.1        1\n",
            "LEHR.DRV.MTR..M5.2.SPD.1WSI40107.1         1\n",
            "LEHR.DRV.MTR..M4.2.SPD.1WSI40105.1         1\n",
            "dtype: int64\n"
          ],
          "name": "stdout"
        }
      ]
    },
    {
      "cell_type": "code",
      "metadata": {
        "colab": {
          "base_uri": "https://localhost:8080/"
        },
        "id": "r5uwwSPm5Taa",
        "outputId": "5ec6eba5-2126-48ed-bf64-7d6f3158e0ba"
      },
      "source": [
        "# 전체 행이 결측치인 컬럼을 찾고 삭제하기\n",
        "\n",
        "# 1. 전체 행이 결측치인 컬럼을 찾기\n",
        "print(nan_data[nan_data.values == fact_data.shape[0]].index.tolist())\n",
        "    # nan_data에서 다음 조건에 해당하는 컬럼을 찾음\n",
        "        # nan_data.values : nan_data를 데이터 배열로 만들어줌\n",
        "        # fact_data.shape -> (행 개수, 열 개수)\n",
        "            # fact_data.shape[0]는 fact_data 행의 개수임\n",
        "    # .index : 그때의 컬럼이름(여기선 인덱스)을 추출함\n",
        "    # .tolist() : 데이터를 리스트 타입으로 변환함\n",
        "\n",
        "# 2. 해당 컬럼삭제하기\n",
        "fact_data.drop(nan_data[nan_data.values == fact_data.shape[0]].index.tolist(), axis=1, inplace=True)\n",
        "    # inplace=True : drop 수행한 결과를 fact_data에 반영할지 여부 설정\n",
        "\n",
        "# 3. 확인 - 컬럼 수가 줄어들었나 확인 (840개 -> 833개)\n",
        "fact_data.info()"
      ],
      "execution_count": 25,
      "outputs": [
        {
          "output_type": "stream",
          "text": [
            "['LEHR.DRV.MTR..M19.2.CUR.1WII40135.PV', 'ROOF.HEATING.Zone78.1JIC31178.PV', 'DCS_Offset_RPM_M14.1WOS45114_PV', 'UPPER.RET..Z218.TMP.1TIC42601.PV', 'DCS_Offset_RPM_M13.1WOS45113_PV', 'ROOF.HEATING.Zone76.1JIC31176.PV', 'ROOF.HEATING.Zone52.1JIC31152.PV']\n",
            "<class 'pandas.core.frame.DataFrame'>\n",
            "Index: 8145 entries, 2016-01-01 07 to 2016-12-31 23\n",
            "Columns: 732 entries, LIFT.OUT.ROL.MTR.M1.SPD.1WSI40101 to STD_GLS_L\n",
            "dtypes: float64(732)\n",
            "memory usage: 45.5+ MB\n"
          ],
          "name": "stdout"
        }
      ]
    },
    {
      "cell_type": "code",
      "metadata": {
        "colab": {
          "base_uri": "https://localhost:8080/"
        },
        "id": "NUomKUukOiUL",
        "outputId": "9039c641-c72c-4bdc-d799-5fff1e3d6e75"
      },
      "source": [
        "# 그 외 결측치 처리\n",
        "# 남은 결측치는 ffill로 채워주자\n",
        "# 이 데이터는 1시간마다 측정한 센서 데이터이므로 전체 컬럼에 대한 평균보다는 이전 행의 값으로 결측치를 처리하는 것이 적절함\n",
        "fact_data.fillna(method = 'ffill', inplace=True)\n",
        "    # inplace=True : fillna 수행한 결과를 fact_data에 반영할지 여부 설정\n",
        "\n",
        "# 확인\n",
        "fact_data.isnull().sum().sort_values()"
      ],
      "execution_count": 26,
      "outputs": [
        {
          "output_type": "execute_result",
          "data": {
            "text/plain": [
              "LIFT.OUT.ROL.MTR.M1.SPD.1WSI40101     0\n",
              "ROOF.HEATING.Zone.4.1JIC31104.PV.1    0\n",
              "ROOF.HEATING.Zone.5.1JIC31105.PV      0\n",
              "ROOF.HEATING.Zone.6.1JIC31106.PV      0\n",
              "ROOF.HEATING.Zone.7.1JIC31107.PV.1    0\n",
              "                                     ..\n",
              "LOWER.C3..Z193TMP.1TIC42454.PV        0\n",
              "LOWER.C3..Z196.TMP.1TIC42457.PV       0\n",
              "UPPER.C4..Z197.TMP.1TIC42501.PV       0\n",
              "UPPER.C4..Z199.TMP.1TIC42503.PV       0\n",
              "STD_GLS_L                             0\n",
              "Length: 732, dtype: int64"
            ]
          },
          "metadata": {
            "tags": []
          },
          "execution_count": 26
        }
      ]
    },
    {
      "cell_type": "markdown",
      "metadata": {
        "id": "1hXEeyhMQwA6"
      },
      "source": [
        "### 분산 0인 데이터 제거\n",
        "- 분산이 0인 데이터를 제거하는 이유?\n",
        "    - 어떤 피처의 분산이 0이라는 것은 그 피처의 데이터가 모든 행에 대해 거의 변하지 않은 것을 의미함\n",
        "    - 어떤 경우에도 같은 값을 내는 컬럼이 불량률에 영향을 주고 있다고 보기 어려움\n",
        "- 수행 방법\n",
        "    - 방법1 : sklearn의 VarianceThreshold 사용\n",
        "    - 방법2 : var() 사용\n",
        "- 결과\n",
        "    - 컬럼수 : 831->818\n"
      ]
    },
    {
      "cell_type": "code",
      "metadata": {
        "id": "mQ_f0TGBQxsK"
      },
      "source": [
        "# 방법1\n",
        "#from sklearn.feature_selection import VarianceThreshold\n",
        "#selector = VarianceThreshold()\n",
        "#df = selector.fit_transform(fact_data)\n",
        "#print(df.shape)\n",
        "#df"
      ],
      "execution_count": 27,
      "outputs": []
    },
    {
      "cell_type": "code",
      "metadata": {
        "colab": {
          "base_uri": "https://localhost:8080/"
        },
        "id": "eOcaMZJvRgbK",
        "outputId": "297d238c-2c4e-4544-c2f3-f9dc1e35f12a"
      },
      "source": [
        "# 방법 2\n",
        "# 분산 구하기\n",
        "df_var = fact_data.var()    # 시리즈\n",
        "# 확인\n",
        "print(df_var.describe())\n",
        "\n",
        "# 분산이 0에 수렴하는 컬럼 확인\n",
        "## 10e-10 이하면 0에 수렴하는 값으로 간주함\n",
        "print(df_var[df_var.values <= 10e-10])\n",
        "\n",
        "# 삭제\n",
        "fact_data.drop(df_var[df_var.values <= 10e-10].index, axis=1, inplace=True)\n",
        "\n",
        "# 컬럼 수 확인\n",
        "print(len(fact_data.columns))"
      ],
      "execution_count": 28,
      "outputs": [
        {
          "output_type": "stream",
          "text": [
            "count    7.320000e+02\n",
            "mean     9.906385e-01\n",
            "std      9.741771e-02\n",
            "min      7.538541e-27\n",
            "25%      1.000222e+00\n",
            "50%      1.000674e+00\n",
            "75%      1.000815e+00\n",
            "max      1.001149e+00\n",
            "dtype: float64\n",
            "LEHR.DRV.MTR..M4.2.CUR.1WII40105.PV     7.538541e-27\n",
            "LEHR.DRV.MTR..M9.1.CUR.1WII40114.PV     7.538541e-27\n",
            "LEHR.DRV.MTR..M9.2.CUR.1WII40115.PV     7.538541e-27\n",
            "LEHR.DRV.MTR..M10.1.CUR.1WII40116.PV    7.538541e-27\n",
            "LEHR.DRV.MTR..M14.1.CUR.1WII40124.PV    7.538541e-27\n",
            "LEHR.DRV.MTR..M17.2.CUR.1WII40131.PV    7.538541e-27\n",
            "TMP.TIN..BAY.4.LEFT.1TI30203.PV         7.538541e-27\n",
            "dtype: float64\n",
            "725\n"
          ],
          "name": "stdout"
        }
      ]
    },
    {
      "cell_type": "markdown",
      "metadata": {
        "id": "j8pQoi5qQqva"
      },
      "source": [
        "### 피처 간 상관관계 높은 피처 제거\n",
        "- 상관관계 : 피처 간의 종속된 정도\n",
        "- 상관관계가 높은 피처를 제거하는 이유?\n",
        "    - 두 피처 간의 상관관계가 높다는 것은, 하나의 피처 값이 다른 피처의 값에 큰 영향을 주고있음을 의미함\n",
        "    - 두 피처는 동일한 원인에 기인하여 변하는 것으로 추측할 수 있음\n",
        "    - 이를 제거하지 않고 두면 사실상 같은 의미인 데이터가 모델링에 여러 번 반영됨\n",
        "    - 사실상 종속관계에 있는 피처들이 모델링에 크게 기여하는 것과 같음\n",
        "    - 모델링에 영향을 미치는 원인들이 모두 비슷한 중요도로 반영되게 하려면 종속성이 낮은 피처들만을 이용하여 모델을 만드는 것이 타당함\n",
        "- 여기서는 피처 간 상관계수의 절대값이 0.9 이상인 경우를 종속된 것으로 봄\n"
      ]
    },
    {
      "cell_type": "code",
      "metadata": {
        "colab": {
          "base_uri": "https://localhost:8080/"
        },
        "id": "1lHjOEdh9ATz",
        "outputId": "24c0eaa3-ade1-44e5-f1b1-dfc267968d69"
      },
      "source": [
        "# 모든 컬럼에 대해 상관계수를 구하고 상관계수가 0.9 이상인 컬럼 중 1개만 남기고 모두 제거\n",
        "\n",
        "# 모든 컬럼에 대해 상관계수의 절대값 구하기\n",
        "corr_arr = abs(fact_data.corr())\n",
        "\n",
        "# 상관계수가 0.9 이상인 컬럼 중 1개만 남기고 모두 제거\n",
        "del_list = []\n",
        "for i, col in enumerate(corr_arr.columns):\n",
        "    for j in range(len(corr_arr.index)):\n",
        "        if i == j:\n",
        "            continue\n",
        "        elif corr_arr.index[i] in del_list:           \n",
        "            break\n",
        "        # print(i, j, corr_arr.index[j], np.abs(corr_arr.iloc[j,i]))\n",
        "        if np.abs(corr_arr.iloc[j,i]) >= 0.9:\n",
        "            del_list.append(corr_arr.index[j])\n",
        "            # print(corr_arr.index[j], '-->', corr_arr.index[i])\n",
        "# 확인\n",
        "len(del_list)"
      ],
      "execution_count": 29,
      "outputs": [
        {
          "output_type": "execute_result",
          "data": {
            "text/plain": [
              "630"
            ]
          },
          "metadata": {
            "tags": []
          },
          "execution_count": 29
        }
      ]
    },
    {
      "cell_type": "code",
      "metadata": {
        "colab": {
          "base_uri": "https://localhost:8080/"
        },
        "id": "68-UpKrfVXDG",
        "outputId": "8361cb3c-9a9b-42c2-fea3-0e826bbedd5d"
      },
      "source": [
        "# del_list에 있는 컬럼은 제외\n",
        "total_col = fact_data.columns.tolist()\n",
        "col_remain = []\n",
        "for c in total_col:\n",
        "    if c not in del_list:\n",
        "        col_remain.append(c)\n",
        "len(col_remain)"
      ],
      "execution_count": 30,
      "outputs": [
        {
          "output_type": "execute_result",
          "data": {
            "text/plain": [
              "324"
            ]
          },
          "metadata": {
            "tags": []
          },
          "execution_count": 30
        }
      ]
    },
    {
      "cell_type": "code",
      "metadata": {
        "colab": {
          "base_uri": "https://localhost:8080/"
        },
        "id": "kAJpOIcPVe6m",
        "outputId": "828d232d-29a4-4fed-9e7d-b36ccbffee5e"
      },
      "source": [
        "# 저장\n",
        "fact_data = fact_data[col_remain]\n",
        "fact_data.info()"
      ],
      "execution_count": 31,
      "outputs": [
        {
          "output_type": "stream",
          "text": [
            "<class 'pandas.core.frame.DataFrame'>\n",
            "Index: 8145 entries, 2016-01-01 07 to 2016-12-31 23\n",
            "Columns: 324 entries, LIFT.OUT.ROL.MTR.M1.SPD.1WSI40101 to STD_GLS_L\n",
            "dtypes: float64(324)\n",
            "memory usage: 20.2+ MB\n"
          ],
          "name": "stdout"
        }
      ]
    },
    {
      "cell_type": "markdown",
      "metadata": {
        "id": "Qmof_MJRV9UI"
      },
      "source": [
        "### (안함) VIF > 30 이상의 피처 제거"
      ]
    },
    {
      "cell_type": "code",
      "metadata": {
        "id": "vkXpYVSgVzig"
      },
      "source": [
        "# 화이팅"
      ],
      "execution_count": 32,
      "outputs": []
    },
    {
      "cell_type": "markdown",
      "metadata": {
        "id": "yTfFpg9nlENn"
      },
      "source": [
        "### 전처리 수행 후 파일 저장"
      ]
    },
    {
      "cell_type": "code",
      "metadata": {
        "id": "qNWjkOzrkvK3"
      },
      "source": [
        "# 전처리 수행한 파일 저장하기\n",
        "fact_data.to_csv('/content/drive/MyDrive/나무플래닛/3. 산출물/fact_data.csv')"
      ],
      "execution_count": 52,
      "outputs": []
    },
    {
      "cell_type": "code",
      "metadata": {
        "colab": {
          "base_uri": "https://localhost:8080/"
        },
        "id": "ySGAny2FlIFF",
        "outputId": "9991161a-7ee3-49a9-a7b0-b9fbeee25446"
      },
      "source": [
        "# 확인\n",
        "fact_data= pd.read_csv('/content/drive/MyDrive/나무플래닛/3. 산출물/fact_data.csv')\n",
        "fact_data.info()"
      ],
      "execution_count": 54,
      "outputs": [
        {
          "output_type": "stream",
          "text": [
            "<class 'pandas.core.frame.DataFrame'>\n",
            "RangeIndex: 8145 entries, 0 to 8144\n",
            "Columns: 325 entries, dat...date.name. to STD_GLS_L\n",
            "dtypes: float64(324), object(1)\n",
            "memory usage: 20.2+ MB\n"
          ],
          "name": "stdout"
        }
      ]
    }
  ]
}
