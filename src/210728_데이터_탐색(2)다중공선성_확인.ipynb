{
  "nbformat": 4,
  "nbformat_minor": 0,
  "metadata": {
    "colab": {
      "name": "210728_데이터 탐색(2)다중공선성 확인.ipynb",
      "provenance": [],
      "collapsed_sections": [
        "HgQ7S9C5GCcf",
        "89IPiKdpKT91"
      ],
      "mount_file_id": "1Icgkw0BbFajmQGG6oyrZSSs_qAS1paES",
      "authorship_tag": "ABX9TyOTGvI7fEklO9J4efuAYEsb",
      "include_colab_link": true
    },
    "kernelspec": {
      "name": "python3",
      "display_name": "Python 3"
    },
    "language_info": {
      "name": "python"
    },
    "accelerator": "GPU"
  },
  "cells": [
    {
      "cell_type": "markdown",
      "metadata": {
        "id": "view-in-github",
        "colab_type": "text"
      },
      "source": [
        "<a href=\"https://colab.research.google.com/github/ammobam/Display_SensorData/blob/main/210728_%EB%8D%B0%EC%9D%B4%ED%84%B0_%ED%83%90%EC%83%89(2)%EB%8B%A4%EC%A4%91%EA%B3%B5%EC%84%A0%EC%84%B1_%ED%99%95%EC%9D%B8.ipynb\" target=\"_parent\"><img src=\"https://colab.research.google.com/assets/colab-badge.svg\" alt=\"Open In Colab\"/></a>"
      ]
    },
    {
      "cell_type": "markdown",
      "metadata": {
        "id": "W6BXY3gL8BvT"
      },
      "source": [
        "# Github project\n",
        "- 조장이 만든 프로젝트 레포지토리 Fork 해오기\n",
        "- 각자 branch 생성해서 작업\n",
        "- 작업 후 pull request 요청\n",
        "- 프로젝트 관리자가 승인하고 merge\n",
        "- 다른 작업자는 새로 fork해와서 확인 가능함\n",
        "\n",
        "## 주의사항\n",
        "- 변수명 통일 필요함\n",
        "---"
      ]
    },
    {
      "cell_type": "markdown",
      "metadata": {
        "id": "lwLfs7xuwbQ7"
      },
      "source": [
        "# **디스플레이 생산라인 센서 데이터 분석\n",
        "\n",
        "## 주제 : 불량품에 영향을 주는 요인 찾기\n",
        "- 결과 : \"ㅇㅇ센서에서 ㅁㅁ면 불량품\"\n",
        "1. 주요 요인 피처 5개 추출\n",
        "2. 불량품/양품 구분하는 모델도 찾아야 함\n",
        "\n",
        "\n",
        "- 머신러닝 이용\n",
        "---"
      ]
    },
    {
      "cell_type": "markdown",
      "metadata": {
        "id": "CU5Dq_t7aroO"
      },
      "source": [
        "# 210728_데이터 탐색"
      ]
    },
    {
      "cell_type": "markdown",
      "metadata": {
        "id": "R4XMT-m79bnE"
      },
      "source": [
        "## 데이터 불러오기"
      ]
    },
    {
      "cell_type": "code",
      "metadata": {
        "colab": {
          "base_uri": "https://localhost:8080/",
          "height": 399
        },
        "id": "i2pgoOhbdf3y",
        "outputId": "8683cc0d-9141-44f2-ac98-7f1c03d9a00f"
      },
      "source": [
        "# 데이터 불러오기\n",
        "import pandas as pd\n",
        "df_origin = pd.read_csv('/content/drive/MyDrive/나무플래닛/1. 데이터_디스플레이/factory_glass_2016.zip', encoding='cp949')\n",
        "\n",
        "# 데이터 확인\n",
        "df_origin.info()\n",
        "    ## 데이터는 대부분 숫자형, 1개 컬럼만 문자형(object) 데이터\n",
        "    ## 841개 컬럼 * 8145개 행\n",
        "\n",
        "df_origin.head(5)\n",
        "## 각 행은 한 시간 간격으로 생산한 디스플레이의 센서 데이터 ??"
      ],
      "execution_count": 1,
      "outputs": [
        {
          "output_type": "stream",
          "text": [
            "<class 'pandas.core.frame.DataFrame'>\n",
            "RangeIndex: 8145 entries, 0 to 8144\n",
            "Columns: 841 entries, dat...date.name. to R.Vac\n",
            "dtypes: float64(834), int64(6), object(1)\n",
            "memory usage: 52.3+ MB\n"
          ],
          "name": "stdout"
        },
        {
          "output_type": "execute_result",
          "data": {
            "text/html": [
              "<div>\n",
              "<style scoped>\n",
              "    .dataframe tbody tr th:only-of-type {\n",
              "        vertical-align: middle;\n",
              "    }\n",
              "\n",
              "    .dataframe tbody tr th {\n",
              "        vertical-align: top;\n",
              "    }\n",
              "\n",
              "    .dataframe thead th {\n",
              "        text-align: right;\n",
              "    }\n",
              "</style>\n",
              "<table border=\"1\" class=\"dataframe\">\n",
              "  <thead>\n",
              "    <tr style=\"text-align: right;\">\n",
              "      <th></th>\n",
              "      <th>dat...date.name.</th>\n",
              "      <th>LIFT.OUT.ROL.MTR.M1.SPD.1WSI40101</th>\n",
              "      <th>LIFT.OUT.ROL.MTR.M2.SPD.1WSI40102</th>\n",
              "      <th>LIFT.OUT.ROL.MTR.M3.SPD.1WSI40103</th>\n",
              "      <th>LEHR.DRV.MTR..M4.1.SPD.1WSI40104</th>\n",
              "      <th>LEHR.DRV.MTR..M4.2.SPD.1WSI40105</th>\n",
              "      <th>LEHR.DRV.MTR..M5.1.SPD.1WSI40106</th>\n",
              "      <th>LEHR.DRV.MTR..M5.2.SPD.1WSI40107</th>\n",
              "      <th>LEHR.DRV.MTR..M6.1.SPD.1WSI40108</th>\n",
              "      <th>LEHR.DRV.MTR..M6.2.SPD.1WSI40109</th>\n",
              "      <th>LEHR.DRV.MTR..M7.1.SPD.1WSI40110</th>\n",
              "      <th>LEHR.DRV.MTR..M7.2.SPD.1WSI40111</th>\n",
              "      <th>LEHR.DRV.MTR..M8.1.SPD.1WSI40112</th>\n",
              "      <th>LEHR.DRV.MTR..M8.2.SPD.1WSI40113</th>\n",
              "      <th>LEHR.DRV.MTR..M9.1.SPD.1WSI40114</th>\n",
              "      <th>LEHR.DRV.MTR..M9.2.SPD.1WSI40115</th>\n",
              "      <th>DRIVE.MOTOR.M10.1.SPEED.1WSI40116</th>\n",
              "      <th>LEHR.DRV.MTR..M10.2.SPD.1WSI40117</th>\n",
              "      <th>LEHR.DRV.MTR..M11.1.SPD.1WSI40118</th>\n",
              "      <th>DRIVE.MOTOR.M11.2.SPEED.1WSI40119</th>\n",
              "      <th>LEHR.DRV.MTR..M12.1.SPD.1WSI40120</th>\n",
              "      <th>LEHR.DRV.MTR..M12.2.SPD.1WSI40121</th>\n",
              "      <th>LEHR.DRV.MTR..M13.1.SPD.1WSI40122</th>\n",
              "      <th>LEHR.DRV.MTR..M13.2.SPD.1WSI40123</th>\n",
              "      <th>LEHR.DRV.MTR..M14.1.SPD.1WSI40124</th>\n",
              "      <th>LEHR.DRV.MTR..M14.2.SPD.1WSI40125</th>\n",
              "      <th>LEHR.DRV.MTR..M15.1.SPD.1WSI40126</th>\n",
              "      <th>LEHR.DRV.MTR..M15.2.SPD.1WSI40127</th>\n",
              "      <th>LEHR.DRV.MTR..M16.1.SPD.1WSI40128</th>\n",
              "      <th>DRIVE.MOTOR.M16.2.SPEED.1WSI40129</th>\n",
              "      <th>LEHR.DRV.MTR..M17.1.SPD.1WSI40130</th>\n",
              "      <th>LEHR.DRV.MTR..M17.2.SPD.1WSI40131</th>\n",
              "      <th>LEHR.DRV.MTR..M18.1.SPD.1WSI40132</th>\n",
              "      <th>LEHR.DRV.MTR..M18.2.SPD.1WSI40133</th>\n",
              "      <th>DRIVE.MOTOR.M19.1.SPEED.1WSI40134</th>\n",
              "      <th>LEHR.DRV.MTR..M19.2.SPD.1WSI40135</th>\n",
              "      <th>X1WOS45101_PV</th>\n",
              "      <th>X1WOS45102_PV</th>\n",
              "      <th>X1WOS45103_PV</th>\n",
              "      <th>X1WOS45104_PV</th>\n",
              "      <th>...</th>\n",
              "      <th>S_C1_C2_L_L</th>\n",
              "      <th>S_C1_C2_L_R</th>\n",
              "      <th>S_C2_C3_U_L</th>\n",
              "      <th>S_C2_C3_U_R</th>\n",
              "      <th>S_C2_C3_L_L</th>\n",
              "      <th>S_C2_C3_L_R</th>\n",
              "      <th>S_C3_C4_U_L</th>\n",
              "      <th>S_C3_C4_U_R</th>\n",
              "      <th>S_C3_C4_L_L</th>\n",
              "      <th>S_C3_C4_L_R</th>\n",
              "      <th>S_AB1_AB11_L</th>\n",
              "      <th>S_AB1_AB11_R</th>\n",
              "      <th>S_AB11_AB7_L</th>\n",
              "      <th>S_AB11_AB7_R</th>\n",
              "      <th>S_AB7_C4_L</th>\n",
              "      <th>S_AB7_C4_R</th>\n",
              "      <th>S_C4_RET_L</th>\n",
              "      <th>S_C4_RET_R</th>\n",
              "      <th>S_RET_F_L</th>\n",
              "      <th>S_RET_F_R</th>\n",
              "      <th>STD_U_L</th>\n",
              "      <th>STD_U_R</th>\n",
              "      <th>STD_L_L</th>\n",
              "      <th>STD_L_R</th>\n",
              "      <th>STD_GLS_L</th>\n",
              "      <th>STD_GLS_R</th>\n",
              "      <th>투입.LEFT.</th>\n",
              "      <th>투입.RIGHT.</th>\n",
              "      <th>ROLLDOWN.폐기.LEFT.</th>\n",
              "      <th>진공패드.폐기.LEFT.</th>\n",
              "      <th>ROLLDOWN.폐기.RIGHT.</th>\n",
              "      <th>진공패드.폐기.RIGHT.</th>\n",
              "      <th>폐기율...</th>\n",
              "      <th>ROLLDOWN.진공패드.폐기율..LEFT.</th>\n",
              "      <th>ROLLDOWN.진공패드.폐기율..RIGHT.</th>\n",
              "      <th>ROLLDOWN.진공패드.폐기율..전체.</th>\n",
              "      <th>L.RD</th>\n",
              "      <th>L.Vac</th>\n",
              "      <th>R.RD</th>\n",
              "      <th>R.Vac</th>\n",
              "    </tr>\n",
              "  </thead>\n",
              "  <tbody>\n",
              "    <tr>\n",
              "      <th>0</th>\n",
              "      <td>2016-01-01 07</td>\n",
              "      <td>-1.772682</td>\n",
              "      <td>-1.713219</td>\n",
              "      <td>-1.734851</td>\n",
              "      <td>-1.590051</td>\n",
              "      <td>-1.636293</td>\n",
              "      <td>-1.575213</td>\n",
              "      <td>-1.636293</td>\n",
              "      <td>-1.548119</td>\n",
              "      <td>-1.824581</td>\n",
              "      <td>-1.548119</td>\n",
              "      <td>-1.8189</td>\n",
              "      <td>-1.548119</td>\n",
              "      <td>-1.779407</td>\n",
              "      <td>-1.548119</td>\n",
              "      <td>-1.779407</td>\n",
              "      <td>-1.548119</td>\n",
              "      <td>-1.806012</td>\n",
              "      <td>-1.548119</td>\n",
              "      <td>-1.775051</td>\n",
              "      <td>-1.548119</td>\n",
              "      <td>-1.776634</td>\n",
              "      <td>-1.548119</td>\n",
              "      <td>-1.766604</td>\n",
              "      <td>-1.548119</td>\n",
              "      <td>-1.775051</td>\n",
              "      <td>-1.638207</td>\n",
              "      <td>-1.728206</td>\n",
              "      <td>-1.674911</td>\n",
              "      <td>-1.641818</td>\n",
              "      <td>-1.662151</td>\n",
              "      <td>-1.636293</td>\n",
              "      <td>-1.622314</td>\n",
              "      <td>-1.653428</td>\n",
              "      <td>-1.548119</td>\n",
              "      <td>-1.807954</td>\n",
              "      <td>-1.73</td>\n",
              "      <td>-1.315444</td>\n",
              "      <td>-1.620631</td>\n",
              "      <td>-1.517655</td>\n",
              "      <td>...</td>\n",
              "      <td>-0.195736</td>\n",
              "      <td>0.706941</td>\n",
              "      <td>1.477203</td>\n",
              "      <td>0.410847</td>\n",
              "      <td>0.491620</td>\n",
              "      <td>0.942180</td>\n",
              "      <td>2.776941</td>\n",
              "      <td>2.492437</td>\n",
              "      <td>2.060406</td>\n",
              "      <td>2.612283</td>\n",
              "      <td>1.726404</td>\n",
              "      <td>1.461145</td>\n",
              "      <td>-1.192642</td>\n",
              "      <td>-1.134471</td>\n",
              "      <td>2.599429</td>\n",
              "      <td>2.690433</td>\n",
              "      <td>-0.365598</td>\n",
              "      <td>-0.659319</td>\n",
              "      <td>-1.963403</td>\n",
              "      <td>-1.621407</td>\n",
              "      <td>0.523950</td>\n",
              "      <td>1.951349</td>\n",
              "      <td>2.248106</td>\n",
              "      <td>2.767676</td>\n",
              "      <td>3.012706</td>\n",
              "      <td>3.069007</td>\n",
              "      <td>80</td>\n",
              "      <td>74</td>\n",
              "      <td>2</td>\n",
              "      <td>5</td>\n",
              "      <td>8</td>\n",
              "      <td>3</td>\n",
              "      <td>11.69</td>\n",
              "      <td>8.75</td>\n",
              "      <td>14.86</td>\n",
              "      <td>11.69</td>\n",
              "      <td>0.025</td>\n",
              "      <td>0.063</td>\n",
              "      <td>0.108</td>\n",
              "      <td>0.041</td>\n",
              "    </tr>\n",
              "    <tr>\n",
              "      <th>1</th>\n",
              "      <td>2016-01-01 08</td>\n",
              "      <td>-1.772682</td>\n",
              "      <td>-1.713219</td>\n",
              "      <td>-1.734851</td>\n",
              "      <td>-1.590051</td>\n",
              "      <td>-1.636293</td>\n",
              "      <td>-1.575213</td>\n",
              "      <td>-1.636293</td>\n",
              "      <td>-1.548119</td>\n",
              "      <td>-1.824581</td>\n",
              "      <td>-1.548119</td>\n",
              "      <td>-1.8189</td>\n",
              "      <td>-1.548119</td>\n",
              "      <td>-1.779407</td>\n",
              "      <td>-1.548119</td>\n",
              "      <td>-1.779407</td>\n",
              "      <td>-1.548119</td>\n",
              "      <td>-1.806012</td>\n",
              "      <td>-1.548119</td>\n",
              "      <td>-1.775051</td>\n",
              "      <td>-1.548119</td>\n",
              "      <td>-1.776634</td>\n",
              "      <td>-1.548119</td>\n",
              "      <td>-1.766604</td>\n",
              "      <td>-1.548119</td>\n",
              "      <td>-1.775051</td>\n",
              "      <td>-1.638207</td>\n",
              "      <td>-1.728206</td>\n",
              "      <td>-1.674911</td>\n",
              "      <td>-1.641818</td>\n",
              "      <td>-1.662151</td>\n",
              "      <td>-1.636293</td>\n",
              "      <td>-1.622314</td>\n",
              "      <td>-1.653428</td>\n",
              "      <td>-1.548119</td>\n",
              "      <td>-1.807954</td>\n",
              "      <td>-1.73</td>\n",
              "      <td>-1.315444</td>\n",
              "      <td>-1.620631</td>\n",
              "      <td>-1.517655</td>\n",
              "      <td>...</td>\n",
              "      <td>-0.500742</td>\n",
              "      <td>0.822657</td>\n",
              "      <td>1.495204</td>\n",
              "      <td>0.397591</td>\n",
              "      <td>0.587871</td>\n",
              "      <td>0.938186</td>\n",
              "      <td>2.888919</td>\n",
              "      <td>2.573187</td>\n",
              "      <td>2.161149</td>\n",
              "      <td>2.664726</td>\n",
              "      <td>1.682081</td>\n",
              "      <td>1.414518</td>\n",
              "      <td>-1.109125</td>\n",
              "      <td>-1.042269</td>\n",
              "      <td>2.588703</td>\n",
              "      <td>2.654307</td>\n",
              "      <td>-0.348979</td>\n",
              "      <td>-0.560103</td>\n",
              "      <td>-1.978936</td>\n",
              "      <td>-1.810022</td>\n",
              "      <td>0.566521</td>\n",
              "      <td>2.010125</td>\n",
              "      <td>2.364418</td>\n",
              "      <td>2.842630</td>\n",
              "      <td>3.022998</td>\n",
              "      <td>3.069274</td>\n",
              "      <td>92</td>\n",
              "      <td>75</td>\n",
              "      <td>0</td>\n",
              "      <td>2</td>\n",
              "      <td>10</td>\n",
              "      <td>0</td>\n",
              "      <td>7.19</td>\n",
              "      <td>2.17</td>\n",
              "      <td>13.33</td>\n",
              "      <td>7.19</td>\n",
              "      <td>0.000</td>\n",
              "      <td>0.022</td>\n",
              "      <td>0.133</td>\n",
              "      <td>0.000</td>\n",
              "    </tr>\n",
              "    <tr>\n",
              "      <th>2</th>\n",
              "      <td>2016-01-01 09</td>\n",
              "      <td>-1.772682</td>\n",
              "      <td>-1.713219</td>\n",
              "      <td>-1.734851</td>\n",
              "      <td>-1.590051</td>\n",
              "      <td>-1.636293</td>\n",
              "      <td>-1.575213</td>\n",
              "      <td>-1.636293</td>\n",
              "      <td>-1.548119</td>\n",
              "      <td>-1.824581</td>\n",
              "      <td>-1.548119</td>\n",
              "      <td>-1.8189</td>\n",
              "      <td>-1.548119</td>\n",
              "      <td>-1.779407</td>\n",
              "      <td>-1.548119</td>\n",
              "      <td>-1.779407</td>\n",
              "      <td>-1.548119</td>\n",
              "      <td>-1.806012</td>\n",
              "      <td>-1.548119</td>\n",
              "      <td>-1.775051</td>\n",
              "      <td>-1.548119</td>\n",
              "      <td>-1.776634</td>\n",
              "      <td>-1.548119</td>\n",
              "      <td>-1.766604</td>\n",
              "      <td>-1.548119</td>\n",
              "      <td>-1.775051</td>\n",
              "      <td>-1.638207</td>\n",
              "      <td>-1.728206</td>\n",
              "      <td>-1.674911</td>\n",
              "      <td>-1.641818</td>\n",
              "      <td>-1.662151</td>\n",
              "      <td>-1.636293</td>\n",
              "      <td>-1.622314</td>\n",
              "      <td>-1.653428</td>\n",
              "      <td>-1.548119</td>\n",
              "      <td>-1.807954</td>\n",
              "      <td>-1.73</td>\n",
              "      <td>-1.315444</td>\n",
              "      <td>-1.620631</td>\n",
              "      <td>-1.517655</td>\n",
              "      <td>...</td>\n",
              "      <td>-0.164556</td>\n",
              "      <td>0.962210</td>\n",
              "      <td>1.552127</td>\n",
              "      <td>0.460702</td>\n",
              "      <td>0.397216</td>\n",
              "      <td>0.843443</td>\n",
              "      <td>2.868644</td>\n",
              "      <td>2.486441</td>\n",
              "      <td>2.183298</td>\n",
              "      <td>2.638130</td>\n",
              "      <td>1.632955</td>\n",
              "      <td>1.359022</td>\n",
              "      <td>-0.986580</td>\n",
              "      <td>-0.928583</td>\n",
              "      <td>2.550175</td>\n",
              "      <td>2.606185</td>\n",
              "      <td>-0.456071</td>\n",
              "      <td>-0.644073</td>\n",
              "      <td>-1.878611</td>\n",
              "      <td>-1.742395</td>\n",
              "      <td>0.545936</td>\n",
              "      <td>2.002820</td>\n",
              "      <td>2.397034</td>\n",
              "      <td>2.817728</td>\n",
              "      <td>2.936967</td>\n",
              "      <td>2.969952</td>\n",
              "      <td>64</td>\n",
              "      <td>66</td>\n",
              "      <td>1</td>\n",
              "      <td>4</td>\n",
              "      <td>0</td>\n",
              "      <td>0</td>\n",
              "      <td>3.85</td>\n",
              "      <td>7.81</td>\n",
              "      <td>0.00</td>\n",
              "      <td>3.85</td>\n",
              "      <td>0.016</td>\n",
              "      <td>0.063</td>\n",
              "      <td>0.000</td>\n",
              "      <td>0.000</td>\n",
              "    </tr>\n",
              "    <tr>\n",
              "      <th>3</th>\n",
              "      <td>2016-01-01 10</td>\n",
              "      <td>-1.772682</td>\n",
              "      <td>-1.713219</td>\n",
              "      <td>-1.734851</td>\n",
              "      <td>-1.590051</td>\n",
              "      <td>-1.636293</td>\n",
              "      <td>-1.575213</td>\n",
              "      <td>-1.636293</td>\n",
              "      <td>-1.548119</td>\n",
              "      <td>-1.824581</td>\n",
              "      <td>-1.548119</td>\n",
              "      <td>-1.8189</td>\n",
              "      <td>-1.548119</td>\n",
              "      <td>-1.779407</td>\n",
              "      <td>-1.548119</td>\n",
              "      <td>-1.779407</td>\n",
              "      <td>-1.548119</td>\n",
              "      <td>-1.806012</td>\n",
              "      <td>-1.548119</td>\n",
              "      <td>-1.775051</td>\n",
              "      <td>-1.548119</td>\n",
              "      <td>-1.776634</td>\n",
              "      <td>-1.548119</td>\n",
              "      <td>-1.766604</td>\n",
              "      <td>-1.548119</td>\n",
              "      <td>-1.775051</td>\n",
              "      <td>-1.638207</td>\n",
              "      <td>-1.728206</td>\n",
              "      <td>-1.674911</td>\n",
              "      <td>-1.641818</td>\n",
              "      <td>-1.662151</td>\n",
              "      <td>-1.636293</td>\n",
              "      <td>-1.622314</td>\n",
              "      <td>-1.653428</td>\n",
              "      <td>-1.548119</td>\n",
              "      <td>-1.807954</td>\n",
              "      <td>-1.73</td>\n",
              "      <td>-1.315444</td>\n",
              "      <td>-1.620631</td>\n",
              "      <td>-1.517655</td>\n",
              "      <td>...</td>\n",
              "      <td>-0.824056</td>\n",
              "      <td>0.686628</td>\n",
              "      <td>1.586571</td>\n",
              "      <td>0.411229</td>\n",
              "      <td>0.878934</td>\n",
              "      <td>1.019915</td>\n",
              "      <td>2.834358</td>\n",
              "      <td>2.354249</td>\n",
              "      <td>2.199586</td>\n",
              "      <td>2.623425</td>\n",
              "      <td>1.563766</td>\n",
              "      <td>1.253063</td>\n",
              "      <td>-0.885353</td>\n",
              "      <td>-0.860442</td>\n",
              "      <td>2.518261</td>\n",
              "      <td>2.551495</td>\n",
              "      <td>-0.463717</td>\n",
              "      <td>-0.585540</td>\n",
              "      <td>-1.863727</td>\n",
              "      <td>-1.845004</td>\n",
              "      <td>0.549254</td>\n",
              "      <td>2.047995</td>\n",
              "      <td>2.399854</td>\n",
              "      <td>2.810619</td>\n",
              "      <td>2.876398</td>\n",
              "      <td>2.914596</td>\n",
              "      <td>68</td>\n",
              "      <td>73</td>\n",
              "      <td>0</td>\n",
              "      <td>7</td>\n",
              "      <td>0</td>\n",
              "      <td>0</td>\n",
              "      <td>4.96</td>\n",
              "      <td>10.29</td>\n",
              "      <td>0.00</td>\n",
              "      <td>4.96</td>\n",
              "      <td>0.000</td>\n",
              "      <td>0.103</td>\n",
              "      <td>0.000</td>\n",
              "      <td>0.000</td>\n",
              "    </tr>\n",
              "    <tr>\n",
              "      <th>4</th>\n",
              "      <td>2016-01-01 11</td>\n",
              "      <td>-1.772682</td>\n",
              "      <td>-1.713219</td>\n",
              "      <td>-1.734851</td>\n",
              "      <td>-1.590051</td>\n",
              "      <td>-1.636293</td>\n",
              "      <td>-1.575213</td>\n",
              "      <td>-1.636293</td>\n",
              "      <td>-1.548119</td>\n",
              "      <td>-1.824581</td>\n",
              "      <td>-1.548119</td>\n",
              "      <td>-1.8189</td>\n",
              "      <td>-1.548119</td>\n",
              "      <td>-1.779407</td>\n",
              "      <td>-1.548119</td>\n",
              "      <td>-1.779407</td>\n",
              "      <td>-1.548119</td>\n",
              "      <td>-1.806012</td>\n",
              "      <td>-1.548119</td>\n",
              "      <td>-1.775051</td>\n",
              "      <td>-1.548119</td>\n",
              "      <td>-1.776634</td>\n",
              "      <td>-1.548119</td>\n",
              "      <td>-1.766604</td>\n",
              "      <td>-1.548119</td>\n",
              "      <td>-1.775051</td>\n",
              "      <td>-1.638207</td>\n",
              "      <td>-1.728206</td>\n",
              "      <td>-1.674911</td>\n",
              "      <td>-1.641818</td>\n",
              "      <td>-1.662151</td>\n",
              "      <td>-1.636293</td>\n",
              "      <td>-1.622314</td>\n",
              "      <td>-1.653428</td>\n",
              "      <td>-1.548119</td>\n",
              "      <td>-1.807954</td>\n",
              "      <td>-1.73</td>\n",
              "      <td>-1.315444</td>\n",
              "      <td>-1.620631</td>\n",
              "      <td>-1.517655</td>\n",
              "      <td>...</td>\n",
              "      <td>-0.504655</td>\n",
              "      <td>0.954654</td>\n",
              "      <td>1.540081</td>\n",
              "      <td>0.393697</td>\n",
              "      <td>0.795806</td>\n",
              "      <td>0.917465</td>\n",
              "      <td>2.852398</td>\n",
              "      <td>2.365165</td>\n",
              "      <td>2.159633</td>\n",
              "      <td>2.582810</td>\n",
              "      <td>1.476850</td>\n",
              "      <td>1.144747</td>\n",
              "      <td>-0.852229</td>\n",
              "      <td>-0.821249</td>\n",
              "      <td>2.521009</td>\n",
              "      <td>2.541783</td>\n",
              "      <td>-0.421995</td>\n",
              "      <td>-0.580300</td>\n",
              "      <td>-1.903504</td>\n",
              "      <td>-1.781370</td>\n",
              "      <td>0.610913</td>\n",
              "      <td>2.101178</td>\n",
              "      <td>2.379341</td>\n",
              "      <td>2.797094</td>\n",
              "      <td>2.858177</td>\n",
              "      <td>2.873929</td>\n",
              "      <td>36</td>\n",
              "      <td>35</td>\n",
              "      <td>0</td>\n",
              "      <td>0</td>\n",
              "      <td>0</td>\n",
              "      <td>0</td>\n",
              "      <td>0.00</td>\n",
              "      <td>0.00</td>\n",
              "      <td>0.00</td>\n",
              "      <td>0.00</td>\n",
              "      <td>0.000</td>\n",
              "      <td>0.000</td>\n",
              "      <td>0.000</td>\n",
              "      <td>0.000</td>\n",
              "    </tr>\n",
              "  </tbody>\n",
              "</table>\n",
              "<p>5 rows × 841 columns</p>\n",
              "</div>"
            ],
            "text/plain": [
              "  dat...date.name.  LIFT.OUT.ROL.MTR.M1.SPD.1WSI40101  ...   R.RD  R.Vac\n",
              "0    2016-01-01 07                          -1.772682  ...  0.108  0.041\n",
              "1    2016-01-01 08                          -1.772682  ...  0.133  0.000\n",
              "2    2016-01-01 09                          -1.772682  ...  0.000  0.000\n",
              "3    2016-01-01 10                          -1.772682  ...  0.000  0.000\n",
              "4    2016-01-01 11                          -1.772682  ...  0.000  0.000\n",
              "\n",
              "[5 rows x 841 columns]"
            ]
          },
          "metadata": {
            "tags": []
          },
          "execution_count": 1
        }
      ]
    },
    {
      "cell_type": "code",
      "metadata": {
        "colab": {
          "base_uri": "https://localhost:8080/",
          "height": 223
        },
        "id": "ePgIaYAM8Mjd",
        "outputId": "5adc53b3-59a2-43e5-be03-17921d765a3a"
      },
      "source": [
        "# 데이터 확인\n",
        "df_origin.iloc[:, -10:].head(5)"
      ],
      "execution_count": 2,
      "outputs": [
        {
          "output_type": "execute_result",
          "data": {
            "text/html": [
              "<div>\n",
              "<style scoped>\n",
              "    .dataframe tbody tr th:only-of-type {\n",
              "        vertical-align: middle;\n",
              "    }\n",
              "\n",
              "    .dataframe tbody tr th {\n",
              "        vertical-align: top;\n",
              "    }\n",
              "\n",
              "    .dataframe thead th {\n",
              "        text-align: right;\n",
              "    }\n",
              "</style>\n",
              "<table border=\"1\" class=\"dataframe\">\n",
              "  <thead>\n",
              "    <tr style=\"text-align: right;\">\n",
              "      <th></th>\n",
              "      <th>ROLLDOWN.폐기.RIGHT.</th>\n",
              "      <th>진공패드.폐기.RIGHT.</th>\n",
              "      <th>폐기율...</th>\n",
              "      <th>ROLLDOWN.진공패드.폐기율..LEFT.</th>\n",
              "      <th>ROLLDOWN.진공패드.폐기율..RIGHT.</th>\n",
              "      <th>ROLLDOWN.진공패드.폐기율..전체.</th>\n",
              "      <th>L.RD</th>\n",
              "      <th>L.Vac</th>\n",
              "      <th>R.RD</th>\n",
              "      <th>R.Vac</th>\n",
              "    </tr>\n",
              "  </thead>\n",
              "  <tbody>\n",
              "    <tr>\n",
              "      <th>0</th>\n",
              "      <td>8</td>\n",
              "      <td>3</td>\n",
              "      <td>11.69</td>\n",
              "      <td>8.75</td>\n",
              "      <td>14.86</td>\n",
              "      <td>11.69</td>\n",
              "      <td>0.025</td>\n",
              "      <td>0.063</td>\n",
              "      <td>0.108</td>\n",
              "      <td>0.041</td>\n",
              "    </tr>\n",
              "    <tr>\n",
              "      <th>1</th>\n",
              "      <td>10</td>\n",
              "      <td>0</td>\n",
              "      <td>7.19</td>\n",
              "      <td>2.17</td>\n",
              "      <td>13.33</td>\n",
              "      <td>7.19</td>\n",
              "      <td>0.000</td>\n",
              "      <td>0.022</td>\n",
              "      <td>0.133</td>\n",
              "      <td>0.000</td>\n",
              "    </tr>\n",
              "    <tr>\n",
              "      <th>2</th>\n",
              "      <td>0</td>\n",
              "      <td>0</td>\n",
              "      <td>3.85</td>\n",
              "      <td>7.81</td>\n",
              "      <td>0.00</td>\n",
              "      <td>3.85</td>\n",
              "      <td>0.016</td>\n",
              "      <td>0.063</td>\n",
              "      <td>0.000</td>\n",
              "      <td>0.000</td>\n",
              "    </tr>\n",
              "    <tr>\n",
              "      <th>3</th>\n",
              "      <td>0</td>\n",
              "      <td>0</td>\n",
              "      <td>4.96</td>\n",
              "      <td>10.29</td>\n",
              "      <td>0.00</td>\n",
              "      <td>4.96</td>\n",
              "      <td>0.000</td>\n",
              "      <td>0.103</td>\n",
              "      <td>0.000</td>\n",
              "      <td>0.000</td>\n",
              "    </tr>\n",
              "    <tr>\n",
              "      <th>4</th>\n",
              "      <td>0</td>\n",
              "      <td>0</td>\n",
              "      <td>0.00</td>\n",
              "      <td>0.00</td>\n",
              "      <td>0.00</td>\n",
              "      <td>0.00</td>\n",
              "      <td>0.000</td>\n",
              "      <td>0.000</td>\n",
              "      <td>0.000</td>\n",
              "      <td>0.000</td>\n",
              "    </tr>\n",
              "  </tbody>\n",
              "</table>\n",
              "</div>"
            ],
            "text/plain": [
              "   ROLLDOWN.폐기.RIGHT.  진공패드.폐기.RIGHT.  폐기율...  ...  L.Vac   R.RD  R.Vac\n",
              "0                   8               3   11.69  ...  0.063  0.108  0.041\n",
              "1                  10               0    7.19  ...  0.022  0.133  0.000\n",
              "2                   0               0    3.85  ...  0.063  0.000  0.000\n",
              "3                   0               0    4.96  ...  0.103  0.000  0.000\n",
              "4                   0               0    0.00  ...  0.000  0.000  0.000\n",
              "\n",
              "[5 rows x 10 columns]"
            ]
          },
          "metadata": {
            "tags": []
          },
          "execution_count": 2
        }
      ]
    },
    {
      "cell_type": "markdown",
      "metadata": {
        "id": "HgQ7S9C5GCcf"
      },
      "source": [
        "## 이름이 비슷한 컬럼끼리 상관관계 확인\n",
        "* 데이터의 컬럼이름을 확인해보니 앞 10글자가 같은 데이터가 다수 존재함\n",
        "* 이름이 비슷한 컬럼들은 서로 종속성이 높은 데이터일 것으로 생각함 --> 확인\n",
        "\n",
        "### 다중공선성\n",
        "* 머신러닝에서 피처간 종속성이 높은 경우 다중공선성 문제가 발생함\n",
        "* 다중공선성이 높은 피처들의 영향력이 크게 반영되기 때문에 회귀모델에 부정적인 영향을 줌\n",
        "* 따라서 피처간 상관계수가 높은 경우 해당 피처의 영향력을 낮게 반영하도록 해야 함\n",
        "    * 상관계수 0.4 이상 : 약한 상관관계가 있음\n",
        "    * 상관계수 0.6 이상 : 상관관계가 있음\n",
        "    * 상관계수 0.7 이상 : 강한 상관관계가 있음\n"
      ]
    },
    {
      "cell_type": "markdown",
      "metadata": {
        "id": "89IPiKdpKT91"
      },
      "source": [
        "### 컬럼명-컬럼인덱스 딕셔너리 만들기"
      ]
    },
    {
      "cell_type": "code",
      "metadata": {
        "id": "jL2LpjRgd77C"
      },
      "source": [
        "# 컬럼이름 리스트로 만들기\n",
        "#print(type(df_origin.columns)) # 인덱스\n",
        "name_list = df_origin.columns.tolist()\n",
        "\n",
        "# 컬럼리스트 중 dat...date.name. 컬럼 제거\n",
        "## 숫자가 아닌 문자 데이터. 상관관계 연산 불가능\n",
        "name_list.remove('dat...date.name.')\n",
        "#print(name_list)\n",
        "\n",
        "# 컬럼이름에서 앞의 10글자만 모은 리스트 생성\n",
        "name_list_10=[]\n",
        "for name in name_list:\n",
        "    name = str(name)[:8]\n",
        "    name_list_10.append(name)\n",
        "#print(name_list_10)"
      ],
      "execution_count": null,
      "outputs": []
    },
    {
      "cell_type": "code",
      "metadata": {
        "id": "3OFVqsNylS7c",
        "colab": {
          "base_uri": "https://localhost:8080/"
        },
        "outputId": "260fb112-d2f4-4b75-bd0c-54548aedc3ba"
      },
      "source": [
        "\n",
        "\n",
        "\n",
        "\n",
        "# 컬럼이름(10글자)을 키, 각 컬럼의 인덱스를 값으로 하는 딕셔너리 생성\n",
        "## 컬럼이름(10글자)가 동일한 컬럼의 인덱스를 모아 볼 수 있으므로\n",
        "## 이름이 유사한 컬럼 집단의 개수, 각 집단에 속하는 컬럼의 수를 파악하기 쉬워짐\n",
        "\n",
        "# 빈 딕셔너리 생성\n",
        "name_dict = {}\n",
        "\n",
        " b  ?\n",
        "\n",
        " \n",
        "# 인덱스, 컬럼이름에 대해 반복\n",
        "for index, key in enumerate(name_list_10):\n",
        "    \n",
        "    #print(index) # 0-839까지. 원래 0번 컬럼인 'dat...date.name.' 삭제해서 컬럼 840개임    ##??\n",
        "    # 만약 key가 딕셔너리에 없으면 키, 인덱스 생성\n",
        "    if key not in name_dict:\n",
        "        name_dict[key] = [index]\n",
        "        ## 딕셔너리에 넣을 때 int가 아닌 list로 넣어야 함\n",
        "    \n",
        "    # 만약 key가 딕셔너리에 있으면 인덱스 추가\n",
        "    else :\n",
        "        name_dict[key].append(index)\n",
        "\n",
        "# 확인\n",
        "name_dict.keys()"
      ],
      "execution_count": null,
      "outputs": [
        {
          "output_type": "execute_result",
          "data": {
            "text/plain": [
              "dict_keys(['LIFT.OUT', 'LEHR.DRV', 'DRIVE.MO', 'X1WOS451', 'DCS_Offs', 'DAMP.POS', 'DB.N2.SC', 'N2.TO.EA', 'ROOF.HEA', 'ATM.FLOW', 'SEC11.N2', 'cluster', 'ML.Speed', 'Ribbon.S', 'Gross.wi', 'Left.edg', 'Right.ed', 'UPPER.AB', 'LOWER.AB', 'UPPER.C1', 'LOWER.C1', 'UPPER.C2', 'LOWER.C2', 'UPPER.C3', 'LOWER.C3', 'UPPER.C4', 'LOWER.C4', 'UPPER.RE', 'TMP.GLAS', 'TMP.TIN.', 'X.10.BAY', 'X.1.BAY.', 'X.7.BAY.', 'X.1.LEHR', 'X.2.LEHR', 'CASHING.', 'RET.AMBI', 'BATH.AMB', 'EXIT.LIP', 'E.L.DB.L', 'E.L.DB.R', 'N2.TO.HO', 'DROSS.BO', 'LEHR.AB1', 'DB.HEAT.', 'DB.BTM.U', 'DB.BTM.D', 'HOOD.N2.', 'DROSSBOX', 'ROOF.HT.', 'DDP.LEFT', 'SPOUT.LE', 'SPOUT.RI', 'ATM.N2.H', 'DDP.RIGH', 'LOR.1.L.', 'LOR.2.L.', 'LOR.3.L.', 'LOR.1.R.', 'LOR.2.R.', 'LOR.3.R.', 'bay1_2', 'bay2_4', 'bay4_5', 'bay5_6', 'bay6_7', 'bay7_8', 'l_r_tin_', 'l_tin_ba', 'r_tin_ba', 'bay_stre', 'l_r_glas', 'lc_rc_bt', 'le_re_bt', 'c_btm_up', 'rc_btm_u', 're_btm_u', 'l_top_n.', 'r_top_n.', 'l_r_top_', 'top_1', 'top_2', 'top_3', 'top_4', 'top_5', 'top_6', 'top_7', 'l_n.2_gl', 'r_n.2_gl', 'D_AB1_U_', 'D_AB1_L_', 'D_AB2_U_', 'D_AB2_L_', 'D_AB3_U_', 'D_AB3_L_', 'D_AB4_U_', 'D_AB4_L_', 'D_AB5_U_', 'D_AB5_L_', 'D_AB6_U_', 'D_AB6_L_', 'D_AB7_U_', 'D_AB7_L_', 'D_AB8_U_', 'D_AB8_L_', 'D_AB9_U_', 'D_AB9_L_', 'D_AB10_U', 'D_AB10_L', 'D_AB11_U', 'D_AB11_L', 'D_AB1_R_', 'D_AB2_R_', 'D_AB3_R_', 'D_AB4_R_', 'D_AB5_R_', 'D_AB6_R_', 'D_AB7_R_', 'D_AB8_R_', 'D_AB9_R_', 'D_AB10_R', 'D_AB11_R', 'D_C1_U_L', 'D_C1_L_L', 'D_C2_U_L', 'D_C2_L_L', 'D_C3_U_L', 'D_C3_L_L', 'D_C4_U_L', 'D_C4_L_L', 'D_C1_L_U', 'D_C1_R_U', 'D_C2_L_U', 'D_C2_R_U', 'D_C3_L_U', 'D_C3_R_U', 'D_C4_L_U', 'D_C4_R_U', 'D_GLS_AB', 'D_GLS_C4', 'D_GLS_F_', 'D_GLS_RE', 'S_AB1_AB', 'S_AB2_AB', 'S_AB3_AB', 'S_AB4_AB', 'S_AB5_AB', 'S_AB6_AB', 'S_AB7_AB', 'S_AB8_AB', 'S_AB9_AB', 'S_AB10_A', 'S_AB11_C', 'S_C1_C2_', 'S_C2_C3_', 'S_C3_C4_', 'S_AB11_A', 'S_AB7_C4', 'S_C4_RET', 'S_RET_F_', 'STD_U_L', 'STD_U_R', 'STD_L_L', 'STD_L_R', 'STD_GLS_', '투입.LEFT.', '투입.RIGHT', 'ROLLDOWN', '진공패드.폐기.', '폐기율...', 'L.RD', 'L.Vac', 'R.RD', 'R.Vac'])"
            ]
          },
          "metadata": {
            "tags": []
          },
          "execution_count": 34
        }
      ]
    },
    {
      "cell_type": "code",
      "metadata": {
        "colab": {
          "base_uri": "https://localhost:8080/"
        },
        "id": "Ak9ZD0ghew4h",
        "outputId": "bd75f485-9674-4b46-b006-773e8fa7b50e"
      },
      "source": [
        "# key(\n",
        "    \n",
        "    컬럼집단) 개수 : 246개\n",
        "len(name_dict)"
      ],
      "execution_count": null,
      "outputs": [
        {
          "output_type": "execute_result",
          "data": {
            "text/plain": [
              "174"
            ]
          },
          "metadata": {
            "tags": []
          },
          "execution_count": 35
        }
      ]
    },
    {
      "cell_type": "markdown",
      "metadata": {
        "id": "XpKZsnEq0MN0"
      },
      "source": [
        "### 컬럼집단('ATM.FLOW.S') 별 컬럼 간 상관계수 확인"
      ]
    },
    {
      "cell_type": "code",
      "metadata": {
        "id": "KWwDaEakmx50"
      },
      "source": [
        "# 'ATM.FLOW.S' 로 시작하는 컬럼 간의 상관계수 확인하기\n",
        "## 만약 이름이 유사한 컬럼 간 종속성이 높다면\n",
        "## 해당 컬럼 집단에서 하나만 골라 대표로 하고 전체 데이터에 대해 상관계수를 확인할 것\n",
        "\n",
        "# 'ATM.FLOW.S' 컬럼집단의 컬럼 인덱스 리스트\n",
        "col_atm = name_dict['LIFT.OUT']\n",
        "\n",
        "# 데이터에서 해당 컬럼만 추출하여 저장하기\n",
        "df = df_origin.iloc[:, col_atm]"
      ],
      "execution_count": null,
      "outputs": []
    },
    {
      "cell_type": "code",
      "metadata": {
        "id": "8Ui3FFkToPJw",
        "colab": {
          "base_uri": "https://localhost:8080/",
          "height": 908
        },
        "outputId": "214d5ac6-8901-4371-e669-47b2a7a87ec0"
      },
      "source": [
        "# 상관계수 데이터프레임을 배열로 저장\n",
        "corr_array = df.corr().to_numpy()\n",
        "#print(corr_array.shape)    # (26,26)\n",
        "\n",
        "# 시각화\n",
        "import seaborn as sns\n",
        "import matplotlib.pyplot as plt\n",
        "\n",
        "plt.figure(figsize=(16, 16))\n",
        "sns.set(font_scale=1.5)\n",
        "sns.heatmap(corr_array, cbar=True, square=True, fmt='.2f', annot=True,\n",
        "           annot_kws={'size':10}, yticklabels=col_atm, xticklabels=col_atm)\n",
        "plt.show()"
      ],
      "execution_count": null,
      "outputs": [
        {
          "output_type": "display_data",
          "data": {
            "image/png": "[encoded data removed]",
            "text/plain": [
              "<Figure size 1152x1152 with 2 Axes>"
            ]
          },
          "metadata": {
            "tags": []
          }
        }
      ]
    },
    {
      "cell_type": "markdown",
      "metadata": {
        "id": "T5B1Ujmr97ur"
      },
      "source": [
        "### 중간결론\n",
        "1. 'ATM.FLOW.S'로 시작하는 컬럼집단의 상관관계 확인 결과\n",
        "- 'ATM.FLOW.S'\n",
        "- 00, 500, 600 번대 센서데이터 있음\n",
        "- 상관계수가 0.6 이상으로 상관관계 높은 컬럼이 다수 존재함"
      ]
    },
    {
      "cell_type": "markdown",
      "metadata": {
        "id": "gzxQUHOc3Lc8"
      },
      "source": [
        "---\n",
        "<아래 '종속성이 높은 컬럼을 제외'하는 작업은 안 하기로 결정함>\n",
        "* 일부 컬럼간의 상관계수만 확인하고 종속성 높은 컬럼을 제거하는 것은 비약이 심함\n",
        "* A, B, C, ..., X, Y, Z의 컬럼이 있을 때\n",
        "* A가 B, C와의 종속성은 높지만 X, Y, Z와는 독립적일 때,\n",
        "* A를 제외하는 것은 데이터의 손실이 큼\n",
        "* 모든 컬럼 841*841을 비교하여 모든 컬럼에서 상관계수가 높게 나오지 않으면 제거하기 어려움\n",
        "---\n",
        "### !! 종속성 높은 컬럼을 제외한 컬럼이름 리스트 만들기\n",
        "* 모든 key(컬럼집단)에 대해 종속성 높은 컬럼을 제외한 컬럼이름 리스트 만들기\n",
        "1. 각 컬럼 집단 내 상관계수를 구함\n",
        "2. 피처간 종속성 낮은 컬럼이름 리스트 생성\n",
        "    - 종속성 낮은 컬럼 모두\n",
        "    - 종속성 높은 컬럼 중 1개 선택\n",
        "    - 기준 : 상관관계 0.6 이상이면 종속성 높음으로 이해 (먼저 등장한 컬럼을 선택)\n",
        "3. 해당 컬럼들로 데이터 탐색 진행\n",
        "    - 상관관계 분석, 기술통계량 분석 수행"
      ]
    },
    {
      "cell_type": "code",
      "metadata": {
        "colab": {
          "base_uri": "https://localhost:8080/"
        },
        "id": "USDW2TjM4qbF",
        "outputId": "11e6d556-3a4d-43c5-a8c4-d600a3baa09f"
      },
      "source": [
        "# 딕셔너리 키(컬럼집단) 이름을 리스트로 저장\n",
        "key_list = []\n",
        "for key in name_dict.keys():\n",
        "    key_list.append(key)\n",
        "print(key_list)"
      ],
      "execution_count": null,
      "outputs": [
        {
          "output_type": "stream",
          "text": [
            "['LIFT.OUT.R', 'LEHR.DRV.M', 'DRIVE.MOTO', 'X1WOS45101', 'X1WOS45102', 'X1WOS45103', 'X1WOS45104', 'X1WOS45105', 'X1WOS45106', 'X1WOS45107', 'X1WOS45108', 'X1WOS45109', 'X1WOS45110', 'DCS_Offset', 'DAMP.POSIT', 'DB.N2.SCRE', 'N2.TO.EA13', 'ROOF.HEATI', 'ATM.FLOW.S', 'SEC11.N2.1', 'SEC11.N2.H', 'cluster', 'ML.Speed', 'Ribbon.Spe', 'Gross.widt', 'Left.edge', 'Right.edge', 'UPPER.AB1.', 'LOWER.AB1.', 'UPPER.AB2.', 'LOWER.AB2.', 'UPPER.AB3.', 'LOWER.AB3.', 'UPPER.AB4.', 'LOWER.AB4.', 'UPPER.AB5.', 'LOWER.AB5.', 'UPPER.AB6.', 'LOWER.AB6.', 'UPPER.AB7.', 'LOWER.AB7.', 'UPPER.AB8.', 'LOWER.AB8.', 'UPPER.AB9.', 'LOWER.AB9.', 'UPPER.AB10', 'LOWER.AB10', 'UPPER.AB11', 'LOWER.AB11', 'UPPER.C1..', 'LOWER.C1..', 'UPPER.C2..', 'LOWER.C2..', 'UPPER.C3..', 'LOWER.C3..', 'UPPER.C4..', 'LOWER.C4..', 'UPPER.RET.', 'TMP.GLASS.', 'TMP.TIN..B', 'X.10.BAY.L', 'X.10.BAY.R', 'X.1.BAY.LE', 'X.1.BAY.RI', 'X.7.BAY.LE', 'X.7.BAY.RI', 'X.1.LEHR.S', 'X.1.LEHR.O', 'X.2.LEHR.S', 'X.2.LEHR.O', 'CASHING.CO', 'RET.AMBIAN', 'BATH.AMBIE', 'CASHING.BL', 'CASHING.HO', 'EXIT.LIP.P', 'E.L.DB.LEF', 'E.L.DB.RIG', 'N2.TO.HOOD', 'DROSS.BOX.', 'LEHR.AB1.P', 'DB.HEAT.TO', 'DB.HEAT.BT', 'DB.BTM.UP.', 'DB.BTM.DN.', 'HOOD.N2.TO', 'HOOD.N2.HE', 'DROSSBOX.N', 'DB.HEAT.BO', 'ROOF.HT.BA', 'DDP.LEFT.N', 'SPOUT.LEFT', 'SPOUT.RIGH', 'ATM.N2.H2.', 'DDP.RIGHT.', 'LOR.1.L.Ax', 'LOR.1.L.Ho', 'LOR.2.L.Ax', 'LOR.2.L.Ho', 'LOR.3.L.Ax', 'LOR.3.L.Ho', 'LOR.1.R.Ax', 'LOR.1.R.Ho', 'LOR.2.R.Ax', 'LOR.2.R.Ho', 'LOR.3.R.Ax', 'LOR.3.R.Ho', 'bay1_2', 'bay2_4', 'bay4_5', 'bay5_6', 'bay6_7', 'bay7_8', 'l_r_tin_ba', 'l_tin_bay_', 'r_tin_bay_', 'bay_stream', 'l_r_glass', 'lc_rc_btm_', 'le_re_btm_', 'c_btm_up_d', 'rc_btm_up_', 're_btm_up_', 'l_top_n.1_', 'r_top_n.1_', 'l_top_n.2_', 'r_top_n.2_', 'l_r_top_n.', 'top_1', 'top_2', 'top_3', 'top_4', 'top_5', 'top_6', 'top_7', 'l_n.2_glas', 'r_n.2_glas', 'D_AB1_U_LR', 'D_AB1_L_LR', 'D_AB2_U_LR', 'D_AB2_L_LR', 'D_AB3_U_LR', 'D_AB3_L_LR', 'D_AB4_U_LR', 'D_AB4_L_LR', 'D_AB5_U_LR', 'D_AB5_L_LR', 'D_AB6_U_LR', 'D_AB6_L_LR', 'D_AB7_U_LR', 'D_AB7_L_LR', 'D_AB8_U_LR', 'D_AB8_L_LR', 'D_AB9_U_LR', 'D_AB9_L_LR', 'D_AB10_U_L', 'D_AB10_L_L', 'D_AB11_U_L', 'D_AB11_L_L', 'D_AB1_L_UL', 'D_AB1_R_UL', 'D_AB2_L_UL', 'D_AB2_R_UL', 'D_AB3_L_UL', 'D_AB3_R_UL', 'D_AB4_L_UL', 'D_AB4_R_UL', 'D_AB5_L_UL', 'D_AB5_R_UL', 'D_AB6_L_UL', 'D_AB6_R_UL', 'D_AB7_L_UL', 'D_AB7_R_UL', 'D_AB8_L_UL', 'D_AB8_R_UL', 'D_AB9_L_UL', 'D_AB9_R_UL', 'D_AB10_L_U', 'D_AB10_R_U', 'D_AB11_L_U', 'D_AB11_R_U', 'D_C1_U_LR', 'D_C1_L_LR', 'D_C2_U_LR', 'D_C2_L_LR', 'D_C3_U_LR', 'D_C3_L_LR', 'D_C4_U_LR', 'D_C4_L_LR', 'D_C1_L_UL', 'D_C1_R_UL', 'D_C2_L_UL', 'D_C2_R_UL', 'D_C3_L_UL', 'D_C3_R_UL', 'D_C4_L_UL', 'D_C4_R_UL', 'D_GLS_AB1_', 'D_GLS_AB11', 'D_GLS_AB7_', 'D_GLS_C4_L', 'D_GLS_F_LR', 'D_GLS_RET_', 'S_AB1_AB2_', 'S_AB2_AB3_', 'S_AB3_AB4_', 'S_AB4_AB5_', 'S_AB5_AB6_', 'S_AB6_AB7_', 'S_AB7_AB8_', 'S_AB8_AB9_', 'S_AB9_AB10', 'S_AB10_AB1', 'S_AB11_C1_', 'S_C1_C2_U_', 'S_C1_C2_L_', 'S_C2_C3_U_', 'S_C2_C3_L_', 'S_C3_C4_U_', 'S_C3_C4_L_', 'S_AB1_AB11', 'S_AB11_AB7', 'S_AB7_C4_L', 'S_AB7_C4_R', 'S_C4_RET_L', 'S_C4_RET_R', 'S_RET_F_L', 'S_RET_F_R', 'STD_U_L', 'STD_U_R', 'STD_L_L', 'STD_L_R', 'STD_GLS_L', 'STD_GLS_R', '투입.LEFT.', '투입.RIGHT.', 'ROLLDOWN.폐', '진공패드.폐기.LE', '진공패드.폐기.RI', '폐기율...', 'ROLLDOWN.진', 'L.RD', 'L.Vac', 'R.RD', 'R.Vac']\n"
          ],
          "name": "stdout"
        }
      ]
    },
    {
      "cell_type": "code",
      "metadata": {
        "id": "ad5n0oIEy_hJ"
      },
      "source": [
        "# 상관계수 데이터프레임 생성 함수\n",
        "# 키를 입력하면 해당 키에 속하는 컬럼간 상관계수를 데이터프레임로 생성\n",
        "\n",
        "def make_corr_df(key):\n",
        "\n",
        "    # 컬럼 인덱스 리스트\n",
        "    col_idx = name_dict[key]\n",
        "    #print(col_idx)\n",
        "\n",
        "    # 데이터에서 해당 컬럼만 추출하여 저장하기\n",
        "    df_corr = df_origin.iloc[:, col_idx]\n",
        "\n",
        "    # 컬럼 간 상관계수 구하기\n",
        "    df_corr = df_corr.corr()\n",
        "\n",
        "    return df_corr\n",
        "\n",
        "\n",
        "# 상관계수 시각화 함수\n",
        "# 키를 입력하면 해당 키에 속하는 컬럼간 상관계수 히트맵 생성\n",
        "import seaborn as sns\n",
        "import matplotlib.pyplot as plt\n",
        "\n",
        "def make_heatmap(key):\n",
        "    \n",
        "    # 컬럼 인덱스 리스트\n",
        "    col_idx = name_dict[key]\n",
        "    \n",
        "    # 상관계수 데이터프레임 생성\n",
        "    df_corr = make_corr_df(key)\n",
        "\n",
        "    # 상관계수에 절대값 취하기\n",
        "    df_corr = df_corr.abs()\n",
        "    \n",
        "    # 상관계수 데이터프레임을 배열로 저장\n",
        "    corr_array = df_corr.to_numpy()\n",
        "\n",
        "    # 상관계수 히트맵 그리기\n",
        "    plt.figure(figsize=(14,14))\n",
        "    sns.set(font_scale=1.5)\n",
        "    sns.heatmap(corr_array, cbar=True, square=True, fmt='.2f', annot=True, \n",
        "                annot_kws={'size':10}, yticklabels=col_idx, xticklabels=col_idx)\n",
        "    plt.show()"
      ],
      "execution_count": null,
      "outputs": []
    },
    {
      "cell_type": "code",
      "metadata": {
        "colab": {
          "base_uri": "https://localhost:8080/"
        },
        "id": "MfvKCFOUAaKs",
        "outputId": "235d4a01-7845-48d7-ef3d-f2bc9e46ea48"
      },
      "source": [
        "# make_corr 함수 확인\n",
        "df_corr = make_corr_df('LIFT.OUT.R')\n",
        "df_corr.describe()"
      ],
      "execution_count": null,
      "outputs": [
        {
          "output_type": "execute_result",
          "data": {
            "text/html": [
              "<div>\n",
              "<style scoped>\n",
              "    .dataframe tbody tr th:only-of-type {\n",
              "        vertical-align: middle;\n",
              "    }\n",
              "\n",
              "    .dataframe tbody tr th {\n",
              "        vertical-align: top;\n",
              "    }\n",
              "\n",
              "    .dataframe thead th {\n",
              "        text-align: right;\n",
              "    }\n",
              "</style>\n",
              "<table border=\"1\" class=\"dataframe\">\n",
              "  <thead>\n",
              "    <tr style=\"text-align: right;\">\n",
              "      <th></th>\n",
              "      <th>LIFT.OUT.ROL.MTR.M1.SPD.1WSI40101</th>\n",
              "      <th>LIFT.OUT.ROL.MTR.M2.SPD.1WSI40102</th>\n",
              "      <th>UPPER.RET..Z218.TMP.1TIC42601.PV</th>\n",
              "      <th>LIFT.OUT.ROL.MTR.M1.SPD.1WSI40101.1</th>\n",
              "      <th>LIFT.OUT.ROL.MTR.M2.SPD.1WSI40102.1</th>\n",
              "      <th>LEHR.DRV.MTR..M19.2.SPD.1WSI40135.1</th>\n",
              "      <th>LIFT.OUT.ROL.MTR.M1.CUR.1WII40101.PV</th>\n",
              "      <th>LIFT.OUT.ROL.MTR.M2.CUR.1WII40102.PV</th>\n",
              "    </tr>\n",
              "  </thead>\n",
              "  <tbody>\n",
              "    <tr>\n",
              "      <th>count</th>\n",
              "      <td>7.000000</td>\n",
              "      <td>7.000000</td>\n",
              "      <td>0.0</td>\n",
              "      <td>7.000000</td>\n",
              "      <td>7.000000</td>\n",
              "      <td>7.000000</td>\n",
              "      <td>7.000000</td>\n",
              "      <td>7.000000</td>\n",
              "    </tr>\n",
              "    <tr>\n",
              "      <th>mean</th>\n",
              "      <td>0.664335</td>\n",
              "      <td>0.671524</td>\n",
              "      <td>NaN</td>\n",
              "      <td>0.670041</td>\n",
              "      <td>0.670300</td>\n",
              "      <td>0.670682</td>\n",
              "      <td>0.189239</td>\n",
              "      <td>0.134128</td>\n",
              "    </tr>\n",
              "    <tr>\n",
              "      <th>std</th>\n",
              "      <td>0.564266</td>\n",
              "      <td>0.552300</td>\n",
              "      <td>NaN</td>\n",
              "      <td>0.557962</td>\n",
              "      <td>0.557493</td>\n",
              "      <td>0.555521</td>\n",
              "      <td>0.508375</td>\n",
              "      <td>0.545904</td>\n",
              "    </tr>\n",
              "    <tr>\n",
              "      <th>min</th>\n",
              "      <td>-0.199014</td>\n",
              "      <td>-0.175137</td>\n",
              "      <td>NaN</td>\n",
              "      <td>-0.184831</td>\n",
              "      <td>-0.183871</td>\n",
              "      <td>-0.180350</td>\n",
              "      <td>-0.123036</td>\n",
              "      <td>-0.199014</td>\n",
              "    </tr>\n",
              "    <tr>\n",
              "      <th>25%</th>\n",
              "      <td>0.433689</td>\n",
              "      <td>0.446647</td>\n",
              "      <td>NaN</td>\n",
              "      <td>0.442237</td>\n",
              "      <td>0.442670</td>\n",
              "      <td>0.443536</td>\n",
              "      <td>-0.106819</td>\n",
              "      <td>-0.184351</td>\n",
              "    </tr>\n",
              "    <tr>\n",
              "      <th>50%</th>\n",
              "      <td>0.991691</td>\n",
              "      <td>0.991978</td>\n",
              "      <td>NaN</td>\n",
              "      <td>0.992003</td>\n",
              "      <td>0.991978</td>\n",
              "      <td>0.990710</td>\n",
              "      <td>-0.103342</td>\n",
              "      <td>-0.180350</td>\n",
              "    </tr>\n",
              "    <tr>\n",
              "      <th>75%</th>\n",
              "      <td>0.995145</td>\n",
              "      <td>0.995266</td>\n",
              "      <td>NaN</td>\n",
              "      <td>0.999319</td>\n",
              "      <td>0.999328</td>\n",
              "      <td>0.998672</td>\n",
              "      <td>0.382344</td>\n",
              "      <td>0.343483</td>\n",
              "    </tr>\n",
              "    <tr>\n",
              "      <th>max</th>\n",
              "      <td>1.000000</td>\n",
              "      <td>1.000000</td>\n",
              "      <td>NaN</td>\n",
              "      <td>1.000000</td>\n",
              "      <td>1.000000</td>\n",
              "      <td>1.000000</td>\n",
              "      <td>1.000000</td>\n",
              "      <td>1.000000</td>\n",
              "    </tr>\n",
              "  </tbody>\n",
              "</table>\n",
              "</div>"
            ],
            "text/plain": [
              "       LIFT.OUT.ROL.MTR.M1.SPD.1WSI40101  ...  LIFT.OUT.ROL.MTR.M2.CUR.1WII40102.PV\n",
              "count                           7.000000  ...                              7.000000\n",
              "mean                            0.664335  ...                              0.134128\n",
              "std                             0.564266  ...                              0.545904\n",
              "min                            -0.199014  ...                             -0.199014\n",
              "25%                             0.433689  ...                             -0.184351\n",
              "50%                             0.991691  ...                             -0.180350\n",
              "75%                             0.995145  ...                              0.343483\n",
              "max                             1.000000  ...                              1.000000\n",
              "\n",
              "[8 rows x 8 columns]"
            ]
          },
          "metadata": {
            "tags": []
          },
          "execution_count": 10
        }
      ]
    },
    {
      "cell_type": "code",
      "metadata": {
        "colab": {
          "base_uri": "https://localhost:8080/"
        },
        "id": "3c0VovQ53TOu",
        "outputId": "1852323a-a47a-446a-e82f-ecad93dfc49a"
      },
      "source": [
        "# make_heatmap 함수 확인\n",
        "make_heatmap('LIFT.OUT.R')\n",
        "    #?? 중간에 빈 인덱스 2번 컬럼 : UPPER.RET..Z218.TMP.1TIC42601.PV 은 NaN값임\n",
        "#make_heatmap('LEHR.DRV.M')\n",
        "#make_heatmap('DRIVE.MOTO')"
      ],
      "execution_count": null,
      "outputs": [
        {
          "output_type": "display_data",
          "data": {
            "image/png": "[encoded data removed]",
            "text/plain": [
              "<Figure size 1008x1008 with 2 Axes>"
            ]
          },
          "metadata": {
            "tags": []
          }
        }
      ]
    },
    {
      "cell_type": "code",
      "metadata": {
        "colab": {
          "base_uri": "https://localhost:8080/"
        },
        "id": "YsaWtrV5ncwN",
        "outputId": "c73863ad-1dbc-4e8a-971d-29b8208452dd"
      },
      "source": [
        "df_corr = make_corr_df('DRIVE.MOTO')\n",
        "df_corr\n"
      ],
      "execution_count": null,
      "outputs": [
        {
          "output_type": "execute_result",
          "data": {
            "text/html": [
              "<div>\n",
              "<style scoped>\n",
              "    .dataframe tbody tr th:only-of-type {\n",
              "        vertical-align: middle;\n",
              "    }\n",
              "\n",
              "    .dataframe tbody tr th {\n",
              "        vertical-align: top;\n",
              "    }\n",
              "\n",
              "    .dataframe thead th {\n",
              "        text-align: right;\n",
              "    }\n",
              "</style>\n",
              "<table border=\"1\" class=\"dataframe\">\n",
              "  <thead>\n",
              "    <tr style=\"text-align: right;\">\n",
              "      <th></th>\n",
              "      <th>LEHR.DRV.MTR..M9.2.SPD.1WSI40115</th>\n",
              "      <th>LEHR.DRV.MTR..M11.1.SPD.1WSI40118</th>\n",
              "      <th>LEHR.DRV.MTR..M16.1.SPD.1WSI40128</th>\n",
              "      <th>LEHR.DRV.MTR..M18.2.SPD.1WSI40133</th>\n",
              "      <th>LEHR.DRV.MTR..M9.2.SPD.1WSI40115.1</th>\n",
              "      <th>LEHR.DRV.MTR..M11.1.SPD.1WSI40118.1</th>\n",
              "      <th>LEHR.DRV.MTR..M16.1.SPD.1WSI40128.1</th>\n",
              "      <th>LEHR.DRV.MTR..M18.2.SPD.1WSI40133.1</th>\n",
              "    </tr>\n",
              "  </thead>\n",
              "  <tbody>\n",
              "    <tr>\n",
              "      <th>LEHR.DRV.MTR..M9.2.SPD.1WSI40115</th>\n",
              "      <td>1.000000</td>\n",
              "      <td>0.946620</td>\n",
              "      <td>0.960656</td>\n",
              "      <td>0.997309</td>\n",
              "      <td>0.990362</td>\n",
              "      <td>0.990314</td>\n",
              "      <td>0.990784</td>\n",
              "      <td>0.989808</td>\n",
              "    </tr>\n",
              "    <tr>\n",
              "      <th>LEHR.DRV.MTR..M11.1.SPD.1WSI40118</th>\n",
              "      <td>0.946620</td>\n",
              "      <td>1.000000</td>\n",
              "      <td>0.981734</td>\n",
              "      <td>0.947067</td>\n",
              "      <td>0.938184</td>\n",
              "      <td>0.942861</td>\n",
              "      <td>0.942913</td>\n",
              "      <td>0.938075</td>\n",
              "    </tr>\n",
              "    <tr>\n",
              "      <th>LEHR.DRV.MTR..M16.1.SPD.1WSI40128</th>\n",
              "      <td>0.960656</td>\n",
              "      <td>0.981734</td>\n",
              "      <td>1.000000</td>\n",
              "      <td>0.962018</td>\n",
              "      <td>0.953748</td>\n",
              "      <td>0.957217</td>\n",
              "      <td>0.957912</td>\n",
              "      <td>0.953788</td>\n",
              "    </tr>\n",
              "    <tr>\n",
              "      <th>LEHR.DRV.MTR..M18.2.SPD.1WSI40133</th>\n",
              "      <td>0.997309</td>\n",
              "      <td>0.947067</td>\n",
              "      <td>0.962018</td>\n",
              "      <td>1.000000</td>\n",
              "      <td>0.990829</td>\n",
              "      <td>0.990930</td>\n",
              "      <td>0.991387</td>\n",
              "      <td>0.990514</td>\n",
              "    </tr>\n",
              "    <tr>\n",
              "      <th>LEHR.DRV.MTR..M9.2.SPD.1WSI40115.1</th>\n",
              "      <td>0.990362</td>\n",
              "      <td>0.938184</td>\n",
              "      <td>0.953748</td>\n",
              "      <td>0.990829</td>\n",
              "      <td>1.000000</td>\n",
              "      <td>0.995014</td>\n",
              "      <td>0.996210</td>\n",
              "      <td>0.999512</td>\n",
              "    </tr>\n",
              "    <tr>\n",
              "      <th>LEHR.DRV.MTR..M11.1.SPD.1WSI40118.1</th>\n",
              "      <td>0.990314</td>\n",
              "      <td>0.942861</td>\n",
              "      <td>0.957217</td>\n",
              "      <td>0.990930</td>\n",
              "      <td>0.995014</td>\n",
              "      <td>1.000000</td>\n",
              "      <td>0.999588</td>\n",
              "      <td>0.994590</td>\n",
              "    </tr>\n",
              "    <tr>\n",
              "      <th>LEHR.DRV.MTR..M16.1.SPD.1WSI40128.1</th>\n",
              "      <td>0.990784</td>\n",
              "      <td>0.942913</td>\n",
              "      <td>0.957912</td>\n",
              "      <td>0.991387</td>\n",
              "      <td>0.996210</td>\n",
              "      <td>0.999588</td>\n",
              "      <td>1.000000</td>\n",
              "      <td>0.995790</td>\n",
              "    </tr>\n",
              "    <tr>\n",
              "      <th>LEHR.DRV.MTR..M18.2.SPD.1WSI40133.1</th>\n",
              "      <td>0.989808</td>\n",
              "      <td>0.938075</td>\n",
              "      <td>0.953788</td>\n",
              "      <td>0.990514</td>\n",
              "      <td>0.999512</td>\n",
              "      <td>0.994590</td>\n",
              "      <td>0.995790</td>\n",
              "      <td>1.000000</td>\n",
              "    </tr>\n",
              "  </tbody>\n",
              "</table>\n",
              "</div>"
            ],
            "text/plain": [
              "                                     LEHR.DRV.MTR..M9.2.SPD.1WSI40115  ...  LEHR.DRV.MTR..M18.2.SPD.1WSI40133.1\n",
              "LEHR.DRV.MTR..M9.2.SPD.1WSI40115                             1.000000  ...                             0.989808\n",
              "LEHR.DRV.MTR..M11.1.SPD.1WSI40118                            0.946620  ...                             0.938075\n",
              "LEHR.DRV.MTR..M16.1.SPD.1WSI40128                            0.960656  ...                             0.953788\n",
              "LEHR.DRV.MTR..M18.2.SPD.1WSI40133                            0.997309  ...                             0.990514\n",
              "LEHR.DRV.MTR..M9.2.SPD.1WSI40115.1                           0.990362  ...                             0.999512\n",
              "LEHR.DRV.MTR..M11.1.SPD.1WSI40118.1                          0.990314  ...                             0.994590\n",
              "LEHR.DRV.MTR..M16.1.SPD.1WSI40128.1                          0.990784  ...                             0.995790\n",
              "LEHR.DRV.MTR..M18.2.SPD.1WSI40133.1                          0.989808  ...                             1.000000\n",
              "\n",
              "[8 rows x 8 columns]"
            ]
          },
          "metadata": {
            "tags": []
          },
          "execution_count": 12
        }
      ]
    },
    {
      "cell_type": "code",
      "metadata": {
        "colab": {
          "base_uri": "https://localhost:8080/"
        },
        "id": "2PX3zXLc44cj",
        "outputId": "698e80db-ad43-431e-acaa-c3bccca79204"
      },
      "source": [
        "# 각 컬럼집단(키) 내 컬럼간 상관계수를 구하고\n",
        "df_corr = make_corr_df('DRIVE.MOTO')\n",
        "#df_corr.describe()\n",
        "\n",
        "# 상관계수의 절대값이 0.6 이상인 컬럼 중 1개만 선택함 (먼저 등장한 컬럼을 선택)\n",
        "\n",
        "# 선택한 컬럼을 저장할 리스트 생성\n",
        "col_select=[]\n",
        "\n",
        "# 상관계수 컬럼의 길이\n",
        "df_corr_len = len(df_corr)\n",
        "\n",
        "# 컬럼집단 안의 모든 컬럼과 비교해서 상관계수가 0.6보다 작은 컬럼이름의 리스트 만들기\n",
        "# 각 컬럼 길이만큼 반복\n",
        "\n",
        "names = df_corr.columns\n",
        "\n",
        "li = []\n",
        "for i in names:\n",
        "    if i in li:\n",
        "        continue\n",
        "    x = df_corr[i].index\n",
        "    k = 0\n",
        "    for v, index in zip(df_corr[i], x):\n",
        "        k = k + 1\n",
        "        if v > 0.6:\n",
        "            if index != i:\n",
        "                if index not in li:\n",
        "                    li.append(i)\n",
        "                    break\n",
        "    else:\n",
        "        if i not in li:\n",
        "            li.append(i)\n",
        "\n",
        "print(li)         \n",
        "\n"
      ],
      "execution_count": null,
      "outputs": [
        {
          "output_type": "stream",
          "text": [
            "['LEHR.DRV.MTR..M9.2.SPD.1WSI40115', 'LEHR.DRV.MTR..M11.1.SPD.1WSI40118', 'LEHR.DRV.MTR..M16.1.SPD.1WSI40128', 'LEHR.DRV.MTR..M18.2.SPD.1WSI40133', 'LEHR.DRV.MTR..M9.2.SPD.1WSI40115.1', 'LEHR.DRV.MTR..M11.1.SPD.1WSI40118.1', 'LEHR.DRV.MTR..M16.1.SPD.1WSI40128.1', 'LEHR.DRV.MTR..M18.2.SPD.1WSI40133.1']\n"
          ],
          "name": "stdout"
        }
      ]
    },
    {
      "cell_type": "code",
      "metadata": {
        "colab": {
          "base_uri": "https://localhost:8080/",
          "height": 136
        },
        "id": "ysTM8iUMjOrU",
        "outputId": "70895c05-9e6c-49fc-fc6d-1cd44dfcc85f"
      },
      "source": [
        "seri = df_corr.iloc[:, i]\n",
        "    #print(\"------------------------------\\n\", seri)\n",
        "\n",
        "    # 상관계수가 0.6 이하인 컬럼을 고르고, 해당 컬럼명을 리스트 저장\n",
        "    col = seri[seri<0.6].index\n",
        "    \n",
        "    for j in col:\n",
        "        col_select.append(j)\n",
        "\n",
        "    # 상관계수가 0.6 이상인 컬럼 중 1개의 컬럼명을 리스트 저장\n",
        "    col_select.append(seri[seri>0.6].index[0])\n",
        "\n",
        "# 확인\n",
        "col_select"
      ],
      "execution_count": null,
      "outputs": [
        {
          "output_type": "error",
          "ename": "IndentationError",
          "evalue": "ignored",
          "traceback": [
            "\u001b[0;36m  File \u001b[0;32m\"<ipython-input-14-1e28ce50ad12>\"\u001b[0;36m, line \u001b[0;32m5\u001b[0m\n\u001b[0;31m    col = seri[seri<0.6].index\u001b[0m\n\u001b[0m    ^\u001b[0m\n\u001b[0;31mIndentationError\u001b[0m\u001b[0;31m:\u001b[0m unexpected indent\n"
          ]
        }
      ]
    },
    {
      "cell_type": "code",
      "metadata": {
        "id": "IXvd2DXDZAK0"
      },
      "source": [
        "# 확인\n",
        "for i in range(seri_len):\n",
        "    seri = df_corr.iloc[:, i]\n",
        "    print(\"------------------------------\\n\", seri)\n",
        "\n",
        "    print(\"------------------------------\", (seri<0.6))\n",
        "    #print(\"------------------------------\", type(seri<0.6))"
      ],
      "execution_count": null,
      "outputs": []
    },
    {
      "cell_type": "code",
      "metadata": {
        "id": "xzQ7Y798cjId"
      },
      "source": [
        "# 각 컬럼집단(키) 내 종속성 높은 컬럼들은 1개만 추가함\n",
        "def key_col_select(key):\n",
        "    #print(key)\n",
        "    df_corr = make_corr_df(key)\n",
        "    #print(\"1\", df_corr)\n",
        "    # 상관계수의 절대값이 0.6 이상인 컬럼 중 1개만 선택함 (먼저 등장한 컬럼을 선택)\n",
        "\n",
        "    # 선택한 컬럼을 저장할 리스트 생성\n",
        "    col_select=[]\n",
        "\n",
        "    # 상관계수 컬럼의 길이\n",
        "    seri_len = len(df_corr)\n",
        "\n",
        "    # 독립적인 컬럼이름 리스트 만들기\n",
        "    # 각 컬럼 길이만큼 반복\n",
        "    for i in range(seri_len):\n",
        "        # 데이터 1줄(컬럼)을 시리즈로 저장\n",
        "        seri = df_corr.iloc[:, i]\n",
        "        #print(\"------------------------------\\n\", seri)\n",
        "\n",
        "        # 상관계수가 0.6 이하인 컬럼을 고르고, 해당 컬럼명을 리스트 저장\n",
        "        col = seri[seri<0.6].index\n",
        "\n",
        "        for j in col:\n",
        "            col_select.append(j)\n",
        "\n",
        "        # 상관계수가 0.6 이상인 컬럼 중 1개의 컬럼명을 리스트 저장\n",
        "        for k in seri[seri>0.6].index:\n",
        "            print()\n",
        "            col_select.append(seri[seri>0.6].index[0])\n",
        "            break\n",
        "    return col_select"
      ],
      "execution_count": null,
      "outputs": []
    },
    {
      "cell_type": "code",
      "metadata": {
        "id": "u2SohwGAtgvl"
      },
      "source": [
        "# 확인\n",
        "key_col_select('LIFT.OUT.R')"
      ],
      "execution_count": null,
      "outputs": []
    },
    {
      "cell_type": "code",
      "metadata": {
        "id": "L0KmeR7kiTcw"
      },
      "source": [
        "# 종속성 높은 컬럼 제거한 컬럼명 리스트\n",
        "# 딕셔너리의 각 키에 대해서 반복 수행\n",
        "col_select_list=[]\n",
        "for key in key_list:\n",
        "    col_select_list = col_select_list.__add__(key_col_select(key))"
      ],
      "execution_count": null,
      "outputs": []
    },
    {
      "cell_type": "code",
      "metadata": {
        "id": "u8ZT8lUVqGDE"
      },
      "source": [
        "len(col_select_list)"
      ],
      "execution_count": null,
      "outputs": []
    },
    {
      "cell_type": "code",
      "metadata": {
        "id": "IRuf1ITRtJTn"
      },
      "source": [
        "# 컬럼명 리스트\n",
        "# 이름 앞글자 10개가 비슷한 컬럼 간의 종속성이 높은 컬럼 삭제함\n",
        "# 592개의 컬럼에 대해 전처리 수행하고, 기술통계, 상관관계 등 데이터 탐색 진행할 예정\n",
        "print(col_select_list)"
      ],
      "execution_count": null,
      "outputs": []
    },
    {
      "cell_type": "code",
      "metadata": {
        "id": "lMpz1nDB60y3"
      },
      "source": [
        "# 각 컬럼집단(키) 내 컬럼간 상관계수를 구하고\n",
        "df_corr = make_corr_df('DRIVE.MOTO')\n",
        "#df_corr.describe()\n",
        "\n",
        "# 상관계수의 절대값이 0.6 이상인 컬럼 중 1개만 선택함 (먼저 등장한 컬럼을 선택)\n",
        "\n",
        "# 선택한 컬럼을 저장할 리스트 생성\n",
        "col_select=[]\n",
        "\n",
        "# 상관계수 컬럼의 길이\n",
        "seri_len = len(df_abs)\n",
        "\n",
        "# 독립적인 컬럼이름 리스트 만들기\n",
        "# 각 컬럼 길이만큼 반복\n",
        "for i in range(seri_len):\n",
        "    # 각 컬럼을 시리즈로 저장\n",
        "    seri = df_abs.iloc[:, i]\n",
        "    #print(\"------------------------------\\n\", seri)\n",
        "\n",
        "    # 상관계수가 0.6 이하인 컬럼을 고르고, 해당 컬럼명을 리스트 저장\n",
        "    col = seri[seri<0.6].index\n",
        "    \n",
        "    for j in col:\n",
        "        col_select.append(j)\n",
        "\n",
        "    # 상관계수가 0.6 이상인 컬럼 중 1개의 컬럼명을 리스트 저장\n",
        "col_select.append(seri[seri>0.6].index[0])\n",
        "\n",
        "# 확인\n",
        "col_select"
      ],
      "execution_count": null,
      "outputs": []
    },
    {
      "cell_type": "markdown",
      "metadata": {
        "id": "FGKPtgb4xy_U"
      },
      "source": [
        "## 데이터 전처리\n"
      ]
    },
    {
      "cell_type": "markdown",
      "metadata": {
        "id": "rzfHN166yEPD"
      },
      "source": [
        "### 결측치 확인 및 처리\n",
        "* 컬럼에 속한 결측치 확인\n",
        "* 행에 속한 결측치 확인"
      ]
    },
    {
      "cell_type": "markdown",
      "metadata": {
        "id": "shJuSEKrDyEd"
      },
      "source": [
        "### 컬럼별 결측치 확인"
      ]
    },
    {
      "cell_type": "code",
      "metadata": {
        "colab": {
          "base_uri": "https://localhost:8080/"
        },
        "id": "yPCAQlT4x8P4",
        "outputId": "e797910f-e363-45ad-a908-fee37dcd7e58"
      },
      "source": [
        "# 결측치 확인\n",
        "# 컬럼 수가 많아서 info로 출력되지 않음\n",
        "df_origin.info()\n",
        "print()\n",
        "# 컬럼별로 null 데이터의 개수를 구하고 내림차순 정렬함\n",
        "df_origin.isnull().sum().sort_values(ascending=False)\n",
        "#print(\"컬럼별 null값 :\", df_origin.unique())\n",
        "# print(\"null\", df[:10])"
      ],
      "execution_count": 4,
      "outputs": [
        {
          "output_type": "stream",
          "text": [
            "<class 'pandas.core.frame.DataFrame'>\n",
            "RangeIndex: 8145 entries, 0 to 8144\n",
            "Columns: 841 entries, dat...date.name. to R.Vac\n",
            "dtypes: float64(834), int64(6), object(1)\n",
            "memory usage: 52.3+ MB\n",
            "\n"
          ],
          "name": "stdout"
        },
        {
          "output_type": "execute_result",
          "data": {
            "text/plain": [
              "UPPER.RET..Z218.TMP.1TIC42601.PV        8145\n",
              "ROOF.HEATING.Zone78.1JIC31178.PV        8145\n",
              "LEHR.DRV.MTR..M19.2.CUR.1WII40135.PV    8145\n",
              "ROOF.HEATING.Zone76.1JIC31176.PV        8145\n",
              "ROOF.HEATING.Zone52.1JIC31152.PV        8145\n",
              "                                        ... \n",
              "ROOF.HEATING.Zone45.1JIC31145.PV           0\n",
              "ROOF.HEATING.Zone44.1JIC31144.PV           0\n",
              "ROOF.HEATING.Zone43.1JIC31143.PV           0\n",
              "ROOF.HEATING.Zone42.1JIC31142.PV           0\n",
              "dat...date.name.                           0\n",
              "Length: 841, dtype: int64"
            ]
          },
          "metadata": {
            "tags": []
          },
          "execution_count": 4
        }
      ]
    },
    {
      "cell_type": "code",
      "metadata": {
        "colab": {
          "base_uri": "https://localhost:8080/"
        },
        "id": "9QYquO4xyLHO",
        "outputId": "591a9002-ac34-47cb-dcfa-2dfc02df5e44"
      },
      "source": [
        "# 전체 행 8145개 중 nan값이 8145개인 컬럼은 삭제함\n",
        "fact_data = df_origin.dropna(how='all', axis=1)\n",
        "fact_data.info()\n",
        "# 컬럼수: 841개 -> 834개"
      ],
      "execution_count": 5,
      "outputs": [
        {
          "output_type": "stream",
          "text": [
            "<class 'pandas.core.frame.DataFrame'>\n",
            "RangeIndex: 8145 entries, 0 to 8144\n",
            "Columns: 834 entries, dat...date.name. to R.Vac\n",
            "dtypes: float64(827), int64(6), object(1)\n",
            "memory usage: 51.8+ MB\n"
          ],
          "name": "stdout"
        }
      ]
    },
    {
      "cell_type": "code",
      "metadata": {
        "colab": {
          "base_uri": "https://localhost:8080/"
        },
        "id": "tgkurp5zCh7R",
        "outputId": "de51ea94-fc18-499e-d419-b880f1c25e27"
      },
      "source": [
        "# 행별 결측치 확인\n",
        "print(fact_data[fact_data.isnull().any(axis=1)])\n",
        "drop_index = list(fact_data[fact_data.isnull().any(axis=1)].index)\n",
        "print(drop_index)\n",
        "\n",
        "# 각 행의 NaN개수\n",
        "print(fact_data.iloc[3754].isnull().sum())\n",
        "print(fact_data.iloc[6310].isnull().sum())\n",
        "print(fact_data.iloc[8044].isnull().sum())\n",
        "\n",
        "# NaN가 있는 행 삭제\n",
        "fact_data.drop(index=drop_index, axis=0 , inplace=True)"
      ],
      "execution_count": 6,
      "outputs": [
        {
          "output_type": "stream",
          "text": [
            "     dat...date.name.  LIFT.OUT.ROL.MTR.M1.SPD.1WSI40101  ...   R.RD  R.Vac\n",
            "3754    2016-06-24 04                           1.467846  ...  0.000    0.0\n",
            "6310    2016-10-13 09                          -0.846817  ...  0.162    0.0\n",
            "8044    2016-12-27 17                          -0.846817  ...  0.057    0.0\n",
            "\n",
            "[3 rows x 834 columns]\n",
            "[3754, 6310, 8044]\n",
            "1\n",
            "39\n",
            "87\n"
          ],
          "name": "stdout"
        },
        {
          "output_type": "stream",
          "text": [
            "/usr/local/lib/python3.7/dist-packages/pandas/core/frame.py:4174: SettingWithCopyWarning: \n",
            "A value is trying to be set on a copy of a slice from a DataFrame\n",
            "\n",
            "See the caveats in the documentation: https://pandas.pydata.org/pandas-docs/stable/user_guide/indexing.html#returning-a-view-versus-a-copy\n",
            "  errors=errors,\n"
          ],
          "name": "stderr"
        }
      ]
    },
    {
      "cell_type": "markdown",
      "metadata": {
        "id": "OnhzOD3xFDW8"
      },
      "source": [
        "## 다중공선성 문제 - 팀원끼리 컬럼 나눠서 실행해봄"
      ]
    },
    {
      "cell_type": "code",
      "metadata": {
        "colab": {
          "base_uri": "https://localhost:8080/"
        },
        "id": "o7SYieaxFKgq",
        "outputId": "77f482e9-6eea-4f41-de83-833d1413cff4"
      },
      "source": [
        "# 상관계수가 1인 컬럼 목록 파일 불러오기\n",
        "#corr_df = pd.read_csv('/content/drive/MyDrive/나무플래닛/3. 산출물/same_coef_frame.xlsx',encoding='utf-8')\n",
        "\n",
        "# 담당한 컬럼명 리스트 만들기\n",
        "corr_col = ['LEHR.DRV.MTR..M11.2.CUR.1WII40119.PV',\t'LEHR.DRV.MTR..M12.2.CUR.1WII40121.PV',\n",
        "'LEHR.DRV.MTR..M11.2.CUR.1WII40119.PV',\t'LEHR.DRV.MTR..M13.2.CUR.1WII40123.PV', \n",
        "'LEHR.DRV.MTR..M11.2.CUR.1WII40119.PV',\t'LEHR.DRV.MTR..M14.2.CUR.1WII40125.PV',\n",
        "'LEHR.DRV.MTR..M11.2.CUR.1WII40119.PV',\t'LEHR.DRV.MTR..M15.2.CUR.1WII40127.PV',\n",
        "'LEHR.DRV.MTR..M12.2.CUR.1WII40121.PV',\t'LEHR.DRV.MTR..M13.2.CUR.1WII40123.PV',\n",
        "'LEHR.DRV.MTR..M12.2.CUR.1WII40121.PV',\t'LEHR.DRV.MTR..M14.2.CUR.1WII40125.PV',\n",
        "'LEHR.DRV.MTR..M12.2.CUR.1WII40121.PV',\t'LEHR.DRV.MTR..M15.2.CUR.1WII40127.PV',\n",
        "'LEHR.DRV.MTR..M13.2.CUR.1WII40123.PV',\t'LEHR.DRV.MTR..M14.2.CUR.1WII40125.PV',\n",
        "'LEHR.DRV.MTR..M13.2.CUR.1WII40123.PV',\t'LEHR.DRV.MTR..M15.2.CUR.1WII40127.PV',\n",
        "'LEHR.DRV.MTR..M14.2.CUR.1WII40125.PV',\t'LEHR.DRV.MTR..M15.2.CUR.1WII40127.PV']\n",
        "corr_col = list(set(corr_col))\n",
        "x = 'LEHR.DRV.MTR..M14.2.CUR.1WII40125.PV'\n",
        "corr_col.remove(x)\n",
        "corr_col"
      ],
      "execution_count": 7,
      "outputs": [
        {
          "output_type": "execute_result",
          "data": {
            "text/plain": [
              "['LEHR.DRV.MTR..M12.2.CUR.1WII40121.PV',\n",
              " 'LEHR.DRV.MTR..M13.2.CUR.1WII40123.PV',\n",
              " 'LEHR.DRV.MTR..M15.2.CUR.1WII40127.PV',\n",
              " 'LEHR.DRV.MTR..M11.2.CUR.1WII40119.PV']"
            ]
          },
          "metadata": {
            "tags": []
          },
          "execution_count": 7
        }
      ]
    },
    {
      "cell_type": "code",
      "metadata": {
        "colab": {
          "base_uri": "https://localhost:8080/"
        },
        "id": "VH1dV8quGltm",
        "outputId": "d0621909-bd21-4653-9a47-c902e2da856e"
      },
      "source": [
        "# 전체 컬럼 중 해당 집단의 컬럼명만 제외\n",
        "# 전체 컬럼명 리스트\n",
        "columns_all = fact_data.columns.tolist()\n",
        "# 확인\n",
        "print(len(columns_all))\n",
        "\n",
        "# date와 폐기율 컬럼 제외 \n",
        "drop_columns = ['dat...date.name.', '투입.LEFT.','투입.RIGHT.','ROLLDOWN.폐기.LEFT.','진공패드.폐기.LEFT.','ROLLDOWN.폐기.RIGHT.','진공패드.폐기.RIGHT.','폐기율...','ROLLDOWN.진공패드.폐기율..LEFT.','ROLLDOWN.진공패드.폐기율..RIGHT.','ROLLDOWN.진공패드.폐기율..전체.','L.RD','L.Vac','R.RD','R.Vac',]\n",
        "\n",
        "for x in drop_columns:\n",
        "    columns_all.remove(x)\n",
        "\n",
        "# 확인\n",
        "print(len(columns_all))\n",
        "\n",
        "# 전체 컬럼 중 해당 집단의 컬럼명만 제외\n",
        "for x in corr_col:\n",
        "    columns_all.remove(x)\n",
        "# 확인\n",
        "print(len(columns_all))"
      ],
      "execution_count": 8,
      "outputs": [
        {
          "output_type": "stream",
          "text": [
            "834\n",
            "819\n",
            "815\n"
          ],
          "name": "stdout"
        }
      ]
    },
    {
      "cell_type": "code",
      "metadata": {
        "colab": {
          "base_uri": "https://localhost:8080/"
        },
        "id": "DRzMp7rCGsGc",
        "outputId": "71a26e34-b39b-416e-a9e3-ee6939aff0d3"
      },
      "source": [
        "fact_data[columns_all].info()\n",
        "#from statsmodels.stats.outliers_influence import variance_inflation_factor\n",
        "#help(variance_inflation_factor)"
      ],
      "execution_count": 11,
      "outputs": [
        {
          "output_type": "stream",
          "text": [
            "<class 'pandas.core.frame.DataFrame'>\n",
            "Int64Index: 8142 entries, 0 to 8144\n",
            "Columns: 815 entries, LIFT.OUT.ROL.MTR.M1.SPD.1WSI40101 to STD_GLS_R\n",
            "dtypes: float64(815)\n",
            "memory usage: 50.7 MB\n"
          ],
          "name": "stdout"
        }
      ]
    },
    {
      "cell_type": "code",
      "metadata": {
        "colab": {
          "base_uri": "https://localhost:8080/"
        },
        "id": "TbXI4wZNGsIi",
        "outputId": "2f6db5ec-4719-44e3-a403-a584915fc1c1"
      },
      "source": [
        "# 컬럼 간 다중공선성을 확인하자\n",
        "# 분산팽창요인(VIF) > 10 이면 다중공선성 문제가 발생한 것임\n",
        "from statsmodels.stats.outliers_influence import variance_inflation_factor\n",
        "\n",
        "# 피처마다의 VIF 계수를 출력\n",
        "vif = pd.DataFrame()\n",
        "vif[\"VIF Factor\"] = [variance_inflation_factor(fact_data[columns_all].values, i) for i in range(fact_data[columns_all].values.shape[1])]\n",
        "vif[\"features\"] = fact_data[columns_all].columns\n",
        "vif"
      ],
      "execution_count": null,
      "outputs": [
        {
          "output_type": "stream",
          "text": [
            "/usr/local/lib/python3.7/dist-packages/statsmodels/regression/linear_model.py:1636: RuntimeWarning: divide by zero encountered in double_scalars\n",
            "  return 1 - self.ssr/self.centered_tss\n"
          ],
          "name": "stderr"
        }
      ]
    },
    {
      "cell_type": "code",
      "metadata": {
        "id": "lbmBZqpwGsMc"
      },
      "source": [
        "## VIF 파일 저장\n",
        "# vifdf = vif.sort_values(by=\"VIF Factor\",ascending=False).round(1)\n",
        "# vifdf.to_csv('/content/drive/MyDrive/Colab Notebooks/data/vifdf.csv')\n",
        "\n",
        "vifdf = pd.read_csv('/content/drive/MyDrive/Colab Notebooks/data/vifdf_hj.csv', usecols=[1,2])\n",
        "vifdf"
      ],
      "execution_count": null,
      "outputs": []
    },
    {
      "cell_type": "code",
      "metadata": {
        "id": "QPbZcXkCGsOh"
      },
      "source": [
        "# "
      ],
      "execution_count": null,
      "outputs": []
    },
    {
      "cell_type": "code",
      "metadata": {
        "id": "ieC88icRGsQw"
      },
      "source": [
        ""
      ],
      "execution_count": null,
      "outputs": []
    },
    {
      "cell_type": "code",
      "metadata": {
        "id": "g6oVw_hAGsS3"
      },
      "source": [
        ""
      ],
      "execution_count": null,
      "outputs": []
    },
    {
      "cell_type": "code",
      "metadata": {
        "id": "uI_exTkhGsVL"
      },
      "source": [
        ""
      ],
      "execution_count": null,
      "outputs": []
    },
    {
      "cell_type": "code",
      "metadata": {
        "id": "zDI9A7LXGsXN"
      },
      "source": [
        ""
      ],
      "execution_count": null,
      "outputs": []
    },
    {
      "cell_type": "code",
      "metadata": {
        "id": "-QLUTB3bGsZz"
      },
      "source": [
        ""
      ],
      "execution_count": null,
      "outputs": []
    },
    {
      "cell_type": "markdown",
      "metadata": {
        "id": "GC30U5yj-lYG"
      },
      "source": [
        "## 데이터 탐색(EDA)\n",
        "* 데이터 탐색\n",
        "- 각종 통계자료 수집\n",
        "\t-- 도메인에 대한 이해 필요없음. 찾지 말 것.\n",
        "\t-- 기술통계량 :\n",
        "\t\t컬럼 개수\n",
        "\t\t불량/양품 개수,\n",
        "\t\t평균, 표준편차 등...\n",
        "\n",
        "- 요인 분석 방법 알아오기\n",
        "\t-- 주성분 분석\n",
        "\t-- 상관계수\n",
        "\t-- 다중공선성\n",
        "\t\t다중 공선성 파악은 VIF(분산 팽창 요인)을 확인\n",
        "\t-- 분류/회귀 모형\n",
        "\t\tcoef_\n",
        "\t\tfeature_importances_"
      ]
    },
    {
      "cell_type": "code",
      "metadata": {
        "id": "HqLGyS2U_AR-"
      },
      "source": [
        ""
      ],
      "execution_count": null,
      "outputs": []
    },
    {
      "cell_type": "code",
      "metadata": {
        "id": "OdscmJhQ_AUd"
      },
      "source": [
        ""
      ],
      "execution_count": null,
      "outputs": []
    },
    {
      "cell_type": "code",
      "metadata": {
        "id": "MGmzjqP5_AXX"
      },
      "source": [
        ""
      ],
      "execution_count": null,
      "outputs": []
    },
    {
      "cell_type": "code",
      "metadata": {
        "id": "zJ2O7QRt_Abl"
      },
      "source": [
        ""
      ],
      "execution_count": null,
      "outputs": []
    },
    {
      "cell_type": "code",
      "metadata": {
        "id": "AzKIP8hY_Aet"
      },
      "source": [
        ""
      ],
      "execution_count": null,
      "outputs": []
    }
  ]
}
