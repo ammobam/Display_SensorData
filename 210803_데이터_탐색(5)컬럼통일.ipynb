{
  "nbformat": 4,
  "nbformat_minor": 0,
  "metadata": {
    "colab": {
      "name": "210803 데이터 탐색(5)VIF 구하기.ipynb",
      "provenance": [],
      "collapsed_sections": [],
      "toc_visible": true,
      "mount_file_id": "1amaSnEuKfO0YEt4EjP5PEhI2cK0Qyy7k",
      "authorship_tag": "ABX9TyOhzOiILr8VtPsMntOnqH4c",
      "include_colab_link": true
    },
    "kernelspec": {
      "name": "python3",
      "display_name": "Python 3"
    },
    "language_info": {
      "name": "python"
    }
  },
  "cells": [
    {
      "cell_type": "markdown",
      "metadata": {
        "id": "view-in-github",
        "colab_type": "text"
      },
      "source": [
        "<a href=\"https://colab.research.google.com/github/ammobam/Display_SensorData/blob/main/210803_%EB%8D%B0%EC%9D%B4%ED%84%B0_%ED%83%90%EC%83%89(5)%EC%BB%AC%EB%9F%BC%ED%86%B5%EC%9D%BC.ipynb\" target=\"_parent\"><img src=\"https://colab.research.google.com/assets/colab-badge.svg\" alt=\"Open In Colab\"/></a>"
      ]
    },
    {
      "cell_type": "markdown",
      "metadata": {
        "id": "3_ytU0Y0ntAj"
      },
      "source": [
        "# **디스플레이 생산라인 센서 데이터 분석\n",
        "\n",
        "## 주제 : 불량품에 영향을 주는 요인 찾기\n",
        "- 결과 : \"ㅇㅇ센서에서 ㅁㅁ면 불량품\"\n",
        "1. 주요 요인 피처 5개 추출\n",
        "2. 불량품/양품 구분하는 모델도 찾아야 함\n",
        "\n",
        "\n",
        "- 머신러닝 이용\n",
        "---"
      ]
    },
    {
      "cell_type": "code",
      "metadata": {
        "colab": {
          "base_uri": "https://localhost:8080/"
        },
        "id": "kSKyhVuxnbdT",
        "outputId": "0c44fb7b-b6cc-4a13-c9d5-f22d72ac0c00"
      },
      "source": [
        "# 데이터 불러오기\n",
        "import pandas as pd\n",
        "fact_data = pd.read_csv('/content/drive/MyDrive/나무플래닛/1. 데이터_디스플레이/factory_glass_2016.zip', encoding='cp949')\n",
        "#fact_data.info()\n",
        "\n",
        "# dat...date.name. 열을 인덱스로 설정함\n",
        "# 유일한 object 컬럼으로, 컬럼에서 제외함\n",
        "# 이제 데이터는 모두 숫자형으로, 연산 가능함\n",
        "fact_data = fact_data.set_index('dat...date.name.', drop=True)\n",
        "fact_data.info()"
      ],
      "execution_count": 39,
      "outputs": [
        {
          "output_type": "stream",
          "text": [
            "<class 'pandas.core.frame.DataFrame'>\n",
            "Index: 8145 entries, 2016-01-01 07 to 2016-12-31 23\n",
            "Columns: 840 entries, LIFT.OUT.ROL.MTR.M1.SPD.1WSI40101 to R.Vac\n",
            "dtypes: float64(834), int64(6)\n",
            "memory usage: 52.3+ MB\n"
          ],
          "name": "stdout"
        }
      ]
    },
    {
      "cell_type": "code",
      "metadata": {
        "colab": {
          "base_uri": "https://localhost:8080/"
        },
        "id": "fxmRz4X_nzPY",
        "outputId": "e46b1080-97dd-44b3-87d2-70ed5a6d5a91"
      },
      "source": [
        "# 결측치가 많은 컬럼, 행 삭제\n",
        "# 전체 행 8145개 중 nan값이 8145개인 컬럼은 삭제함\n",
        "fact_data = fact_data.dropna(how='all', axis=1)\n",
        "# 컬럼수: 840개 -> 833개\n",
        "\n",
        "# 행별 결측치 확인\n",
        "print(fact_data[fact_data.isnull().any(axis=1)])\n",
        "drop_index = list(fact_data[fact_data.isnull().any(axis=1)].index)\n",
        "print(drop_index)"
      ],
      "execution_count": 40,
      "outputs": [
        {
          "output_type": "stream",
          "text": [
            "                  LIFT.OUT.ROL.MTR.M1.SPD.1WSI40101  ...  R.Vac\n",
            "dat...date.name.                                     ...       \n",
            "2016-06-24 04                              1.467846  ...    0.0\n",
            "2016-10-13 09                             -0.846817  ...    0.0\n",
            "2016-12-27 17                             -0.846817  ...    0.0\n",
            "\n",
            "[3 rows x 833 columns]\n",
            "['2016-06-24 04', '2016-10-13 09', '2016-12-27 17']\n"
          ],
          "name": "stdout"
        }
      ]
    },
    {
      "cell_type": "code",
      "metadata": {
        "colab": {
          "base_uri": "https://localhost:8080/"
        },
        "id": "-nMzSOszoN9l",
        "outputId": "5e28ded8-53b5-49c0-cf48-030f69e09e95"
      },
      "source": [
        "# NaN 있는 행 - ffill로 값 채우기\n",
        "fact_data.fillna(method='ffill', inplace=True)\n",
        "# 확인\n",
        "print(fact_data[df_origin.isnull().any(axis=1)])"
      ],
      "execution_count": 41,
      "outputs": [
        {
          "output_type": "stream",
          "text": [
            "Empty DataFrame\n",
            "Columns: [LIFT.OUT.ROL.MTR.M1.SPD.1WSI40101, LIFT.OUT.ROL.MTR.M2.SPD.1WSI40102, LIFT.OUT.ROL.MTR.M3.SPD.1WSI40103, LEHR.DRV.MTR..M4.1.SPD.1WSI40104, LEHR.DRV.MTR..M4.2.SPD.1WSI40105, LEHR.DRV.MTR..M5.1.SPD.1WSI40106, LEHR.DRV.MTR..M5.2.SPD.1WSI40107, LEHR.DRV.MTR..M6.1.SPD.1WSI40108, LEHR.DRV.MTR..M6.2.SPD.1WSI40109, LEHR.DRV.MTR..M7.1.SPD.1WSI40110, LEHR.DRV.MTR..M7.2.SPD.1WSI40111, LEHR.DRV.MTR..M8.1.SPD.1WSI40112, LEHR.DRV.MTR..M8.2.SPD.1WSI40113, LEHR.DRV.MTR..M9.1.SPD.1WSI40114, LEHR.DRV.MTR..M9.2.SPD.1WSI40115, DRIVE.MOTOR.M10.1.SPEED.1WSI40116, LEHR.DRV.MTR..M10.2.SPD.1WSI40117, LEHR.DRV.MTR..M11.1.SPD.1WSI40118, DRIVE.MOTOR.M11.2.SPEED.1WSI40119, LEHR.DRV.MTR..M12.1.SPD.1WSI40120, LEHR.DRV.MTR..M12.2.SPD.1WSI40121, LEHR.DRV.MTR..M13.1.SPD.1WSI40122, LEHR.DRV.MTR..M13.2.SPD.1WSI40123, LEHR.DRV.MTR..M14.1.SPD.1WSI40124, LEHR.DRV.MTR..M14.2.SPD.1WSI40125, LEHR.DRV.MTR..M15.1.SPD.1WSI40126, LEHR.DRV.MTR..M15.2.SPD.1WSI40127, LEHR.DRV.MTR..M16.1.SPD.1WSI40128, DRIVE.MOTOR.M16.2.SPEED.1WSI40129, LEHR.DRV.MTR..M17.1.SPD.1WSI40130, LEHR.DRV.MTR..M17.2.SPD.1WSI40131, LEHR.DRV.MTR..M18.1.SPD.1WSI40132, LEHR.DRV.MTR..M18.2.SPD.1WSI40133, DRIVE.MOTOR.M19.1.SPEED.1WSI40134, LEHR.DRV.MTR..M19.2.SPD.1WSI40135, X1WOS45101_PV, X1WOS45102_PV, X1WOS45103_PV, X1WOS45104_PV, X1WOS45105_PV, X1WOS45106_PV, X1WOS45107_PV, X1WOS45108_PV, X1WOS45109_PV, X1WOS45110_PV, DCS_Offset_RPM_M11.1WOS45111_PV, DCS_Offset_RPM_M12.1WOS45112_PV, DCS_Offset_RPM_M15.1WOS45115_PV, DCS_Offset_RPM_M16.1WOS45116_PV, DCS_Offset_RPM_M17.1WOS45117_PV, DCS_Offset_RPM_M18.1WOS45118_PV, DCS_Offset_RPM_M19.1WOS45119_PV, DAMP.POSITION.0.BAY.CTRL.1TIC33420.PV, DAMP.POSITION.1.BAY.CTRL.1TIC33421.PV, DAMP.POSITION.2.BAY.CTRL.1TIC33422.PV, DAMP.POSITION.3.BAY.CTRL.1TIC33423.PV, DAMP.POSITION.4.BAY.CTRL.1TIC33424.PV, DAMP.POSITION.5BAY.CTRL.1TIC33425.PV, DAMP.POSITION.6.BAY.CTRL.1TIC33426.PV, DAMP.POSITION.7.BAY.CTRL.1TIC33427.PV, DAMP.POSITION.8BAY.CTRL.1TIC33428.PV, DAMP.POSITION.9.BAY.CTRL.1TIC33429.PV, DAMP.POSITION10.BAY.CTRL.1TIC33430.PV, DAMP.POSITION.11BAY.CTRL.1TIC33431.PV, DB.N2.SCREEN.FLOW.LEFT.1FI49011_PV, DB.N2.SCREEN.FLOW.RIGHT.1FI49012_PV, N2.TO.EA1313A.1FI33503A_PV, ROOF.HEATING.Zone.1.1JIC31101.PV, ROOF.HEATING.Zone.2.1JIC31102.PV, ROOF.HEATING.Zone.3.1JIC31103.PV, ROOF.HEATING.Zone.4.1JIC31104.PV, ROOF.HEATING.Zone.7.1JIC31107.PV, ROOF.HEATING.Zone.8.1JIC31108.PV, ROOF.HEATING.Zone.9.1JIC31109.PV, ATM.FLOW.SECT.6.N2.H2.1FI33410.PV, ATM.FLOW.SECT.7.N2.H2.1FI33412.PV, ATM.FLOW.SECT.8.N2.H2.1FI33414.PV, ATM.FLOW.SECT.9.N2.1FIC33415.PV, ATM.FLOW.SECT.9.N2.H2.1FIC33416.PV, ATM.FLOW.SECT.10.N2.H2.1FIC33418.PV, SEC11.N2.1FIC33425.PV, SEC11.N2.H2.9..1FIC33426.PV, cluster, ML.Speed, Ribbon.Speed, Gross.width, Left.edge, Right.edge, UPPER.AB1.Z1.TMP.1TIC41101.PV, UPPER.AB1.Z2.TMP.1TIC41102.PV, UPPER.AB1.Z3.TMP.1TIC41103.PV, UPPER.AB1.Z4.TMP.1TIC41104.PV, UPPER.AB1.Z5.TMP.1TIC41105.PV, UPPER.AB1.Z6.TMP.1TIC41106.PV, UPPER.AB1.Z7.TMP.1TIC41107.PV, LOWER.AB1.Z8.TMP.1TIC41151.PV, LOWER.AB1.Z9.TMP.1TIC41152.PV, LOWER.AB1.Z11.TMP.1TIC41154.PV, LOWER.AB1.Z13.TMP.1TIC41156.PV, LOWER.AB1.Z14.TMP.1TIC41157.PV, ...]\n",
            "Index: []\n",
            "\n",
            "[0 rows x 833 columns]\n"
          ],
          "name": "stdout"
        }
      ]
    },
    {
      "cell_type": "markdown",
      "metadata": {
        "id": "iZ2Q_oHFrkxf"
      },
      "source": [
        "## 컬럼 삭제 작업\n",
        "1. right 공정에 해당하는 컬럼 삭제\n",
        "    - 공통공정, Left공정, Right공정으로 분류가능함\n",
        "    - Left공정, Right공정은 유사한 데이터로 추정됨\n",
        "    - Left공정, Right공정의 피처 중요도는 비슷할 것\n",
        "    - Right공정을 제외하여 작업\n",
        "\n",
        "2. 상관계수 0.9 이상인 컬럼\n",
        "    - 상관계수 0.9 이상인 컬럼 쌍 중 1개만 남기고 모두 삭제\n"
      ]
    },
    {
      "cell_type": "markdown",
      "metadata": {
        "id": "QJ_oKZEot0N1"
      },
      "source": [
        "### 삭제할 컬럼 리스트 만들기"
      ]
    },
    {
      "cell_type": "code",
      "metadata": {
        "colab": {
          "base_uri": "https://localhost:8080/"
        },
        "id": "a73iQoItoYkS",
        "outputId": "32b876b7-98d9-4fc6-8feb-cd9654c723e4"
      },
      "source": [
        "# Right 공정에 해당하는 컬럼\n",
        "col_right = [   'DB.N2.SCREEN.FLOW.RIGHT.1FI49012_PV',\n",
        "                 'DB.N2.SCREEN.FLOW.RIGHT.1FI49012_PV.1',\n",
        "                 'Right.edge',\n",
        "                 'TMP.TIN..BAY.1.RIGHT.1TI30202.PV',\n",
        "                 'TMP.TIN..BAY.5.RIGHT.1TI30206.PV',\n",
        "                 'TMP.TIN..BAY.7.RIGHT.1TI30208.PV',\n",
        "                 'TMP.TIN..BAY.10.RIGHT.1TI30210.PV',\n",
        "                 'TMP.GLASS..RIGHT.EXIT.1TIC30111.PV',\n",
        "                 'X.10.BAY.RIGHT.PRESSURE.1CLBAY10RIGHT_CPV',\n",
        "                 'X.1.BAY.RIGHT.PRESSURE.1CLBAY1RIGHT_CPV',\n",
        "                 'X.7.BAY.RIGHT.PRESSURE.1CLBAY7RIGHT_CPV',\n",
        "                 'RET.AMBIANT.RIGHT.TMP.1TI42603.PV',\n",
        "                 'BATH.AMBIENT.3.BAY.RIGHT.1TI31002_PV',\n",
        "                 'EXIT.LIP.PLATE.RIGHT.1TI30605.PV',\n",
        "                 'E.L.DB.RIGHT.N2.FLOW.1FI33502.PV',\n",
        "                 'DROSS.BOX.N2.BTM.HT1.R.1JI39006.PV',\n",
        "                 'DROSS.BOX.N2.BTM.HT..R..1JI39010.PV',\n",
        "                 'DROSSBOX.N2.SCN.R.1JI39012_PV',\n",
        "                 'HOOD.N2.HEATER.R..1JI39008.PV',\n",
        "                 'DDP.RIGHT.N2.H2.9..1FI33421.PV',\n",
        "                 'SPOUT.RIGHT.UPSTREAM.1FI33516.PV',\n",
        "                 'SPOUT.RIGHT.BOS.UPSTREAM.1FI33517.PV',\n",
        "                 'SPOUT.RIGHT.BOTTOM.1FI33518.PV',\n",
        "                 'SPOUT.RIGHT.TOP.1FI33519.PV',\n",
        "                 'LOR.1.R.Axis',\n",
        "                 'LOR.1.R.Hori',\n",
        "                 'LOR.2.R.Axis',\n",
        "                 'LOR.2.R.Hori',\n",
        "                 'LOR.3.R.Axis',\n",
        "                 'LOR.3.R.Hori',\n",
        "                 'r_tin_bay_1_5',\n",
        "                 'r_tin_bay_5_7',\n",
        "                 'r_tin_bay_7_10',\n",
        "                 'r_top_n.1_mean',\n",
        "                 'r_top_n.2_mean',\n",
        "                 'r_n.2_glass',\n",
        "                 'D_AB1_R_UL',\n",
        "                 'D_AB2_R_UL',\n",
        "                 'D_AB3_R_UL',\n",
        "                 'D_AB4_R_UL',\n",
        "                 'D_AB5_R_UL',\n",
        "                 'D_AB6_R_UL',\n",
        "                 'D_AB7_R_UL',\n",
        "                 'D_AB8_R_UL',\n",
        "                 'D_AB9_R_UL',\n",
        "                 'D_AB10_R_UL',\n",
        "                 'D_AB11_R_UL',\n",
        "                 'D_C1_R_UL',\n",
        "                 'D_C2_R_UL',\n",
        "                 'D_C3_R_UL',\n",
        "                 'D_C4_R_UL',\n",
        "                 'S_AB1_AB2_U_R',\n",
        "                 'S_AB1_AB2_L_R',\n",
        "                 'S_AB2_AB3_U_R',\n",
        "                 'S_AB2_AB3_L_R',\n",
        "                 'S_AB3_AB4_U_R',\n",
        "                 'S_AB3_AB4_L_R',\n",
        "                 'S_AB4_AB5_U_R',\n",
        "                 'S_AB4_AB5_L_R',\n",
        "                 'S_AB5_AB6_U_R',\n",
        "                 'S_AB5_AB6_L_R',\n",
        "                 'S_AB6_AB7_U_R',\n",
        "                 'S_AB6_AB7_L_R',\n",
        "                 'S_AB7_AB8_U_R',\n",
        "                 'S_AB7_AB8_L_R',\n",
        "                 'S_AB8_AB9_U_R',\n",
        "                 'S_AB8_AB9_L_R',\n",
        "                 'S_AB9_AB10_U_R',\n",
        "                 'S_AB9_AB10_L_R',\n",
        "                 'S_AB10_AB11_U_R',\n",
        "                 'S_AB10_AB11_L_R',\n",
        "                 'S_AB11_C1_U_R',\n",
        "                 'S_AB11_C1_L_R',\n",
        "                 'S_AB1_AB11_R',\n",
        "                 'S_AB11_AB7_R',\n",
        "                 'S_AB7_C4_R',\n",
        "                 'S_C1_C2_U_R',\n",
        "                 'S_C1_C2_L_R',\n",
        "                 'S_C2_C3_U_R',\n",
        "                 'S_C2_C3_L_R',\n",
        "                 'S_C3_C4_U_R',\n",
        "                 'S_C3_C4_L_R',\n",
        "                 'S_C4_RET_R',\n",
        "                 'S_RET_F_R',\n",
        "                 'STD_U_R',\n",
        "                 'STD_L_R',\n",
        "                 'STD_GLS_R',\n",
        "                 '투입.RIGHT.',\n",
        "                 'ROLLDOWN.폐기.RIGHT.',\n",
        "                 'ROLLDOWN.진공패드.폐기율..RIGHT.',\n",
        "                 '진공패드.폐기.RIGHT.']\n",
        "# 개수 확인\n",
        "len(col_right) # 91개"
      ],
      "execution_count": 42,
      "outputs": [
        {
          "output_type": "execute_result",
          "data": {
            "text/plain": [
              "91"
            ]
          },
          "metadata": {
            "tags": []
          },
          "execution_count": 42
        }
      ]
    },
    {
      "cell_type": "code",
      "metadata": {
        "colab": {
          "base_uri": "https://localhost:8080/"
        },
        "id": "zUHKa7IEow1j",
        "outputId": "4b4c8813-ba0a-4bd4-ad4f-31f146471052"
      },
      "source": [
        "# 모든 컬럼에 대해 상관계수를 구하고 상관계수가 0.9 이상인 컬럼 중 1개만 남기고 모두 제거\n",
        "import numpy as np\n",
        "\n",
        "# 모든 컬럼에 대해 상관계수의 절대값 구하기\n",
        "corr_arr = abs(df_origin.corr())\n",
        "\n",
        "# 상관계수가 0.9 이상인 컬럼 중 1개만 남기고 모두 제거\n",
        "col_corr = []\n",
        "for i, col in enumerate(corr_arr.columns):\n",
        "    for j in range(len(corr_arr.index)):\n",
        "        if i == j:\n",
        "            continue\n",
        "        elif corr_arr.index[i] in col_corr:           \n",
        "            break\n",
        "        # print(i, j, corr_arr.index[j], np.abs(corr_arr.iloc[j,i]))\n",
        "        if np.abs(corr_arr.iloc[j,i]) >= 0.9:\n",
        "            col_corr.append(corr_arr.index[j])\n",
        "            # print(corr_arr.index[j], '-->', corr_arr.index[i])\n",
        "# 상관계수 0.9이상이라 지워질 컬럼 수 확인\n",
        "len(col_corr)"
      ],
      "execution_count": 43,
      "outputs": [
        {
          "output_type": "execute_result",
          "data": {
            "text/plain": [
              "685"
            ]
          },
          "metadata": {
            "tags": []
          },
          "execution_count": 43
        }
      ]
    },
    {
      "cell_type": "code",
      "metadata": {
        "colab": {
          "base_uri": "https://localhost:8080/"
        },
        "id": "Zkoj2VAepMBD",
        "outputId": "f19b9842-fefd-49d5-9200-c86ccd9a953e"
      },
      "source": [
        "# 두 리스트 합침\n",
        "col_corr.extend(col_right)\n",
        "print(len(col_corr))\n",
        "\n",
        "# 중복 제거\n",
        "del_list = list(set(col_corr))\n",
        "print(len(del_list))"
      ],
      "execution_count": 44,
      "outputs": [
        {
          "output_type": "stream",
          "text": [
            "776\n",
            "504\n"
          ],
          "name": "stdout"
        }
      ]
    },
    {
      "cell_type": "markdown",
      "metadata": {
        "id": "WkOY0t4Pt66k"
      },
      "source": [
        "### 컬럼 삭제 수행"
      ]
    },
    {
      "cell_type": "code",
      "metadata": {
        "colab": {
          "base_uri": "https://localhost:8080/"
        },
        "id": "E2D2VWvWtmyB",
        "outputId": "e0bc5aaa-98be-47f9-ef31-923c48037db4"
      },
      "source": [
        "# 전체 컬럼\n",
        "# 원본에서 결측치 컬럼 삭제하고 남은 목록\n",
        "col_tot = fact_data.columns.tolist()\n",
        "len(col_tot)"
      ],
      "execution_count": 45,
      "outputs": [
        {
          "output_type": "execute_result",
          "data": {
            "text/plain": [
              "833"
            ]
          },
          "metadata": {
            "tags": []
          },
          "execution_count": 45
        }
      ]
    },
    {
      "cell_type": "code",
      "metadata": {
        "colab": {
          "base_uri": "https://localhost:8080/"
        },
        "id": "yEBjvW8duBpj",
        "outputId": "1d6cd77a-ab08-4591-e50a-19394c9ecf8f"
      },
      "source": [
        "# 컬럼 삭제 수행\n",
        "col_use = []\n",
        "for col in col_tot:\n",
        "    if col not in del_list:\n",
        "        col_use.append(col)\n",
        "\n",
        "# 확인\n",
        "len(col_use)"
      ],
      "execution_count": 46,
      "outputs": [
        {
          "output_type": "execute_result",
          "data": {
            "text/plain": [
              "329"
            ]
          },
          "metadata": {
            "tags": []
          },
          "execution_count": 46
        }
      ]
    },
    {
      "cell_type": "code",
      "metadata": {
        "colab": {
          "base_uri": "https://localhost:8080/"
        },
        "id": "mMM7IcQlvq2R",
        "outputId": "46f601fb-c461-40ba-b72a-4c0ccbad06e4"
      },
      "source": [
        "col_use"
      ],
      "execution_count": 47,
      "outputs": [
        {
          "output_type": "execute_result",
          "data": {
            "text/plain": [
              "['LIFT.OUT.ROL.MTR.M1.SPD.1WSI40101',\n",
              " 'X1WOS45101_PV',\n",
              " 'X1WOS45105_PV',\n",
              " 'X1WOS45106_PV',\n",
              " 'X1WOS45107_PV',\n",
              " 'X1WOS45109_PV',\n",
              " 'DCS_Offset_RPM_M11.1WOS45111_PV',\n",
              " 'DCS_Offset_RPM_M15.1WOS45115_PV',\n",
              " 'DCS_Offset_RPM_M16.1WOS45116_PV',\n",
              " 'DAMP.POSITION.0.BAY.CTRL.1TIC33420.PV',\n",
              " 'DAMP.POSITION.1.BAY.CTRL.1TIC33421.PV',\n",
              " 'DB.N2.SCREEN.FLOW.LEFT.1FI49011_PV',\n",
              " 'N2.TO.EA1313A.1FI33503A_PV',\n",
              " 'ROOF.HEATING.Zone.1.1JIC31101.PV',\n",
              " 'ROOF.HEATING.Zone.2.1JIC31102.PV',\n",
              " 'ROOF.HEATING.Zone.3.1JIC31103.PV',\n",
              " 'ROOF.HEATING.Zone.4.1JIC31104.PV',\n",
              " 'ROOF.HEATING.Zone.7.1JIC31107.PV',\n",
              " 'ROOF.HEATING.Zone.8.1JIC31108.PV',\n",
              " 'ROOF.HEATING.Zone.9.1JIC31109.PV',\n",
              " 'ATM.FLOW.SECT.8.N2.H2.1FI33414.PV',\n",
              " 'ATM.FLOW.SECT.9.N2.1FIC33415.PV',\n",
              " 'cluster',\n",
              " 'Gross.width',\n",
              " 'Left.edge',\n",
              " 'UPPER.AB1.Z1.TMP.1TIC41101.PV',\n",
              " 'UPPER.AB1.Z6.TMP.1TIC41106.PV',\n",
              " 'LOWER.AB1.Z9.TMP.1TIC41152.PV',\n",
              " 'UPPER.AB2.Z20.TMP.1TIC41206.PV',\n",
              " 'LOWER.AB3.Z37.TMP.1TIC41352.PV',\n",
              " 'UPPER.AB5.Z57.TMP.1TIC41501.PV',\n",
              " 'LOWER.AB5.Z67.TMP.1TIC41554.PV',\n",
              " 'LOWER.AB5.Z69.TMP.1TIC41556.PV',\n",
              " 'UPPER.AB6.Z71.TMP.1TIC41601.PV',\n",
              " 'LOWER.AB6.Z78.TMP.1TIC41651.PV',\n",
              " 'LOWER.AB6.Z83.TMP.1TIC41656.PV',\n",
              " 'LOWER.AB7.Z92.TMP.1TIC41751.PV',\n",
              " 'UPPER.AB8.Z99.TMP.1TIC41801.PV',\n",
              " 'UPPER.AB8.Z101TMP.1TIC41803.PV',\n",
              " 'UPPER.AB8.Z102.TMP.1TIC41804.PV',\n",
              " 'UPPER.AB9.Z114.TMP.1TIC41902.PV',\n",
              " 'UPPER.AB9.Z115TMP.1TIC41903.PV',\n",
              " 'LOWER.AB10.Z134.TMP.1TIC42051.PV',\n",
              " 'LOWER.AB10.Z137.TMP.1TIC42054.PV',\n",
              " 'UPPER.AB11.Z142.TMP.1TIC42102.PV',\n",
              " 'LOWER.AB11.Z148.TMP.1TIC42151.PV',\n",
              " 'UPPER.C1..Z155.TMP.1TIC42201.PV',\n",
              " 'UPPER.C1..Z157.TMP.1TIC42203.PV',\n",
              " 'UPPER.C1..Z158.TMP.1TIC42204.PV',\n",
              " 'UPPER.C1..Z159.TMP.1TIC42205.PV',\n",
              " 'LOWER.C1..Z165.TMP.1TIC42254.PV',\n",
              " 'LOWER.C1..Z168.TMP.1TIC42257.PV',\n",
              " 'UPPER.C2..Z169.TMP.1TIC42301.PV',\n",
              " 'UPPER.C2..Z170.TMP.1TIC42302.PV',\n",
              " 'UPPER.C2..Z172.TMP.1TIC42304.PV',\n",
              " 'UPPER.C2..Z173.TMP.1TIC42305.PV',\n",
              " 'UPPER.C2..Z175.TMP.1TIC42307.PV',\n",
              " 'LOWER.C2..Z176.TMP.1TIC42351.PV',\n",
              " 'LOWER.C2..Z182.TMP.1TIC42357.PV',\n",
              " 'UPPER.C3..Z183.TMP.1TIC42401.PV',\n",
              " 'LOWER.C3..Z193TMP.1TIC42454.PV',\n",
              " 'LOWER.C3..Z196.TMP.1TIC42457.PV',\n",
              " 'UPPER.C4..Z197.TMP.1TIC42501.PV',\n",
              " 'UPPER.C4..Z201.TMP.1TIC42505.PV',\n",
              " 'LOWER.C4..Z204.TMP.1TIC42551.PV',\n",
              " 'LEHR.DRV.MTR..M7.1.SPD.1WSI40110.1',\n",
              " 'LIFT.OUT.ROL.MTR.M1.CUR.1WII40101.PV',\n",
              " 'LIFT.OUT.ROL.MTR.M2.CUR.1WII40102.PV',\n",
              " 'LEHR.DRV.MTR..M4.1.CUR.1WII40104.PV',\n",
              " 'LEHR.DRV.MTR..M4.2.CUR.1WII40105.PV',\n",
              " 'LEHR.DRV.MTR..M5.1.CUR.1WII40106.PV',\n",
              " 'LEHR.DRV.MTR..M6.1.CUR.1WII40108.PV',\n",
              " 'LEHR.DRV.MTR..M7.1.CUR.1WII40110.PV',\n",
              " 'LEHR.DRV.MTR..M7.2.CUR.1WII40111.PV',\n",
              " 'LEHR.DRV.MTR..M8.1.CUR.1WII40112.PV',\n",
              " 'LEHR.DRV.MTR..M8.2.CUR.1WII40113.PV',\n",
              " 'LEHR.DRV.MTR..M10.2.CUR.1WII40117.PV',\n",
              " 'LEHR.DRV.MTR..M11.1.CUR.1WII40118.PV',\n",
              " 'LEHR.DRV.MTR..M11.2.CUR.1WII40119.PV',\n",
              " 'LEHR.DRV.MTR..M12.1.CUR.1WII40120.PV',\n",
              " 'LEHR.DRV.MTR..M13.1.CUR.1WII40122.PV',\n",
              " 'LEHR.DRV.MTR..M15.1.CUR.1WII40126.PV',\n",
              " 'LEHR.DRV.MTR..M16.1.CUR.1WII40128.PV',\n",
              " 'LEHR.DRV.MTR..M16.2.CUR.1WII40129.PV',\n",
              " 'LEHR.DRV.MTR..M17.1.CUR.1WII40130.PV',\n",
              " 'LEHR.DRV.MTR..M18.1.CUR.1WII40132.PV',\n",
              " 'LEHR.DRV.MTR..M18.2.CUR.1WII40133.PV',\n",
              " 'LEHR.DRV.MTR..M19.1.CUR.1WII40134.PV',\n",
              " 'X1WOS45102_PV.1',\n",
              " 'X1WOS45106_PV.1',\n",
              " 'DCS_Offset_RPM_M11.1WOS45111_PV.1',\n",
              " 'DCS_Offset_RPM_M14.1WOS45114_PV.1',\n",
              " 'TMP.GLASS..BAY.1.1TI30101.PV',\n",
              " 'TMP.GLASS..BAY.2.1TI30102.PV',\n",
              " 'TMP.GLASS..BAY.4.1TI30104.PV',\n",
              " 'TMP.GLASS..BAY.5.1TI30105.PV',\n",
              " 'TMP.GLASS..BAY.6.1TI30106.PV',\n",
              " 'TMP.GLASS..BAY.8.1TI30108.PV',\n",
              " 'TMP.TIN..BAY.1.LEFT.1TI30201.PV',\n",
              " 'TMP.TIN..BAY.5.LEFT.1TI30205.PV',\n",
              " 'TMP.TIN..BAY.10.LEFT.1TI30209.PV',\n",
              " 'TMP.GLASS..ZONE.AB1.GB.1TI40200.PV',\n",
              " 'TMP.GLASS..ZONE.AB1.E1.1TI40201.PV',\n",
              " 'TMP.GLASS..ZONE.AB1.E3.1TI40203.PV',\n",
              " 'TMP.GLASS..ZONE.AB11.L5.1TI40225.PV',\n",
              " 'TMP.GLASS..Z_RET.E1.1TI40241.PV',\n",
              " 'TMP.GLASS..ZONE.F.E1.1TI40251.PV',\n",
              " 'X.10.BAY.LEFT.PRESSURE.1CLBAY10LEFT_CPV',\n",
              " 'X.1.BAY.LEFT.PRESSURE.1CLBAY1LEFT_CPV',\n",
              " 'X.7.BAY.LEFT.PRESSURE.1CLBAY7LEFT_CPV',\n",
              " 'X.1.LEHR.SO2.ANALYZER.1AI44110.PV',\n",
              " 'X.1.LEHR.O2.ANALYZER.1AI44111.PV',\n",
              " 'X.2.LEHR.SO2.ANALYZER.1AI44112.PV',\n",
              " 'X.2.LEHR.O2.ANALYZER.1AI44113.PV',\n",
              " 'CASHING.COLD.AIR.TMP.1TIC33603.PV',\n",
              " 'BATH.AMBIENT.3.BAY.LEFT.1TI31003_PV',\n",
              " 'N2.TO.EA1313B.1FI33527A_PV',\n",
              " 'N2.TO.EA1315B.1FI33528A_PV',\n",
              " 'EXIT.LIP.PLATE.LEFT.1TI30604.PV',\n",
              " 'E.L.DB.LEFT..N2.FLOW.1FI33501.PV',\n",
              " 'N2.TO.EA1315A.1FI33504A_PV',\n",
              " 'N2.TO.HOOD.DOWN.STREAM.1FI33505A_PV',\n",
              " 'N2.TO.HOOD.UP.STREAM.1FI33506A_PV',\n",
              " 'TMP.GLASS..LEFT.EXIT.1TIC30109.PV',\n",
              " 'DROSS.BOX.PRESS.1PI40301.PV',\n",
              " 'LEHR.AB1.PRESS.1PI40302.PV',\n",
              " 'DB.HEAT.TOP.7.1.TMP.1TI40307.PV',\n",
              " 'DB.HEAT.TOP.6.2.TMP.1TI40313.PV',\n",
              " 'DB.HEAT.BTM.LEFT.1.TMP.1TI40315.PV',\n",
              " 'DB.HEAT.BTM.LEFT.2.TMP.1TI40316.PV',\n",
              " 'DB.BTM.UP.STM.TC.RC.1TI40402_PV',\n",
              " 'DB.BTM.UP.STM.TC.RE.1TI40403_PV',\n",
              " 'DB.BTM.DN.STM.TC.LE.1TI40404_PV',\n",
              " 'DB.BTM.DN.STM.TC.LC.1TI40405_PV',\n",
              " 'DB.BTM.DN.STM.TC.RC.1TI40407_PV',\n",
              " 'DB.BTM.DN.STM.TC.RE.1TI40408_PV',\n",
              " 'HOOD.N2.TOP.HEATER.L..1JI39007.PV',\n",
              " 'DROSS.BOX.N2.BTM.HT..L..1JI39009.PV',\n",
              " 'DB.HEAT.TOP.7.1.2.TMP.CT.1JI40307.PV',\n",
              " 'DB.HEAT.BOTTOM.1.1JIC40308.PV',\n",
              " 'DB.HEAT.BOTTOM.2.1JIC40309.PV',\n",
              " 'DB.HEAT.BOTTOM.3.1JIC40310.PV',\n",
              " 'DB.HEAT.BOTTOM.4.1JIC40311.PV',\n",
              " 'DB.HEAT.BOTTOM.6.1JIC40313.PV',\n",
              " 'DB.HEAT.BOTTOM.7.1JIC40314.PV',\n",
              " 'ROOF.HT.BAY.10.TOTAL.PWR.1CLBAY10_CPV',\n",
              " 'ROOF.HT.BAY.11.TOTAL.PWR.1CLBAY11_CPV',\n",
              " 'ROOF.HT.BAY.2.TOTAL.PWR.1CLBAY2_CPV',\n",
              " 'ROOF.HT.BAY.3.TOTAL.PWR.1CLBAY3_CPV',\n",
              " 'ROOF.HT.BAY.4.TOTAL.PWR.1CLBAY4_CPV',\n",
              " 'ROOF.HT.BAY.5.TOTAL.PWR.1CLBAY5_CPV',\n",
              " 'ROOF.HT.BAY.6.TOTAL.PWR.1CLBAY6_CPV',\n",
              " 'ROOF.HT.BAY.7.TOTAL.PWR.1CLBAY7_CPV',\n",
              " 'ROOF.HT.BAY.8.TOTAL.PWR.1CLBAY8_CPV',\n",
              " 'ROOF.HT.BAY.9.TOTAL.PWR.1CLBAY9_CPV',\n",
              " 'ROOF.HT.BAY.TOTAL.PWR.1CLBAYTOT_CPV',\n",
              " 'ROOF.HEATING.Zone.3.1JIC31103.PV.1',\n",
              " 'ROOF.HEATING.Zone.4.1JIC31104.PV.1',\n",
              " 'ROOF.HEATING.Zone.5.1JIC31105.PV',\n",
              " 'ROOF.HEATING.Zone.6.1JIC31106.PV',\n",
              " 'ROOF.HEATING.Zone10.1JIC31110.PV',\n",
              " 'ROOF.HEATING.Zone11.1JIC31111.PV',\n",
              " 'ROOF.HEATING.Zone12.1JIC31112.PV',\n",
              " 'ROOF.HEATING.Zone13.1JIC31113.PV',\n",
              " 'ROOF.HEATING.Zone21.1JIC31121.PV',\n",
              " 'ROOF.HEATING.Zone22.1JIC31122.PV',\n",
              " 'ROOF.HEATING.Zone23.1JIC31123.PV',\n",
              " 'ROOF.HEATING.Zone25.1JIC31125.PV',\n",
              " 'ROOF.HEATING.Zone27.1JIC31127.PV',\n",
              " 'ROOF.HEATING.Zone28.1JIC31128.PV',\n",
              " 'ROOF.HEATING.Zone30.1JIC31130.PV',\n",
              " 'ROOF.HEATING.Zone31.1JIC31131.PV',\n",
              " 'ROOF.HEATING.Zone32.1JIC31132.PV',\n",
              " 'ROOF.HEATING.Zone36.1JIC31136.PV',\n",
              " 'ROOF.HEATING.Zone37.1JIC31137.PV',\n",
              " 'ROOF.HEATING.Zone39.1JIC31139.PV',\n",
              " 'ROOF.HEATING.Zone40.1JIC31140.PV',\n",
              " 'ROOF.HEATING.Zone41.1JIC31141.PV',\n",
              " 'ROOF.HEATING.Zone42.1JIC31142.PV',\n",
              " 'ROOF.HEATING.Zone43.1JIC31143.PV',\n",
              " 'ROOF.HEATING.Zone44.1JIC31144.PV',\n",
              " 'ROOF.HEATING.Zone45.1JIC31145.PV',\n",
              " 'ROOF.HEATING.Zone49.1JIC31149.PV',\n",
              " 'ROOF.HEATING.Zone51.1JIC31151.PV',\n",
              " 'ROOF.HEATING.Zone53.1JIC31153.PV',\n",
              " 'ROOF.HEATING.Zone54.1JIC31154.PV',\n",
              " 'ROOF.HEATING.Zone55.1JIC31155.PV',\n",
              " 'ROOF.HEATING.Zone57.1JIC31157.PV',\n",
              " 'ROOF.HEATING.Zone60.1JIC31160.PV',\n",
              " 'ROOF.HEATING.Zone63.1JIC31163.PV',\n",
              " 'ROOF.HEATING.Zone64.1JIC31164.PV',\n",
              " 'ROOF.HEATING.Zone73.1JIC31173.PV',\n",
              " 'ROOF.HEATING.Zone77.1JIC31177.PV',\n",
              " 'ROOF.HEATING.Zone80.1JIC31180.PV',\n",
              " 'ROOF.HEATING.Zone81.1JIC31181.PV',\n",
              " 'ROOF.HEATING.Zone86.1JIC31186.PV',\n",
              " 'ROOF.HEATING.Zone87.1JIC31187.PV',\n",
              " 'ATM.FLOW.SECT.2.N2.1FI33401.PV',\n",
              " 'ATM.FLOW.SECT.2.N2.H2.1FI33402.PV',\n",
              " 'ATM.FLOW.SECT.3.N2.1FI33403.PV',\n",
              " 'ATM.FLOW.SECT.3.N2.H2.1FI33404.PV',\n",
              " 'ATM.FLOW.SECT.4.N2.1FI33405.PV',\n",
              " 'ATM.FLOW.SECT.5.N2.1FI33407.PV',\n",
              " 'ATM.FLOW.SECT.6.N2.1FI33409.PV',\n",
              " 'ATM.FLOW.SECT.7.N2.1FI33411.PV',\n",
              " 'ATM.FLOW.SECT.8.N2.1FI33413.PV',\n",
              " 'ATM.FLOW.SECT.1.N2.H2.1FI33424.PV',\n",
              " 'ATM.FLOW.SECT.9.N2.H2.1FIC33416.PV.1',\n",
              " 'ATM.FLOW.SECT.10.N2.1FIC33417.PV',\n",
              " 'SEC11.N2.1FIC33425.PV.1',\n",
              " 'SPOUT.LEFT.UPSTREAM.1FI33511.PV',\n",
              " 'SPOUT.LEFT.BOTTOM.1FI33513.PV',\n",
              " 'SPOUT.LEFT.TOP.1FI33514.PV',\n",
              " 'ATM.N2.H2.5..함유율.1CLFI33402_CPV',\n",
              " 'ATM.N2.H2.9..함유율.1CLFI33406_CPV',\n",
              " 'ATM.N2.H2.9..함유율.1CLFI33416_CPV',\n",
              " 'LOR.1.L.Axis',\n",
              " 'LOR.1.L.Hori',\n",
              " 'LOR.2.L.Axis',\n",
              " 'LOR.2.L.Hori',\n",
              " 'LOR.3.L.Axis',\n",
              " 'LOR.3.L.Hori',\n",
              " 'bay1_2',\n",
              " 'bay2_4',\n",
              " 'bay4_5',\n",
              " 'bay5_6',\n",
              " 'bay6_7',\n",
              " 'bay7_8',\n",
              " 'l_r_tin_bay10',\n",
              " 'l_r_tin_bay5',\n",
              " 'l_r_tin_bay7',\n",
              " 'l_tin_bay_5_7',\n",
              " 'l_tin_bay_7_10',\n",
              " 'lc_rc_btm_dn',\n",
              " 'le_re_btm_dn',\n",
              " 'c_btm_up_dn',\n",
              " 'rc_btm_up_dn',\n",
              " 're_btm_up_dn',\n",
              " 'l_r_top_n.1',\n",
              " 'l_r_top_n.2',\n",
              " 'top_1',\n",
              " 'top_3',\n",
              " 'top_5',\n",
              " 'top_7',\n",
              " 'D_AB1_U_LR',\n",
              " 'D_AB1_L_LR',\n",
              " 'D_AB2_U_LR',\n",
              " 'D_AB2_L_LR',\n",
              " 'D_AB3_U_LR',\n",
              " 'D_AB3_L_LR',\n",
              " 'D_AB4_U_LR',\n",
              " 'D_AB4_L_LR',\n",
              " 'D_AB5_U_LR',\n",
              " 'D_AB5_L_LR',\n",
              " 'D_AB6_U_LR',\n",
              " 'D_AB6_L_LR',\n",
              " 'D_AB7_U_LR',\n",
              " 'D_AB7_L_LR',\n",
              " 'D_AB8_U_LR',\n",
              " 'D_AB8_L_LR',\n",
              " 'D_AB9_U_LR',\n",
              " 'D_AB9_L_LR',\n",
              " 'D_AB10_U_LR',\n",
              " 'D_AB10_L_LR',\n",
              " 'D_AB11_U_LR',\n",
              " 'D_AB11_L_LR',\n",
              " 'D_AB1_L_UL',\n",
              " 'D_AB2_L_UL',\n",
              " 'D_AB3_L_UL',\n",
              " 'D_AB4_L_UL',\n",
              " 'D_AB5_L_UL',\n",
              " 'D_AB7_L_UL',\n",
              " 'D_AB8_L_UL',\n",
              " 'D_AB9_L_UL',\n",
              " 'D_AB10_L_UL',\n",
              " 'D_AB11_L_UL',\n",
              " 'D_C1_U_LR',\n",
              " 'D_C1_L_LR',\n",
              " 'D_C2_U_LR',\n",
              " 'D_C2_L_LR',\n",
              " 'D_C3_U_LR',\n",
              " 'D_C3_L_LR',\n",
              " 'D_C4_U_LR',\n",
              " 'D_C4_L_LR',\n",
              " 'D_C1_L_UL',\n",
              " 'D_C2_L_UL',\n",
              " 'D_C3_L_UL',\n",
              " 'D_GLS_AB1_LR',\n",
              " 'D_GLS_AB11_LR',\n",
              " 'D_GLS_AB7_LR',\n",
              " 'D_GLS_C4_LR',\n",
              " 'D_GLS_F_LR',\n",
              " 'D_GLS_RET_LR',\n",
              " 'S_AB1_AB2_U_L',\n",
              " 'S_AB1_AB2_L_L',\n",
              " 'S_AB2_AB3_U_L',\n",
              " 'S_AB2_AB3_L_L',\n",
              " 'S_AB3_AB4_U_L',\n",
              " 'S_AB4_AB5_U_L',\n",
              " 'S_AB5_AB6_U_L',\n",
              " 'S_AB6_AB7_U_L',\n",
              " 'S_AB6_AB7_L_L',\n",
              " 'S_AB7_AB8_U_L',\n",
              " 'S_AB7_AB8_L_L',\n",
              " 'S_AB8_AB9_U_L',\n",
              " 'S_AB8_AB9_L_L',\n",
              " 'S_AB9_AB10_U_L',\n",
              " 'S_AB9_AB10_L_L',\n",
              " 'S_AB10_AB11_U_L',\n",
              " 'S_AB10_AB11_L_L',\n",
              " 'S_AB11_C1_U_L',\n",
              " 'S_AB11_C1_L_L',\n",
              " 'S_C1_C2_U_L',\n",
              " 'S_C1_C2_L_L',\n",
              " 'S_C2_C3_U_L',\n",
              " 'S_C2_C3_L_L',\n",
              " 'S_C3_C4_U_L',\n",
              " 'S_AB1_AB11_L',\n",
              " 'S_AB11_AB7_L',\n",
              " 'S_AB7_C4_L',\n",
              " 'S_C4_RET_L',\n",
              " 'S_RET_F_L',\n",
              " 'STD_U_L',\n",
              " 'STD_GLS_L',\n",
              " '투입.LEFT.',\n",
              " 'ROLLDOWN.폐기.LEFT.',\n",
              " '진공패드.폐기.LEFT.',\n",
              " '폐기율...',\n",
              " 'ROLLDOWN.진공패드.폐기율..LEFT.']"
            ]
          },
          "metadata": {
            "tags": []
          },
          "execution_count": 47
        }
      ]
    },
    {
      "cell_type": "markdown",
      "metadata": {
        "id": "rXYGxuO-vl7a"
      },
      "source": [
        "## col_use의 컬럼 이용해서 작업 수행하기"
      ]
    },
    {
      "cell_type": "code",
      "metadata": {
        "id": "BbRGTve3u5Ng"
      },
      "source": [
        ""
      ],
      "execution_count": 46,
      "outputs": []
    }
  ]
}