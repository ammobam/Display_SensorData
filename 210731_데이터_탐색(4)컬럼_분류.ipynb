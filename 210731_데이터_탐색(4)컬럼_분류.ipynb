{
  "nbformat": 4,
  "nbformat_minor": 0,
  "metadata": {
    "colab": {
      "name": "210731_데이터 탐색(4)컬럼 분류.ipynb",
      "provenance": [],
      "collapsed_sections": [],
      "mount_file_id": "1aYJtov15JL3MO2sE9SlhfK0eYX4bnQjh",
      "authorship_tag": "ABX9TyN7fJ2pbIpbwQibS+S27MaN",
      "include_colab_link": true
    },
    "kernelspec": {
      "name": "python3",
      "display_name": "Python 3"
    },
    "language_info": {
      "name": "python"
    }
  },
  "cells": [
    {
      "cell_type": "markdown",
      "metadata": {
        "id": "view-in-github",
        "colab_type": "text"
      },
      "source": [
        "<a href=\"https://colab.research.google.com/github/ammobam/Display_SensorData/blob/main/210731_%EB%8D%B0%EC%9D%B4%ED%84%B0_%ED%83%90%EC%83%89(4)%EC%BB%AC%EB%9F%BC_%EB%B6%84%EB%A5%98.ipynb\" target=\"_parent\"><img src=\"https://colab.research.google.com/assets/colab-badge.svg\" alt=\"Open In Colab\"/></a>"
      ]
    },
    {
      "cell_type": "markdown",
      "metadata": {
        "id": "QAL9RXUHAv1x"
      },
      "source": [
        "# **디스플레이 생산라인 센서 데이터 분석\n",
        "\n",
        "## 주제 : 불량품에 영향을 주는 요인 찾기\n",
        "- 결과 : \"ㅇㅇ센서에서 ㅁㅁ면 불량품\"\n",
        "1. 주요 요인 피처 5개 추출\n",
        "2. 불량품/양품 구분하는 모델도 찾아야 함\n",
        "\n",
        "\n",
        "- 머신러닝 이용\n",
        "---"
      ]
    },
    {
      "cell_type": "markdown",
      "metadata": {
        "id": "SzGTqwO6AzMO"
      },
      "source": [
        "## 컬럼이름 분류하기\n",
        "- 데이터는 센서 데이터로 약  800여개의 컬럼이 있음\n",
        "- 이름이 비슷한 컬럼이 다수 있으며 생산라인이 Left, Right으로 나뉘어 동일한 공정을 수행중임\n",
        "- 컬럼이름을 기준으로 컬럼을 분류하고자 함\n",
        "    - LEFT\n",
        "    - RIGHT\n",
        "    - 공통\n",
        "- 컬럼을 분류하면 피처 수를 줄여 데이터탐색이 가능함\n",
        "    - 이름이 유사한 컬럼간 종속성을 확인\n",
        "    - LEFT, RIGHT 각 공정에 따라 레이블에 미치는 영향 확인 \n"
      ]
    },
    {
      "cell_type": "code",
      "metadata": {
        "id": "cAqYBhUtAuR1"
      },
      "source": [
        "# 데이터 불러오기\n",
        "import pandas as pd\n",
        "df_origin = pd.read_csv('/content/drive/MyDrive/나무플래닛/1. 데이터_디스플레이/factory_glass_2016.zip', encoding='cp949')"
      ],
      "execution_count": 10,
      "outputs": []
    },
    {
      "cell_type": "code",
      "metadata": {
        "id": "vNaDLmf9B1p_"
      },
      "source": [
        "# 컬럼이름 리스트 저장하기\n",
        "col = df_origin.columns.tolist()\n",
        "#col"
      ],
      "execution_count": null,
      "outputs": []
    },
    {
      "cell_type": "code",
      "metadata": {
        "colab": {
          "base_uri": "https://localhost:8080/"
        },
        "id": "Fvlf3PeECSTN",
        "outputId": "503374d3-d965-4ec0-8c73-e77021876ab4"
      },
      "source": [
        "# 1. 앞 3글자가 동일한 컬럼을 분류하고 확인\n",
        "col_name_3=[]\n",
        "for name in col:\n",
        "    name = str(name)[:3]\n",
        "    col_name_3.append(name)\n",
        "# 앞글자 3자리가 같은 컬럼의 집단 개수\n",
        "print(\"\", len(set(col_name_3)))  # 61개\n",
        "\n",
        "# 2. 컬럼명에 LEFT, RIGHT가 있으면 분류\n",
        "# 3. 컬럼명에 _L, _R이 있으면 분류\n",
        "    # _L, _R 포함한 이름들 먼저 확인해보기"
      ],
      "execution_count": 12,
      "outputs": [
        {
          "output_type": "stream",
          "text": [
            " 61\n"
          ],
          "name": "stdout"
        }
      ]
    },
    {
      "cell_type": "code",
      "metadata": {
        "id": "wDXfE0_5C_GE"
      },
      "source": [
        ""
      ],
      "execution_count": 12,
      "outputs": []
    }
  ]
}